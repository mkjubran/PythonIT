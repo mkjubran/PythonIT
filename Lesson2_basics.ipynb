{
  "nbformat": 4,
  "nbformat_minor": 0,
  "metadata": {
    "kernelspec": {
      "display_name": "Python 3",
      "language": "python",
      "name": "python3"
    },
    "language_info": {
      "codemirror_mode": {
        "name": "ipython",
        "version": 3
      },
      "file_extension": ".py",
      "mimetype": "text/x-python",
      "name": "python",
      "nbconvert_exporter": "python",
      "pygments_lexer": "ipython3",
      "version": "3.6.8"
    },
    "varInspector": {
      "cols": {
        "lenName": 16,
        "lenType": 16,
        "lenVar": 40
      },
      "kernels_config": {
        "python": {
          "delete_cmd_postfix": "",
          "delete_cmd_prefix": "del ",
          "library": "var_list.py",
          "varRefreshCmd": "print(var_dic_list())"
        },
        "r": {
          "delete_cmd_postfix": ") ",
          "delete_cmd_prefix": "rm(",
          "library": "var_list.r",
          "varRefreshCmd": "cat(var_dic_list()) "
        }
      },
      "types_to_exclude": [
        "module",
        "function",
        "builtin_function_or_method",
        "instance",
        "_Feature"
      ],
      "window_display": false
    },
    "colab": {
      "name": "Copy of basics.ipynb",
      "provenance": [],
      "collapsed_sections": [
        "AdpJgyocpmII",
        "NvX3n6b9pmIc",
        "2SbbEW7MpmIy",
        "YCOg2ZUzpmI4",
        "eMMNQz2ApmJn",
        "w2iyhFwapmKE",
        "NFaoK6ZupmKU",
        "ZQ1OpYl-pmKt",
        "xk8XPpF9pmKu",
        "LhN1oAtfpmKv",
        "sVWdCGsCpmLA",
        "5RdwozH6pmLB",
        "nJGIZkQ-pmLC",
        "V0g0mjeJpmLC",
        "lN7vUqlapmLC",
        "ADxCHEICpmLD",
        "w0k4JltVpmLD",
        "sAmJmhF9pmLE",
        "I1dqG2XVpmLG"
      ],
      "toc_visible": true,
      "include_colab_link": true
    }
  },
  "cells": [
    {
      "cell_type": "markdown",
      "metadata": {
        "id": "view-in-github",
        "colab_type": "text"
      },
      "source": [
        "<a href=\"https://colab.research.google.com/github/smabb/p/blob/master/Lesson2_basics.ipynb\" target=\"_parent\"><img src=\"https://colab.research.google.com/assets/colab-badge.svg\" alt=\"Open In Colab\"/></a>"
      ]
    },
    {
      "cell_type": "markdown",
      "metadata": {
        "id": "MQP1Qzq-pmCl"
      },
      "source": [
        "<!--NAVIGATION-->\n",
        "\n",
        "\n",
        "<a href=\"https://colab.research.google.com/github/smabb/p/blob/master/Lesson2_basics.ipynb\"><img align=\"left\" src=\"https://colab.research.google.com/assets/colab-badge.svg\" alt=\"Open in Colab\" title=\"Open and Execute in Google Colaboratory\"></a>\n",
        "\n",
        "|                                          -                                          |                                          -                                          |                                          -                                          |\n",
        "|-------------------------------------------------------------------------------------|-------------------------------------------------------------------------------------|-------------------------------------------------------------------------------------|\n",
        "|             [Exercise 1 (hello world)](<#Exercise-1-(hello-world&#41;>)             |              [Exercise 2 (compliment)](<#Exercise-2-(compliment&#41;>)              |          [Exercise 3 (multiplication)](<#Exercise-3-(multiplication&#41;>)          |\n",
        "|    [Exercise 4 (multiplication table)](<#Exercise-4-(multiplication-table&#41;>)    |                [Exercise 5 (two dice)](<#Exercise-5-(two-dice&#41;>)                |           [Exercise 6 (triple square)](<#Exercise-6-(triple-square&#41;>)           |\n",
        "|         [Exercise 7 (areas of shapes)](<#Exercise-7-(areas-of-shapes&#41;>)         |         [Exercise 8 (solve quadratic)](<#Exercise-8-(solve-quadratic&#41;>)         |                   [Exercise 9 (merge)](<#Exercise-9-(merge&#41;>)                   |\n",
        "|          [Exercise 10 (detect ranges)](<#Exercise-10-(detect-ranges&#41;>)          |             [Exercise 11 (interleave)](<#Exercise-11-(interleave&#41;>)             |    [Exercise 12 (distinct characters)](<#Exercise-12-(distinct-characters&#41;>)    |\n",
        "|     [Exercise 13 (reverse dictionary)](<#Exercise-13-(reverse-dictionary&#41;>)     |          [Exercise 14 (find matching)](<#Exercise-14-(find-matching&#41;>)          | [Exercise 15 (two dice comprehension)](<#Exercise-15-(two-dice-comprehension&#41;>)                   |\n",
        "|          [Exercise 16 (acronyms)](<#Exercise-16-(acronyms&#41;>)           |             [Exercise 17 (sum equation)](<#Exercise-17-(sum-equation&#41;>)                                   \n"
      ]
    },
    {
      "cell_type": "markdown",
      "metadata": {
        "id": "65uSkFMDpmCr"
      },
      "source": [
        "# Python"
      ]
    },
    {
      "cell_type": "markdown",
      "metadata": {
        "id": "F8rlLGeQpmCw"
      },
      "source": [
        "## Basic concepts"
      ]
    },
    {
      "cell_type": "markdown",
      "metadata": {
        "id": "1jlsrbUQpmCz"
      },
      "source": [
        "### Basic input and output"
      ]
    },
    {
      "cell_type": "markdown",
      "metadata": {
        "id": "jdtlHGb5pmC4"
      },
      "source": [
        "The traditional \"Hello, world\" program is very simple in Python. You can run the program by selecting the cell by mouse and pressing control-enter on keyboard. Try editing the string in the quotes and rerunning the program."
      ]
    },
    {
      "cell_type": "code",
      "metadata": {
        "id": "viNbjdiVpmDM"
      },
      "source": [
        "#1\n",
        "\n"
      ],
      "execution_count": null,
      "outputs": []
    },
    {
      "cell_type": "markdown",
      "metadata": {
        "id": "NAiYSIlkpmDa"
      },
      "source": [
        "Multiple strings can be printed. By default, they are concatenated with a space:"
      ]
    },
    {
      "cell_type": "code",
      "metadata": {
        "id": "n4u_J-FRpmDd"
      },
      "source": [
        "#2\n",
        "\n"
      ],
      "execution_count": null,
      "outputs": []
    },
    {
      "cell_type": "markdown",
      "metadata": {
        "id": "-lmhkSw-pmDp"
      },
      "source": [
        "In the print function, numerical expression are first evaluated and then automatically converted to strings. Subsequently the strings are concatenated with spaces:"
      ]
    },
    {
      "cell_type": "code",
      "metadata": {
        "id": "aD4FzDq6pmDt"
      },
      "source": [
        "#3\n",
        "\n"
      ],
      "execution_count": null,
      "outputs": []
    },
    {
      "cell_type": "markdown",
      "metadata": {
        "id": "l910vzVupmD1"
      },
      "source": [
        "Reading textual input from the user can be achieved with the input function. The input function is given a string parameter, which is printed and prompts the user to give input. In the example below, the string entered by the user is stored the variable `name`. Try executing the program in the interactive notebook by pressing control-enter!"
      ]
    },
    {
      "cell_type": "code",
      "metadata": {
        "id": "cjHVWeaApmD4"
      },
      "source": [
        "#4\n"
      ],
      "execution_count": null,
      "outputs": []
    },
    {
      "cell_type": "markdown",
      "metadata": {
        "id": "W97rnxwwpmEC"
      },
      "source": [
        "### Indentation"
      ]
    },
    {
      "cell_type": "markdown",
      "metadata": {
        "id": "c8CYs5SypmEF"
      },
      "source": [
        "Repetition is possible with the for loop. Note that the body of for loop is indented with a tabulator or four spaces.\n",
        "Unlike in some other languages, braces are not needed to denote the body of the loop. When the indentation stops, the body of the loop ends."
      ]
    },
    {
      "cell_type": "code",
      "metadata": {
        "id": "78IdqZDtpmEI"
      },
      "source": [
        "#5\n"
      ],
      "execution_count": null,
      "outputs": []
    },
    {
      "cell_type": "markdown",
      "metadata": {
        "id": "2YqzwAF2pmEX"
      },
      "source": [
        "Indentation applies to other compound statements as well, such as bodies of functions, different branches of an if statement, and while loops. We shall see examples of these later."
      ]
    },
    {
      "cell_type": "markdown",
      "metadata": {
        "id": "3mjZNtNcpmEb"
      },
      "source": [
        "The `range(3)` expression above actually results with the sequence of integers 0, 1, and 2. So, the range is a half-open interval with the end point excluded from the range. In general, expression range(n) gives integers 0, 1, 2, ..., n-1. Modify the above program to make it also print the value of variable i at each iteration. Rerun the code with control-enter."
      ]
    },
    {
      "cell_type": "markdown",
      "metadata": {
        "id": "sbXihYYupmEe"
      },
      "source": [
        "#### <div class=\"alert alert-info\">Exercise 1 (hello world)</div>\n",
        "Print the following:\n",
        "\n",
        "`Hello, world!`\n",
        "\n",
        "Make sure you use correct indenting. \n",
        "<hr/>"
      ]
    },
    {
      "cell_type": "code",
      "metadata": {
        "id": "gUWH_oJaqwTy"
      },
      "source": [
        "#Write code Here"
      ],
      "execution_count": null,
      "outputs": []
    },
    {
      "cell_type": "markdown",
      "metadata": {
        "id": "Z6x8Aa05pmEg"
      },
      "source": [
        "#### <div class=\"alert alert-info\">Exercise 2 </div>\n",
        "Write a program that work as follows. The program should ask the user for an input, and the print an answer as the examples below show.\n",
        "\n",
        "```\n",
        "What country are you from? Palestine\n",
        "I have heard that Palestine is a beautiful country.\n",
        "\n",
        "What country are you from? Jordan  \n",
        "I have heard that Jordan is a beautiful country.\n",
        "```\n",
        "<hr/>"
      ]
    },
    {
      "cell_type": "code",
      "metadata": {
        "id": "pobMWl39rCWE"
      },
      "source": [
        "#Write code Here"
      ],
      "execution_count": null,
      "outputs": []
    },
    {
      "cell_type": "markdown",
      "metadata": {
        "id": "yd0MdaxapmEl"
      },
      "source": [
        "### Variables and data types\n",
        "\n",
        "We saw already earlier that assigning a value to variable is very simple:"
      ]
    },
    {
      "cell_type": "code",
      "metadata": {
        "id": "ojk50XT1pmEm"
      },
      "source": [
        "#6\n",
        "\n"
      ],
      "execution_count": null,
      "outputs": []
    },
    {
      "cell_type": "markdown",
      "metadata": {
        "id": "GR2J8vYfpmEs"
      },
      "source": [
        "Note that we did not need to introduce the variable `a` in any way. No type was given for the variable. Python automatically detected that the type of `a` must be `int` (an integer). We can query the type of a variable with the builtin function `type`:"
      ]
    },
    {
      "cell_type": "code",
      "metadata": {
        "id": "XcSGSD42pmEt"
      },
      "source": [
        "#7\n",
        "type(a)"
      ],
      "execution_count": null,
      "outputs": []
    },
    {
      "cell_type": "markdown",
      "metadata": {
        "id": "gKgDxILVpmEy"
      },
      "source": [
        "Note also that the type of a variable is not fixed:"
      ]
    },
    {
      "cell_type": "code",
      "metadata": {
        "id": "0K0iK2E0pmEz"
      },
      "source": [
        "#8\n"
      ],
      "execution_count": null,
      "outputs": []
    },
    {
      "cell_type": "markdown",
      "metadata": {
        "id": "yw1kTn-2pmE4"
      },
      "source": [
        "In Python the type of a variable is not attached to the name of the variable, like in C for instance, but instead with the actual value. This is called dynamic typing."
      ]
    },
    {
      "cell_type": "markdown",
      "metadata": {
        "id": "QpBY9gz3pmE7"
      },
      "source": [
        "We say that a variable is a name that *refers* to a value or an object, and the assignment operator *binds* a variable name to a value."
      ]
    },
    {
      "cell_type": "markdown",
      "metadata": {
        "id": "FRPHtJMqpmE-"
      },
      "source": [
        "The basic data types in Python are: `int`, `float`, `complex`, `str` (a string), `bool` (a boolean with values `True` and `False`), and `bytes`. Below are few examples of their use."
      ]
    },
    {
      "cell_type": "code",
      "metadata": {
        "id": "O-SPxSpapmFA",
        "colab": {
          "base_uri": "https://localhost:8080/",
          "height": 69
        },
        "outputId": "5d5408cc-2ad0-45dc-978c-553151b67755"
      },
      "source": [
        "i=5\n",
        "f=1.5\n",
        "b = i==4\n",
        "print(\"Result of the comparison:\", b)\n",
        "c=0+2j                                 # Note that j denotes the imaginary unit of complex numbers.\n",
        "print(\"Complex multiplication:\", c*c)\n",
        "s=\"conca\" + \"tenation\"\n",
        "print(s)"
      ],
      "execution_count": null,
      "outputs": [
        {
          "output_type": "stream",
          "text": [
            "Result of the comparison: False\n",
            "Complex multiplication: (-4+0j)\n",
            "concatenation\n"
          ],
          "name": "stdout"
        }
      ]
    },
    {
      "cell_type": "markdown",
      "metadata": {
        "id": "i0gv6ZoPpmFF"
      },
      "source": [
        "The names of the types act as conversion operators between types:"
      ]
    },
    {
      "cell_type": "code",
      "metadata": {
        "id": "CqccO6qopmFI"
      },
      "source": [
        "#9\n"
      ],
      "execution_count": null,
      "outputs": []
    },
    {
      "cell_type": "markdown",
      "metadata": {
        "id": "mlp4pzx5pmFY"
      },
      "source": [
        "#### Creating strings\n",
        "A string is a sequence of characters commonly used to store input or output data in a program. The characters of a string are specified either between single (`'`) or double (`\"`) quotes. This optionality is useful if, for example, a string needs to contain a quotation mark:\n",
        "\"I don't want to go!\". You can also achieve this by *escaping* the quotation mark with the backslash: 'I don\\\\'t want to go'.\n",
        "\n",
        "The string can also contain other escape sequences like `\\n` for newline and `\\t` for a tabulator. See [literals](https://docs.python.org/3/reference/lexical_analysis.html#literals) for a list of all escape sequences."
      ]
    },
    {
      "cell_type": "code",
      "metadata": {
        "id": "HV2q9zKopmFY"
      },
      "source": [
        "#10\n",
        "\n"
      ],
      "execution_count": null,
      "outputs": []
    },
    {
      "cell_type": "markdown",
      "metadata": {
        "id": "2qA9SL7epmFj"
      },
      "source": [
        "A string containing newlines can be easily given within triple double or triple single quotes:"
      ]
    },
    {
      "cell_type": "code",
      "metadata": {
        "id": "MC-85PtnpmFl"
      },
      "source": [
        "#11\n"
      ],
      "execution_count": null,
      "outputs": []
    },
    {
      "cell_type": "markdown",
      "metadata": {
        "id": "l-sqekqBpmFy"
      },
      "source": [
        "Although we can concatenate strings using the `+` operator, for effiency reasons, one should use the `join` method to concatenate larger number of strings:"
      ]
    },
    {
      "cell_type": "code",
      "metadata": {
        "id": "IX0VeAWNpmF0"
      },
      "source": [
        "#12\n",
        "a=\"first\"\n",
        "b=\"second\"\n"
      ],
      "execution_count": null,
      "outputs": []
    },
    {
      "cell_type": "markdown",
      "metadata": {
        "id": "CFC_UF0wpmF4"
      },
      "source": [
        "Sometimes printing by concatenation from pieces can be clumsy:"
      ]
    },
    {
      "cell_type": "code",
      "metadata": {
        "id": "tvdTghFQpmF4"
      },
      "source": [
        "#13\n"
      ],
      "execution_count": null,
      "outputs": []
    },
    {
      "cell_type": "markdown",
      "metadata": {
        "id": "ZxsHY3rbpmF7"
      },
      "source": [
        "The multiple catenation and quotation characters break the flow of thought. *String interpolation* offers somewhat easier syntax.\n",
        "\n",
        "There are multiple ways to do sting interpolation:\n",
        "\n",
        "* Python format strings\n",
        "* the `format` method\n",
        "* f-strings\n",
        "\n",
        "Examples of these can be seen below:"
      ]
    },
    {
      "cell_type": "code",
      "metadata": {
        "ExecuteTime": {
          "end_time": "2019-06-13T07:20:50.778447Z",
          "start_time": "2019-06-13T07:20:50.770086Z"
        },
        "id": "-dXT9HFNpmF8"
      },
      "source": [
        "#14\n"
      ],
      "execution_count": null,
      "outputs": []
    },
    {
      "cell_type": "markdown",
      "metadata": {
        "id": "bj8BhsAapmGA"
      },
      "source": [
        "The `i` format specifier in the format syntacs corresponds to integers and the specifier `f` corresponds to floats. When using f-strings or the `format` method, integers use `d` instead. In format strings specifiers can usually be omitted and are generally used only when specific formatting is required. For example in f-strings `f\"{4:3d}\"` would specify the number 4 left padded with spaces to 3 digits.\n",
        "\n",
        "It is often useful to specify the number of decimals when printing floats:"
      ]
    },
    {
      "cell_type": "code",
      "metadata": {
        "ExecuteTime": {
          "end_time": "2019-06-13T07:20:11.299655Z",
          "start_time": "2019-06-13T07:20:11.290634Z"
        },
        "id": "yQ131HXZpmGB",
        "colab": {
          "base_uri": "https://localhost:8080/"
        },
        "outputId": "e8105856-436d-4396-c60b-e11655fa886a"
      },
      "source": [
        "#15\n",
        "print(f\"{1.6:.2f} {1.7:.2f} {1.8:.3f}\")   "
      ],
      "execution_count": null,
      "outputs": [
        {
          "output_type": "stream",
          "text": [
            "1.60 1.70 1.800\n"
          ],
          "name": "stdout"
        }
      ]
    },
    {
      "cell_type": "markdown",
      "metadata": {
        "id": "VRkYqdbXpmGJ"
      },
      "source": [
        "The specifier `s` is used for strings. An example:"
      ]
    },
    {
      "cell_type": "code",
      "metadata": {
        "ExecuteTime": {
          "end_time": "2019-06-13T07:22:04.651508Z",
          "start_time": "2019-06-13T07:22:04.646191Z"
        },
        "id": "IPwOt1ZkpmGL"
      },
      "source": [
        "#16\n",
        "print(\"%s concatenated with %s produces %s\" % (\"water\", \"melon\", \"water\"+\"melon\"))\n",
        "print(\"{0} concatenated with {1} produces {0}{1}\".format(\"water\", \"melon\"))\n",
        "print(f\"{'water'} concatenated with {'melon'} produces {'water' + 'melon'}\")"
      ],
      "execution_count": null,
      "outputs": []
    },
    {
      "cell_type": "markdown",
      "metadata": {
        "id": "-f9AFhlBpmGO"
      },
      "source": [
        "Look [here](https://pyformat.info/#number) for more details about format specifiers, and for comparison between the old and new style of string interpolation.\n",
        "\n",
        "Different ways of string interpolation have different strengths and weaknesses. Generally choosing which to use is a matter of personal preference. On this course examples and model solutions will predominantly use f-strings and the `format` method."
      ]
    },
    {
      "cell_type": "markdown",
      "metadata": {
        "id": "ssZGeSxJpmGP"
      },
      "source": [
        "### Expressions\n",
        "An *expression* is a piece of Python code that results in a value. It consists of values combined together with *operators*. Values can be literals, such as `1`, `1.2`, `\"text\"`, or variables. Operators include arithmetics operators, comparison operators, function call, indexing, attribute references, among others. Below there are a few examples of expressions:"
      ]
    },
    {
      "cell_type": "markdown",
      "metadata": {
        "id": "b-vjpiSkpmGQ"
      },
      "source": [
        "```\n",
        "1+2\n",
        "7/(2+0.1)\n",
        "a\n",
        "cos(0)\n",
        "mylist[1]\n",
        "c > 0 and c !=1\n",
        "(1,2,3)\n",
        "a<5\n",
        "obj.attr\n",
        "(-1)**2 == 1\n",
        "```"
      ]
    },
    {
      "cell_type": "markdown",
      "metadata": {
        "id": "txUlq8OipmGQ"
      },
      "source": [
        "<div class=\"alert alert-warning\">Note that in Python the operator `//` performs integer division and operator `/` performs float division. The `**` operator denotes exponentiation. These operators might therefore behave differently than in many other common languages.</div>"
      ]
    },
    {
      "cell_type": "markdown",
      "metadata": {
        "id": "PBuTrPINpmGS"
      },
      "source": [
        "### Statements\n",
        "Statements are commands that have some effect. For example, a function call (that is not part of another expression) is a statement. Also, the variable assignment is a statement:"
      ]
    },
    {
      "cell_type": "code",
      "metadata": {
        "id": "lvxPfIAtpmGT"
      },
      "source": [
        "i = 5\n",
        "i = i+1    # This is a commong idiom to increment the value of i by one\n",
        "i += 1     # This is a short-hand for the above"
      ],
      "execution_count": null,
      "outputs": []
    },
    {
      "cell_type": "markdown",
      "metadata": {
        "id": "3wnAZvIWpmGW"
      },
      "source": [
        "Note that in Python there are no operators `++` or `--` unlike in some other languages."
      ]
    },
    {
      "cell_type": "markdown",
      "metadata": {
        "id": "SnM7ATCTpmGX"
      },
      "source": [
        "It turns out that the operators `+ - * / // % & | ^ >> << **` have the corresponding *augmented assignment operators* `+= -= *= /= //= %= &= |= ^= >>= <<= **=`"
      ]
    },
    {
      "cell_type": "markdown",
      "metadata": {
        "id": "pvPQpYm9pmGX"
      },
      "source": [
        "Another large set of statements is the flow-control statements such as if-else, for and while loops. We will look into these in the next sections."
      ]
    },
    {
      "cell_type": "markdown",
      "metadata": {
        "id": "HEYbP_uupmGY"
      },
      "source": [
        "#### Loops for repetitive tasks\n",
        "In Python we have two kinds of loops: `while` and `for`. We briefly saw the `for` loop earlier. Let's now look at the `while` loop. A `while` loop repeats a set of statements while a given condition holds. An example:"
      ]
    },
    {
      "cell_type": "code",
      "metadata": {
        "id": "UNzd5VZnpmGZ"
      },
      "source": [
        "#17\n"
      ],
      "execution_count": null,
      "outputs": []
    },
    {
      "cell_type": "markdown",
      "metadata": {
        "id": "3wLTcR6ZpmGh"
      },
      "source": [
        "Note again that the body of the while statement was marked with the indentation."
      ]
    },
    {
      "cell_type": "markdown",
      "metadata": {
        "id": "kQqEhzP6pmGk"
      },
      "source": [
        "Another way of repeating statements is with the `for` statement. An example"
      ]
    },
    {
      "cell_type": "code",
      "metadata": {
        "id": "tpsEecx3pmGl"
      },
      "source": [
        "#18\n"
      ],
      "execution_count": null,
      "outputs": []
    },
    {
      "cell_type": "markdown",
      "metadata": {
        "id": "qVyLQ9d7pmGs"
      },
      "source": [
        "The `for` loop executes the statements in the block as many times as there are elements in the given list. At each iteration the variable `i` refers to another value from the list in order. Instead of the giving the list explicitly as above, we could have used the *generator* `range(10)` which returns values from the sequence 0,1,...,9 as the for loop asks for a new value. In the most general form the `for` loop goes through all the elements in an *iterable*.\n",
        "Besides lists and generators there are other iterables. We will talk about iterables and generators later."
      ]
    },
    {
      "cell_type": "markdown",
      "metadata": {
        "id": "lKTppa5tpmGs"
      },
      "source": [
        "When one wants to iterate through all the elements in an iterable, then the `for` loop is a natural choice. But sometimes `while` loops offer cleaner solution. For instance, if we want\n",
        "to go through all Fibonacci numbers up till a given limit, then it is easier to do with a `while` loop."
      ]
    },
    {
      "cell_type": "markdown",
      "metadata": {
        "id": "ZEhMxoq0tsS-"
      },
      "source": [
        "#### <div class=\"alert alert-info\">Exercise 3 (multiplication)</div> \n",
        "Write a program that gives the following output. You should use a for loop in your solution.\n",
        "\n",
        "```\n",
        "4 multiplied by 0 is 0\n",
        "4 multiplied by 1 is 4\n",
        "4 multiplied by 2 is 8\n",
        "4 multiplied by 3 is 12\n",
        "4 multiplied by 4 is 16\n",
        "4 multiplied by 5 is 20\n",
        "4 multiplied by 6 is 24\n",
        "4 multiplied by 7 is 28\n",
        "4 multiplied by 8 is 32\n",
        "4 multiplied by 9 is 36\n",
        "4 multiplied by 10 is 40\n",
        "```\n",
        "<hr/>"
      ]
    },
    {
      "cell_type": "code",
      "metadata": {
        "id": "p_1lAXVrttRr"
      },
      "source": [
        "#Code Here\n"
      ],
      "execution_count": null,
      "outputs": []
    },
    {
      "cell_type": "markdown",
      "metadata": {
        "id": "lan1ZdwOpmGu"
      },
      "source": [
        "#### <div class=\"alert alert-info\">Exercise 4 (multiplication table)</div>\n",
        "\n",
        "Write a code to print a multiplication table shown below:\n",
        "```\n",
        "   1   2   3   4   5   6   7   8   9  10\n",
        "   2   4   6   8  10  12  14  16  18  20\n",
        "   3   6   9  12  15  18  21  24  27  30\n",
        "   4   8  12  16  20  24  28  32  36  40\n",
        "   5  10  15  20  25  30  35  40  45  50\n",
        "   6  12  18  24  30  36  42  48  54  60\n",
        "   7  14  21  28  35  42  49  56  63  70\n",
        "   8  16  24  32  40  48  56  64  72  80\n",
        "   9  18  27  36  45  54  63  72  81  90\n",
        "  10  20  30  40  50  60  70  80  90 100\n",
        "```\n",
        "For example at row 4 and column 9 we have 4*9=36.\n",
        "\n",
        "Use two nested for loops to achive this. Note that you can use the following form to stop the `print` function from automatically starting a new line:"
      ]
    },
    {
      "cell_type": "code",
      "metadata": {
        "id": "60c9st4V0JM2"
      },
      "source": [
        ""
      ],
      "execution_count": null,
      "outputs": []
    },
    {
      "cell_type": "code",
      "metadata": {
        "id": "8bnvbT3KpmGu",
        "colab": {
          "base_uri": "https://localhost:8080/",
          "height": 34
        },
        "outputId": "ceb9e787-302e-40f9-d9bb-bfb963468ab2"
      },
      "source": [
        "print(\"text\", end=\"\")\n",
        "print(\"more text\")"
      ],
      "execution_count": null,
      "outputs": [
        {
          "output_type": "stream",
          "text": [
            "textmore text\n"
          ],
          "name": "stdout"
        }
      ]
    },
    {
      "cell_type": "markdown",
      "metadata": {
        "id": "7NVFvK9PpmGy"
      },
      "source": [
        "Print the numbers in a field with width four, so that the numbers are nicely aligned. For instructions on how adjust the field width refer to [pyformat.info](https://pyformat.info/#number_padding).\n",
        "<hr/>"
      ]
    },
    {
      "cell_type": "code",
      "metadata": {
        "id": "N5U-6rKt0hXw"
      },
      "source": [
        "#Write code Here\n",
        "\n"
      ],
      "execution_count": null,
      "outputs": []
    },
    {
      "cell_type": "markdown",
      "metadata": {
        "id": "Ls0hKoxwpmG4"
      },
      "source": [
        "#### Decision making with the if statement\n",
        "The if-else statement works as can be expected.\n",
        "Try running the below cell by pressing control+enter."
      ]
    },
    {
      "cell_type": "code",
      "metadata": {
        "id": "KCqQiGSdpmG5"
      },
      "source": [
        "#19\n"
      ],
      "execution_count": null,
      "outputs": []
    },
    {
      "cell_type": "markdown",
      "metadata": {
        "id": "xoHchS7xpmG6"
      },
      "source": [
        "The general from of an if-else statement is\n",
        "\n",
        "```\n",
        "if condition1:\n",
        "    statement1_1\n",
        "    statement1_2\n",
        "    ...\n",
        "elif condition2:\n",
        "    statement2_1\n",
        "    statement2_2\n",
        "    ...\n",
        "...\n",
        "else:\n",
        "    statementn_1\n",
        "    statementn_2\n",
        "    ...\n",
        "```"
      ]
    },
    {
      "cell_type": "markdown",
      "metadata": {
        "id": "mjIgwcwVpmG7"
      },
      "source": [
        "Another example:"
      ]
    },
    {
      "cell_type": "code",
      "metadata": {
        "id": "w4p16TR9pmG8",
        "colab": {
          "base_uri": "https://localhost:8080/",
          "height": 54
        },
        "outputId": "72917477-bed6-4cf1-9f39-7f7d39fcd632"
      },
      "source": [
        "c=input(\"Give a number: \")\n",
        "if c > 0:\n",
        "    print(\"c is positive\")\n",
        "elif c<0:\n",
        "    print(\"c is negative\")\n",
        "else:\n",
        "    print(\"c is zero\")"
      ],
      "execution_count": null,
      "outputs": [
        {
          "output_type": "stream",
          "text": [
            "Give a number: 1\n",
            "c is positive\n"
          ],
          "name": "stdout"
        }
      ]
    },
    {
      "cell_type": "markdown",
      "metadata": {
        "id": "EgE6GvxypmHB"
      },
      "source": [
        "#### Breaking and continuing loop\n",
        "Breaking the loop, when the wanted element is found, with the `break` statement:"
      ]
    },
    {
      "cell_type": "code",
      "metadata": {
        "id": "drsjeiwVpmHC"
      },
      "source": [
        "#20\n",
        "l=[1,3,65,3,-1,56,-10]\n"
      ],
      "execution_count": null,
      "outputs": []
    },
    {
      "cell_type": "markdown",
      "metadata": {
        "id": "SMn2ARXWpmHF"
      },
      "source": [
        "Stopping current iteration and continuing to the next one with the `continue` statement:"
      ]
    },
    {
      "cell_type": "code",
      "metadata": {
        "ExecuteTime": {
          "end_time": "2019-06-17T13:56:49.327404Z",
          "start_time": "2019-06-17T13:56:49.318054Z"
        },
        "id": "oHo0TY3gpmHG",
        "colab": {
          "base_uri": "https://localhost:8080/"
        },
        "outputId": "fcb5f1fc-b535-429f-bfae-fb25c88d29ea"
      },
      "source": [
        "l=[1,3,65,3,-1,56,-10]\n",
        "for x in l:\n",
        "    if x < 0:\n",
        "        continue\n",
        "    print(f\"The power of {x} by 2 is {x**2}\")\n"
      ],
      "execution_count": null,
      "outputs": [
        {
          "output_type": "stream",
          "text": [
            "The power of 1 by 2 is 1\n",
            "The power of 3 by 2 is 9\n",
            "The power of 65 by 2 is 4225\n",
            "The power of 3 by 2 is 9\n",
            "The power of 56 by 2 is 3136\n"
          ],
          "name": "stdout"
        }
      ]
    },
    {
      "cell_type": "markdown",
      "metadata": {
        "id": "tONIa1czpmHJ"
      },
      "source": [
        "#### <div class=\"alert alert-info\">Exercise 5 (two dice)</div>\n",
        "\n",
        "Consider throwing two dice(value between 1 and 6.) Use two nested `for`\n",
        "loops  iterate through all possible combinations the pair of dice can give. \n",
        "Print all those combinations as (ordered) pairs that sum to 5. \n",
        "For example, your printout should include the pair `(2,3)`. Print one pair per line.\n",
        "<hr/>"
      ]
    },
    {
      "cell_type": "code",
      "metadata": {
        "id": "Kq1_oe7g9VN8"
      },
      "source": [
        "#Write code Here\n",
        "\n"
      ],
      "execution_count": null,
      "outputs": []
    },
    {
      "cell_type": "markdown",
      "metadata": {
        "id": "tbYR9YNtpmHK"
      },
      "source": [
        "### Functions\n",
        "A function is defined with the `def` statement. Let's do a doubling function."
      ]
    },
    {
      "cell_type": "code",
      "metadata": {
        "id": "X3timl56pmHM"
      },
      "source": [
        "#21\n"
      ],
      "execution_count": null,
      "outputs": []
    },
    {
      "cell_type": "markdown",
      "metadata": {
        "id": "foaRum0UpmHR"
      },
      "source": [
        "The double function takes only one parameter. Notice the *docstring* on the second line. It documents the purpose and usage of the function. Let's try to access it."
      ]
    },
    {
      "cell_type": "code",
      "metadata": {
        "id": "Qzz0741LpmHS"
      },
      "source": [
        "help(double)   "
      ],
      "execution_count": null,
      "outputs": []
    },
    {
      "cell_type": "markdown",
      "metadata": {
        "id": "SeBfsROMpmHV"
      },
      "source": [
        "Most of Python's builtin functions, classes, and modules should contain a docstring."
      ]
    },
    {
      "cell_type": "code",
      "metadata": {
        "id": "nezgnE8wpmHW"
      },
      "source": [
        "help(print)"
      ],
      "execution_count": null,
      "outputs": []
    },
    {
      "cell_type": "markdown",
      "metadata": {
        "id": "a_KCTRsBpmHY"
      },
      "source": [
        "Here's another example function:"
      ]
    },
    {
      "cell_type": "code",
      "metadata": {
        "id": "RBPCl37ppmHY",
        "colab": {
          "base_uri": "https://localhost:8080/"
        },
        "outputId": "a4da3c58-4b57-45f1-866b-a8c71ff382ed"
      },
      "source": [
        "def sum_of_squares(a, b):\n",
        "    \"Computes the sum of arguments squared\"\n",
        "    return a**2 + b**2\n",
        "print(sum_of_squares(3, 4))"
      ],
      "execution_count": null,
      "outputs": [
        {
          "output_type": "stream",
          "text": [
            "25\n"
          ],
          "name": "stdout"
        }
      ]
    },
    {
      "cell_type": "markdown",
      "metadata": {
        "id": "CA14BjRPpmHc"
      },
      "source": [
        "<div class=\"alert alert-warning\">Note the terminology: in the function definition the names a and b are called <strong>parameters</strong> of the function; in the function call, however, 3 and 4 are called <strong>arguments</strong> to the function.\n",
        "</div>"
      ]
    },
    {
      "cell_type": "markdown",
      "metadata": {
        "id": "0c1A_UohpmHd"
      },
      "source": [
        "It would be nice that the number of arguments could be arbitrary, not just two. We could pass a list to the function as a parameter."
      ]
    },
    {
      "cell_type": "code",
      "metadata": {
        "id": "cun7jOb9pmHe",
        "colab": {
          "base_uri": "https://localhost:8080/",
          "height": 54
        },
        "outputId": "78b0d632-771b-4f91-9431-6537d9f48d46"
      },
      "source": [
        "def sum_of_squares(lst):\n",
        "    \"Computes the sum of squares of elements in the list given as parameter\"\n",
        "    s=0\n",
        "    for x in lst:\n",
        "        s += x**2\n",
        "    return s\n",
        "print(sum_of_squares([-2]))\n",
        "print(sum_of_squares([-2,4,5]))"
      ],
      "execution_count": null,
      "outputs": [
        {
          "output_type": "stream",
          "text": [
            "4\n",
            "45\n"
          ],
          "name": "stdout"
        }
      ]
    },
    {
      "cell_type": "markdown",
      "metadata": {
        "id": "KYM9Cq8ZpmHg"
      },
      "source": [
        "Another way:"
      ]
    },
    {
      "cell_type": "code",
      "metadata": {
        "id": "ohmyAPkrpmHh"
      },
      "source": [
        "def sum_of_squares(*t):\n",
        "    \"Computes the sum of squares of arbitrary number of arguments\"\n",
        "    s=0\n",
        "    for x in t:\n",
        "        s += x**2\n",
        "    return s\n",
        "print(sum_of_squares(-2))\n",
        "print(sum_of_squares(-2,4,5))"
      ],
      "execution_count": null,
      "outputs": []
    },
    {
      "cell_type": "markdown",
      "metadata": {
        "id": "K5_sMYKmpmHk"
      },
      "source": [
        "The strange looking argument notation (the star) is called *argument packing*. It packs all the given positional arguments into a tuple `t`. We will encounter tuples again later, but it suffices now to say that tuples are *immutable* lists. With the `for` loop we can iterate through all the elements in the tuple.\n"
      ]
    },
    {
      "cell_type": "markdown",
      "metadata": {
        "id": "_GvqUTpwpmHn"
      },
      "source": [
        "In addition to positional arguments we have seen so far, a function call can also have *named arguments*. An example will explain this concept best:"
      ]
    },
    {
      "cell_type": "code",
      "metadata": {
        "id": "KmQ2JQ2upmHq"
      },
      "source": [
        "#22\n"
      ],
      "execution_count": null,
      "outputs": []
    },
    {
      "cell_type": "markdown",
      "metadata": {
        "id": "wMyb54RnpmHv"
      },
      "source": [
        "Note that the named arguments didn't need to be in the same order as in the function definition.\n",
        "The named arguments must come after the positional arguments. For example, the following function call is illegal `named(a=5, 7, 8)`.\n",
        "\n",
        "One can also specify an optional parameter by giving the parameter a default value. The parameters that have default values must come after those parameters that don't. We saw that the parameters of the `print` function were of form `print(value, ..., sep=' ', end='\\n')`. If some default values don't suit us, we can give them in the function call using the name of the parameter:"
      ]
    },
    {
      "cell_type": "code",
      "metadata": {
        "id": "uvPIRVDKpmH0",
        "colab": {
          "base_uri": "https://localhost:8080/",
          "height": 35
        },
        "outputId": "9d358f53-904f-4813-fe94-e2f7dc69bb40"
      },
      "source": [
        "print(1, 2, 3, end=' |', sep=' -*- ')\n",
        "print(\"first\", \"second\", \"third\", end=' |', sep=' -*- ')"
      ],
      "execution_count": null,
      "outputs": [
        {
          "output_type": "stream",
          "text": [
            "1 -*- 2 -*- 3 |first -*- second -*- third |"
          ],
          "name": "stdout"
        }
      ]
    },
    {
      "cell_type": "markdown",
      "metadata": {
        "id": "8KARs3wipmH9"
      },
      "source": [
        "Let's go through another example of using parameters with default values:"
      ]
    },
    {
      "cell_type": "code",
      "metadata": {
        "id": "dWfbR-Z3pmH9",
        "colab": {
          "base_uri": "https://localhost:8080/",
          "height": 35
        },
        "outputId": "4b1680b3-def1-4503-8da4-8aa27e353c65"
      },
      "source": [
        "def sum_of_squares(a=2, b=4):\n",
        "    \"Computes the sum of arguments squared\"\n",
        "    return a**2 + b**2\n",
        "print(sum_of_squares())"
      ],
      "execution_count": null,
      "outputs": [
        {
          "output_type": "stream",
          "text": [
            "20\n"
          ],
          "name": "stdout"
        }
      ]
    },
    {
      "cell_type": "markdown",
      "metadata": {
        "id": "yNO9TC7ZpmIB"
      },
      "source": [
        "#### Visibility of variables\n",
        "Function definition creates a new *namespace* (also called local scope). Variables created inside this scope are not available from outside the function definition. Also, the function parameters are only visible inside the function definition. Variables that are not defined inside any function are called `global variables`.\n",
        "\n",
        "Global variable are readable also in local scopes, but an assignment creates a new local variable without rebinding the global variable. If we are inside a function, a local variable hides a global variable by the same name:"
      ]
    },
    {
      "cell_type": "code",
      "metadata": {
        "id": "1oz20oBppmIB",
        "outputId": "4725187f-99cb-4e78-8366-916cb980cce7"
      },
      "source": [
        "i=2           # global variable\n",
        "def f():\n",
        "    i=3       # this creates a new variable, it does not rebind the global i\n",
        "    print(i)  # This will print 3    \n",
        "f()\n",
        "print(i)      # This will print 2"
      ],
      "execution_count": null,
      "outputs": [
        {
          "output_type": "stream",
          "text": [
            "3\n",
            "2\n"
          ],
          "name": "stdout"
        }
      ]
    },
    {
      "cell_type": "markdown",
      "metadata": {
        "id": "jtB42Sa9pmID"
      },
      "source": [
        "If you really need to rebind a global variable from a function, use the `global` statement. Example:"
      ]
    },
    {
      "cell_type": "code",
      "metadata": {
        "id": "FebhkQNIpmIE",
        "outputId": "b419f9b2-8b3e-434d-bb82-5ec078f59a97"
      },
      "source": [
        "i=2\n",
        "def f():\n",
        "    global i\n",
        "    i=5       # rebind the global i variable\n",
        "    print(i)  # This will print 5\n",
        "f()\n",
        "print(i)      # This will print 5"
      ],
      "execution_count": null,
      "outputs": [
        {
          "output_type": "stream",
          "text": [
            "5\n",
            "5\n"
          ],
          "name": "stdout"
        }
      ]
    },
    {
      "cell_type": "markdown",
      "metadata": {
        "id": "9_0noPH-pmII"
      },
      "source": [
        "#### <div class=\"alert alert-info\">Exercise 6 (triple square)</div>\n",
        "\n",
        "Write two functions: `triple` and `square`. Function `triple` multiplies its parameter by three. Function `square` raises its parameter to the power of two. For example, we have equalities `triple(5)==15`\n",
        "and `square(5)==25`.\n",
        "\n",
        "Part 1.\n",
        "\n",
        "Write a `for` loop that iterates through values 1 to 10, and for each value prints its triple and its square. The output should be as follows:\n",
        "```\n",
        "triple(1)==3 square(1)==1\n",
        "triple(2)==6 square(2)==4\n",
        "...\n",
        "```\n",
        "\n",
        "Part 2.\n",
        "\n",
        "Now modify this `for` loop so that it stops iteration when the square of a value is larger than the\n",
        "triple of the value, without printing anything in the last iteration.\n",
        "\n",
        "<hr/>"
      ]
    },
    {
      "cell_type": "code",
      "metadata": {
        "id": "i1k6JzxXH7Rt"
      },
      "source": [
        "#Write Code Here"
      ],
      "execution_count": null,
      "outputs": []
    },
    {
      "cell_type": "markdown",
      "metadata": {
        "id": "AdpJgyocpmII"
      },
      "source": [
        "#### <div class=\"alert alert-info\">Exercise 7 (areas of shapes)</div>\n",
        "\n",
        "Create a program that can compute the areas of three shapes, triangles, rectangles and circles, when\n",
        "their dimensions are given.\n",
        "\n",
        "An endless loop should ask for which shape you want the area be calculated. An empty string as input will exit the loop. \n",
        "If the user gives a\n",
        "string that is none of the given shapes, the message “unknown shape!” should be printed.\n",
        "Then it will ask for dimensions for that particular shape. When all the necessary dimensions are\n",
        "given, it prints the area, and starts the loop all over again. Use format specifier `f` for the area.\n",
        "\n",
        "What happens if you give incorrect dimensions, like giving string \"aa\" as radius? You  have to check for errors in the input.\n",
        "\n",
        "Example interaction:\n",
        "```\n",
        "Choose a shape (triangle, rectangle, circle): triangle\n",
        "Give base of the triangle: 20\n",
        "Give height of the triangle: 5\n",
        "The area is 50.000000\n",
        "Choose a shape (triangle, rectangle, circle): rectangel\n",
        "Unknown shape!\n",
        "Choose a shape (triangle, rectangle, circle): rectangle\n",
        "Give width of the rectangle: 20\n",
        "Give height of the rectangle: 4\n",
        "The area is 80.000000\n",
        "Choose a shape (triangle, rectangle, circle): circle\n",
        "Give radius of the circle: 10\n",
        "The area is 314.159265\n",
        "Choose a shape (triangle, rectangle, circle): \n",
        "```\n",
        "<hr/>"
      ]
    },
    {
      "cell_type": "code",
      "metadata": {
        "id": "wWhhTnX6BXyI"
      },
      "source": [
        "#Code Here"
      ],
      "execution_count": null,
      "outputs": []
    },
    {
      "cell_type": "markdown",
      "metadata": {
        "id": "7QDQ6f_1pmIJ"
      },
      "source": [
        "### Data structures\n",
        "The main data structures in Python are strings, lists, tuples, dictionaries, and sets. We saw some examples of lists, when we discussed `for` loops. And we saw briefly tuples when we introduced argument packing and unpacking. Let's get into more details now.\n",
        "\n",
        "#### Sequences\n",
        "A *list* contains arbitrary number of elements that are stored in sequential order. The elements are separated by commas and written between brackets. The elements don't need to be of the same type. An example of a list with four values:"
      ]
    },
    {
      "cell_type": "code",
      "metadata": {
        "id": "tufPRDxFpmIJ"
      },
      "source": [
        "#23\n"
      ],
      "execution_count": null,
      "outputs": []
    },
    {
      "cell_type": "markdown",
      "metadata": {
        "id": "3YaDKgfzpmIL"
      },
      "source": [
        "A *tuple* is fixed length, immutable, and ordered container. Elements of tuple are separated by commas and written between parentheses. Examples of tuples:"
      ]
    },
    {
      "cell_type": "code",
      "metadata": {
        "id": "LHDICX_ZpmIN"
      },
      "source": [
        "#24\n"
      ],
      "execution_count": null,
      "outputs": []
    },
    {
      "cell_type": "markdown",
      "metadata": {
        "id": "qzOczYXHpmIO"
      },
      "source": [
        "<div class=\"alert alert-warning\">Note the difference between `(3)` and `(3,)`. Because the parentheses can also be used to group expressions, the first one defines an integer, but the second one defines a tuple with single element.</div>"
      ]
    },
    {
      "cell_type": "markdown",
      "metadata": {
        "id": "AaqthvfqpmIO"
      },
      "source": [
        "As we can see, both lists and tuples can contain values of different type.\n",
        "\n",
        "List, tuples, and strings are called *sequences* in Python, and they have several commonalities:\n",
        "\n",
        "* their length can be queried with the `len` function\n",
        "* `min` and `max` function find the minimum and maximum element of a sequence, and `sum` adds all the elements of numbers together\n",
        "* Sequences can be concatenated with the `+` operator, and repeated with the `*` operator: `\"hi\"*3==\"hihihi\"`\n",
        "* Since sequences are ordered, we can refer to the elements of a sequences by integers using the *indexing* notation: `\"abcd\"[2] == \"c\"`\n",
        "* Note that the indexing begins from 0\n",
        "* Negative integers start indexing from the end: -1 refers to the last element, -2 refers to the second last, and so on"
      ]
    },
    {
      "cell_type": "markdown",
      "metadata": {
        "id": "4XJFp8AbpmIP"
      },
      "source": [
        "Above we saw that we can access a single element of a sequence using *indexing*. If we want a subsequence of a sequence, we can use the *slicing* syntax. A slice consists of elements of the original sequence, and it is itself a sequence as well. A simple slice is a range of elements:"
      ]
    },
    {
      "cell_type": "code",
      "metadata": {
        "id": "vjgeSeNupmIQ",
        "outputId": "09600c8c-f8dc-4ee9-a1f5-00993327a277"
      },
      "source": [
        "s=\"abcdefg\"\n",
        "s[1:4]"
      ],
      "execution_count": null,
      "outputs": [
        {
          "output_type": "execute_result",
          "data": {
            "text/plain": [
              "'bcd'"
            ]
          },
          "metadata": {
            "tags": []
          },
          "execution_count": 44
        }
      ]
    },
    {
      "cell_type": "markdown",
      "metadata": {
        "id": "ZlXmbq6KpmIS"
      },
      "source": [
        "Note that Python ranges exclude the last index. The generic form of a slice is\n",
        "`sequence[first:last:step]`. If any of the three parameters are left out, they are set to default values as follows: first=0, last=len(L), step=1. So, for instance \"abcde\"[1:]==\"bcde\". The step parameter selects elements that are step distance apart from each other. For example:"
      ]
    },
    {
      "cell_type": "code",
      "metadata": {
        "id": "DYyLPuSxpmIS",
        "colab": {
          "base_uri": "https://localhost:8080/",
          "height": 34
        },
        "outputId": "96cc8d1a-a207-4b20-8b71-f69de48599db"
      },
      "source": [
        "print([0,1,2,3,4,5,6,7,8,9][::3])"
      ],
      "execution_count": null,
      "outputs": [
        {
          "output_type": "stream",
          "text": [
            "[0, 3, 6, 9]\n"
          ],
          "name": "stdout"
        }
      ]
    },
    {
      "cell_type": "markdown",
      "metadata": {
        "id": "k5DnI7PFpmIV"
      },
      "source": [
        "#### <div class=\"alert alert-info\">Exercise 8 (solve quadratic)</div>\n",
        "\n",
        "In mathematics, the quadratic equation $ax^2+bx+c=0$ can be solved with the formula \n",
        "$x=\\frac{-b\\pm \\sqrt{b^2 -4ac}}{2a}$. \n",
        "\n",
        "Write a function `solve_quadratic`, that returns both solutions of a generic quadratic as a pair (2-tuple)\n",
        "when the coefficients are given as parameters. It should work like this:\n",
        "```python\n",
        "print(solve_quadratic(1,-3,2))\n",
        "(2.0,1.0)\n",
        "print(solve_quadratic(1,2,1))\n",
        "(-1.0,-1.0)\n",
        "```\n",
        "\n",
        "Use the `math.sqrt` function from the `math` module in your solution. \n",
        "<hr/>"
      ]
    },
    {
      "cell_type": "code",
      "metadata": {
        "id": "YDENP1hFKDxT"
      },
      "source": [
        "#Write code here\n",
        "# usage math.sqrt(x)\n",
        "import math\n"
      ],
      "execution_count": null,
      "outputs": []
    },
    {
      "cell_type": "markdown",
      "metadata": {
        "id": "keQPYrTnpmIW"
      },
      "source": [
        "#### Modifying lists\n",
        "We can assign values to elements of a list by indexing . An example:"
      ]
    },
    {
      "cell_type": "code",
      "metadata": {
        "id": "eUNZpUbwpmIX"
      },
      "source": [
        "#25\n",
        "L=[11,13,22,32]\n",
        "\n"
      ],
      "execution_count": null,
      "outputs": []
    },
    {
      "cell_type": "markdown",
      "metadata": {
        "id": "84G6mmL7pmIc"
      },
      "source": [
        "We can also modify a list by using *mutating methods* of the `list` class, namely the methods `append`, `extend`, `insert`, `remove`, `pop`, `reverse`, and `sort`. Try Python's help functionality to find more about these methods: e.g. `help(list.extend)` or `help(list)`.\n",
        "\n",
        "<div class=\"alert alert-warning\">Note that we cannot perform these modifications on tuples or strings since they are *immutable*</div>"
      ]
    },
    {
      "cell_type": "markdown",
      "metadata": {
        "id": "NvX3n6b9pmIc"
      },
      "source": [
        "#### Generating numerical sequences\n",
        "Trivial lists can be tedious to write: `[0,1,2,3,4,5,6]`. The function `range` creates numeric ranges automatically. The above sequence can be generated with the function call `range(7)`. Note again that then end value is not included  in the sequence. An example of using the `range` function:"
      ]
    },
    {
      "cell_type": "code",
      "metadata": {
        "id": "PxmzL1nGpmIc",
        "colab": {
          "base_uri": "https://localhost:8080/"
        },
        "outputId": "0c672c67-1c39-4366-8402-cbc54c34b2af"
      },
      "source": [
        "#26\n",
        "L=[*range(10)]\n",
        "print(L)"
      ],
      "execution_count": 204,
      "outputs": [
        {
          "output_type": "stream",
          "text": [
            "[0, 1, 2, 3, 4, 5, 6, 7, 8, 9]\n"
          ],
          "name": "stdout"
        }
      ]
    },
    {
      "cell_type": "markdown",
      "metadata": {
        "id": "r_j85CNrpmIl"
      },
      "source": [
        "<div class=\"alert alert-warning\">Note that using a range consumes less memory than the corresponding list. This is because in a list all the elements are stored in the memory, whereas the range generates the requested elements only when needed. For example, when the for loop asks for the next element from the range at each iteration, only a single element from the range exists in memory at the same time. This makes a big difference when using large ranges, like range(1000000).</div>"
      ]
    },
    {
      "cell_type": "markdown",
      "metadata": {
        "id": "1JhkjwZ7pmIl"
      },
      "source": [
        "The `range` function works in similar fashion as slices. So, for instance the step of the sequence can be given:"
      ]
    },
    {
      "cell_type": "code",
      "metadata": {
        "id": "nJnnVpctpmIm",
        "outputId": "85fe37be-4b83-4daf-ad51-73a902e0e884"
      },
      "source": [
        "print(list(range(0, 7, 2)))"
      ],
      "execution_count": null,
      "outputs": [
        {
          "output_type": "stream",
          "text": [
            "[0, 2, 4, 6]\n"
          ],
          "name": "stdout"
        }
      ]
    },
    {
      "cell_type": "markdown",
      "metadata": {
        "id": "C4ASx79apmIo"
      },
      "source": [
        "#### Sorting sequences\n",
        "\n",
        "In Python there are two ways to sort sequences. The `sort` *method* modifies the original list, whereas the `sorted` *function* returns a new sorted list and leaves the original intact. A couple of examples will demonstrate this:"
      ]
    },
    {
      "cell_type": "code",
      "metadata": {
        "id": "Y4iKg5yRpmIr"
      },
      "source": [
        "#27\n",
        "L=[5,3,7,1]\n",
        "L2=[6,1,7,3,6]\n",
        "\n"
      ],
      "execution_count": null,
      "outputs": []
    },
    {
      "cell_type": "markdown",
      "metadata": {
        "id": "3XPTusT-pmIv"
      },
      "source": [
        "The parameter `reverse=True` can be given (both to `sort` and `sorted`) to get descending order of elements:"
      ]
    },
    {
      "cell_type": "code",
      "metadata": {
        "id": "8FyptIfbpmIv"
      },
      "source": [
        "L=[5,3,7,1]\n"
      ],
      "execution_count": null,
      "outputs": []
    },
    {
      "cell_type": "markdown",
      "metadata": {
        "id": "HDYCN6rxpmIx"
      },
      "source": [
        "#### <div class=\"alert alert-info\">Exercise 9 (merge)</div>\n",
        "\n",
        "Suppose we have two lists `L1` and `L2` that contain integers which are sorted in ascending order.\n",
        "Create a function `merge` that gets these lists as parameters and returns a new sorted list `L` that has\n",
        "all the elements of `L1` and `L2`. So, `len(L)` should equal to `len(L1)+len(L2)`. Do this using the\n",
        "fact that both lists are already sorted. \n",
        "<hr/>"
      ]
    },
    {
      "cell_type": "code",
      "metadata": {
        "id": "LPf7eMf8LTTv"
      },
      "source": [
        "L1 = [1,5,9,12]\n",
        "L2 = [2,6,10]\n"
      ],
      "execution_count": null,
      "outputs": []
    },
    {
      "cell_type": "markdown",
      "metadata": {
        "id": "2SbbEW7MpmIy"
      },
      "source": [
        "#### <div class=\"alert alert-info\">Exercise 10 (detect ranges)</div>\n",
        "\n",
        "Create a function named `detect_ranges` that gets a list of integers as a parameter. The function\n",
        "should then sort this list, and transform the list into another list where pairs are used for all the\n",
        "detected intervals. So `3,4,5,6` is replaced by the pair `(3,7)`. Numbers that are not part of any\n",
        "interval result just single numbers. The resulting list consists of these numbers and\n",
        "pairs, separated by commas.\n",
        "An example of how this function works:\n",
        "```python\n",
        "print(detect_ranges([2,5,4,8,12,6,7,10,13]))\n",
        "[2,(4,9),10,(12,14)]\n",
        "```\n",
        "\n",
        "Note that the second element of the pair does not belong to the range. This is consistent with the way Python's `range` function works. You may assume that no element in the input list appears multiple times.\n",
        "<hr/>"
      ]
    },
    {
      "cell_type": "code",
      "metadata": {
        "id": "AdMyORDB14YU"
      },
      "source": [
        "#Code Here\n"
      ],
      "execution_count": null,
      "outputs": []
    },
    {
      "cell_type": "markdown",
      "metadata": {
        "id": "qnAM1AblpmIy"
      },
      "source": [
        "#### Zipping sequences\n",
        "\n",
        "The `zip` function combines two (or more) sequences into one sequence. If, for example, two sequences are zipped together, the resulting sequence contains pairs. In general, if `n` sequences are zipped together, the elements of the resulting sequence contains `n`-tuples. An example of this:"
      ]
    },
    {
      "cell_type": "code",
      "metadata": {
        "id": "OmG3kDNxpmIz"
      },
      "source": [
        "#28\n",
        "L1=[1,2,3]\n",
        "L2=[\"first\", \"second\", \"third\"]\n",
        "\n"
      ],
      "execution_count": null,
      "outputs": []
    },
    {
      "cell_type": "markdown",
      "metadata": {
        "id": "t19O-ux7pmI1"
      },
      "source": [
        "Here's another example of using the `zip` function."
      ]
    },
    {
      "cell_type": "code",
      "metadata": {
        "ExecuteTime": {
          "end_time": "2019-06-13T08:16:20.888496Z",
          "start_time": "2019-06-13T08:16:20.878238Z"
        },
        "id": "vTsyNmwapmI1"
      },
      "source": [
        "#29\n",
        "days=\"Monday Tuesday Wednesday Thursday Friday Saturday Sunday\".split()\n",
        "weathers=\"rainy rainy sunny cloudy rainy sunny sunny\".split()\n",
        "temperatures=[10,12,12,9,9,11,11]\n",
        "\n",
        "\n",
        "\n",
        "#Output\n",
        "#On Monday it was rainy and the temperature was 10 degrees celsius.\n",
        "#On Tuesday it was rainy and the temperature was 12 degrees celsius.\n",
        "#On Wednesday it was sunny and the temperature was 12 degrees celsius.\n"
      ],
      "execution_count": null,
      "outputs": []
    },
    {
      "cell_type": "markdown",
      "metadata": {
        "id": "B6Y21e8IpmI3"
      },
      "source": [
        "If the sequences are not of equal length, then the resulting sequence will be as long as the shortest input sequence is."
      ]
    },
    {
      "cell_type": "markdown",
      "metadata": {
        "id": "YCOg2ZUzpmI4"
      },
      "source": [
        "#### <div class=\"alert alert-info\">Exercise 11 (interleave)</div>\n",
        "\n",
        "Write function `interleave` that gets arbitrary number of lists as parameters. You may assume that all the lists have equal length. The function should return one list containing all the elements from the input lists interleaved.\n",
        "\n",
        "\n",
        "Example:\n",
        "`interleave([1,2,3], [20,30,40], ['a', 'b', 'c'])`\n",
        "should return\n",
        "`[1, 20, 'a', 2, 30, 'b', 3, 40, 'c']`.\n",
        "Use the `zip` function to implement `interleave`. \n",
        "<hr/>"
      ]
    },
    {
      "cell_type": "code",
      "metadata": {
        "id": "eP0wvHo1Zk6Y"
      },
      "source": [
        "#Code Here\n"
      ],
      "execution_count": null,
      "outputs": []
    },
    {
      "cell_type": "markdown",
      "metadata": {
        "id": "CqGSRhZJpmI4"
      },
      "source": [
        "#### Enumerating sequences\n",
        "\n",
        "In some other programming languages one iterates through the elements using their indices (0,1, ...) in the sequence. In Python we normally don't need to think about indices when iterating, because the `for` loop allows simpler iteration through the elements. But sometimes you really need to know the index of the current element in the sequence. In this case one uses Python's `enumerate` function. In the next example we would like find the second occurrence of integer 5 in a list."
      ]
    },
    {
      "cell_type": "code",
      "metadata": {
        "id": "vbUudwvSpmI5"
      },
      "source": [
        "#30\n",
        "L=[1,2,98,5,-1,2,0,5,10]\n"
      ],
      "execution_count": null,
      "outputs": []
    },
    {
      "cell_type": "markdown",
      "metadata": {
        "id": "JIHaJV31pmI9"
      },
      "source": [
        "#### Dictionaries\n",
        "A *dictionary* is a dynamic, unordered container. Instead of using integers to access the elements of the container, the dictionary uses *keys* to access the stored *values*. The dictionary can be created by listing the comma separated key-value pairs in braces. Keys and values are separated by a colon. A tuple (key,value) is called an *item* of the dictionary.\n",
        "\n",
        "Let's demonstrate the dictionary creation and usage:"
      ]
    },
    {
      "cell_type": "code",
      "metadata": {
        "id": "T6POtEQ6pmJA"
      },
      "source": [
        "#31\n",
        "\n"
      ],
      "execution_count": null,
      "outputs": []
    },
    {
      "cell_type": "markdown",
      "metadata": {
        "id": "u_5ANA1upmJF"
      },
      "source": [
        "Keys can have different types even in the same container. So the following code is legal:\n",
        "`d={1:\"a\", \"z\":1}`. The only restriction is that the keys must be *hashable*(https://runestone.academy/runestone/books/published/pythonds/SortSearch/Hashing.html). That is, there has to be a mapping from keys to integers. Lists are *not* hashable, but tuples are!\n",
        "\n",
        "There are alternative syntaxes for dictionary creation:"
      ]
    },
    {
      "cell_type": "code",
      "metadata": {
        "id": "DYcD4sijpmJG"
      },
      "source": [
        "dict([(\"key1\", \"value1\"), (\"key2\", \"value2\"), (\"key3\", \"value3\")]) # list of items\n",
        "dict(key1=\"value1\", key2=\"value2\", key3=\"value3\");"
      ],
      "execution_count": null,
      "outputs": []
    },
    {
      "cell_type": "markdown",
      "metadata": {
        "id": "EXiZDTwypmJH"
      },
      "source": [
        "If a key is not found in a dictionary, the indexing `d[key]` results in an error (*exception* `KeyError`). But an assignment with a non-existing key causes the key to be added in the dictionary associated with the corresponding value:"
      ]
    },
    {
      "cell_type": "code",
      "metadata": {
        "id": "D-Vl115PpmJP"
      },
      "source": [
        "d={}\n",
        "d[2]=\"value\"\n",
        "print(d)"
      ],
      "execution_count": null,
      "outputs": []
    },
    {
      "cell_type": "code",
      "metadata": {
        "id": "g3XaOslopmJR"
      },
      "source": [
        " #d[1]   # This would cause an error"
      ],
      "execution_count": null,
      "outputs": []
    },
    {
      "cell_type": "markdown",
      "metadata": {
        "id": "94vCK4DBpmJY"
      },
      "source": [
        "Dictionary object contains several non-mutating methods:\n",
        "```\n",
        "d.items()\n",
        "d.keys()\n",
        "d.values()\n",
        "```\n",
        "Try out some of these in the below cell. You can find more info with `help(dict)` or `help(dict.keys)`."
      ]
    },
    {
      "cell_type": "code",
      "metadata": {
        "id": "bKPOar1CpmJY"
      },
      "source": [
        "#32\n",
        "d={'a':{1,2}, 'b':2, 'c':3, 'd':4, 'e':5}\n",
        "\n",
        "\n",
        "#loop\n",
        "\n"
      ],
      "execution_count": null,
      "outputs": []
    },
    {
      "cell_type": "markdown",
      "metadata": {
        "id": "aHJjYghupmJZ"
      },
      "source": [
        "#### Sets\n",
        "Set is a dynamic, unordered container. It works a bit like dictionary, but only the keys are stored. And each key can be stored only once. The set requires that the keys to be stored are hashable. Below are a few ways of creating a set:"
      ]
    },
    {
      "cell_type": "code",
      "metadata": {
        "id": "GHqRKTNEpmJa"
      },
      "source": [
        "s={1,1,1}\n",
        "print(s)\n",
        "s=set([1,2,4,'a'])\n",
        "print(s)\n",
        "s=set()  # empty set\n",
        "print(s)\n",
        "s.add(7) # add one element\n",
        "print(s)"
      ],
      "execution_count": null,
      "outputs": []
    },
    {
      "cell_type": "markdown",
      "metadata": {
        "id": "44dkJUWVpmJc"
      },
      "source": [
        "A more useful example:"
      ]
    },
    {
      "cell_type": "code",
      "metadata": {
        "ExecuteTime": {
          "end_time": "2019-06-13T08:21:16.770094Z",
          "start_time": "2019-06-13T08:21:16.765594Z"
        },
        "id": "W5PFOUc2pmJd",
        "colab": {
          "base_uri": "https://localhost:8080/"
        },
        "outputId": "f8a93c0e-d25e-4e5d-ba58-7db98fd44616"
      },
      "source": [
        "#33\n",
        "s=\"mississippi\"\n",
        "print(set(s))\n"
      ],
      "execution_count": null,
      "outputs": [
        {
          "output_type": "stream",
          "text": [
            "{'i', 'm', 'p', 's'}\n"
          ],
          "name": "stdout"
        }
      ]
    },
    {
      "cell_type": "markdown",
      "metadata": {
        "id": "27zKGONZpmJe"
      },
      "source": [
        "The `set` provides the following non-mutating methods:"
      ]
    },
    {
      "cell_type": "code",
      "metadata": {
        "id": "ET4WhDB3pmJe"
      },
      "source": [
        "s=set()\n",
        "s1=set()\n",
        "s.copy()\n",
        "s.issubset(s1)\n",
        "s.issuperset(s1)\n",
        "s.union(s1)\n",
        "s.intersection(s1)\n",
        "s.difference(s1)\n",
        "s.symmetric_difference(s1);"
      ],
      "execution_count": null,
      "outputs": []
    },
    {
      "cell_type": "markdown",
      "metadata": {
        "id": "WhKy1U4ypmJf"
      },
      "source": [
        "The last four operation can be tedious to write to create a more complicated expression. The alternative is to use the corresponding operator forms: `|`, `&`, `-`, and `^`. An example of these:"
      ]
    },
    {
      "cell_type": "code",
      "metadata": {
        "id": "2pgt7m9xpmJh",
        "outputId": "64b01a8b-0282-44f3-a31e-127f2cf3a565"
      },
      "source": [
        "s=set([1,2,7])\n",
        "t=set([2,8,9])\n",
        "print(\"Union:\", s|t)\n",
        "print(\"Intersection:\", s&t)\n",
        "print(\"Difference:\", s-t)\n",
        "print(\"Symmetric difference\", s^t)"
      ],
      "execution_count": null,
      "outputs": [
        {
          "output_type": "stream",
          "text": [
            "Union: {1, 2, 7, 8, 9}\n",
            "Intersection: {2}\n",
            "Difference: {1, 7}\n",
            "Symmetric difference {1, 7, 8, 9}\n"
          ],
          "name": "stdout"
        }
      ]
    },
    {
      "cell_type": "markdown",
      "metadata": {
        "id": "MPjI3wpUpmJl"
      },
      "source": [
        "There are also the following mutating methods:\n",
        "```\n",
        "s.add(x)\n",
        "s.clear()\n",
        "s.discard()\n",
        "s.pop()\n",
        "s.remove(x)\n",
        "```\n",
        "\n"
      ]
    },
    {
      "cell_type": "markdown",
      "metadata": {
        "id": "eMMNQz2ApmJn"
      },
      "source": [
        "#### <div class=\"alert alert-info\">Exercise 12 (distinct characters)</div>\n",
        "\n",
        "Write function `distinct_characters` that gets a list of strings as a parameter. It should return a dictionary whose keys are the strings of the input list and the corresponding values are the numbers of distinct characters in the key.\n",
        "\n",
        "Use the `set` container to temporarily store the distinct characters in a string.\n",
        "Example of usage:\n",
        "`distinct_characters([\"check\", \"look\", \"try\", \"pop\"])`\n",
        "should return\n",
        "`{ \"check\" : 4, \"look\" : 3, \"try\" : 3, \"pop\" : 2}`.\n",
        "<hr/>"
      ]
    },
    {
      "cell_type": "code",
      "metadata": {
        "id": "ptP8snZeZmRB"
      },
      "source": [
        "#Code Here"
      ],
      "execution_count": null,
      "outputs": []
    },
    {
      "cell_type": "markdown",
      "metadata": {
        "id": "w2iyhFwapmKE"
      },
      "source": [
        "#### <div class=\"alert alert-info\">Exercise 13 (reverse dictionary)</div>\n",
        "\n",
        "Let `d` be a dictionary that has English words as keys and a list of Finnish words as values. So, the\n",
        "dictionary can be used to find out the Finnish equivalents of an English word in the following way:\n",
        "\n",
        "```\n",
        "d[\"move\"]\n",
        "[\"liikuttaa\"]\n",
        "d[\"hide\"]\n",
        "[\"piilottaa\", \"salata\"]\n",
        "```\n",
        "\n",
        "Make a function `reverse_dictionary` that creates a Finnish to English dictionary based on a English to Finnish dictionary given as a parameter. The values of the created dictionary should be lists of words. It should work like this:\n",
        "```\n",
        "d={'move': ['liikuttaa'], 'hide': ['piilottaa', 'salata'], 'six': ['kuusi'], 'fir': ['kuusi']}\n",
        "reverse_dictionary(d)\n",
        "{'liikuttaa': ['move'], 'piilottaa': ['hide'], 'salata': ['hide'], 'kuusi': ['six', 'fir']}\n",
        "```\n",
        "\n",
        "\n",
        "<hr/>"
      ]
    },
    {
      "cell_type": "code",
      "metadata": {
        "id": "QVp_13BlZnXV"
      },
      "source": [
        "#Code Here"
      ],
      "execution_count": null,
      "outputs": []
    },
    {
      "cell_type": "markdown",
      "metadata": {
        "id": "PQP5Tn0TpmKE"
      },
      "source": [
        "#### <div class=\"alert alert-info\">Exercise 14 (find matching)</div>\n",
        "\n",
        "Write function `find_matching` that gets a list of strings and a search string as parameters. The function should return the indices to those elements in the input list that contain the search string. Use the function `enumerate`.\n",
        "\n",
        "An example:\n",
        "`find_matching([\"sensitive\", \"engine\", \"rubbish\", \"comment\"], \"en\")`\n",
        "should return the list\n",
        "`[0, 1, 3]`.\n",
        "<hr/>"
      ]
    },
    {
      "cell_type": "code",
      "metadata": {
        "id": "thDE8V2DSa1P"
      },
      "source": [
        "#Code here"
      ],
      "execution_count": null,
      "outputs": []
    },
    {
      "cell_type": "markdown",
      "metadata": {
        "id": "DRgiAXTvpmKE"
      },
      "source": [
        "### Compact way of creating data structures\n",
        "We can now easily create complicated data structures using `for` loops:"
      ]
    },
    {
      "cell_type": "code",
      "metadata": {
        "id": "5Mbtx0JZpmKF",
        "outputId": "5092c89d-8e5a-41a0-fde6-b3084d4f7620"
      },
      "source": [
        "L=[]\n",
        "for i in range(10):\n",
        "    L.append(i**2)\n",
        "print(L)"
      ],
      "execution_count": null,
      "outputs": [
        {
          "output_type": "stream",
          "text": [
            "[0, 1, 4, 9, 16, 25, 36, 49, 64, 81]\n"
          ],
          "name": "stdout"
        }
      ]
    },
    {
      "cell_type": "markdown",
      "metadata": {
        "id": "ysi-0bqzpmKH"
      },
      "source": [
        "Because this kind of pattern is often used, Python offers a short-hand for this. A *list comprehension* is an expression that allows creating complicated lists on one line. "
      ]
    },
    {
      "cell_type": "markdown",
      "metadata": {
        "id": "f7Oo2c4IpmKI"
      },
      "source": [
        "The same written in Python as a list comprehension:"
      ]
    },
    {
      "cell_type": "code",
      "metadata": {
        "id": "eeuG8qv8pmKI"
      },
      "source": [
        "#34\n"
      ],
      "execution_count": null,
      "outputs": []
    },
    {
      "cell_type": "markdown",
      "metadata": {
        "id": "gtrTxvIrpmKK"
      },
      "source": [
        "The generic form of a list comprehension is:\n",
        "`[ expression for element in iterable lc-clauses ]`.\n",
        "Let's break this syntax into pieces. The iterable can be any sequence (or something more general). The lc-clauses consists of zero or more of the following clauses:\n",
        "\n",
        "* for elem in iterable\n",
        "* if expression\n",
        "\n",
        "A more complicated example. How would you describe these numbers?"
      ]
    },
    {
      "cell_type": "code",
      "metadata": {
        "id": "9AcHl3SNpmKK",
        "colab": {
          "base_uri": "https://localhost:8080/",
          "height": 55
        },
        "outputId": "3380eaa7-e77e-42d8-a78f-103f0023375a"
      },
      "source": [
        "L=[ 100*a + 10*b +c for a in range(0,10)\n",
        "                    for b in range(0,10)\n",
        "                    for c in range(0,10) \n",
        "                    if a <= b <= c]\n",
        "print(L)"
      ],
      "execution_count": null,
      "outputs": [
        {
          "output_type": "stream",
          "text": [
            "[0, 1, 2, 3, 4, 5, 6, 7, 8, 9, 11, 12, 13, 14, 15, 16, 17, 18, 19, 22, 23, 24, 25, 26, 27, 28, 29, 33, 34, 35, 36, 37, 38, 39, 44, 45, 46, 47, 48, 49, 55, 56, 57, 58, 59, 66, 67, 68, 69, 77, 78, 79, 88, 89, 99, 111, 112, 113, 114, 115, 116, 117, 118, 119, 122, 123, 124, 125, 126, 127, 128, 129, 133, 134, 135, 136, 137, 138, 139, 144, 145, 146, 147, 148, 149, 155, 156, 157, 158, 159, 166, 167, 168, 169, 177, 178, 179, 188, 189, 199, 222, 223, 224, 225, 226, 227, 228, 229, 233, 234, 235, 236, 237, 238, 239, 244, 245, 246, 247, 248, 249, 255, 256, 257, 258, 259, 266, 267, 268, 269, 277, 278, 279, 288, 289, 299, 333, 334, 335, 336, 337, 338, 339, 344, 345, 346, 347, 348, 349, 355, 356, 357, 358, 359, 366, 367, 368, 369, 377, 378, 379, 388, 389, 399, 444, 445, 446, 447, 448, 449, 455, 456, 457, 458, 459, 466, 467, 468, 469, 477, 478, 479, 488, 489, 499, 555, 556, 557, 558, 559, 566, 567, 568, 569, 577, 578, 579, 588, 589, 599, 666, 667, 668, 669, 677, 678, 679, 688, 689, 699, 777, 778, 779, 788, 789, 799, 888, 889, 899, 999]\n"
          ],
          "name": "stdout"
        }
      ]
    },
    {
      "cell_type": "markdown",
      "metadata": {
        "id": "1FL64IXHpmKO"
      },
      "source": [
        "<div class=\"alert alert-warning\">Note above that one can only iterate through the generator once.</div>"
      ]
    },
    {
      "cell_type": "markdown",
      "metadata": {
        "id": "cMirbY1bpmKP"
      },
      "source": [
        "Similary a *dictionary comprehension* creates a dictionary:"
      ]
    },
    {
      "cell_type": "code",
      "metadata": {
        "id": "qG0inreKpmKQ",
        "outputId": "54303a9f-c371-40b4-8db5-a5daabaf0e01"
      },
      "source": [
        "d={ k : k**2 for k in range(10)}\n",
        "print(d)"
      ],
      "execution_count": null,
      "outputs": [
        {
          "output_type": "stream",
          "text": [
            "{0: 0, 1: 1, 2: 4, 3: 9, 4: 16, 5: 25, 6: 36, 7: 49, 8: 64, 9: 81}\n"
          ],
          "name": "stdout"
        }
      ]
    },
    {
      "cell_type": "markdown",
      "metadata": {
        "id": "I4_IvEixpmKR"
      },
      "source": [
        "And a *set comprehension* creates a set:"
      ]
    },
    {
      "cell_type": "code",
      "metadata": {
        "id": "q_BJGgHUpmKS",
        "outputId": "d6f2b3fe-f06d-4840-f93e-e91bc7050099"
      },
      "source": [
        "s={ i*j for i in range(10) for j in range(10)}\n",
        "print(s)"
      ],
      "execution_count": null,
      "outputs": [
        {
          "output_type": "stream",
          "text": [
            "{0, 1, 2, 3, 4, 5, 6, 7, 8, 9, 10, 12, 14, 15, 16, 18, 20, 21, 24, 25, 27, 28, 30, 32, 35, 36, 40, 42, 45, 48, 49, 54, 56, 63, 64, 72, 81}\n"
          ],
          "name": "stdout"
        }
      ]
    },
    {
      "cell_type": "markdown",
      "metadata": {
        "id": "NFaoK6ZupmKU"
      },
      "source": [
        "#### <div class=\"alert alert-info\">Exercise 15 (two dice comprehension)</div>\n",
        "\n",
        "Redo the earlier exercise which printed all the pairs of two dice results that sum to 5. But this time use a list comprehension. Print one pair per line.\n",
        "<hr/>"
      ]
    },
    {
      "cell_type": "code",
      "metadata": {
        "id": "XTHLj-odZf6C"
      },
      "source": [
        "#Code Here"
      ],
      "execution_count": null,
      "outputs": []
    },
    {
      "cell_type": "markdown",
      "metadata": {
        "id": "xK7FrM3_pmKs"
      },
      "source": [
        "## String handling\n",
        "We have already seen how to index, slice, concatenate, and repeat strings. Let's now look into what methods the `str` class offers. In Python strings are immutable. This means that for instance the following assignment is not legal:"
      ]
    },
    {
      "cell_type": "code",
      "metadata": {
        "id": "HZLFvh1kpmKs"
      },
      "source": [
        "s=\"text\"\n",
        "# s[0] = \"a\"    # This is not legal in Python"
      ],
      "execution_count": null,
      "outputs": []
    },
    {
      "cell_type": "markdown",
      "metadata": {
        "id": "kuY3YIb4pmKt"
      },
      "source": [
        "Because of the immutability of the strings, the string methods work by returning a value; they don't have any side-effects. In the rest of this section we briefly describe several of these methods. The methods are here divided into five groups."
      ]
    },
    {
      "cell_type": "markdown",
      "metadata": {
        "id": "ZQ1OpYl-pmKt"
      },
      "source": [
        "### Classification of strings\n",
        "All the following methods will take no parameters and return a truth value. An empty string will always result in `False`.\n",
        "\n",
        "* `s.isalnum()` True if all characters are letters or digits\n",
        "* `s.isalpha()` True if all characters are letters\n",
        "* `s.isdigit()` True if all characters are digits\n",
        "* `s.islower()` True if contains letters, and all are lowercase\n",
        "* `s.isupper()` True if contains letters, and all are uppercase\n",
        "* `s.isspace()` True if all characters are whitespace\n",
        "* `s.istitle()` True if uppercase in the beginning of word, elsewhere lowercase"
      ]
    },
    {
      "cell_type": "markdown",
      "metadata": {
        "id": "xk8XPpF9pmKu"
      },
      "source": [
        "### String transformations\n",
        "The following methods do conversions between lower and uppercase characters in the string. All these methods return a new string.\n",
        "\n",
        "* `s.lower()`      Change all letters to lowercase\n",
        "* `s.upper()`      Change all letters to uppercase\n",
        "* `s.capitalize()` Change all letters to capitalcase\n",
        "* `s.title()` Change to titlecase\n",
        "* `s.swapcase()` Change all uppercase letters to lowercase, and vice versa\n",
        "\n",
        "\n",
        "\n",
        "\n",
        "\n"
      ]
    },
    {
      "cell_type": "markdown",
      "metadata": {
        "id": "LhN1oAtfpmKv"
      },
      "source": [
        "### Searching for substrings\n",
        "All the following methods get the wanted substring as the\n",
        "parameter, except the replace method, which also gets the\n",
        "replacing string as a parameter\n",
        "\n",
        "* `s.count(substr)` Counts the number of occurences of a substring\n",
        "* `s.find(substr)` Finds index of the first occurence of a substring\n",
        "* `s.rfind(substr)` Finds index of the last occurence of a substring\n",
        "* `s.index(substr)` Like find, except ValueError is raised if not found\n",
        "* `s.rindex(substr)` Like rfind, except ValueError is raised if not found\n",
        "* `s.startswith(substr)` Returns True if string starts with a given substring\n",
        "* `s.endswith(substr)` Returns True if string ends with a given substring\n",
        "* `s.replace(substr, replacement)` Returns a string where occurences of one string\n",
        "are replaced by another\n",
        "\n",
        "Keep also in mind that the expression `\"issi\" in \"mississippi\"` returns a truth value of whether the first string occurs in the second string.\n",
        "\n",
        "\n",
        "\n",
        "\n",
        "\n",
        "\n"
      ]
    },
    {
      "cell_type": "markdown",
      "metadata": {
        "id": "ofVgI2N2pmKv"
      },
      "source": [
        "### Trimming and adjusting\n",
        "* `s.strip(x)` Removes leading and trailing whitespace by default, or characters found in string x\n",
        "* `s.lstrip(x)` Same as strip but only leading characters are removed\n",
        "* `s.rstrip(x)` Same as strip but only trailing characters are removed\n",
        "* `s.ljust(n)` Left justifies string inside a field of length n\n",
        "* `s.rjust(n)` Right justifies string inside a field of length n\n",
        "* `s.center(n)` Centers string inside a field of length n"
      ]
    },
    {
      "cell_type": "markdown",
      "metadata": {
        "id": "ysx2YZMapmKv"
      },
      "source": [
        "An example of using the `center` method and string repetition:"
      ]
    },
    {
      "cell_type": "code",
      "metadata": {
        "ExecuteTime": {
          "end_time": "2019-06-13T10:43:02.880507Z",
          "start_time": "2019-06-13T10:43:02.873128Z"
        },
        "id": "0NkrnFCrpmKw",
        "colab": {
          "base_uri": "https://localhost:8080/",
          "height": 173
        },
        "outputId": "9b6947f2-2849-4270-87ed-936750992824"
      },
      "source": [
        "L=[1,3,5,7,9,1,1]\n",
        "print(\"-\"*11)\n",
        "for i in L:\n",
        "    s=\"*\"*i \n",
        "    print(f\"|{s.center(9)}|\")\n",
        "print(\"-\"*11)"
      ],
      "execution_count": null,
      "outputs": [
        {
          "output_type": "stream",
          "text": [
            "-----------\n",
            "|    *    |\n",
            "|   ***   |\n",
            "|  *****  |\n",
            "| ******* |\n",
            "|*********|\n",
            "|    *    |\n",
            "|    *    |\n",
            "-----------\n"
          ],
          "name": "stdout"
        }
      ]
    },
    {
      "cell_type": "markdown",
      "metadata": {
        "id": "i2uhGf2EpmK0"
      },
      "source": [
        "### Joining and splitting\n",
        "The `join(seq)` method joins the strings of the sequence `seq`. The string itself is used as a delimitter. An example:"
      ]
    },
    {
      "cell_type": "code",
      "metadata": {
        "id": "mvzRa9FBpmK0"
      },
      "source": [
        "#35\n"
      ],
      "execution_count": null,
      "outputs": []
    },
    {
      "cell_type": "code",
      "metadata": {
        "ExecuteTime": {
          "end_time": "2019-06-18T09:03:51.182630Z",
          "start_time": "2019-06-18T09:03:51.176643Z"
        },
        "id": "o2-pFvDvpmK3",
        "colab": {
          "base_uri": "https://localhost:8080/",
          "height": 74
        },
        "outputId": "e650b812-98ac-4005-b561-758d36142f28"
      },
      "source": [
        "L=[str(x) for x in range(100)]\n",
        "s=\"\"\n",
        "for x in L:\n",
        "    s += \" \" + x    # Avoid doing this, it creates a new string at every iteration\n",
        "print(s)            # Note the redundant initial space\n",
        "print(\" \".join(L))  # This is the correct way of building a string out of smaller strings"
      ],
      "execution_count": null,
      "outputs": [
        {
          "output_type": "stream",
          "text": [
            " 0 1 2 3 4 5 6 7 8 9 10 11 12 13 14 15 16 17 18 19 20 21 22 23 24 25 26 27 28 29 30 31 32 33 34 35 36 37 38 39 40 41 42 43 44 45 46 47 48 49 50 51 52 53 54 55 56 57 58 59 60 61 62 63 64 65 66 67 68 69 70 71 72 73 74 75 76 77 78 79 80 81 82 83 84 85 86 87 88 89 90 91 92 93 94 95 96 97 98 99\n",
            "0 1 2 3 4 5 6 7 8 9 10 11 12 13 14 15 16 17 18 19 20 21 22 23 24 25 26 27 28 29 30 31 32 33 34 35 36 37 38 39 40 41 42 43 44 45 46 47 48 49 50 51 52 53 54 55 56 57 58 59 60 61 62 63 64 65 66 67 68 69 70 71 72 73 74 75 76 77 78 79 80 81 82 83 84 85 86 87 88 89 90 91 92 93 94 95 96 97 98 99\n"
          ],
          "name": "stdout"
        }
      ]
    },
    {
      "cell_type": "markdown",
      "metadata": {
        "id": "yvzotAHUpmK5"
      },
      "source": [
        "<div class=\"alert alert-warning\">If you want to build a string out of smaller strings, then\n",
        "first put the small strings into a list, and then use the `join` method to catenate the pieces together. It is much more efficient this way. Use the <code>+</code> catenation operator only if you have very few short strings that you want to catenate.</div>"
      ]
    },
    {
      "cell_type": "markdown",
      "metadata": {
        "id": "kzXod8DQpmK5"
      },
      "source": [
        "Below we can see that for our small (100 element) list, execution is an order of magnitude faster using the `join` method."
      ]
    },
    {
      "cell_type": "code",
      "metadata": {
        "ExecuteTime": {
          "end_time": "2019-06-18T09:04:03.371833Z",
          "start_time": "2019-06-18T09:03:53.717431Z"
        },
        "id": "OQPuQGBLpmK6",
        "colab": {
          "base_uri": "https://localhost:8080/",
          "height": 54
        },
        "outputId": "929a1744-d7d6-424a-b816-6600cdbce4c0"
      },
      "source": [
        "%%timeit\n",
        "s=\"\"\n",
        "for x in L:\n",
        "    s += \" \" + x"
      ],
      "execution_count": null,
      "outputs": [
        {
          "output_type": "stream",
          "text": [
            "The slowest run took 4.37 times longer than the fastest. This could mean that an intermediate result is being cached.\n",
            "100000 loops, best of 3: 11.2 µs per loop\n"
          ],
          "name": "stdout"
        }
      ]
    },
    {
      "cell_type": "code",
      "metadata": {
        "ExecuteTime": {
          "end_time": "2019-06-18T09:04:35.670357Z",
          "start_time": "2019-06-18T09:04:25.471086Z"
        },
        "id": "PZkb9zZCpmK8",
        "colab": {
          "base_uri": "https://localhost:8080/",
          "height": 54
        },
        "outputId": "7dc3207d-e698-46c0-a8f7-c16a18b95b52"
      },
      "source": [
        "%%timeit\n",
        "s = \" \".join(L)"
      ],
      "execution_count": null,
      "outputs": [
        {
          "output_type": "stream",
          "text": [
            "The slowest run took 5.28 times longer than the fastest. This could mean that an intermediate result is being cached.\n",
            "1000000 loops, best of 3: 1.15 µs per loop\n"
          ],
          "name": "stdout"
        }
      ]
    },
    {
      "cell_type": "markdown",
      "metadata": {
        "id": "FZNOubrWpmK9"
      },
      "source": [
        "`%%timeit` is an IPython [cell magic](https://ipython.readthedocs.io/en/stable/interactive/magics.html) command, that is useful for timing execution in notebooks."
      ]
    },
    {
      "cell_type": "markdown",
      "metadata": {
        "id": "JAcL7ok4pmK9"
      },
      "source": [
        "The method `split(sep=None)` divides a string into pieces that are separated by the string `sep`. The pieces are returned in a list. For instance, the call `'abc--def--ghi'.split(\"--\")` will result in"
      ]
    },
    {
      "cell_type": "code",
      "metadata": {
        "id": "mzI6xMkhpmK-"
      },
      "source": [
        "#36\n"
      ],
      "execution_count": null,
      "outputs": []
    },
    {
      "cell_type": "markdown",
      "metadata": {
        "id": "eUmM8xDVpmK_"
      },
      "source": [
        "If no parameters are given to the `split` method, then it splits at any sequence of white space."
      ]
    },
    {
      "cell_type": "markdown",
      "metadata": {
        "id": "sVWdCGsCpmLA"
      },
      "source": [
        "#### <div class=\"alert alert-info\">Exercise 16 (acronyms)</div>\n",
        "\n",
        "Write function `acronyms` which takes a string as a parameter and returns a list of acronyms. A word is an acronym if it has length at least two, and all its characters are in uppercase. Before acronym detection, delete punctuation with the `strip` method.\n",
        "\n",
        "\n",
        "```python\n",
        "print(acronyms(\"\"\"For the purposes of the EU General Data Protection Regulation (GDPR), the controller of your personal information is International Business Machines Corporation (IBM Corp.), 1 New Orchard Road, Armonk, New York, United States, unless indicated otherwise. Where IBM Corp. or a subsidiary it controls (not established in the European Economic Area (EEA)) is required to appoint a legal representative in the EEA, the representative for all such cases is IBM United Kingdom Limited, PO Box 41, North Harbour, Portsmouth, Hampshire, United Kingdom PO6 3AU.\"\"\"))\n",
        "```\n",
        "\n",
        "This should return\n",
        "```['EU', 'GDPR', 'IBM', 'IBM', 'EEA', 'EEA', 'IBM', 'PO', 'PO6', '3AU']```\n",
        "<hr/>"
      ]
    },
    {
      "cell_type": "code",
      "metadata": {
        "id": "sDNSYSw-Zp2B"
      },
      "source": [
        "#Code Here"
      ],
      "execution_count": null,
      "outputs": []
    },
    {
      "cell_type": "markdown",
      "metadata": {
        "id": "5RdwozH6pmLB"
      },
      "source": [
        "#### <div class=\"alert alert-info\">Exercise 17 (sum equation)</div>\n",
        "\n",
        "Write a function `sum_equation` which takes a list of positive integers as parameters and returns a string with an equation of the sum of the elements.\n",
        "\n",
        "Example:\n",
        "`sum_equation([1,5,7])`\n",
        "returns\n",
        "`\"1 + 5 + 7 = 13\"`\n",
        "Observe, the spaces should be exactly as shown above. For an empty list the function should return the string \"0 = 0\".\n",
        "<hr/>"
      ]
    },
    {
      "cell_type": "code",
      "metadata": {
        "id": "sR8q91doZqXW"
      },
      "source": [
        "#Code Here"
      ],
      "execution_count": null,
      "outputs": []
    },
    {
      "cell_type": "markdown",
      "metadata": {
        "id": "d3vFm_NapmLB"
      },
      "source": [
        "## Modules"
      ]
    },
    {
      "cell_type": "markdown",
      "metadata": {
        "id": "_D6ZTkHFpmLB"
      },
      "source": [
        "To ease management of large programs, software is divided\n",
        "into smaller pieces. In Python these pieces are called *modules*.\n",
        "A module should be a unit that is as independent from other\n",
        "modules as possible.\n",
        "Each file in Python corresponds to a module.\n",
        "Modules can contain classes, objects, functions, ...\n",
        "For example, functions to handle regular expressions are in\n",
        "module `re`\n",
        "\n",
        "The standard library of Python consists of hundreds of\n",
        "modules. Some of the most common standard modules include\n",
        "\n",
        "* `re`\n",
        "* `math`\n",
        "* `random`\n",
        "* `os`\n",
        "* `sys`\n",
        "\n",
        "Any file with extension `.py` that contains Python source code\n",
        "is a module. So, no special notation is needed to create a module."
      ]
    },
    {
      "cell_type": "markdown",
      "metadata": {
        "id": "nJGIZkQ-pmLC"
      },
      "source": [
        "### Using modules\n",
        "\n",
        "Let’s say that we need to use the cosine function.\n",
        "This function, and many other mathematical functions are\n",
        "located in the `math` module.\n",
        "To tell Python that we want to access the features offered by\n",
        "this module, we can give the statement `import math`.\n",
        "Now the module is loaded into memory.\n",
        "We can now call the function like this:\n",
        "```python\n",
        "math.cos(0)\n",
        "1.0\n",
        "```\n",
        "\n",
        "Note that we need to include the module name where the `cos`\n",
        "function is found.\n",
        "This is because other modules may have a function (or other\n",
        "attribute of a module) with the same name.\n",
        "This usage of different namespace for each module prevents\n",
        "name clashes. For example, functions `gzip.open`, `os.open` are not to be confused\n",
        "with the builtin `open` function."
      ]
    },
    {
      "cell_type": "markdown",
      "metadata": {
        "id": "V0g0mjeJpmLC"
      },
      "source": [
        "### Breaking the namespace\n",
        "\n",
        "If the cosine is needed a lot, then it might be tedious to\n",
        "always specify the namespace, especially if the name of the\n",
        "namespace/module is long.\n",
        "For these cases there is another way of importing modules.\n",
        "Bring a name to the current scope with\n",
        "`from math import cos` statement.\n",
        "Now we can use it without the namespace specifier: `cos(1)`.\n",
        "\n",
        "Several names can be imported to the current scope with\n",
        "`from math import name1, name2, ...`\n",
        "Or even all names of the module with `from math import *`\n",
        "The last form is sensible only in few cases, normally it just\n",
        "confuses things since the user may have no idea what names\n",
        "will be imported."
      ]
    },
    {
      "cell_type": "markdown",
      "metadata": {
        "id": "lN7vUqlapmLC"
      },
      "source": [
        "### Module lookup\n",
        "\n",
        "When we try to import a module `mod` with the import\n",
        "statement, the lookup proceeds in the following order:\n",
        "\n",
        "* Check if it is a builtin module\n",
        "* Check if the file `mod.py` is found in any of the folders in\n",
        "the list `sys.path`. The first item in this list is the current\n",
        "folder\n",
        "\n",
        "When Python is started, the `sys.path` list is initialised with\n",
        "the contents of the `PYTHONPATH` environment variable"
      ]
    },
    {
      "cell_type": "markdown",
      "metadata": {
        "id": "ADxCHEICpmLD"
      },
      "source": [
        "### Module hierarchy\n",
        "\n",
        "The standard library contains hundreds of modules.\n",
        "Hence, it is hard to comprehend what the library includes.\n",
        "The modules therefore need to be organised somehow.\n",
        "In Python the modules can be organised into hierarchies using\n",
        "*packages*.\n",
        "A package is a module that can contain other packages and\n",
        "modules.\n",
        "For example, the `numpy` package contains subpackages `core`,\n",
        "`distutils`, `f2py`, `fft`, `lib`, `linalg`, `ma`, `numarray`, `oldnumeric`,\n",
        "`random`, and `testing`.\n",
        "And package `numpy.linalg` in turn contains modules `linalg`,\n",
        "`lapack_lite` and `info`."
      ]
    },
    {
      "cell_type": "markdown",
      "metadata": {
        "id": "w0k4JltVpmLD"
      },
      "source": [
        "### Importing from packages\n",
        "\n",
        "The statement `import numpy` imports the top-level package `numpy`\n",
        "and its subpackages. \n",
        "\n",
        "* `import numpy.linalg` imports the subpackage only, and\n",
        "* `import numpy.linalg.linalg` imports the module only\n",
        "\n",
        "If we want to skip the long namespace specification, we can\n",
        "use the form\n",
        "\n",
        "```python\n",
        "from numpy.linalg import linalg\n",
        "```\n",
        "\n",
        "or\n",
        "\n",
        "```python\n",
        "from numpy.linalg import linalg as lin\n",
        "```\n",
        "\n",
        "if we want to use a different name for the module. The following command imports the function `det` (computes the determinant of a matrix) from the module linalg, which is contained in a subpackage linalg, which belongs to package numpy:\n",
        "```python\n",
        "from numpy.linalg.linalg import det\n",
        "```\n",
        "\n",
        "Had we only imported the top-level package `numpy` we would have to refer to the `det` function with the full name `numpy.linalg.linalg.det`.\n",
        "\n",
        "Here's a recap of the module hierarchy:\n",
        "\n",
        "```\n",
        "numpy    package\n",
        "  .\n",
        "linalg   subpackage\n",
        "  .\n",
        "linalg   module\n",
        "  .\n",
        " det     function\n",
        "```"
      ]
    },
    {
      "cell_type": "markdown",
      "metadata": {
        "id": "-a7fj-iG4ss-"
      },
      "source": [
        "##Exceptions"
      ]
    },
    {
      "cell_type": "markdown",
      "metadata": {
        "id": "5bJILWBN4zMe"
      },
      "source": [
        "When an error occurs, what can we do?\n",
        "\n",
        "    Print an error message\n",
        "    Stop the execution of a program\n",
        "    Indicate the error by returning a special value, like -1 or None\n",
        "    Ignore the error\n",
        "    …\n",
        "\n",
        "These solutions tend to combine the indication of a problem and the reaction to the problem indication. The behaviour of the program in error situations cannot the changed, they are fixed in the implementation of the function. When an erroneous situation is noticed, it may not be clear how to handle the situation. Usually the user or an instance that called a function knows what to do.\n",
        "\n",
        "Most modern computer languages have a system called exception handling. This system separates the recognition of errors and the handling of these situations. We can signal an error or anomalous situation by raising an exception. Exceptions can be raised in Python with the raise statement:\n",
        "\n",
        "    raise instance\n",
        "    raise exception class [, expression]\n",
        "\n",
        "In the second form, if the expression exists, it is a tuple of parameters given to exception class.\n",
        "\n",
        "The functions of the Python standard library raise exceptions in error situations. Sometimes exceptions aren’t really errors. For example, when an iterator runs out of elements, it will signal this by raising the StopIteration exception. Another less erroneus exception is the Warning exception.\n",
        "\n",
        "The general form of exception catching statement is the following:"
      ]
    },
    {
      "cell_type": "code",
      "metadata": {
        "id": "-vvfgiF343a9"
      },
      "source": [
        "L=[1,2,3]\n",
        "try:\n",
        "    print(L[3])\n",
        "except IndexError:\n",
        "    print(\"Index does not exist\")"
      ],
      "execution_count": null,
      "outputs": []
    },
    {
      "cell_type": "code",
      "metadata": {
        "id": "G1NFpZ-R46Hv"
      },
      "source": [
        "def compute_average(L):\n",
        "    n=len(L)\n",
        "    s=sum(L)\n",
        "    return float(s)/n # error is noticed here !!!\n",
        "mylist=[]\n",
        "while True:\n",
        "    try:\n",
        "        x=float(input(\"Give a number (non-number quits): \"))\n",
        "        mylist.append(x)\n",
        "    except ValueError:\n",
        "        break\n",
        "try:\n",
        "    average=compute_average(mylist)\n",
        "    print(\"Average is\", average)\n",
        "except ZeroDivisionError:\n",
        "    # and the error is handled here\n",
        "    if len(mylist) == 0:\n",
        "        print(\"Tried to compute the average of empty list of numbers\")\n",
        "    else:\n",
        "        print(\"Something strange happened\")"
      ],
      "execution_count": null,
      "outputs": []
    },
    {
      "cell_type": "markdown",
      "metadata": {
        "id": "3jvfM3c44_Yh"
      },
      "source": [
        "\n",
        "Exception hierarchy\n",
        "\n",
        "In Python exceptions are objects, like all values in Python. These objects are instantiated from exception classes. Exception classes form naturally hierarchies:\n",
        "\n",
        "    New exception classes can be made by inheriting from existing exception classes and extending them\n",
        "    The root of this hierarchy is the class Exception\n",
        "    Python defines several base classes to derive from, and several ready-to-use exception classes\n",
        "\n",
        "exception hierarchy\n",
        "![image.png](data:image/png;base64,iVBORw0KGgoAAAANSUhEUgAABZ8AAALYCAYAAAATjoxfAAAgAElEQVR4nOzde5zMdf//8Xd/9P0uu05ZMQ7ZRNYhpBi1ZaVaSkhpdVIqthStYkO5riVaOaW4aksHl5AVUZJaEpUuWkX5tl0u1qGLUpiQxe3WHz1/f/T7TLNj1h7szuc9s4/77fb8o213Pq+Z+cxnzXM++/4YY4wIIYQQQgghhBBCCCGEkAqO6wMQQgghhBBCCCGEEEIIib64PgAhhBBCCCGEEEIIIYSQ6IvrAxBCCCGEEEIIIYQQQgiJvrg+ACGEEEIIIYQQQgghhJDoi+sDEEIIIYQQQgghhBBCCIm+uD4AIYQQQgghhBBCCCGEkOiL6wMQQgghhBBCCCGEEEIIib64PgAhhBBCCCGEEEIIIYSQ6IvrAxBCCCGEEEIIIYQQQgiJvrg+ACGEEEIIIYQQQgghhJDoi+sDEEIIIYQQQgghhBBCCIm+uD4AIYQQQgghhBBCCCGEkOiL6wMQQgghhBBCCCGEEEIIib64PgAhhBBCCCGEEEIIIYSQ6IvrAxBCCCGEEEIIIYQQQgiJvrg+ACGEEEIIIYQQQgghhJDoi+sDEEIIIYQQQgghhBBCCIm+uD4AIYQQQgghhBBCCCGEkOiL6wMQQgghhBBCCCGEEEIIib64PgAhhBBCCCGEEEIIIYSQ6IvrAxBCCCGEEEIIIYQQQgiJvrg+ACGEEEIIIYQQQgghhJDoi+sDEEIIIYQQQgghhBBCCIm+uD4AIYQQQgghhBBCCCGEkOiL6wMQQgghhBBCCCGEEEIIib64PgAhhBBCCCGEEEIIIYSQ6IvrAxBCCCGEEEIIIYQQQgiJvrg+ACGEEEIIIYQQQgghhJDoi+sDEEIIIYQQQgghhBBCCIm+uD4AIYQQQgghhBBCCCGEkOiL6wMQQgghhBBCCCGEEEIIib64PgAhhBBCCCGEEEIIIYSQ6IvrAxBCCCGEEEIIIYQQQgiJvrg+ACGEEEIIIYQQQgghhJDoi+sDEEIIIYQQQgghhBBCCIm+uD4AIYQQQgghhBBCCCGEkOiL6wMQQgghhBBCCCGEEEIIib64PgAhhBBCCCGEEEIIIYSQ6IvrAxBCCCGEEEIIIYQQQgiJvrg+ACGEEEIIIYQQQgghhJDoi+sDEEIIIYQQQgghhBBCCIm+uD4AIYQQQgghhBBCCCGEkOiL6wMQQgghhBBCCCGEEEIIib64PgAhhBBCCCGEEEIIIYSQ6IvrAxBCCCGEEEIIIYQQQgiJvrg+ACGEEEIIIYQQQgghhJDoi+sDEEIIIYQQQgghhBBCCIm+uD7AWWXHjh0CAAAAAAAAgGiyY8cO17vXKl8+f/PNN27vBwAAAAAAAABQob755hvXu1fKZ8pnAAAAAAAAAFGG8tmCUD4DAAAAAAAAiDaUzxaE8hkAAESTPXv2aP369cTFbN261e3dAAAAAKB8tiGUzwAAIJpkZma6/u+rqp7k5GS3dwMAAACA8tmGUD4DAIBokpmZSfnpIh5/AAAA2ILy2YJQPgMAgGhC+ekuHn8AAADYgvLZglA+AwCAaEL56S4efwAAANiC8tmCUD4DAIBoQvnpLh5/AAAA2ILy2YJQPgMAgGhC+ekuHn8AAADYgvLZglA+AwCAaEL56S4efwAAANiC8tmCUD4DAIBoQvnpLh5/AAAA2ILy2YJQPgMAgGhC+ekuHn8AAADYgvLZglA+AwCAaEL56S4efwAAANiC8tmCUD4DAIBoQvnpLh5/AAAA2ILy2YJQPgMAgGhC+ekuHn8AAADYgvLZglA+AwCAaEL56S4efwAAANiC8tmCUD4DAIBoQvnpLh5/AAAA2ILy2YJQPgMAgGhC+ekuHn8AAADYgvLZglA+AwCAaEL56S4efwAAANiC8tmCUD4DAIBoQvnpLh5/AAAA2ILy2YJQPgMAgGhC+Snl5ubKGKPc3Nywb5vHHwAAALagfLYglM8AACCalLX89Hq9Jf57yev1Vt7AFSA7O7vIf1M+AwAAAJTPVoTyGQAARJPylJ9OWRuqZC4oKJDH46mg6SpeQUGBVeU45TMAAABsQflsQSifAQBANClv+Vlc+SxJGRkZZzlV5fD5fEpMTKR8BgAAAEKgfLYglM8AACCaVEb5HPg9gZGKLtsRuMxFRkaGPB6PjDHyeDzKyck57fYyMjIUFxcnY4wSExOVl5cnScrJyVFqaqq8Xq/y8vKUmJjon8/5Hkn+rzvxer0qKChQVlaWPB5PkXmcrznzBBfqubm5/m36fD6lpqb6vzdwmyWhfAYAAIAtKJ8tCOUzAACIJhVZPvt8viIlrc/nU0pKiowxysrKkiR/OVxQUOD/vtTUVP/XfD6fv6AO/p7U1FT5fD4VFBQoMTFRcXFxKigoUG5uruLi4pSYmKjU1FTl5uYqIyPDXwYH8nq9RebOy8vzf69TPqelpRWZMSsrS8YYpaam+n8uNzdXHo/Hv82cnBzl5OTIGKOUlJRSP46UzwAAALAF5bMFoXwGAADR5GzK51AJVUg7RXFeXp7/TGFHXl7eaUWzU/Y6ZxDn5eWdViI7Ra9Tanu9XiUmJhb5HqdUDrzAYHD5LBW94GBBQYGMMaedee2U6IFnNYfaZqjbPxPKZwAAANiC8tmCUD4DAIBoUpFnPhcUFBQ5O9iRl5fnXy4jeEkKpyA+E+d7QsXZXqjS1ym2A8/GLql8drYVWIZLf5XdJd2Wc9Z2aVE+AwAAwBaUzxaE8hkAAESTil7zOfAs40BpaWmnlbdS6cvnks4mLu6M4/KWz8ElufM9lM8AAACIVpTPFoTyGQAARJPKvOCgw7k4n3NRvuALDYYqe6W/imznewKX63A4y2OEKoJ9Pl+5y+fgZTec73GW+SjutiifAQAAEKkony0I5TMAAIgmlVU+p6WlSfpz6YvApTgCLxQo/VXqBt9WVlZWkTWfjTGnLenhXORPCl0EZ2dny5iiS2iUVD472wr+HmfZjZJui/IZAAAAkYry2YJQPgMAgGhSnvLTKWKDL7Yn/bnuc0pKirKzs/1rPQcWtoE/63zdKWy9Xq8yMjL8Z0kHci745/F4/N8TWPw6t+GcmVxQUCCPx+MvwQNvJy4uTj6fz19cOxc4dH7WOUM78LYSExOL3JbP55PH4/HfliMxMVHGhD5LOxTKZwAAANiC8tmCUD4DAIBoUtby0yl5zxSnkHX+O7AkDv5e6c8i1yl84+LiTiuMne9JS0vzX7gwNTW1SMHr9Xrl8Xj888XFxZ22vrT018UPPR6P8vLyTruYofMzGRkZ/m15PJ4iy22Euh/O2dPBXysJ5TMAAABsQflsQSifAQBANImW8rO4Cw7aLloefwAAAEQ+ymcLQvkMAACiSbSUn5TPAAAAwNmhfLYglM8AACCaREP56fP5FBcXp8TExFKvtWyLaHj8AQAAEB0ony0I5TMAAIgmkV5+lnetZVtE+uMPAACA6EH5bEEonwEAQDSh/HQXjz8AAABsQflsQSifAQBANKH8dBePPwAAAGxB+WxBKJ8BAEA0ofx0F48/AAAAbEH5bEEonwEAQDSh/HQXjz8AAABsQflsQSifAQBANKH8dBePPwAAAGxB+WxBKJ8BAEA0ofx0F48/AAAAbEH5bEEonwEAQDSh/HQXjz8AAABsQflsQSifAQBANKH8dBePPwAAAGxB+WxBKJ8BAEA0ofx0F48/AAAAbEH5bEEonwEAQDSh/HQXjz8AAABsQflsQSifAQBANKH8dBePPwAAAGxB+WxBKJ8BAEC0ePPNN9WgQQN16dLF7VGqLMpnAAAA2ILy2YJQPgMAgEh2/PhxTZs2TY0bN5YxRq1bt1bnzp3dHqvKonwGAACALSifLQjlMwAAiEQHDx7UmDFjVLt2bRljNHjwYO3cuVOZmZnq0KGD1q9fT1zIoEGDdOWVV7q9ewAAAACUzzaE8hkAAESSnTt36oEHHpAxRrVr19bYsWN18OBB///PzMx0/d9XVT3/8z//o27dumnNmjUu7ikAAACo6iifLQjlMwAAiASff/65+vTpI2OMmjRpohkzZujEiRNuj6X8/HzFxMRo0qRJbo9ymu+++07GGE2ePDms2125cqWuuOIKGWPUqVMnvfvuu2HdPgAAACBRPlsRymcAAGCzZcuW+YvMdu3a6c0333R7JL8TJ06oefPmSkpKcnuUYr344osyxujLL78M+7bXrVun6667TsYYtWnTRgsWLAj7DAAAAKi6KJ8tCOUzAACw0SuvvKKLL75Yxhhdc801WrVqldsjnWbQoEGqW7eufv75Z7dHOaMbb7xRjRs31m+//ebK9jdv3qy+ffvKGKNmzZrp5ZdfdmUOAAAAVC2UzxaE8hkAANji6NGjmjRpkurXry9jjFJTU7Vt2za3xwpp8eLFMsbok08+cXuUEh05ckSNGzdWv379XJ0jPz9fd911l4wxatiwoWbMmKHCwkJXZwIAAED0ony2IJTPAADAbfv27dOjjz6q2NhYVa9eXQ8//LD27t3r9ljF2rlzp6pXr64nn3zS7VFK7csvv5QxRrNmzXJ7FO3evVsPPvigjDGqW7euJkyYoCNHjrg9FgAAAKIM5bMFoXwGAABu2bZtm26//XYZY1SvXj2NHz9ev/76q9tjndGpU6fUunVrderUye1RymzKlCkyxmjr1q1ujyJJ+vnnnzVy5EjFxcWpRo0aysjIsH4JEwAAAEQOymcLQvkMAADCbdWqVerevbuMMWrevLlefPFFt0cqtSFDhqh27drav3+/26OUy7XXXquEhATX1n8O5ciRI8rMzFSdOnUUExOjhx9+WD/88IPbYwEAACDCUT5bEMpnAAAQLv/85z91ySWXyBgjr9erJUuWuD1SmTjrPH/44Yduj1Juhw4dUoMGDVxf/zmUwsJCTZs2TQ0aNJAxRvfcc4+2b9/u9lgAAACIUJTPFoTyGQAAVKbjx49r6tSpatSokYwx6t27tz799FO3xyozZ53nUaNGuT3KWfv8889ljNFLL73k9ijFeumll5SQkCBjjG655RZt2bLF7ZEAAAAQYSifLQjlMwAAqAwHDhzQqFGjVLNmTRlj9MADD2jnzp1uj1VurVq10mWXXeb2GBVm0qRJEfFvwXnz5ikxMVHGGKWkpGj9+vVujwQAAIAIQflsQWx/wwEAACLL9u3bdc8998gYozp16mjs2LE6ePCg22OdlbS0tIhe57k411xzjXXrPxdn2bJl6tSpk4z5c8mW9957z+2RAAAAYDnKZwtC+QwAACrC2rVrdcMNN8gYowsuuEDPPfecTpw44fZYZ23JkiUyxig3N9ftUSrc4cOHVb9+ffXt29ftUUpt7dq1uu6662SMUevWrTVv3jy3RwIAAIClKJ8tCOUzAAA4GwsXLtSll14qY4w6dOigBQsWuD1ShXHWeX7iiSfcHqXSbNiwQcYYzZ492+1RymTLli269dZb/R92zJo1SydPnnR7LAAAAFiE8tmCUD4DAICyOn78uJ577jldcMEFMsaoZ8+eWrNmjdtjVbhoW+e5OJMnT47Yfxfu3LlTgwcPljF/LvMyYcIEHTlyxO2xAAAAYAHKZwsSiW8yAACAOw4cOKAnnnhCtWrVkjFGgwYN0vbt290eq1IMHjw4Ktd5Lo6z/nOkFrc//vijRowYoerVq6t69eoaOXKkfv75Z7fHAgAAgIsony0I5TMAAChJfn5+kYsIjhkzRgcOHHB7rEoTzes8F+fw4cNq1KiRevbs6fYoZ+XIkSP6+9//rjp16igmJkZDhw7VDz/84PZYAAAAcAHlswWhfAYAAMVZs2aNevToIWOMEhIS9Pzzz0fFRQTP5Pvvv1f16tU1duxYt0cJu7y8PBlj9Nxzz7k9ylkrLCzU1KlT1aBBAxljNHDgwKg9Sx8AAAChUT5bEMpnAAAQbMGCBerQoYOMMerUqZNycnLcHiksTpw4oebNm+uKK65wexTXzJgxQ8YY5eXluT1KhXnppZeUkJAgY4z69eunLVu2uD0SAAAAwoDy2YJQPgMAAEk6duyYpk6dqsaNG8sYo969e2v9+vVujxVW/fv3V926dav8WsF9+/ZVo0aNInb95+K8+eabat26tYwxuv7666vc/g0AAFDVUD5bEMpnAACqtn379mnEiBGqUaOGYmJiNGTIEO3cudPtscLu9ddflzFG69atc3sU1/32229KSEiI+PWfi7Ns2TJdfvnlMsboyiuv1MqVK90eCQAAAJWA8tmCUD4DAFA1bdmyRQMGDJAxRvHx8fr73/+uw4cPuz2WK77//nsZYzRp0iS3R7GG8w/1Z5991u1RKs3q1avVrVs3GWPUvn17LV682O2RAAAAUIEony0I5TMAAFXL8uXLdfXVV8sYo5YtW+rll192eyRXOes8d+vWze1RrJOdnS1jjDZs2OD2KJVq48aN6tWrl4wxatGihd544w23RwIAAEAFoHy2IJTPAABEv5MnT+qll15SixYtZIxRcnKyVqxY4fZYVujfv78aNWpUZc/6Lklqaqrq169fJR6fbdu2+f8aoEmTJpo1a5ZOnTrl9lgAAAAoJ8pnC0L5DABA9Dp48KDGjRununXryhijO+64Q1u2bHF7LGs4Z/b+61//cnsUaxUWFuriiy/Wdddd5/YoYbNz507df//9MsaoXr16mjx5sn777Te3xwIAAEAZUT5bEMpnAACiz/bt2/3lWc2aNTVy5Ej9+OOPbo9llW+//VbGGE2bNs3tUayXn5+vmJgYTZgwwe1Rwmrfvn0aPny4qlWrplq1aumpp56Sz+dzeywAAACUEuWzBaF8BgAgeqxevVo9e/aUMUZNmzbVjBkzdPz4cbfHss7x48fVtGlTpaSkuD1KxJg3b56MMfrkk0/cHiXsDh48qLFjx6pmzZqqXr26RowYoZ9++sntsQAAAFACymcLQvkMAEDke+ONN9S2bVsZY9S5c2fl5OS4PZLVevfuraZNm+rIkSNujxJRHnjgAdWtW1c///yz26O44ujRo5o0aZLi4+NljNHgwYO1e/dut8cCAABAMSifLQjlMwAAkenw4cOaMGGC6tevL2OMbrnlFm3YsMHtsaw3Y8YMGWP07bffuj1KxDl16pRat26tpKQkt0dx1cmTJ/Xcc8+pYcOGMsbozjvvVH5+vttjAQAAIAjlswWhfAYAILJs375dQ4YMUUxMjOLi4pSenq69e/e6PVZE+Oqrr2SM0UsvveT2KBFr586dql69usaOHev2KFZ45ZVXdOGFF8oYo759+3JBTwAAAItQPlsQymcAACLDmjVrdMMNN8gYoyZNmmjatGk6duyY22NFjMOHD6tRo0bq37+/26NEvMWLF8sYow8//NDtUawxf/58tWrVSsYYXX/99Vq/fr3bIwEAAFR5lM8WhPIZAAC7zZ07V+3atZMxRp06ddKiRYvcHikidevWTc2bN9eJEyfcHiUqPPLII6pdu7b279/v9ihWeeedd9SxY0cZY5SUlKRVq1a5PRIAAECVRflsQSifAQCwz8GDB4us59yvXz99/vnnbo8VsZ555hkZY/T999+7PUpUad++vTp16uT2GFb68MMPddVVV8kYo0svvVTvvPOO2yMBAABUOZTPFoTyGQAAe2zbtk333XefjDGqUaOG0tPTtWvXLrfHimj/+te/ZIzR3Llz3R4l6uzZs0c1atTQyJEj3R7FWp999plSUlJkjFGrVq00f/58t0cCAACoMiifLQjlMwAA7luxYoW6d+8uY4wuvPBCPffcc6znXAEOHz6s+vXrs85zJXr33XdlDOs/l2TLli3q27evjDFq1qyZ5syZ4/ZIAAAAUY/y2YJQPgMA4I4TJ05o9uzZatGihYwxuvrqq/nT/ArWrVs3tWrVinWeK1l6ejrrP5dSfn6+br/9dhlj1KhRI73wwgs6efKk22MBAABEJcpnC0L5DABAeO3bt0+jRo1S7dq1ZYzR3XffrS1btrg9VtR5+umnVb16de3cudPtUaqETp06sf5zGezcuVP333+/jDGqV6+eJk+erN9++83tsQAAAKIK5bMFoXwGACA8NmzYoP79+8sYo/j4eD311FM6cOCA22NFJWed5yVLlrg9SpWxf/9+1a5dWyNGjHB7lIiyb98+PfLII4qJiVHt2rWVmZmpI0eOuD0WAABAVKB8tiCUzwAAVK758+fr8ssvlzFGbdq0Ya3XSuas8zx48GC3R6lyPvzwQxljtGzZMrdHiTg///yzRo4cqdjYWNWoUUOjR4/WwYMH3R4LAAAgolE+WxDKZwAAKt6hQ4c0YcIEeTweGWPUq1cvrV692u2xqoRrrrlGrVu31qlTp9wepUoaOXKkatSooX379rk9SkTy+Xx66qmnVKtWLVWrVk0jRozQTz/95PZYAAAAEYny2YJQPgMAUHHy8/M1aNAgGWNUo0YNDR8+XLt27XJ7rCpj4sSJrPNsgQ4dOqhz585ujxHRjh49qokTJ6pu3boyxuihhx7SDz/84PZYAAAAEYXy2YJQPgMAcPbeeecdde3aVcYYXXTRRZo5cyYXDwuzDRs2yBijxYsXuz1Klbdnzx7VqFFDjz/+uNujRLzCwkJNmzZNDRo0kDFGgwYN0u7du90eCwAAICJQPlsQymcAAMrn2LFjmj59uhISEmSMUffu3fXee++5PVaV5KzzPGjQILdHwf+3bNkyGWP0wQcfuD1KVDh16pRmzZqlxo0byxijO++8U9u3b3d7LAAAAKtRPlsQymcAAMpm165deuSRRxQbG6tq1app8ODBlEAuu+aaa9S8eXOdOHHC7VEQYNiwYapduzbrP1ewl19+2f+h16233qpt27a5PRIAAICVKJ8tCOUzAACls3r1at14440yxqhRo0Z65pln5PP53B6rynv22WcVExOj7777zu1REEKbNm1Y/7mSzJ07Vy1atJAxRr1799aWLVvcHgkAAMAqlM8WhPIZAIDinTp1Sq+88opat24tY4y6dOmiRYsWuT0W/r8vv/xSxhhlZ2e7PQqKsWPHDlWvXl1PPvmk26NErYULF/qPUT169NDmzZvdHgkAAMAKlM8WhPIZAIDTHThwQGPGjFHdunVlzJ/rq27dutXtsRDgt99+U+PGjXXjjTe6PQpKsGjRIhlj9PHHH7s9SlRbsmSJ2rVrJ2OMrr32Wm3cuNHtkQAAAFxF+WxBKJ8BILy2bt2q9evXE0uTk5OjXr16yRijevXq6amnntJPP/3E829hrr76atWrV08rV650fZayZM+ePRW2P0XS/tWzZ0/VqlVL7733nuuzRFrK+sHX8uXL1bFjRxljlJycrE8++aTY792zZ4/r9y+aUpmvbwAAUHaUzxaE8hkAwis5Odn1Yz85c+rXr6/XX3+d559USjIzMytl32L/it4kJyeXa39YuXKlOnfuLGOMrrrqKq1Zs+a078nMzHT9/kVTKvP1DQAAyo7y2YJQPgNAeCUnJ/Pm1GKV/fzw/Fdt7F8oq8zMzHKXz47c3FwlJSXJGKMrr7xSa9eurdDbx594/QEAYB/KZwtC+QwA4cWbU7tRDqIysX+hrCqyHF6zZo26dOkiY/48E/rzzz+nfK5AvP4AALAP5bMFoXwGgPDizandKAdRmdi/UFaVUQ5/8MEH/jWhExIS1KlTpwq9/aqK1x8AAPahfLYglM8AEF68ObUb5SAqE/sXyqoyz0x+77335PF45PV6K+X2qxpefwAA2Ify2YJQPgNAePHm1G6Ug6hM7F8oq8peFoNlNyoOrz8AAOxD+WxBKJ8BILx4c2o3ykFUJvYvlBXlc+Tg9QcAgH0ony0I5TMAhBdvTu1GOYjKxP6FsqJ8jhy8/gAAsA/lswWhfAaA8OLNqd0oB1GZ2L9QVpTPkYPXHwAA9qF8tiCUzwAQXrw5tRvlICoT+xfKivI5cvD6AwDAPpTPFoTyGQDCizendqMcRGVi/0JZUT5HDl5/AADYh/LZglA+A0B48ebUbpSDqEzsXygryufIwesPAAD7UD5bEMpnAAgv3pzajXIQlYn9C2VF+Rw5eP0BAGAfymcLQvkMAOHFm1O7UQ6iMrF/oawonyMHrz8AAOxD+WxBKJ8BILx4c2o3ykFUJvYvlBXlc+Tg9QcAgH0ony0I5TMAhBdvTu1GOYjKxP6FsqJ8jhy8/gAAsA/lswWhfAaA8OLNqd0oB1GZ2L9QVpTPkYPXHwAA9qF8tiCUzwAQXrw5rTy5ubkyxig3N7fct0E5WDKfz6fs7Gx5vV55vd6Iu303sX9Fpoo4tpQX5XPZuXXs4PUHAIB9KJ8tCOUzAIRXed6cZmRkyOPxyBgjj8ejjIwM+Xw+ZWRkVMqM2dnZlXK7gbxeb4m/o8paHoQqiMp6X2wsB30+n1JTUxUXFydjjBITE5WTk6OcnJyQZVhlP38+n08FBQXleo7O5vZL8++aynpNVBQb96+yHF8qc98KdUwInCEcx6XitkX5/KeMjIzTnqPc3NyQXw987oKf28pG+QwAAByUzxaE8hkAwqusb07T0tIUFxfnLz2cUqiyiraCgoKwvWl3Cp1Q2ysoKJDH4zmr2y/PfbGxHExMTFRiYqIKCgok/Xm/UlJSQpZh2dnZYStgK6t8PtPtn2nfz83Ntf5Madv2r7IcX8JxbHCOCXFxcf79PVzbdmNbpWFT+Sz99RwZY+Tz+Yp83fmALPDrjqysLCUmJob8f9GC8hkAAPtQPlsQymcACK+yvjktrmjLysqq8JLR5/MpMTExrMXLmQrMs7l/5b0vtpWDZzrjMiUlpcjX8/LyFBcXF9Xls/N4FHcfOfO5co4v4Tw2BD/v4dy2G8fAkthWPkt/nckc+AGB9NeHQ3l5eaf9TFpamnJycs5mVOtRPgMAYB/KZwtC+QwA4VWeciglJSXk/3PKocAz0YKLm8A/d87NzVV2dnaR5RtSU1P935uYmFjs7WRkZBT5OadcyM3N9S8J4SwPYcyff76fl5cnn8+ntLQ0GZdAtvIAACAASURBVPPn2YzBf85emgIz+HdXqPtVUFCgrKwseTwe5ebmnvG+nIlt5aDz3GZlZYX8f075XFBQ4H9+nDj7R+CyCnFxcUpLS/PfhrO2ckZGhvLy8vyPq9frLXKGovM8OttwzrwOdWZyabbl7IfOvl3a2y+pfC5pW2WZwVnepDS3W1q27V+lOb5IZz42OK8753Uf/Nzk5OQoNTVVXq9XeXl5/tty/jvUTIG3fzbHJWcbHo9HHo9HPp9POTk5RW4zJSXFv6+H2lbwsaW09ztwhlDHxtKysXzOycmRMabI61v68wMwY0yR3yuO4A8UApcS8ng8/t8NPp+vyOPt/P4YN25cka/n5OT4H//AOQL3t+DbKu5nnJ9z/l9wgkv24lA+AwBgH8pnC0L5DADhVdY3p86ZZImJiWdcb9Qp5RITE0/7f06J5pwZ67yRzsrKOq3cC7VWZmpqqlJTU/1r8SYmJvrL5sCiNysrSz6fTz6fz1/2pKWlqaCgQD6fTykpKYqLiyty28FlkqTT1pt1ftbZhiR/ieXcl7y8PP9j5TxO5Vn307ZyUPqraE9JSSmxBDHm9HVyAx8T5zHKycnxF3HObaemphZZvzWw8E5JSfE/3oFFWuDjW5ZtZWVlKS0tzf/zpbl9qfjy2SkIJRW7rcsuu+yMMzgfxjj7sDNDYCl2pp8vDdv2r9IeX6TQr6e0tLQir8OsrCwZ81f56Bwj4uLi/I9v4D4WammdUM97eY5LHo9HiYmJysjI8C/5sHbt2iL7j7M/BRaRwdsKdWwp6X47t+3MkJqa6l+n3dl/SsvG8lmSPB7PacfztLQ0/9cDP7zKyckp8ppNTU2Vx+Mp8rvBGON/Lp3H23ncvF6vhgwZUuTrGRkZys3N9f+s82Gn87g7HxyU9DPOfIGvdedYVpbnSaJ8BgDARpTPFoTyGQDCqzxvTnNycvxniHm93mJLIudNdvBaqU4h7bwpDxR8JnKo4iX4Z5w36k7Z55SjoWYJ9bXA+Yv7/RSqkHbKJecM3eC1Q4OXqIiW8lkqeqGv1NTUYkvowGJN+rMUCyyIfD7fad8TXL4F345TxARu07md4DNgS7Ot4LMiS3v70uln+QcmuJAOta2SZgg+2ztUwVbc7ZaGjftXaY8vwa8n56KQwWeHBxd7zs8GfzDm7NOl+WuI8h6Xgr/HOTM3cLbgZTZCHTcCjy1ne7/LelyytXwO9fw5H3QGPg+STvvgLCUlpUix6/yMs+85j3dxF34MfOxDLU0U+BiX5mdC7Suhfq+VhPIZAAD7UD5bEMpnAAiv8r45dc4GDiyJgstXn8+nuLi4IsWYszyA8/+dM8JKWzAFlp7BcbZztuVzcBFTUFAQstxzztwOLngc0Vw+S389Ls7jH1wYS8Wv4Rv45+fB3xPqZwKfl5SUlFKfoVqebZXl9os789k5mzb450M9FqG+Hqp8kuT/k//gfba8a0vbun+V5vhS3LEh+IMQp0gMfIxCvRadIvhM+15J2y7puHSm17+zhErw9koqn8/2fpe11LS1fHZK+MAPN51jkvOXL873FXcGcUFBQZGlboLL5+DfU6G+HuqYEKp8PtPPOB8cBCrumHAmlM8AANiH8tmCUD4DQHid7ZtTpyQKfNMfKLAYccrmUD8fFxcXcs3VUCVPSQVuRZfP0ulnZDucMjBU+Rft5bPDKXOMOfMZyw7njGRnCZTg7wn1M4HPS3GPY6jnrjzbKsvtn2nN51Bn0JalfA4+w1kqfp+NtvLZcabjS3EFcPAxpKQyMFBJ+96Ztl2a41Ko73H+AsS5YGfw95W2fC7v/Y6W8lkqerZ3amqq/zEJ/NAm8ANQR+D66llZWcWe+Ryu8jn4Yq3lvXgr5TMAAPahfLYglM8AEF5lfXMa6uxW5+uh3pwHnv2cnZ1d7M8HrsEceAZfcQVT8FmQkvx/xlwZ5XMozgW8nLN/SyomoqF8di6SFYqz1nag4BLG+aAhsCgL/p6SCsDiitng56682yrt7Uulv+Bgcds60wyh9vNQRWNptx+KbftXWY4vxR0bgvfPUBfJDPVaDLUsi1S2M59LOi4Vt/8ElqHlLZ/Le7+jqXwOXMM61JIsqampIT8kdZYjcZ6/4GN3uMtn6c8PzpwyvTzFs0T5DACAjSifLQjlMwCEV1nfnHo8npAFi7NGbajlJwIv5hVYLOfm5p72Zv5Mb9qlv/40PngZDOfiWc7PBJcpFVU+O+WYc2adw1n/Ofj+Bd5+tJTPxf3Jempqasj1iEs68zL4e0oqAIsr+4Ofu/Juq7S3L5VcPgdeeLC47wv1deeCccFfdy6gVtLPl5Zt+1dZji/FHRuCnyOnkDzTh1qB2wheviLUbZb3uBR8O6GOS2Utn8/2fkdT+SzJv7xOqOsHGFO65YHcLp+dM+DPFuUzAAD2oXy2IJTPABBeZX1zaozxX8TJkZub6182IxTn7Ofg0jI3N1eJiYlnfIPvnA3t8/n823TOBvN4PMrIyFBqaqp/286FAI0pehZiqItvOWdTOiWFU9aEOjPOWVoiOzvb/yfQgaVO4M86X3cKRKd8DHVfSmJbOeg8RykpKUUey+LK0sD9Iicnx/8Y5OXl+ddidkq7jIyMkEWac0aq87wUFBQoLi5OcXFx/n0l8PF3vlbabQUXnqW9femvfShUoeXs3wUFBcVuq7ivB17QMvD1ERcXV2TfKe7nS8u2/assx5dQryfngwPnNedc4DT4+XGKyMDv83g8p32f8/gGv97Lc1xyStFQrxvnGJSdnS2Px6PExERlZWX5jzvB2wo+tpTmfgdesDJwXwl1vDwT28tn57EJvj/Ffbgg/Xmccs58DlzLPisryx/nuBdqW4HHPedY4Tz2zuPuvEZL8zPOhxJOae31epWRkaGsrKwyvc4pnwEAsA/lswWhfAaA8CrPn8U7b86dizI5ZcuZ3hSnpKSE/LNwpwRybif4bDWn6PV4PP7SJnB9TqdMdLYd/HvFKUsD46zPGvg1pxg6U5zSxvnvwDIs1DaC/zvUfSmJbeWgs+yGcwa0c/8SExNDrovtFD5e758XjMvLy/M/1mlpaf6S1ePxaNasWaV6/qQ/9wvnOfR4PMrJyfEv7+I8tmXdVqDS3H5p/l3j9XqLvQ/Ffd3h8/mKXNAxuPgu6edLw7b9qyzHl+JeT4EXKvR4PEWWnXA4F29znuNQyxoEHyOc13Fx2y7rccn5GWc7Xq+3yAXvnNdT8LZCHVtKc79L89oq7sKvgWwvn53XTaivF/dXG9nZ2f4PnJzS3/nAY/jw4ae9pqXTLzLpFMTBXyvp+BDqZ5xjV6jfS2U5I5ryGQAA+1A+WxDKZwAIr3C9OQ11NjFKZls5iOhSVfev8iyBgz/ZXj5Hg+zs7JAfBDildGnZ+voDAKAqo3y2IJTPABBe4Xhzmp2dHfLsQ5SsqpaDCI+qun9RPpcf5XPlcs5IL05xZ2+HYuvrDwCAqozy2YJQPgNAeFXWm9OsrCx5vV6lpaX519JE2VXVchDhURX3L2cNeo5L5UP5XLmc9Z+dpaoKCgpUUFCg3NzcIsv+lIaNrz8AAKo6ymcLQvkMAOFVmeWzMX+tY4ryqYrlIMKnqu1f5V3nGH+hfK58zsVZnX3U4/EoNTW1zL9LbXv9AQAAymcrQvkMAOHFm1O7VbVyEOHF/oWyonyOHLz+AACwD+WzBaF8BoDw4s2p3SgHUZnYv1BWlM+Rg9cfAAD2oXy2IJTPABBevDm1G+UgKhP7F8qK8jly8PoDAMA+lM8WhPIZAMKLN6d2oxxEZWL/QllRPkcOXn8AANiH8tmCUD4DQHjx5tRulIOoTOxfKCvK58jB6w8AAPtQPlsQymcACC/enNqNchCVif0LZUX5HDl4/QEAYB/KZwtC+QwA4cWbU7tRDqIysX+hrCifIwevPwAA7EP5bEEonwEgvHhzajfKQVQm9i+UFeVz5OD1BwCAfSifLQjlMwCEF29O7UY5iMrE/oWyonyOHLz+AACwD+WzBaF8BoDw4s2p3Sr7+fF6vTz/VRjlM8qK8jly8PoDAMA+lM8WhPIZAMKLN6d2q4znJy8vT6NGjVJCQoL+93//l+e/CqN8RllRPkcOXn8AANiH8tmCUD4DQHjx5tRuFfX8BBbOxhi1bNlS48aN02WXXcbzX4V5vV7VqVNHjz/+uNauXav9+/dX6O1zfIk+lM+Rg9cfAAD2oXy2IJTPABBevDm129k8P8UVztu2bZMkHTt2TG3btuX5r8K6dOmirl276tJLL/X/WywmJkYdO3bUwIEDNXv2bH355Zflvn2OL9GH8jly8PoDAMA+lM8WhPIZAMIrOTlZgwYN0vr164mF6dChQ5nKgx9//FEjR45U06ZNixTOW7Zs8X/PwYMHNXr0aMXGxqpGjRo8/1GWZcuWlWv/Onr0qD766CONHz9evXr1Uu3atYsU0jfddJOys7M5vlTxDBo0qNLL5w4dOrh+P6MhZf39AQAAKh/lswWhfAaA8EpOTnb92E/OnDOVB999951mzZql3r17q2bNmjLGqHnz5vrb3/6mb7/9tsj37tq1S0OGDJExRj169NC6det4/skZ96+dO3dq8eLFGjFihK644grFxMTIGKO4uDh169ZNo0aN0ltvvaUdO3ZwfKlCqezy2e37F02hfAYAwC6UzxaE8hkAgOLt27dPr7/+uu688041aNBAxhjVq1dPAwYM0CuvvKKCgoLTfmbbtm3q37+/jDG6/fbblZ+f78Lk4dW3b98KK8gOHTqkc889V3Pnzq2Q26tMJ06c0IsvvqgmTZrIGKM+ffpo06ZNFbqN77//XvPnz9eIESN01VVXKTY2VsYY1apVS9dcc40yMjKUk5OjnTt3Vuh2AQAAgEhH+WxBKJ8BAPjL4cOHtXjxYqWlpemiiy6SMUY1atRQr1699Nxzz53x9+aaNWt07bXXKiYmRg899JD27t0bxsndUxllcUWW2eGyYMECtWvXTsYYXXXVVXrvvfcqbVvff/+93nzzTaWnp59WSHfv3t1fSIf6cAQAAACoKiifLQjlMwCgKissLNQHH3ygxx9/XO3bt/f/fuzWrZsmTpyoL774osTbePvtt3XZZZepVq1aGjt2rA4fPhyGye0xc+ZMxcbGqrCwsMJu88MPP9Q555zjv1hjJPnoo4907bXXypg/1wCfM2dOWLabn5/vL6STkpL8hXTt2rX9hfTixYsppAEAAFBlUD5bEMpnAEBVs379ev3tb3/TlVde6f992KlTJ40ePVqrV6/WyZMnS3U7CxcuVMuWLeXxeDR16lQdP368kie3zx9//KF27drpwQcfrPDbbdq0qdLT0yv0dsNp27ZtuuOOO2SMUf369ZWVlaWjR4+GdYb8/HzNmzdPjz76qJKSklS9evUihfQTTzxBIQ0AAICoRflsQSifAQDR7quvvtKUKVOUkpLiL99atWqlYcOGafny5WUuBBcvXqzWrVvL4/HohRdeqKSpI8O6detkjNHWrVsr/LYzMzMVHx+v33//vcJvO5z27dunRx99VLGxsYqLi9Pjjz+uH3/80bV5vvvuO38hfeWVV/pfEzVq1NDll1+uu+++W5MmTdLSpUv13XffuTYnAAAAcLYony0I5TMAIFoUFhbqiy++0EsvvaQHH3xQV1xxheLi4mSM0QUXXKD77rtP8+fP1y+//FKu21+6dKkuueQS1a9fXzNmzKjg6SPTvffeq/bt21fKbe/du1fnnHOOli9fXim3H26//vqrnn76adWrV0/GGN1zzz3avn2722NJknbt2qWVK1dq+vTpeuCBB5SUlKTzzjvP/+/F5s2b66abbtKoUaP02muvacOGDfL5fG6PDQAAAJwR5bMFoXwGAESiXbt2admyZRo/frz69eunZs2a+X+3NW7cWH369NH48eO1YsUK7d+//6y2tXz5cnXo0EHx8fGaOnVqqZfliHaFhYWKjY3VzJkzK20bPXr0UI8ePSrt9t3y4osv+vfZXr16acOGDW6PFNIvv/yiTz/9VC+//LJGjBihHj16qGnTpv7XWnx8vK666ioNHjxY06dP18qVK1nCAwAAANagfLYglM8AAJudPHlSGzdu1Msvv6yhQ4cqKSlJNWrU8P8ea9asmfr376+srCx99NFHFXqxv/fff18dO3bUeeedp6ysLJ04caLCbjsazJ07V+eee64OHTpUadtYvny5zjnnHO3du7fStuGmnJwcXXrppTLGKCkpSStXrnR7pFI5ceKEtmzZooULF+pvf/ub+vfvrzZt2hT5N2bbtm3Vv39/jRs3TgsWLNBXX31VJddFBwAAgHsony0I5TMAwBZ79uzRu+++qwkTJujWW29V8+bNi/zOSkxM1J133qnp06frk08+0bFjxypljlWrVqlTp06qU6eOnn76aQqzYiQnJ6tv376Vuo3ff/9d8fHxyszMrNTtuG316tW69tpr/aXt/Pnz3R6p3Hbs2KEVK1ZoypQpuu+++9SlSxfVrl3b/zqOj4/XpZdeqj59+uiRRx7Rs88+qwULFujTTz/V7t273R4fAAAAUYTy2YJQPgMAwun777/XypUrNWvWLI0YMUJ9+vRR27ZtFRsbW+T3U7t27TRo0CDNmjVLGzZsUGFhYaXPtnXrViUlJalWrVrKzMystHI7GuzZsyds6zGPHj1aTZs2jfgLD5bGli1bdNttt8kYo6ZNm2r27NlRs8zLr7/+qm+++UYrVqzQP/7xDz3xxBO64447lJSUpCZNmhR5/Tdo0ECdOnXSLbfcovT0dE2fPl05OTn64osv9N///tftuwIAAIAIQflsQSifAQAV6dSpU/r222/1zjvvaMqUKRo8eLC6deumRo0anfY7KCYmRq1atVKvXr00fPhwZWdn68svvwz7zP/97391xx13yBijESNG6Ndffw37DJEmMzNT8fHxYSmEo+3Cg6Wxc+dOpaWlyZg/zxR++umndeTIEbfHqnQ//PCDNmzYoLfeekvPPvusHn74YfXu3Vvt27dXnTp1ihw/4uPj1apVK3Xt2lX9+/fX0KFD9fe//12zZ89WTk6O1q5dq23btunAgQNu3y0AAAC4hPLZglA+AwBK6+jRo/r++++1du1aLViwQFOnTtVjjz2m22+/XV27dlXDhg1P+z1z3nnnyev16q677tL48eM1b948bdiwQT/++KPbd0fHjh3TqFGjZIzRbbfdpj179rg9UkT4448/lJCQoNGjR4dtm+FY4sNGP//8s0aPHq2aNWsqNjZWjz32mPbt2+f2WK45efKk8vPz9dFHH2nOnDkaN26c7rnnHnXr1k0XXXTRGf/NW6dOHV188cVKSkrSzTffrCFDhujJJ5/U888/r4ULF2r16tXaunXrWV+gFAAAAPagfLYglM8AAEnav3+/Nm3apKVLl2rmzJkaOXKkBgwYoKuvvlrNmjVTtWrVQv4eiYmJ0YUXXqirrrpKAwcO1IQJE/TWW29p06ZNVi9b8fzzz6tu3bryer3avHmz2+NElA8//FDnnHNOWMv6cFzc0GZHjx7Vs88+qwYNGsgYo/vuu0/bt293eywrHT16VLt27dLmzZu1Zs0aLVq0SC+++KImTpyoESNG6J577tFNN92kpKQktWzZUvXq1Qt5bKtRo4aaNWumK6+8Uj179lRqaqqGDBmiUaNGaeLEiXrhhRf0z3/+U8uWLdMnn3yiDRs2aPPmzdq2bZu2b9+uPXv26KefftLhw4etWjf+5MmTOn78uI4eParDhw/rl19+0U8//aT//ve/2rNnj3bu3Knt27crPz9f3377rbZs2aLNmzdr48aN2rBhgz799FOtW7dOq1at0rvvvqu3335b8+fP1+uvv67s7Gy98MILmjp1qiZNmqTMzEw99dRTGjNmjDIyMvT4448rPT1dw4YN09ChQ5WWlqYHHnhAgwYN0sCBA3XnnXdqwIAB6t+/v/r166c+ffqoV69e6tmzp66//np1795dycnJSkpKUpcuXXT55ZerQ4cOatu2rVq1aqUWLVrowgsvVJMmTdSwYUOdf/75Ou+88/wf3gQ/x7GxsTrvvPPk8XiUkJCgli1bql27durUqZOSk5PVvXt39ejRQzfddJP69eun1NRU3XXXXRo0aJCGDBmihx9+WOnp6Ro5cqTGjBmjzMxMTZ06VXPmzNHixYv18ccfa9OmTfr3v/+tAwcORM0SOgAARBLKZwtC+QwA0e3AgQP65ptvtGbNGs2bN09Tp07ViBEj1L9/f3Xp0kWNGzcO+fuhTp06atmypZKTkzVgwACNGDFCU6dO1fz58/Xxxx8rPz8/IpcBWLJkiZo3b67mzZtr6dKlbo8Tkfr27avk5OSwbrOwsFDx8fGaPHlyWLdro+zsbDVr1kzGGPXr148PTyrIsWPHtGfPHn399ddas2aNcnJy9NJLL2nSpEkaNWqUhgwZogEDBqhnz566+uqr1aZNGzVu3Fg1a9Z0/d/zkZCYmBjFxsaqZs2aqlOnjuLj41W/fn01bNhQTZo0UUJCgi666CJdfPHFatWqldq2bav27durY8eO6tSpk7p06aKkpCQlJyfrmmuu0fXXX68bbrhBvXv31s0336z+/fvr9ttv1913361BgwbpgQce0IMPPqhHHnlE6enpevzxx/XEE0/oySefVGZmZqny1FNP6YknntBjjz2mYcOG6cEHH9T999+vgQMH6vbbb9ett96qPn366IYbbtB1112nbt26qWPHjmrWrJnq1q1b7GNRr149NW/eXJdffrmuv/563XnnnUpPT9czzzyjOXPmaPny5friiy/0n//8JyJ/zwIAYBPKZwtC+QwAkevo0aP6+uuvtXTpUk2dOlVDhw7VDTfcoHbt2un8888/7Zjv8XjUoUMH9ezZU/fcc49GjRqladOmad68eVq9erW2bNkStX9yvnnzZnm9XtWtW1cvvPCC2+NErEOHDuncc8/V3Llzw77t9PR0NW3aVH/88UfYt22jRYsWqX379jLGqHv37lq9erXbI1V5x44d06FDh7R//37t3r1b//73v/XNN98oLy9Pn3/+udatW6c1a9boo48+0gcffKAVK1Zo+fLlWrp0qRYvXqy33npL8+fP17x58/TGG2/o1Vdf1csvv6wXX3xRs2bN0syZMzV9+nRNmTJFWVlZmjRpkiZMmFCqInX8+PGaOHGiJk+erKlTp2rGjBl64YUX9I9//EPZ2dl69dVX9cYbb2jevHlauHChcnJytGTJEi1fvlwrVqzQqlWrlJubq48//liffvqpNm7cqK+//lr/93//px07dmjv3r1WnunttsLCQv3444/Kz8/Xv/71L61atUqLFi3Syy+/rGeffVZjx47Vfffdp5tuukmdO3fWhRdeqLi4uJC/v9u1a+cvq0eMGKGsrCy99tprWrFihTZt2qTdu3e7fXcBALAO5bMFoXwGADsdOXJE3333nXJzczV37lw988wzGjp0qPr06aOOHTuqdu3a/mN5XFycLrnkEvXp00ePPfaYpk+frvnz5/svuHXw4EG3745rDh48qIEDByomJkZPPPGE1UuBRIKZM2cqNjZWhYWFYd/21q1bZYzRunXrwr5tm61atUpdu3aVMUaXXXaZlixZ4vZIACrADz/8oK+++kq5ubmaN2+epk+frrFjx2rQoEG68cYbdfnll+uCCy5QTExMkfd3sbGxuvDCC3XllVcqNTVV48aN09y5c/X5559zAU4AQJVD+WxBKJ8BwD2nTp3S1q1btXjxYk2cOFF33323OnXqpFq1ahU5Vns8Hl1++eXq27evhg4dqsmTJ2vRokX68ssvq3SxXJLZs2erdu3a6tGjBxcTrCDt27fXvffeW2W3b7ONGzeqd+/eMsaoRYsWevXVV90eCUCYHDt2TDt37tQXX3yh5cuX65VXXtHEiRN133336eqrr/avF+98YN2hQwf1799fTz31lF5//XV9+umn+umnn9y+GwAAVDjKZwtC+QwAle/o0aP64osv9Oqrr2rkyJHq2bOnLrjgAv+xuEaNGrrssst0xx13+C/Y9+WXX2rfvn1ujx6Rvv76a7Vr104XXHCBli9f7vY4UcOGM4+zs7MVGxtbZS88WBr5+fkaOHCgjDFq2LChpk+f7sqZ6gDscvLkSX399ddasmSJJk+erPvvv19du3aVx+Px/3ukWrVquvTSSzVgwAA988wzevfdd7Vr1y63RwcAoNwony0I5TMAVKytW7fqzTff1OjRo9WjRw81bNjQf8xt0KCBunfvrkcffVQvvvii1q9fz5lGFejIkSNKS0uTMUZjxozRqVOn3B4pqqSnpyshIcHVNZcLCwsVGxurmTNnujZDpPjhhx80bNgwVatWTXXq1NG4cePk8/ncHguAhU6ePKlvvvlGS5cu1bPPPquBAweqQ4cO/n+/xMbGqnPnznrggQf0/PPP6+OPP+Z4AgCICJTPFoTyGQDK58SJE9qwYYNmzZqlQYMGFXmTVqtWLV111VV69NFHlZ2drQ0bNujo0aNujxzVXnvtNcXHx6tr164qKChwe5yo8/vvvys+Pl6ZmZluj6J7771X7du3d3uMiHHw4EGNGzdOderUUbVq1TR8+HD98MMPbo8FIEL85z//0dKlSzV+/Hjdeuutatmypf/fO+eff76uvfZapaen67XXXtOmTZt04sQJt0cGAMCP8tmCUD4DQOl99tln+vvf/64uXbr4j6ONGzdWnz59NH78eL3//vuUOmH27bffqnPnzvJ4PHrrrbfcHidqLVq0SOeee64Va2evW7dOxhht3brV7VEiSmFhoaZNm+b/a4x7771X27dvd3ssABFqy5YtevPNN5WRkaEbbrhBTZo08f/bqHXr1rr//vs1Z84cbdu2ze1RAQBVGOWzBaF8BoDiHTp0SHPmzFGfPn0UGxvrf0P12GOP6YMPPtDhw4fdHrFKGzt2rIwxvCNl3wAAIABJREFUGjFihI4fP+72OFEtOTlZffv2dXsMSdIff/yhSy65RA8++KDbo0SsOXPmqFmzZjLG6JZbbtGWLVvcHglAFDh69KhWrVqlzMxM9ezZU+edd56M+fPaFt27d9eTTz6p999/n4slAwDChvLZglA+A0BR27ZtU1ZWlrxer/8NU//+/fXqq6/qwIEDbo8HSV999ZVatmypNm3a8HssDPbs2aNzzjnHqos3zpw5U7GxsVxI7ywtXLhQbdq0kTFGKSkpWr9+vdsjAYgyO3bs0Pz58zVs2DB16tTJ/z60WbNmuuuuuzR79mxt3rzZ7TEBAFGK8tmC8KYdAKQ1a9Zo+PDhSkhIkDFGTZs21bBhw7R69Wq3R0OQMWPGyBijJ5980u1RqozMzEzFx8fr999/d3sUv0OHDuncc8/V3Llz3R4lKrz77rvq3LmzjDG64oortHLlSrdHAhDFNm3apBdeeEF33nmnLrroIhljVK1aNV133XWaNGmSvvjiC7dHBABECcpnC0L5DKAq+vXXXzV//nylpqaqZs2aMsaoc+fOmjhxor799lu3x0MIztnOLVu21FdffeX2OFXGH3/8oYSEBKWnp7s9ymkGDBggr9fr9hhR5eOPP9Y111wjY4wuueQSLVy40O2RAFQBv/zyixYvXqyhQ4eqVatWMsYoNjZWKSkpmjx5sjZt2uT2iACACEX5bEEonwFUFbt379a0adPUtWtXGfPnGTa9e/fWnDlzWHvQcs7ZzmPHjnV7lCrH5ov72TxbpNu4caNuueUWGWOUkJCg2bNn69SpU26PBaCK+OWXX/T222/r4YcfVuvWrWWMUVxcnHr27KkpU6YoLy/P7REBABGC8tmCUD4DiGYnTpzQnDlzdNlll8kYowYNGmjw4MF67733dPLkSbfHQwk429l99957r9q3b+/2GCH98ccfatq0qZVnZUeL7du365577pExRvXr11dWVpaOHj3q9lgAqpiDBw9qyZIleuSRR/zr1NeqVUu33nor1+QAAJwR5bMFoXwGEI3y8/P10EMPqUaNGjLGqF+/flq1apXbY6EMnLOdx4wZ4/YoVVZhYaFiY2M1c+ZMt0cplo3rUUejffv2afjw4apevbpq1qyp0aNH6+eff3Z7LABV1MGDB7V06VINGzZMbdu2lTFGrVu31uOPP871OgAARVA+WxDKZwDR4uTJk3r99df9F81q1qyZnnnmGf3yyy9uj4YyKCgoUJs2beTxeLRx40a3x6nS5s6dq9jYWB06dMjtUYq1d+9enXvuuVq0aJHbo1QJPp9P48aNU506dRQTE6OHHnpIu3fvdnssAFXcwYMHNXfuXN12222qXbu2qlevrhtvvFGzZs3Sjh073B4PAOAiymcLQvkMINJt375djzzyiGrVqiVjjG677TbOeolQy5cvV1xcnHr16qVff/3V7XGqPK/Xq3vvvdftMUrUt29fJScnuz1GlVJYWKhp06apYcOGMsbojjvu0LZt29weCwAkSZ999pnGjBmjdu3ayRijCy+8UEOHDtV7772nEydOuD0eACCMKJ8tCOUzgEj1z3/+U1dccYWMMWrRooWmTJli9RmaOLO0tDQZYzRr1iy3R4GkrVu3yhijdevWuT1KiZYvX65zzjlHe/fudXuUKmnOnDlq0aKFjDG68cYb9dlnn7k9EgD47d+/X3PmzNHNN9+suLg4GWN0zTXXaMqUKbwXBoAqgPLZgvALF0AkOXr0qCZOnKj4+HgZY3T77bfrk08+cXssnAVnmY2LLrqI30kWSU9PV0JCgv744w+3RynR77//rvj4eGVmZro9SpX29ttvq2PHjjLGKCkpSe+//77bIwHAadauXauRI0eqVatWMsaoSZMmSk9P54MzAIhSlM8WhDf6ACLBwYMHNWbMGNWsWVOJiYmaMWOGjhw54vZYOEvLly9X9erVlZqayp/BWiQSy9zRo0eradOmXHjQArm5uerWrZuMMWrbtq0WLFjg9kgAEFJBQYGmTJkir9crY4zOP/98paWlKTc31+3RAAAVhPLZglA+A7DZvn37NHz4cFWrVk1er5cz6aLIkCFDFBsbq7lz57o9CoI4y1js2bPH7VFKbe/evTrnnHO0fPlyt0fB/7d582bdfPPNMsb8P/buPjquql4f+De/Ze6C5tgXmgIDQgIUOrRI5ALORdCAcKeCSHidAIpRkEF5MSIOFa8Y8dppfcGgKLPkAsHy0gF6CQoKI5Z4Fel14DbLitp1OdIKi8oiHHkLdK3+kef3R+4+PXPmzMtJMrP3zDyftfZa7cmZM985s2dy8syevdHd3Y0f/ehH2Llzp+6yiIgCvfTSS7j55ptx0kknQUSwcOFCXHTRRXjooYf43kVE1MAYPhvQGD4TkYmee+45fPrTn4aI4IMf/CBHoDSRl156CUcddRRWrFgB27Z1l0MBGnUBv97eXvT19ekug3y2bt2KgYEBiEyPKly9ejVef/113WUREZXkOA5uv/12fPSjH4WIoKOjA+eeey7Wr1+Pt956S3d5REQUAsNnAxrDZyIyyZYtW5BIJCAiOOWUU/DrX/9ad0k0hzZv3oy9994bfX19HEVkqImJCbS3tzfkiPSRkRG0t7dz4VFDvfjii/j85z+PefPmYf78+bj22mvx8ssv6y6LiKist956C+vXr8d5552Hjo4OiAjOOussPPDAA7yWISJqAAyfDWgMn4nIBJs2bXJHl5x22ml4+umndZdEc+yhhx7CHnvsga997Wu6S6EyhoeH0dnZicnJSd2lhDY5OYnOzk6sWbNGdylUhuM4uP7667Fo0SKICC677DI8//zzussiIqrKT3/6UwwMDGDRokWYP38+BgYG+A09IiKDMXw2oDF8JiKdfvnLX6K3txcigjPPPBNbtmzRXRLVwNDQEPbcc0889NBDukuhMqampnDkkUdicHBQdykzNjg4iK6uLkxNTekuhSqYnJzEjTfeiP333x8igv7+fmzevFl3WUREVXv44Ydx/vnnY968edh7771x5ZVX4qmnntJdFhEReTB8NqAxfCYiHcbHx92VxROJBP70pz/pLolqYOfOnejr68Pee+/NUKkBjI2NQUQwPj6uu5QZGx8fh4hgbGxMdykUwm233YbDDjsMIoKVK1fy+SOihjI5OYm77roLH/nIRyAyvcjqV77yFfz5z3/WXRoRUctj+GxAY/hMRPX0wgsv4Pzzz4eI4BOf+ASee+453SVRjaiFBY844gi89NJLusuhKgwMDKCnp0d3GbMWi8XQ39+vuwyagQ0bNuDYY4+FiOD9738/HnzwQd0lERGFMjExgR/84AfuIIv3vve9WLNmDbZv3667NCKilsTw2YDG8JmI6uGNN97Al770JYgITj75ZPzlL3/RXRLV0NatW7Hvvvuir68Pb7/9tu5yqAqTk5Po6OjA8PCw7lJmjQsPNr6NGzciHo9DRLBs2TLccccduksiIgrt+eefxw033IBly5ZBRPCBD3wAP/zhD/n7iYiojhg+G9AYPhNRrd10001YvHgxDjvsMDz88MO6y6Eae+qpp7BgwQJcfPHFukuhEJopsG2mIL3VbdmyBf39/RAR7L///rjxxhsbcjFMIqJnnnkGV199NSKRCESm1zp55JFHdJdFRNT0GD4b0Bg+E1GtPPDAA1i6dCkWLFiA7373u7rLoTr4xS9+ARHBF77wBd2lUEi9vb3o6+vTXcacaZYpRGja9u3bcdlll2GPPfbAokWLcP311+OVV17RXRYR0Yw88sgjOOOMM9wP1q6//npOy0FEVCMMnw1oDJ+JaK49/fTT7jx3yWSyKUZSUmW33347RATpdFp3KRTStm3b0NbWhtHRUd2lzJlNmzZBRLBp0ybdpdAceuWVV/DlL38ZCxYswJ577okrrriCgQ0RNay///3v+OY3v4nu7m6ICP71X/8V9913n+6yiIiaCsNnAxrDZyKaK9u2bUMikYCIoLe3F88++6zukqhObrjhBogIbrnlFt2l0AwMDQ2hs7MTu3bt0l3KnOrp6cHAwIDuMqgG3nrrLXz729/GfvvtBxFBf38/tmzZorssIqIZ++Uvf4lzzz0XIoLFixfj6quvxtatW3WXRUTU8Bg+G9AYPhPRbL3xxhu4+uqrISI46KCDsGHDBt0lUR1dfPHFEBHcfffdukuhGdi1axe6u7uxatUq3aXMueHhYXR0dHCO4CZ3++23IxqNQmR6QdtHH31Ud0lERDM2MTGBb3/72zj00EMhIjjuuONwxx13cAFnIqIZYvhsQGP4HM7bb7+NsbExNrambmEubm+66SYsWrQI8+bN43QLLeiiiy6CiODBBx/UXQrN0OjoKNra2rBt2zbdpcy5iYkJtLe3Y2RkRHcpVAcPPfQQPvjBD0JEsGLFCqxbt053SUREs7Jx40acf/75EBF0dHTgkksuwebNm3WXRUTUUBg+G9AYPofzpz/9SftzxsZW6/anP/2p4mvhj3/8I4466iiICD796U/j73//ex1egWSS8847D/PmzcPGjRt1l0Kz0NfXh97eXt1l1Ex/fz9isZjuMqiOnn76aZxzzjkQERx44IH44Q9/qLskIqJZee2113DTTTdh+fLlEBGceOKJ/JYHEVGVGD4b0Bg+h6PC52rCOaJGU23//sY3vgERQXd3N5588sk6VUcm6e/vh4jg8ccf110KzUIrjAweGxuDiGB8fFx3KVRnzz33nDst0L777ovvfOc7nIKFiBre448/jlNOOQUigiOPPJLTnhERVcDw2YDG8Dkchs/UzCr172effRY9PT0QEVxxxRV455136lwhmeDSSy+FiODnP/+57lJollphTuSpqSl0dXVhcHBQdymkyYsvvoirrroKe+65JxYvXoxvfOMbeP3113WXRUQ0K1u2bHEHAxx44IG46aabOC80EVEAhs8GNIbP4TB8pmZWrn/fcMMNEOFo51Z35ZVXQkQwOjqquxSaAz09PRgYGNBdRs0NDQ2hs7MTu3bt0l0KafTKK69g1apVePe734358+fjuuuug+M4ussiIpqV7du34/LLL8eee+6JvfbaC9dffz1effVV3WURERmD4bMBjeFzOAyfqZkF9W+OdiZlaGgIIsJFvJrE+Pg4RARjY2O6S6m57du3o729HevXr9ddChng9ddfx9e//nV3sdwvfOEL2LFjh+6yiIhm5dVXX8VXv/pV7LXXXthzzz1x+eWXY/v27brLIiLSjuGzAY3hczgMn6mZ+fv317/+dYhwtDMB3/nOdyAiuPXWW3WXQnNkcHAQ3d3dmJqa0l1KXTT7wooU3ptvvom1a9diyZIlEBF89rOfxd/+9jfdZRERzcrbb7+N4eFhHHjggRARJBIJbNmyRXdZRETaMHw2oDF8DofhMzUz1b9/+tOfcrQzuW699VaICG6++WbdpdAc2bVrFzo7O7FmzRrdpdTN6Ogo2traOAqMirzzzju46aabsN9++0FE8KlPfQrPPfec7rKIiGZt3bp1OOKIIyAiOPnkk/HLX/5Sd0lERHXH8NmAxvA5HIbP1MxU/xYRHHTQQfjNb36juyTSbN26dRARfOMb39BdCs2h9evXo729HRMTE7pLqRsVuK9atUp3KWSwTCaDrq4uiAjOP/98Xu8RUVP4+c9/jg996EMQEcRiMX6jkYhaCsNnAxrD53AYPlMzU/37ggsu4GhnwujoKEQEX/rSl3SXQnOst7cXfX19usuou1WrVnHhQarKHXfcgaVLl0JEcNZZZ2Hz5s26SyIimrVf//rXOOaYYyAiOP300/HnP/9Zd0lERDXH8NmAxvA5HIbPteM4DizLQiqV0l1Ky2L/JuX3v/89RASXXnqp7lJojm3btg1tbW0YHR3VXUrdbd++vWUfO83MPffcg+XLl0NEcOqpp2LTpk26SyIimrUHH3wQ0WgUIoKBgQG88MILuksiIqoZhs8GNIbP4TRaOJfJZIwNc23bRi6Xc/9fq/A5lUpV9VqgxuvfVBs7duzAkiVLcOqpp+ouhWpgaGiopUf/tuqob5qdDRs2uGshfPjDH8bY2JjukoiIZu22227De97zHogIrrnmGvzjH//QXRIR0Zxj+GxAY/gcTqOFc5FIBJFIRHcZgRKJREH4XEsq2A4KmR3HQTwer1stJmu0/k21cdRRR2HZsmV46623dJdCc2xqagrd3d0YHBzUXYo2ar5rLjxIM/Gzn/0Mxx57LEQEJ5xwAq8diKjh7dy5E9/5znewaNEiLFiwAGvWrOH0e0TUVBg+G9AYPofTSOFcJpNxA9dMJqO7nAKZTAYiUtc/2mKxWGD4DAC5XI5/QKKx+jfVRn9/PxYsWIC//vWvukuhGhgbG4OIYHx8XHcp2qiFB4eGhnSXQg3ssccew/HHHw8Rwfvf/3787Gc/010SEdGsvPHGG7juuuuw5557Yr/99sOtt96quyQiojnB8NmAxvA5nEYK56LRKPL5PCzLKjn62XEcN5S1LAuxWKxoKoxyPweAfD5fsE8ymXRvm06nEYlEkMvlkEwmITK9ery/Hz7wwAPIZDKIxWIF027kcjl3PjLLspBIJOA4jvtz27aRTCZhWRaA6Sk2LMuCZVlFgXu58DnoeOqxW5aFkZGRwO3qXISpM+j2pmik/k1z78Ybb4SI4Fe/+pXuUqhGBgYG0NPTo7sM7QYHB9HV1YWpqSndpVCDGxsbw4c//GGICN73vvdhw4YNuksiIpqVl19+GZdddhlEBMuWLcODDz6ouyQiollh+GxAY/gcTqOEc7lcDolEAsDuOY+DRj/H43E3LLZtG9FotCAQrfTzfD7vhssAkE6nISJIpVKwbdu970QigWw264bLuVwOIrtHPtu2jWw2694WALLZbFHAa1kWotGoG+zm83nE43GICJLJJDKZDHK5HCKRiBtIK6XCZ/X4/MdLpVLIZrOIRqNYvXp14PZsNhu6Tv/tTdIo/Zvm3q9+9SuICNauXau7FKqRyclJdHR0YHh4WHcp2o2Pj0NEOG8vzZlNmzbhIx/5CEQEK1aswPr163WXREQ0K7Zt47zzzoOI4JhjjsGTTz6puyQiohlh+GxAY/gcTqOEc7FYDLZtA9g933HQ6OdYLFYQSvsXAaz083g8XhRqR6NRN/hVIbN/H3/4rHjD50gkUhAMA7vD7XQ67W5TAbd3pLHa5n+spV4HXuq26vxV2h62Tv/tTdIo/Zvm1l//+lcsWLAAZ555pu5SqIYymQw6OjowMTGhuxQjxGIx9Pf36y6DmszmzZtxxhlnQEQQjUZx11136S6JiGhWnn76afT29kJEcNppp+GPf/yj7pKIiEJh+GxAY/gcTiOEc95Rz4oKPv0jbdPpNCzLQiqVKghvq/15ub6lguqgkLlS+FwqtHYcByKCWCxW9NiCHq8/SPfvpxYbDLqtX9D22dZpmkbo3zS33nrrLSxbtgxHHHEEF5dpcj09PRgYGNBdhjFGRkbQ3t7OMJ5qYsuWLTjnnHMgIli6dClGRkZ0l0RENCuPP/44jj76aIgIrrjiCrzxxhu6SyIiqgrDZwMaw+dwGiGcKzfC1xuGKrlczp2D2DvfcjU/DwqQ/bedTfjsHTns3WeuwmcARcHxTMLnmdZpmkbo3zS3Tj31VOy111544YUXdJdCNcRpJopxGhKqh61bt+KCCy6AiOCggw7Cf/zHf+guiYhoVm677TYsXrwY++yzD+6++27d5RARVcTw2YDG8Dkc08M5FRQHUeFrqbBYzV3sn0Ki3M9FJHB/NcJ6tuFz0LFFpGC08mzDZ7+ZhM8zrdM0pvdvmls33HADRAS//e1vdZdCNTY4OIju7m4usOfDBRipXp577jl88pOfhIjgwAMPDFyHg4ioUbz66qu45JJLICL40Ic+hK1bt+ouiYioJIbPBjSGz+GYHs7FYrGS4bIKSv2jcb38AWmln8fjcViWhXw+X7CfmvZjpuEzAFiWBcuyCqb7UNNZeP9om6vwWU0tEiZ8nm2dpjG9f9Pc+cUvfgERwfe//33dpVCN7dq1C52dnRgaGtJdinE2bdoEEcGmTZt0l0It4vnnn8fFF18MEcH++++PH/zgB7pLIiKasd///vdYvnw5RARf+cpXsHPnTt0lEREVYfhsQGP4HI7J4Zxa5K7UgnYqEBXZPU1ELBZzQ1c1/7E3nK7083w+7x4zkUgglUohEom4oa+qyT+vsrqdOnYul3O3qX0zmYx7XHX/iUQC0Wi04FjxeLwoaE4mkxDZPce1bduwLAsiUjR3tQqcVWCujuefSqPU9rB1Bk3RYQqT+zfNna1bt8KyLC621iJGR0fR1taGbdu26S7FSJwLm3R48cUX3WuVfffdF9/73vcY2hBRw7rxxhthWRYOOOAAPPbYY7rLISIqwPDZgMbwORxTwzk1qla1UiONvS0WiyGRSCASibjb4vF4QThb6efq2NFoFCKCSCTiBr7+mvzTgSQSCYhMT1nhr0/tm81m3ftXU354798/v3UqlSraduyxx1b1WlBTlviPV+p+vGZSp4lM7d80t6LRKI466ijdZVCd9PX1obe3V3cZxhoeHkZHRwcmJyd1l0ItaMeOHbj88sshIth7773xrW99i32RiBrSSy+95C60euaZZ+Kll17SXRIREQCGz0Y0hs/hMJyjZsb+3fyuvfZadHR04G9/+5vuUqgOJiYm0N7ejpGREd2lGIvniEzw8ssvY3BwEHvuuScWL16M1atX480339RdFhFRaBs3bkR3dzc6OjrwrW99S3c5REQMn01oDJ/DYThHzYz9u7k988wzEBHceuutukuhOhkeHkZnZydHUlbQ399fcrFeonp65ZVXcM0112DevHlYtGgRbrjhBrz++uu6yyIiCu1rX/saRATLli3D7373O93lEFELY/hsQGP4HA7DOWpm7N/Na+fOnTjkkENw4okn6i6F6mRqagpHHnkkLrvsMt2lGG9sbAwigvHxcd2lEAGYXo9i1apVsCwLCxYswPXXX4/XXntNd1lERKHYto0PfehDEBEMDAzg1Vdf1V0SEbUghs8GNIbP4TCco2bG/t28rrrqKsyfPx87duzQXQrVCQPV6k1NTaGrqwuDg4O6SyEq8Nprr+Hf/u3fMH/+fLz73e/GddddV7T2BhGR6dT6OIsXL8Z9992nuxwiajEMnw1oDJ/DYThHzYz9uzmpEPKuu+7SXQrV0cDAAHp6enSX0TDWrFnDKUrIWK+//jqGhoawcOFCdHR04Nprr2UITUQN5a233sLnP/95iAjOOOMMvocRUd0wfDagMXwOh+EcNTP27+YzOTmJSCSClStX6i6F6mhychIdHR0YHh7WXUrD4MKD1AjefPNN/Pu//zsWLVqEefPm4Utf+hJeeeUV3WUREVXtmWeewdKlS7FkyRL84he/0F0OEbUAhs8GNIbP4TCco2bG/t18LrnkEixatIjhRIsZGRlBe3s7JiYmdJfSUPr6+tDb26u7DKKKJicnsXr1aixevBjz5s3D1Vdfzfd5ImoYO3fuxODgIEQEF110Eee0J6KaYvhsQGP4HA7DOWpm7N/N5bHHHoOI4KGHHtJdCtVZb28v+vr6dJfRcEZHR9HW1obt27frLoWoKpOTk+6UMXvuuScGBwfx8ssv6y6LiKgqTz75JA444ADss88+ePzxx3WXQ0RNiuGzAY3hczgM56iZsX83j3/84x9YsmQJLrzwQt2lUJ1t27YNbW1tGB0d1V1Kw9m1axe6urqwatUq3aUQhfLOO+/gW9/6FpYsWYI99tgDV111FReYJaKGMDk5iUsvvRQigs985jNce4GI5hzDZwMaw+dwGM5RM2P/bh4XXHABlixZgn/84x+6S6E6W7VqFTo7O7Fr1y7dpTSkoaEhnj9qWO+88w6++93vYp999oGI4PLLL2cITUQN4fHHH8c+++yDAw44AGNjY7rLIaImwvDZgMbwORyGc+WlUilYlgXbtpHJZBCNRpFKpXSXRVVi/24ODz30EEQEjz32mO5SqM527dqFzs5Ojtydhe3bt3PkODW8nTt34nvf+x723XdfiAg++9nP4sUXX9RdFhFRWa+99houvPBCiAiuuOIKvPPOO7pLIqImwPDZgMbwOZxGDuds20YsFqu4XyaTqWpbEBU+P/PMM0in0xCROQ2fq60DQFX9n8F4oUbu3zTtzTffRGdnJy655BLdpZAGas7ibdu26S6loa1cuRIrV67UXQbRrO3cuRM33XQTIpEIRATJZJIhNBEZ76c//Sn22msvdHd347//+791l0NEDY7hswGN4XM4jRzOJRIJiAhs2y65TyaTKQpkg7ZVw3GcOQ14Z1JHKpUqWUMul6sqjG8ljdy/adrVV1+NhQsX4s0339RdCmnQ19eH3t5e3WU0PC48SM3oBz/4Afbff3+ICC655BL87W9/010SEVFJr7zyCk499VSICL74xS9i586duksiogbF8NmAxvA5nEYN52zbhmVZEBEkEonAffL5PCzLKghqg7aFMVfh80zryOVyZWvgyOdCjdq/adpf/vIXiAhuvfVW3aWQBhMTE2hvb8fIyIjuUhqemr5kaGhIdylEc+5HP/oR3vOe90BE8OlPfxrPP/+87pKIiEr6yU9+ggULFmDp0qV45plndJdDRA2I4bMBjeFzOI0aziWTSWQyGcRiMYgUj372htOqXXrppUXbUqmUexz1b8uyEI/Hkc/nkUwmYVmWe1zvbdSxkskkHMcBsHtksjcgVoGx2hZUm9rXcRx3RLeIIB6Pu8f2HqtSyFzqMZXaru5bPV4RQTQaRTabreq4pmrU/k3Tjj/+eBx55JG6yyBNhoeH0dHRwVXi58jg4CC6urq48CA1rUwmgwMPPBAigoGBATz33HO6SyIiCvTSSy/hxBNPhIjguuuu010OETUYhs8GNIbP4TRiOOc4DqLRKIDdYWyp0c9BQa0yv/OrAAAgAElEQVQ/7M1ms27Qm06nkUwmEYvFkMvlEI/HISIFt1Xhq/fnyWTS3Sefzxfdb9A2///V40qn0+5jsyyrYCqNUuGzbdvu7Uo9pqOPPrrkYwWAaDSKRCIBx3EKQnA1L3W5c2WqRuzfNO2BBx6AiCCfz+suhTTp6enBwMCA7jKaxpYtW7jwILWEW2+9Fd3d3RARXHTRRdi6davukoiIAt1yyy3o6OjAihUryk4lSUTkxfDZgMbwOZxGDOfUqFul1OhnoHL47N0WFGCrkczlbht0/9Xcr///6XS6qIZkMlkQwHlHUftbtY8paHsmk4GIFIyydhwHkUikYOR3ueOaqBH7NwFvv/02IpEIPvGJT+guhTQZHx+HiGBsbEx3KU2lt7cXfX19ussgqovbbrsNBx10EEQEH//4xxlCE5GRbNvGihUrMG/ePNx33326yyGiBsDw2YDG8DmcRgvnvKOeFRXIekcfK2HC56CpLKoJn1Vwm8vlQt2H//8qxA5qKmwvNfI5l8tV/ZiCtsdiMUQikaJ9Vfhd6bGZqtH6N027/vrrMW/ePOzYsUN3KaTJZZddhiOPPBJTU1O6S2kqIyMjaG9vx8TEhO5SiOrmjjvuwMEHHwwRwQUXXMBrAiIy0uc+9zmICD7zmc9wMUIiKovhswGN4XM4jRbOeedU9jfLsgpG7gL1CZ9VIDwX4XOlULfcnM/e0eDlHlOp8Nk/whnY/fgZPlO9vPDCCxARrF27VncppMnk5CQ6OjowPDysu5SmMzk5ic7OTqxZs0Z3KUR1d+edd2Lp0qUQEfT39/PagIiMMzo6CsuysGzZMn5bg4hKYvhsQGP4HE4jhXNqGgh/wAzsDklnGjTPJnxW8yB756adafjsH9WtHrcKf6tdcLDcYyoVPotI0blVj7/SYzNVI/VvmnbGGWfg4IMP1l0GacTRubWlFh7kqHJqVevWrcOhhx4KEcF5553HawQiMsq2bdvQ09ODjo4O3HnnnbrLISIDMXw2oDF8DqeRwrlUKlUy9HQcB5ZlFY1+rkf4nEgkiqasECmcBsRxnIrhczqdhogUjWBOJpPuY6oUPnsXHgwTPqv79m9PJpOBj43hM9XCr371K4gIHnnkEd2lkEacl7i2OJ820bR169bhsMMOYwhNREYaHByEyPRaO2+//bbucojIIAyfDWgMn8NplHAul8vBsqyiYNYrGo26v6BVWGtZFmKxGIDpEcpB2/L5PEQkcFR1PB6HyO6RvyKCaDTq/j+dTsOyrIKRwQDchfqy2SwymYwbYsdiMXcUs78ONbJb7ZdKpYqm4lBzMAfNb53L5RCNRmHbdsnHVGq7mkvbsqyCUdbqMVS6vakapX/TtIMPPhgnn3yy7jJIo23btqGtrQ2jo6O6S2lqsVgM/f39ussgMsJdd93lhtDnnnsutmzZorskIiIAwCOPPIIFCxbgkEMOwbPPPqu7HCIyBMNnAxrD53AaIZxTo31VKzWa19+A3YsBxmIxNyz1btuwYUPg7YDiBQBzuRyy2awbSIsI4vE4bNsOrNmyrIKg2LIsJJNJd/+g2mzbdo9vWVbRSOlKTYXbQY+p1HbFcRwkEgn3Z9FotGCu50q3N1Ej9G+atnbtWogI/vrXv+ouhTQaGhpCZ2cndu3apbuUpsapTYiK3X333Vi2bBlEBOeccw5DaCIywgsvvICjjz4ae+yxB3784x/rLoeIDMDw2YDG8DkchnPUzNi/G8OOHTswb948XHvttbpLIY2mpqbQ3d2NwcFB3aU0PS7qSFTaPffc44bQZ599NkNoIjLCtddeCxHBmWeeibfeekt3OUSkEcNnAxrD53AYzlEzY/9uDBdeeCE6Ozs5n12Le/TRR9HW1oY//OEPuktpCQMDA+jp6dFdBpGx7rnnHndKN4bQRGSCXC6HRYsWobu7m7kHUQtj+GxA45twOAznqJmxf5vv97//PUQE69at010KadbX14fe3l7dZbSMTZs2QUSwadMm3aUQGe3ee+91Q+izzjqLITQRabVjxw78y7/8C0QEN998s+5yiEgDhs8GNIbP4TCco2bG/m2+E044AcuWLdNdBmk2MTGB9vZ2jIyM6C6lpfT09GBgYEB3GUQNYf369Tj88MMhMv21d4bQRKTTV7/6VYgIPvrRj+L111/XXQ4R1RHDZwMaw+dwGM5RM2P/NtvGjRshInj44Yd1l0KaDQ8Po6OjA5OTk7pLaSk870ThrV+/HsuXL3dD6M2bN+suiYha1BNPPIHOzk50dXVh69atusshojph+GxAY/gcDsM5ambs32Y75phjcMwxx+gugwzAEbh6TExMoKOjA5lMRncpRA0nm826IXRfXx9DaCLSYseOHTj66KPR0dHBAR1ELYLhswGN4XM4DOeombF/m+tnP/sZRAS//e1vdZdCmo2Pj0NEMDY2pruUlsSFB4lm57777sOKFSsgIjjjjDMYQhORFhdddBFEBNdff73uUoioxhg+G9AYPofDcI6aGfu3uZYtW4ZTTjlFdxlkgMHBQXR3d2Nqakp3KS1pbGwMIoLx8XHdpRA1tPvvvx9HHHEEQ2gi0uaWW26BiGDlypV44403dJdDRDXC8NmAxvA5HIZz1MzYv8107733QkTw9NNP6y6FNJucnERnZyfWrFmju5SWNTU1ha6uLgwODuouhagpPPDAA24Izek4iKjeNm3ahMWLF+OQQw6Bbdu6yyGiGmD4bEBj+BwOwzlqZuzfZjrooIPQ19enuwwywMjICNrb2zExMaG7lJa2Zs0adHZ2cuFBojl0//33u9NxMIQmonp68cUX0dPTg/nz5+Oxxx7TXQ4RzTGGzwY0hs/hMJyjZsb+bZ5bb70VIsIVuQkA0Nvbyw8iDDAxMYH29naMjIzoLoWo6TCEJiJd+vv7ISJYvXq17lKIaA4xfDagMXwOp9HDuVwuF9gPGoVt28jlcgBKPxZ/U/tTZY3ev5vRPvvsg49//OO6yyADbNu2DW1tbRgdHdVdCgHo6+tDb2+v7jKImpY3hD7zzDOxZcsW3SURUQsYHh6GiOD000/HO++8o7scIpoDDJ8NaAyfw2mGcM5xHMTjcYgIksmk7nJCSSQSRWFyLBYrGTKnUimkUql6ldfwmqF/NxN18fv888/rLoUMMDQ0hM7OTuzatUt3KQTg0UcfRVtbGwMxohq77777sHz5cobQRFQ3v/nNb7Bw4UKsWLEC27dv110OEc0Sw2cDGsPncJolnEulUiUDW1NlMpnAmis9FobP1WuW/t0MJicnsddeezXcB0RUG1NTU+ju7uYidwbhwoNE9eUNoc866yyG0ERUU9u3b8eKFSuwcOFCbNy4UXc5RDQLDJ8NaAyfw2mWcM4f2DqOg3Q6jWg0ilQqhWw2i0gkApHdo6NzuZy7LRaLwXEc2LaNdDqNSCSCXC6HZDIJy7JgWVZg6GvbtjvqWkQQj8eRz+fdn6s6vMcTEZx//vlFfVfVXk2Qbtu2W5vjOIjFYrAsCyMjI4Hb1bEq1VvquI0U6ns1S/9uBt/+9rchItixY4fuUsgAY2NjEBGMj4/rLoU8OBqdqP4YQhNRvbzzzjs4++yzISK48cYbdZdDRDPE8NmAxvA5nGYJ5/yBrQqRVbCstqttiUQC6XQawO65ltPpNPL5vBsQx+NxZDIZZLNZRKNRiAgymYx7n7Ztw7Is9zi2bSMajcKyLDfQtW3brS2RSCCbzSIWiyGVSrn3W+3I52w2627L5/NuiKzC9Wg0itWrVwduz2azVdVb6rjZbHZOn696aZb+3QyWLFmCT37yk7rLIEP09/cjFovpLoN8tm/fznm4iTRhCE1E9bJ27VqICPr7+3WXQkQzwPDZgMbwOZxmCeeCAlsV7vpHLJfapoIQdTtv4Oo4DizLQiQScbclEglEo9GC4+TzeTe49tfhDa6920uFz0HNu6/az7btwNv7t1dbb6nbN6Jm6d+N7rbbboOI4H//9391l0IGmJiYQHt7O0ZGRnSXQgFWrlyJlStX6i6DqGV5Q+izzz6bITQR1cTGjRsxf/589PT04MUXX9RdDhGFwPDZgMbwOZxmCedqET77Q2E1Ith7m0QiUVSLGiXtr8N/vLAjn9Voaf9+pc6FX7X1lrp9I2qW/t3ouru7ccYZZ+gugwwxPDyMjo4OTE5O6i6FAoyOjqKtrY0LEhFpxhCaiGrNtm0sW7YMixcvxqZNm3SXQ0RVYvhsQGP4HE6zhHP1CJ/9oaxI4YhhJRaL1SR8tm171uFzNfUyfKa59J//+Z8QEfzP//yP7lLIED09PRgYGNBdBpWwa9cudHZ2YmhoSHcpRASG0ERUW5OTkzj99NMhIrj77rt1l0NEVWD4bEBj+BxOs4Rz9Qif1VzQ3tv4p7EA4C7S569jtuFzqcdc7fZq62X4THPpmGOOQW9vr+4yyBDj4+MQEYyNjekuhcpYtWoVurq6uPAgkUG8IfQ555zDaxsimlNf/vKXISL88JmoATB8NqAxfA6nWcK5eoTPkUikYNoKNQ2Hf79oNFqw31yHz2rhwbDhc7X1MnymuTI2NgYRwWOPPaa7FDLE4OAguru7MTU1pbsUKoMLDxKZa/369Tj88MMhIjj33HN5jUNEc+b222+HiODjH/+47lKIqAyGzwY0hs/hNEs4p4LVZDLpbstkMkXbghbYcxwHItOjgh3HcUPhaDTqLrqXSqVgWVbBInz5fB6WZRXsl06ni/ZLp9NF9+mtJZVKuffrOI47DYZ3wUPvY1Kjl9VjTqfTgefCv73aekvdvhE1S/9uVCtXrsSKFSt0l0GG4HQOjaW3txd9fX26yyCiEu6991533Y7zzjuP1zpENCcef/xxzJs3D729vXj99dd1l0NEARg+G9AYPofT6OGcCor9TY3eVS0WixVtE5HA26tt8XgclmW5t8/n80X3n8/n3bBY3cYb5AbV4ZVIJCAyHZCXeixBj817n2obgJLbq6230u0bTaP370b2xz/+ESKC++67T3cpZIj169ejvb0d27Zt010KVWFkZATt7e2YmJjQXQoRlXHPPfdg2bJlEJleWJrXPEQ0W+Pj49h3332xbNkyLkBMZCCGzwY0hs/hMJwrVmo6DGo87N/6XHDBBejq6tJdBhmEI2kby+TkJDo7O7FmzRrdpRBRFe666y4cdthhEBH09/fz2oeIZuXFF1/EihUrsGTJEjz99NO6yyEiD4bPBjSGz+EwnCvG8Ll5sH/rsW3bNogIbr31Vt2lkCG2bdvGOYQb0ODgILq6ujhHN1EDWbduHQ499FCICM4//3xs3bpVd0lE1KDefPNNnHLKKdhjjz3w0EMP6S6HiP4Pw2cDGsPncBjOFVNTZWQyGd2l0Cyxf+vxhS98AZ2dnbrLIIMMDQ2hs7MTu3bt0l0KhTA+Pg4RwdjYmO5SiCikO++8E4cccghDaCKatYsvvhgigu9///u6SyEiMHw2ojF8DofhXCH/nMf+OZqpsbB/19/bb7+N+fPn45vf/KbuUsgQU1NT6O7uxuDgoO5SaAZisRj6+/t1l0FEM/STn/zEHQnNhQmJaKbWrl0LEcHnPvc53aUQtTyGzwY0hs/hMJyjZsb+XX8//vGPISJwHEd3KWSIsbExiAjGx8d1l0IzwIUHiZqDd07os88+m9dGRBTa/fffDxHBqaeeip07d+ouh6hlMXw2oDF8DofhHDUz9u/6W758OS688ELdZZBBBgYG0NPTo7sMmqHJyUl0dHRgeHhYdylENAfuueceRKNRiAj6+vqwZcsW3SURUQN56qmnsNdee+GYY47BK6+8orscopbE8NmAxvA5HIZz1MzYv+vrv/7rvyAieOqpp3SXQoaYmJhAR0cH59BvcPwAgaj5rF+/HocffjhEBB/72MewefNm3SURUYOwbRuHHHIIurq6OJ88kQYMnw1oDJ/DYThHzYz9u74SiQSWL1+uuwwyyPDwMDo6OjA5Oam7FJqFTZs2QUSwadMm3aUQ0Ry7//77sXz5cogIPvKRjyCfz+suiYgagOM4OO6447BgwQL8+te/1l0OUUth+GxAY/gcDsM5ambs3/Xz8ssvQ0Rw22236S6FDNLT04OBgQHdZdAc4HNJ1NweeOABvPe973VD6Kefflp3SUTUAPr6+iAiuPvuu3WXQtQyGD4b0Bg+h9Os4Zxt20ilUohEIsjlcrrLKWDbNtLpNCKRCFKplO5ymlqz9m8Tfe1rX8P8+fN1l0EGGR8fh4hgbGxMdyk0BziKnag1bNiwAUcccQREphcVYwhNRJVce+21EBF8/etf110KUUtg+GxAY/gcTq3DuVQqFfg8AUAulyvaPldhbD6fRyKRgIgYGT5ns9mCxxt0LtR5CnNc0x5rOfWYA5bhc/3ss88+uOaaa3SXQQYZHBxEd3c3pqamdJdCc4DzdxO1lvvvvx8rVqyAiOC0005jCE1EZd1yyy0QEX5LiqgOGD4b0Bg+h1OPcM5xHHdVbf8frbZtQ0QQj8dh2/ac3q8KeE0MZFXY7A3bHcdBPB6HiCCZTIY+ZiKRMPKxlhKJRGp+Hwyf62P9+vUQEbzwwgu6SyFD7Nq1C52dnRgaGtJdCs0hLjxI1Hruu+8+d07o008/nQsTElFJDz/8sPteQUS1w/DZgMbwOZx6hXOxWKwoCFZha61GUamA18RANih8BnaPFA9bcyaTMfaxBlGj0muN4XN9HH/88TjttNN0l0EGGR0dRVtbG7Zt26a7FJpDY2NjEBGMj4/rLoWI6iybzeLwww+HiOBjH/sYQ2giCvTkk0+io6MDJ510EqfqIqoRhs8GNIbP4egKn23bRiwWK7uidj6fd29nWZY7GlhtU00d0zt1RSwWKwifk8mke5x0Ol10X7Ztu6OORaZHYvtrcxwHiUQClmVBRBCJRNzg3HEcdx5n7/2p+/Ie37Is9zFUCp/9x81ms4hEIhDZPTpajfAOOife/b312raNZDIJy7LgOA5isRgsy8LIyEjgdu+x/c+p2pbP5wtuqx5vJBJBNpt1b6fOTdAx5xrD59pT5/jnP/+57lLIICtXrsTKlSt1l0FzbGpqCl1dXRgcHNRdChFpcu+997rfaOzr62MITURFNm/ejMWLF+Ooo47Cq6++qrscoqbD8NmAxvA5HB3hcy6XQywWKzvNRj6fL1gsMJ1Ou2GtN9j0hprAdNgai8XgOI4bPqvR1dls1r1Y9t7Otu2CUNq2bUSjUViWVRBAJxIJRCIR2LZdUIPjOO4ChyKCRCLh1qHqjUQiSCQS7r6qjkrhs/+4qVQKuVzOvW9VX9Ao70wmg2g06tbrnQM7n8+7x0ilUu65Wb16deD2bDbrbvfyblPPq8h0MJ7NZpHJZNzw2vt8q8dUawyfa+/yyy/HAQccoLsMMsi2bdvQ1taG0dFR3aVQDaxZswadnZ0czUTU4u655x4sW7YMIoIzzzyTITQRFXjuuedwwAEHYOnSpdixY4fucoiaCsNnAxrD53DqHT6rsLLS9BBB03GoQBiYHhFsWRYSiUTBPir4BYIDWXU773zDiUQC0Wi04Dj5fN6t11uT9//+OaXV/fnrVqG1l3/BQSVo2g11XG9g7n9sQY/VsqyCwNdxnILHpO7L/yFApe3ltqn/O45TVKv3uWL43DwWLlyI1atX6y6DDDI0NITOzk7s2rVLdylUAxMTE2hvb8fIyIjuUojIAHfffTcOO+wwhtBEVGTHjh1YunQpDjjgADz33HO6yyFqGgyfDWgMn8Opd/ispq2wLKvsXM/lnmMVivpDUrWwoVJqzmf/fMP+YFRRo5P9vFNWVAqAAQSG5GHmfA46rv/2pcLooKaC8FIBcJjtpcJnPzXVSKX95hrD59rasGEDRAQvvfSS7lLIEFNTU+ju7ua0DE2ur68Pvb29ussgIoOsW7cOhx56KEQYQhPRbq+++iqOOuooLF68mO8LRHOE4bMBjeFzODqm3VBTaohI4PzLAAJDXD//6OdUKlVwvFJhsD/4FCkc4eyv2Xt/KnROp9MlRz777y8oZK5X+FxOPcPnWCzG8LkJfexjH8PJJ5+suwwyCBekaw2PPvoo2trasGXLFt2lEJFhfvKTn2Dp0qUQEZx11ll8nyAiTE5O4qSTTkJHRweefPJJ3eUQNTyGzwY0hs/h6FpwUI1SFgkedSyye0E9L/8cz97Rz5FIJHC6B38YrAJk7335p91QNXv3i8ViiEaj7n1UM/WFOr4/3K5X+Ow/X8Duc1jP8DkajTJ8bjKvvPIKRATr1q3TXQoZZGBgAD09PbrLoBrjwoNEVMmdd96JQw45BCKCc889l9diRITTTz8dIoKHH35YdylEDY3hswGN4XM4usJnRU2B4Q11gen5lf0L/qn9vbxzOJea2sJ/n/59S81DHY1GC/bzh8XVhs+RSASWZQUG47UKn4HpqS7851UtYOi9L79K273HSyaTFcNn27YhUjgXNsPnxjc8PIyOjg7s3LlTdylkiMnJSXR0dGB4eFh3KVQHnNubiKoxMjKCgw8+GCLTA054TUbU2gYGBiAiuPPOO3WXQtSwGD4b0Bg+h1OPcM47yjlonmc1BYeaB9pxHHfBP3WhmkqlEIlEAqfiUEGmP6j2LnRn2zYcx3EXF/QGqPl83g1q1fzR6XS6aME+b5hr27YbnKfTabeJFI9yVtNzeI+vQttEIlFQtwrCvaO+1XG9QbU6ptpPna9UKgXHcZDL5dzbWZaFZDKJZDJZMDpc3Zd/6pNS2zOZjFtzLpdDMpl0981kMm6wrfZxHAeO4yAejxeNLFe1qWlY/IsbzhWGz7UTjUbxqU99SncZZJCRkRG0t7djYmJCdylUB9u3b0dbWxtGR0d1l0JEDeCOO+5gCE1EAIArr7wSIoKbb75ZdylEDYnhswGN4XM4tQ7nVBjpb4oaEe1vuVwOuVzODa0jkUjgFBLAdPAaNG0GMB1yqmOoENYbPHuP4a0lHo8XBaKZTMZdLDGdTsO2bXchvauuuqqgfu8UE8B0WKxC9lgshnQ6jUgkglQqBdu2Sy4Q6D9/sVgscBuwexS5P7j23q8Kuv3nXQXbpbYrKmyORCLI5/NIpVKIxWLuhwre8FkdQwXRXuoDiUoLT84Ww+fa+MMf/gARwdjYmO5SyCCxWAz9/f26y6A6WrlyJVauXKm7DCJqILfffjsOOuggiEzPCc0FyIha09q1ayEiWLVqle5SiBoOw2cDGsPncJohnEun0zUNMKl69ZpOo1rN0L9N9MUvfhH77bef7jLIIOPj4/xAogWNjo6ira0N27dv110KETWYTCbjDpA45ZRTsHHjRt0lEVGd3XnnnRARDAwM6C6FqKEwfDagMXwOpxnCuVKjnqn+GD63hiVLluD666/XXQYZZHBwEN3d3ZiamtJdCtXRrl270NnZiaGhId2lEFEDeuedd7B27VosWrQIIoLjjz8eTzzxhO6yiKiOHn74YYgITj/9dN2lEDUMhs8GNIbP4TRiOOc4DmKxGOLxOOLxeNHcxKSPmrajVnM4h9WI/dt0jzzyCEQEzz//vO5SyBAMIFvbqlWr0NXVxYUHiWjG3njjDXz1q19FZ2cnRAS9vb343e9+p7ssIqqTJ554Ah0dHTjppJMwOTmpuxwi4zF8NqAxfA6nEcM5x3EQiUTcuZfJDP7Xon++aB0asX+b7rzzzsPxxx+vuwwyiJp6Ydu2bbpLIQ248CARzaXbbrsNRxxxBEQEF1xwAXbs2KG7JCKqg82bN2PhwoU46qij8Oqrr+ouh8hoDJ8NaAyfw2E4R82s1v17fHwcJ554Yku1d73rXTjssMO01xGmjY+P8/mvYdt3332xaNEi7XWwf+hrixYtwr777qu9jkZstep/RKYaGRmp6rVxxBFHwLIs/L//9/9w9NFHa3+tslXfBgcHdXezllHt66lR2rHHHot/+qd/wuLFi7XXwlbcRkZGdHd5+j8Mnw1oDJ/DYfhMzazW/XtsbAwigp6eHvT29rZEO+GEE3DCCSdor6Oa1tPTA5HaLYLXis9/qXbcccdpryFsY/9o7edfd6t1/yMy1dDQEBYsWFD1a2XFihXaX69s1beuri709vbq7mYtI+zrqRFaLBbD+9//fu11sBW2BQsWcIo9gzB8NqAxfA6H4TM1s3qFzwwPzFTr54fPf2Nj/yCd2D+oVQ0NDaG3t1d3GVQjfH7ri+eb6qW3t5fhs0EYPhvQGD6Hw/CZmhnD59bGcJHKYf8gndg/qFUxLGtufH7ri+eb6oXhs1kYPhvQGD6Hw/CZmhnD59bGcJHKYf8gndg/qFUxLGtufH7ri+eb6oXhs1kYPhvQGD6Hw/CZmhnD59bGcJHKYf8gndg/qFUxLGtufH7ri+eb6oXhs1kYPhvQGD6Hw/CZmhnD59bGcJHKYf8gndg/qFUxLGtufH7ri+eb6oXhs1kYPhvQGD6H0yjhs23bSKfTsCwLIoJMJlN2f8dx3H1FBLFYrE6Vzr1cLldV38/lcrpLNQ7D59bGcJHKYf8gndg/qFUxLGtufH7ri+eb6oXhs1kYPhvQGD6H0yjhsxKLxSAiiEQiZfdLpVJun8jn83WqrrbUYw8KmVOpFFKplIaqzMbwubUxXKRy2D9IJ/YPalUMy5obn9/64vmmemH4bBaGzwY0hs/hNGL4HI1GIVJ69LPjOIhGo25Y2yxUoF5qhDPD52IMn1sbw0Uqh/2DdGL/oFbFsKy58fmtL55vqheGz2Zh+GxAY/gcTiOGz5lMBiKlRz+nUilkMpnA8Dmfz7vbLctCMpkEMB1Yp9NpRKNRpFIpZLNZRCIRiIi7Ty6Xc7fFYjE4juMe17ZtxONxtx/G4/GCEdfq+JFIBLlcDslkEiKCAw44oKD/qmDZO9WGmjKkUvhc7n6uueYaJJNJWJYFx3EQi8VgWVbB/alQ37IsJBKJosdX7vamYvjc2hguUjnsH6QT+we1KoZlzY3Pb33xfGC5KlkAACAASURBVFO9MHw2C8NnAxrD53AaMXzO5XJIJBIQEWSz2YKfO47jhtL+8Dmfz7uhLACk02mICFKplDuntAp7/fskEgmk02kAu4Nh9X/btmFZVsH/o9EoLMtyA2jbtt3wOJFIIJvNIhaL4corr3RDa/9jUfuoELhU+JzNZt1tpe7nE5/4hHs/KlyPRqPIZrPIZrNFQbRlWYhGo+595/P5krc3GcPn1sZwkcph/yCd2D+oVTEsa258fuuL55vqheGzWRg+G9AYPofTqOGzbdtuUOzlnfvYHz7H4/GiqTpUSAzsDpX901eU2qbuO5FIIBqNFvw8n89DZHoEtKKO769BLY6YSCQKtqvw2PvYSvV7byBd6n7U7W3bLtgeiUTc0d2KCt1VoF7u9iZj+NzaGC5SOewfpBP7B7UqhmXNjc9vffF8U70wfDYLw2cDGsPncBo1fAbgjn72Bq/e0br+8Llcv7Fte8bhs4gUBceqFu/9q+OXWjDQG+yqeauD9vHfPpVKBYbPQft56/HuGxSIex9jqdubjuFza2O4SOWwf5BO7B/UqhiWNTc+v/XF8031wvDZLAyfDWgMn8Np5PDZP/o5k8kUhMRB4XO5OYpnEz57RziXuv9y4bN/9HMqlSoYday2Bd1eBeeV7qdc+Oy/L/9jLHV70zF8bm0MF6kc9g/Sif2DWhXDsubG57e+eL6pXhg+m4XhswGN4XM4jRw+A4Wjn72jntW+/vDZP70EAHdqi9mEz/5Ryur+1ZQe3uOXCsC9o58jkUjBY/H+vNIifzMJn4POiz9UZ/hcjOGB2RguUjnsH6QT+we1KoZlzY3Pb33xfFO9MHw2C8NnAxrD53AaPXxWo58tyyoKiIPmfPYuAqio0cYzDZ/VQnz+sDcajRZMx1EpfFajnyORSOA0HpXCZ7XwYJjwGQAsy4JlWQVht5p2wzsdB8PnYgwPzMZwkcph/yCd2D+oVTEsa258fuuL55vqheGzWRg+G9AYPofTSOGz4ziIRCJFU0SoUNkbntq2DcuyICJu2KwWARSZnqM5lUohEom4IW0mk4FI4SjgoIUDVTCrRlrn83lYloVoNOrO2ZxOp2FZVsHifGoRv6ApOhQV8PoDcsdx3DDduwihkslk3NHXpe5HheT+86cedyKRgOM4cBwncBHFUrc3GcPn1sZwkcpp9v6RSqWKfjcqjuMgk8kgFosVfbiqU7mam43u/kGkSyOFZblcDolEomiBcyqtkZ7fZtAo57vSICwyH8NnszB8NqAxfA6nUcJnFcp6m6IuDMvtqy4a1fQcIoJIJOIGuf7bqD/I/cdRvzj9deTzeTccFpkOfr3Bc9Dxg+Tz+aLQN+g+g1oqlSp5P97a1L5e2WwWkUgEItOjyJPJZOAUJqVubyrTwmfvOfRPE6P4z7WuP3iC+n9QM5mp4WI+n3c/zFHvF/l8PnD6m7ninxt+tqp9XzL5jwxT+4eXbdszfg8ICnLVt1kcx0E2m9X+fu5f7DZs+Fzt70YTMXymVhU2LAt6Xdfr2kj93VCv+/NfA+p87DPVKGFoswh7vnX1sVYMn73XOM3w2mb4bBaGzwY0hs/hNEr43CrS6XTRH+M0c6aFz8D0hYgalR80vQqwe8S9fwR8vampYESKQ2bHcRCPx42+iDQxXFTfylDfNAAKPxSrlUQiUZPnSl1MBx1bfSBmKhP7h59a18D7YeZM+RflBYKnlaqXoHpmQn1QFnSsXC5n7B9zDJ+pVc0knFQflkUikTl5PwwjFovV9X1EhXRB96nWhTEZw+f6msn5bvQ+1giCBg80+nln+GwWhs8GNIbP4TB8NkvQwoU0cyaGzwDcKV9Eghd7BFDTIDIM/9zpXmqOcVOZGC6WmjtdTStUC2pqnVo8V5Xmomf4PPPje6ePKvVBVbXU9FCmhM+l6pmJUus1KKb2QYbP1KpmGk6WCm1qrd7hM1D+sZr6nqYwfK6vWryeTO9jpnMcp+Q3Jhr5vDN8NgvDZwMaw+dwGD7rpeZyjsfjiMfjDTWfciMwOXzOZrPuaNeg0e7egFLNw62CqEgkUvD1+XQ6jWg06h7XH2zncjl3WywWK/hKu3fKGDXlile58FmxbRvJZNL9unwsFoNlWRgZGQncroJK74hf/2jgcsetNkQ1MVwsNa+7+pni/3qe95ypbUcffTTS6bQ7d33Qc69Gi/mPVa5P+adcSaVSBffrvWiuFD4DM+8ftm0HTk9S6biN3D+8ksmkOy+zSPDoZ++8zepbFd5pXNTaA+p59j6nwO7w2fs+4H1+M5kM4vE4YrFY0T6O47gje1Qf8j4/qo95nz91m6B6vDX7j6H2V3V4VQqf1XG8r5VkMgkRcb9tFHQOgcp9sNxxK2H4TK2qHuGzel2q96ZS7w/V7OcPn0t9fd67j39bNpt1545WU+yVek+r9rF656PO5/OIRCKIRCLYsGFD4HZ1fVXpMZc6brXTITF8rq9avp68fcH7O937+97/OlC8rxPbtgt+V1bqY2H6aKm61D7qGtG/j+M47u9sy7JKTgMmMj1Vov+45e5bvb5LvTc06mub4bNZGD4b0Bg+h8PwWS812tGyLAbPNWBy+KwCQHWR4A/MvBdwiUTC/aqpmu5CRNwgRy0yGYvF3OOobYlEwu1bKqRR/1cXHv7bBIWgfv6FOVVN3mB99erVgduz2Syy2WxREK0W7lQXQaWOG7ToZhATw0XvVCapVKrkBZ/3efY/3mw2i1gshmeeecYNf9Uiqrlczr2d90LZ38fK9SnvbbxBYNAHZKXC52w2626bSf9QAaW6P9u2EY1GYVlWwSKyzdY/FDVqBtj9XPhHP3vnbVbPTTKZdN8H1LlR/K9ttS0ej7t/dKnjZTIZOI7j3rf3wwk1LZAKbNX7UCQScUNbVb/3vceyrKI/wLz1+GtWx1AfSqk+4f+GQKnwWb03qn97XyvqNXTllVeWPIfV9MFSx61m9BLDZ2pVtQ6fk8lk0SLgQe+h1e7nD5/VB+fqd426lvPu492m3kvVNY6aBku9dwR96ynosTqOU/SeGYlE3MEHaiDCyMhI4Hb1gW2lx1zquNVOd8Lwub7m8vVUro+p33He35nA7m8yea8hFRXa5vP5guvFcn0sbB8tVZd3gEs6nYbjOO7rMhKJIJlMFlwDe693E4lEwbWH+t2vXsuV7hso/Y2JRn5tM3w2C8NnAxrD53AYPlMzMz18BnZftHkDDaAwfFYj4xV1keMfDVvNV+q9Fz3e0ElRF1hKuQUy/I9JpHh0Zqnt6sLPS10oeQPOUrevhqnhojfsVVMPBIXQKqj2/yGsLnaB3c+9N3D1h81B4XOlPgXsnq5DjcANCtTKLUzpPVbY/pFIJIqmIVKhp7fuZuwfANxRuEq50c8iwdNy+Kd4KfV+4H8d+vfzvmd46wnapu4vnU4HBj0iUjBayl+Pt2Y1gsfL/wciUH7xS/8fcyKlv2kS9Dqrpg+WO245DJ+pVdUyfLZtu+h3IoCiD2Wr3Q8ofL/LZrNFi3L79ym1LRaLFb2nqPc8//tHqfe0oPsICq+Dtod9zDOdCozhc33N5vVUbR/z91t/3w66FrNtuyj49F4bzkUfrVRX0ACaoOnvvMG4Gpjjpa6R1d8n1d53qfC5UV/bDJ/NwvDZgMbwORyGz9TMGiF8BnYHGt6vPvkvjIDCaQa8F3AzDZ/LvZeqC8igCzcVnvofU1DNQdtLhTWO4xRdgJU6bjVMDheB3YuhiQR/5Q8ovqD3johVx/D2Be829dyXW2G8VJ9S1NcJ/c+3vz7/7fx9PEz/AEoHqv6FGZuxf/ifY2D3cxg0R3zQ6xyoPnyuFEj7X5NA5fC53IdWqp8H3be35mrnWS31/qdGFvr3C3odlDoP1fTBcscth+Eztapahs+lPpBU4ZF6nVe7H7D7vSiVSpWcf7/a8Nm/j7r+K3etpvjDvFLHLLV9Jo95Jhg+19dcvp6q7WP+vw2CBkuo6bSUoPB5rvuov66ZhM/lBlWox1ftfVc78rlRXtsMn83C8NmAxvA5HIbP1MwaJXwGdo8yVdNO+C/qVECYTqfnbOSz9xillJp2I2hutKD9yoXPQVPN+C/KmjFc9PN+NdA/asF/Qa++Jue9rf95rCZ8rtSnvPuJiPt1Q79S4bNt27MOn4MCb39/bMb+Ue4Pn6DnIeh17j1Ouf0qvUcE/R+oLnyuNPVE0H3PZfgMFL5PzSR8rqYPMnwmCqce4XOlueGr3Q/YPcoxaBShd5+ZhM/qcVUTPgPF114zCaiqfcwMnxvDXL+equljQX8bqMEK3qksvMKEzzPto3MVPlfq+3MdPgON8dpm+GwWhs8GNIbP4TB8pmbWSOEzUDg/l/8CxjsXcqlpFWYSPgeNpPQGoKXC56DHFLRfufC51CjOoGkVZsLEcLHcFBulLki9Ixr8C4PMNHyu1KcUNTWLf75ef22VgreZhM/+0b+qbu+0C83WP9R8hOWC/mpe5979y+1X6T0i6P9AdeFz0POn5kssdd/+8Nk/xQZQ/MFGNQsOevcLEz5X0wcZPhOFU4/w2f9Brv9D72r3A3a/36lvpfinSfPuU25b0D7qd3+14bPfTAKqMI95Jhg+11et51CvNnxWUz+oqdr8YWqY8HmmfXQuRz4HXYepumoRPvuZ+Npm+GwWhs8GNIbP4TB8pmbWaOEzsHvkgPcCxv+HyVyFz2r+VP8fUd6vflUKn1WYGjZcVPNcey/u1B9h3gvWZgsX/SOXvbwLtnmp0c+RSKToa3kzDZ8r9Slguh+ovqFGRvs/MKgUPquFB8P2DzXCzH9ctcBLpdtXw9T+USpEVf3A/7oJep2rY5V7Hym3bbbhs/ogzf/Hp3eu1KD79tZcKmwv9Roodd7UwoNhw+dq+yDDZ6JwahWWqa/5B+2nfoepr6VXux9Q+H6n3oe9H96qffwfVkWj0Yrhs/rWm//r8pUeq/pdHCagmuljDovhc33V6vVUro+V+ttA/V0RdNxqwufZ9tG5CJ9VDf5rDbWwYJj7nkn4bPJrm+GzWRg+G9AYPofD8JmamanhczweDxz16/259wLG+4eOmhdMZPqT7HQ6XbAwnBK0MJYKd9Wx1D7qIiuVSiESibgXhrZtl1zBWgXO6uJM1ewPVkttVzWr1aQdxwlc4KvU7athargoMh10eedxVs9pqQCr1FfqVMjnDc78QbF3Tkk18rRSn1IrfXt5Vw1XdauLbf9oC2D6OVbPZ9j+oRbi9K/cbVlWwUV0M/UP9byUW7hOPQfqdRM0X7zi/4q49w/CbDYb+MeK9z0C2D2Syfu69K4W771PVZv6ym0kEnGPr77G6u2n/nr8NauQx/v+FIvFAgNt//uf95yqPqReK/4PeEqdw2r7YKnjVsLwmVrVTMIy9Xst6NsI6neY+j3g/X2mfh6NRoveI6rZT4129l4HeWtR7wXeY6lFCdUo6VwuV/D70nt/QYsvV3qs6htJ3vdZ77VBqe1hHnOp21eD4XN91eL15O9j/g+9/a8JpdyHwd5Fxeeqj5arK+i1CwQvwqeuI9T1hdonEom4f+t4P4Cq5pyoIN5xHPcap9Ff2wyfzcLw2YDG8Dkchs+lZbNZxOPxGX862Gjy+bw7B2zYEVymMi18Vhdl3hbEv+CYmvZAzc+rQuFYLIarrrqq4Hgq4PHfT6n79s43HIlE3AukcvPO+o+r/qBSTV10ltquZLNZ9yLIsqyiFeQr3b4S08JFYPdIcRXMqscWj8fLvu7y+XzRxar/OQp67tX7l7ooVReh1fYpVZP/uOedd15V/UMFhjPpH/l8vmCfeDxeNHqjWfqH//UZ9FiqOd+K/9zkcjn3A59YLIYNGzZU9R5RzT6ltqk/pNTr2/+YvPV4gxnvMbx9IBKJFAXP1ZyTcq+LSu/JlfpgqeNWg+EztaqwYVk1r3ORwoAplUq5H15FIpGSH1BW2q+aax71fqd+p3vf0xKJRMFIz0gk4t4+6H3Rf+ygpgKtoNpK1TzbxxwGw+f6Cnu+Z9vHKvUP1f+9Kv1NMRd9dCbXL6WuUb3roojs/sC/2vtW1y/qW4v+a4lGfW0zfDYLw2cDGsPncMKGc95z7f/KmeJ/cw0b3nrncyz1y6Qecrmce5HYCMqNlquGbdvuJ7+lAqdSzVSmhc9UXyaFi7OlRrjT3Gmm/kGNh/2DWlWrhpOz+bp7I2nV51cXnm+qF4bPZmH4bEBj+BzOTMI5NWJOpHg+JEV9jXUmX+nwjhIA4K6YKxL8tdpaaqQLxUgkMutjBM3f6v3qs596bkwdKc3wubU1U7gY9BU9mp1m6h/UeNg/qFW1aljWSH9TzEarPr+68HxTvTB8NgvDZwMaw+dwZhrOqblhywXCQWFlJepruEFfIwnaXmuNcqGovlI/W6XOc7lF53K5HMNnhgdGauRwUX1lNx6PIx6Pz2hOYyqvkfsHNT72D2pVrRiWlVqosBm14vOrE8831QvDZ7MwfDagMXwOZzbhczabdec3C/o6uD+s9M7/KDI9d6J3ZLSahN/b/NM/qP87joN0Oo1oNOrW4g/D1bQZIrvnX1OLDqlF1dR8TkHzrgHF4bP3frzzT6opK9Rx1ZxL3sWj1EJFQYF9peNaluWeB/9x1VQZ3lbpuIp/vl/17zDhs/f5VbWq4MyyLIyMjARu906tou7XsqyCebXKHbeawJvhc2tr5HDRu6AJg+faaOT+QY2P/YNaVauFZdXMk9tMWu351Y3nm+qF4bNZGD4b0Bg+hzOb8Fmt3qzCTf+FlDesVItZ+VdgtSyrIIBWF2iVRj57V66PxWLudrXNu+q1OmY6nXYX1RMRd0XZciG6N3xWC4TZtg3HcdzRxmpRAfX/RCLhLkjknS7EH6Srx13puN5jZDIZN1RXgbT3mF7ljgvsnhrFe55UOF5t+OwN0b21ej+cWL16deD2bDaLbDZbFET7R4aUOq5aGK8chs+tjeEilcP+QTqxf1CrYljW3Pj81hfPN9ULw2ezMHw2oDF8Dme24TMAdzVXf5DsDSsTiUTRnKUq/IzH4+62asNn777+EcultvlXt/eGl+rrcP55k73hs2VZBavcq9VoVf3laixXd7XH9a/i7T2/QeFzpeNGIpGiObv9Cw56z0Op15yXqsN7v+W2RyKRolHg6gME72jPUrevhOFza2O4SOWwf5BO7B/UqhiWNTc+v/XF8031wvDZLAyfDWgMn8OZi/AZ2B0kRyIRNyT1BpMiwYsTqhHHSj3DZ/99qNG1Xip8DvrKnGoqsJ5J+BzmuOXOh3+fSsdVz5d/pHeYOZ/VYoNBt/cL2q5q9NegQnLvdCeljlsJw+fWxnCRymH/IJ3YP6hVMSxrbnx+64vnm+qF4bNZGD4b0Bg+hzNX4TOwe7FANWWCNywUkaKgEigONXWGz0EBpz98Lmc24XM1xy13X6XC51LCnGeg9LQbpcLrah6DdzoUP+/zVe64lTB8bm0MF6kc9g/Sif2DWhXDsubG57e+eL6pXhg+m4XhswGN4XM4cxk+A4VzLnvDQhEpmnYDgLt4nKIzfFZTTvjr84bPQfMMq22zCZ+rOW6581EqfC513FLBb9jw2W8m4bN/2g2g+MMKhs80EwwXqRz2D9KJ/YNaFcOy5sbnt754vqleGD6bheGzAY3hczhzHT4DcINnb1ioprTw3yYajRZMx6EzfA6aA9k/57N3ITxgeuFDdV+zmfO5muOWOx+l5nwudVzbtgvOSanjes9DufA3lUrBcZxQ4bOq0bKsghrVqHnvqGqGzzQTDBepHPYP0on9g1oVw7Lmxue3vni+qV4YPpuF4bMBjeFzODMN5+LxeOCIVe/PvWGhWpQwGo26i8al0+miRfHUXMQqzFQhqDqe9z7VNB/ebUGLGKowUwWxKvz11pJKpQIX6ItEIu481mpUt2VZSCaTSCaTBXNcq9DdO9o4aPG8bDYLkd1zYFc6blBwr0Zpq/tSx8jlcsjn87Btu+Jx1TESiQQcx4HjOG7InE6n3XNh2zYsy4JI4aKH6hylUin3saha/SOqS21Xz6G3hqDFKUvdvhKGz62N4SKVw/5BOrF/UKtiWNbc+PzWF8831QvDZ7MwfDagMXwOJ2w4F7SQXRDHcYoCxHw+74ab8n8BsTfsVVSIm0wmSy6cp0bCqhaLxYq2iUjg7dW2eDzuhqqxWAz5fL6gjqDbpdNpRCKRott4H5eqz78tqEY18ng2x1VBfTQahWVZBSOGSx1XUaG7yHQAnEwmEY1GkclkCkYyV2q5XC6wrlKPwSubzbo1qqDcG3JXun05DJ9bG8NFKof9g3Ri/6BWxbCsufH5rS+eb6oXhs9mYfhsQGP4HE6twzkTlZp2g5oPw+fWxnCRymH/IJ3YP6hVMSxrbnx+64vnm+qF4bNZGD4b0Bg+h8PwmZoZw+fWxnCRymH/IJ3YP6hVMSxrbnx+64vnm+qF4bNZGD4b0Bg+h9OK4bOaSsI7PQU1J4bPrY3hIpXD/kE6sX9Qq2JY1tz4/NYXzzfVC8NnszB8NqAxfA6n1cLnoHmYqXkxfG5tDBepHPYP0on9g1oVw7Lmxue3vni+qV4YPpuF4bMBjeFzOK0WPlNrYfjc2hguUjnsH6QT+we1KoZlzY3Pb33xfFO9MHw2C8NnAxrD53AYPlMzY/jc2hguUjnsH6QT+we1KoZlzY3Pb33xfFO9MHw2C8NnAxrD53AYPlMzq1f4/L73vQ8nnnii8e2DH/wgPvjBD2qvo17tfe97X13CxUZ5/r3tAx/4gPYadDf2j+bpP0cddZT2GsK2Wvc/IlMNDQ1h4cKF2l+DjdJMe7+t1Lq7uxmG1hFfT/VtjfZ6nMu2cOFChs8GYfhsQGP4HA7DZ2pmte7f4+Pj6O3tbZh26KGH4l3vepf2OurdxsfH+fz72vz587Hffvtpr8OExv4Rvs2bNw9dXV2hbnPMMcdARHDMMcfMaS0HH3wwRAT//M//rP28zKTVqv8RmWpkZET7666eraurC/PmzZvRbQ866KAZ31ZnGxwc1N3NWkarvZ7mos30euTAAw9ER0eH9vp1tpGREd1dnv4Pw2cDGsPncBg+UzNj/y503HHHIZFI6C6DNPvzn/8MEcETTzyhuxRqQN/73vewcOFCvPbaa6Fu9+yzz0JE8Oyzz/5/9u41OqrybB/4/e3NYRISDpFBIgGKjCKnEDuGZQVLGwRRVMp4gL5KrVEs4olRC1pQS5STKFYintBXsfNSDp5QRiuhWoMGwSW8LTQMB0FADEMIkOTj9f/Af+IkmUAmzMz97L2v31rPWu2QzL6GPDM++2Ln2QnN09DQgCFDhqBbt244dOhQQp+biOhczZ49GwMGDOjQ9zY0NKBnz5547LHHEpyKyLk6uh45cuQIMjIy8PLLLycpGVH7sXw2YLB8jg/LObIzzu+f7NmzByKCdevWaUchZbfffjv69u2rHYMsqKamBllZWXjxxRfj/t5klc8AcOjQIXTr1g1DhgxBQ0NDwp+fiKijzqV8BoD169dDRLB9+/YEpiJyrnNZjzz55JPIy8tDfX19EpIRtR/LZwMGy+f4WL2cq6qqQklJSdPPv6SkBFVVVSgtLU3K8UKhEILBYFKeO8Lv97drrtPZWX1+J9LMmTPRrVs37Rik7MSJExARLF26VDsKWdCtt96KQYMGdeh7k1k+A6fXAyKCa6+9NinPT0TUEedaPgPALbfcgmHDhiUoEZGznct6pLGxET169MCjjz6ahGRE7cfy2YDB8jk+Vi7nQqEQXC4XfD4fwuEwACAYDMLj8SStnPX5fEkvnwEgHA7D5XLFfB3hcBglJSUpyWF1Vp7fidajRw/MmDFDOwYpW7BgATIyMnjFBsUtUu5WVVV16PuTXT4DwMqVKyEivCEOERkjEeXz0aNHkZOTg+effz5BqYic61zXI2+88QbS0tJw8ODBBCcjaj+WzwYMls/xsXI5F7lCuKVwOAy3253w45WXl0NEUlb6er3eNkv0YDDI8rkdrDy/E+nvf/87RAQ7duzQjkLKevbsienTp2vHIAsaNGgQbr311g5/fyrKZ+D0b3mICFauXJnU4xARtUciymfgdOHlcrlw4MCBBKQicq5ErEcGDBiAyZMnJzAVUXxYPhswWD7Hx8rlXKR8jnUVlt/vb/rfkRI3MiKlbTAYbHrM6/UiHA43fa3L5YLX62362kAg0GquRf6sqqqq2fdFtvwIhUIoLS2F2+1GMBiE3++Hy+WCy+VCeXk5AKCsrKzpCueWW4WcqXyOiBzD5XI15Xe5XFi+fHnMx6Nfe+QK8ZZXj5/pea1WeFt5fifSb3/7WxQWFmrHIGXvv/8+RAShUEg7CllMeXk5srKyUFNT0+HnSFX5DADXXnstRASbN29O+rGIiM4kUeUzAIwcORKjR49OyHMROVUi1iMVFRUQEWzZsiWByYjaj+WzAYPlc3ysXM5Fb03h9/ublactvy6yL3QgEGj2Z4FAoKl4LikpaVYcezyeZmVrpKyOfqyqqqqpXAZOl8mRPFVVVfD5fBAR+Hy+psInkqW0tLTp+2IV6W2Vz9EldfSe136/H4FAAB6PB3Pnzo35eCAQQCAQaFVEu1wueDyepr/Dtp635d+f6aw8vxPl1KlTSEtLw3PPPacdhZSNHj0aJSUl2jHIYmpra5GTk4NnnnnmnJ4nleVzQ0MDBg0ahK5du/IqQSJSlcjyec+ePUhPT7fcepzIJIlaj4wfPx7FxcUJSkUUH5bPBgyWz/GxejkXXSy7XK42S+hIUe3z+Zo97vP5mhZwXq+36YpkoPXNBWOVzyUlJc2+BwA8Hg9cLheAn0rlsz1P5LEzXbEdPaJFjtHyasa2Hne73a2uso6U5mVlZWf9fiux+vxOhNdeew0igtraWu0opGj37t0QEbz33nvaUchi7rrrLng8nnN+nlSWzwBw+PBhdO/eHRdddBFOnTqVkmMSEbWUyPIZOH3v6cLjzwAAIABJREFUhi5dunBdR9RBiVqPVFdXQ0SwevXqBCUjaj+WzwYMls/xsUs5FwwGm2190bIQBlqXqeFwuNkJdWQLjLYK7Fil8ZnmYigUSkj5HC1Stsd6XW293livoeXfTzgchsjp7UfO9rxWYpf5fS5GjBiB8ePHa8cgZffeey/y8/O1Y5DFfPvttxAR/POf/zzn50p1+Qyczp+eno5f//rXKTsmEVG0RJfPADBs2DBMmTIloc9J5BSJXI/cc889KCgoSEAqoviwfDZgsHyOj93Kuei9jFv+SlrLq5/9fn+zK30j3x/Z3zi6CI78Wazy+Uz7ICe6fAbQqjjuSPnc8nVHXgvLZ3vZs2cPRARr1qzRjkKK6uvrkZWVhfnz52tHIYu59NJLMXHixIQ8l0b5DPy01/n999+f0uMSEQHJKZ+3b98OEUFFRUVCn5fICRK5HgmHw8jOzj7nrcmI4sXy2YDB8jk+Vi7nzrTFRssiNfp7RE5flex2u9vcJzqyL3L09hRtlc8tt7CIfH/08RJZPrf1mtrzeOQ4sTKLSLOrqlk+W9+cOXOQk5OjHYOUlZeXQ0Ta/LwjiuWNN95ARkYGDh06lJDn0yqfgZ+2lnrttddSfmwicrZklM8A8NBDD6F3794Jf14iu0v0emThwoXIzs7mOptSiuWzAYPlc3ysXM7FunI5wu12x7yxVuTqZ7fb3Wr/55ZXOrcsX9va89nlcjW7USCAZldXJ6t8jpTv8ZTPAOByueByuZr9BzJS2EdfVc3y2fry8/Mxbdo07Rik7MILL8Sdd96pHYMs5MSJE+jatSv+/Oc/J+w5NctnALjlllsgIti4caPK8YnImZJVPjc0NKB37954+OGHE/7cRHaWjPVIQUEBpk+fnrDnIzobls8GDJbP8bFyORcpR/1+f7N9nH0+X6tyN9b3tSyMvV5vU6Eb2Vs5+urpqqqqpuOFw2EEg8Gmx0QEPp8Pfr8fbre76diRLNFbgMS6uV8gEGh6DuD0zQ5dLhdEWl+tGCmcI18bueFiyyK+rccjV0H6fL6m1+rz+VrdUKqt77cSK8/vc/Xee+859rXTT9auXQsRwd69e7WjkIXcf//9Cd8jXLt8BoDi4mJkZ2ejurpaLQMROUuyymcAqKiogIhg+/btSXl+IjtKxnpk5cqVEBGuLyhlWD4bMFg+x8fK5VykBC4vL2/a51nk9NYRZ9qHuaqqqlXRCpwuit1ud7PnaVn8RsrklttxRI7vdrubiubIlcuR4ff7Wz0WKbyjH4vOcKYRfZPF6GO0dexogUCg6TiR7UWiX+vZvt8qrDy/z9VVV12Fyy+/XDsGKSsqKkrYnr3kDJG9RD/44IOEPq8J5fOxY8dQUFCAgoIC1NTUqOUgIudIZvkMALfddhuGDRuWtOcnsptkrUeKi4t5k3dKGZbPBgyWz/FxYjlXVlbW6qZ9ZE9OnN8AsH//fogI3n77be0opGjjxo0QEWzevFk7ClnIsGHDMHr06IQ/rwnlMwBUV1cjOzsbRUVFqjmIyBmSXT7X1taiS5cuWLhwYdKOQWQnyVqPbNmyBSK8ESilBstnAwbL5/g4sZyLddUz2ZMT5zcAzJgxA507d9aOQcrGjBmDUaNGaccgC1m2bBnS09Nx4MCBhD+3KeUz8NM/zEyYMEE7ChHZXLLLZwD461//ivT0dOzZsyepxyGyg2SuR2666aakv9+JAJbPRgyWz/FxQjkXDofh9XpRUlKCkpISS+9hTPFxwvyOJTs7G7NmzdKOQYoiWyecaQsiomhHjx5FTk4OFi1alJTnN6l8BoAVK1ZARPDYY49pRyEiG0tF+QwAo0ePxsiRI5N+HCKrS+Z6ZO/evRARLF++POHPTRSN5bMBg+VzfJxQzoXDYbjdbrhcLhbPDuOE+d3SG2+8ARHB/v37taOQokmTJuGSSy7RjkEWkuw5Y1r5DAAzZ86EiGDFihXaUYjIplJVPh84cADp6en4n//5n6Qfi8jKkr0eeeihh5CXl4f6+vqkPD8RwPLZiMHyOT5OLOfIOZw4v71eL6677jrtGKTo4MGDEBH89a9/1Y5CFlFRUQERwddff520Y5hYPgPAhAkTICKorKzUjkJENpSq8hkAlixZgpycHBw9ejQlxyOyomSvR+rq6tC5c2fMmTMnKc9PBLB8NmKwfI6PE8s5cg6nze+tW7dCRPDJJ59oRyFF99xzDwoKCrRjkIX07t0bU6dOTeoxTC2fAaCoqAi5ubmorq7WjkJENpPK8hk4fdPYSZMmpex4RFaTivXICy+8gLS0NBw8eDBpxyBnY/lswGD5HB+nlXPkLE6b37fffjv69u2rHYMUHTt2DOnp6XjhhRe0o5BFzJ49G126dMHJkyeTehyTy+eamhoUFBSgoKAAx44d045DRDaS6vI5cs+H9evXp+yYRFaSqvVIv379MGXKlKQeg5yL5bMBg+VzfJxWzpGzOGl+19XVQUSwePFi7SikaPbs2cjNzUVDQ4N2FLKAPXv2QCQ1W7SYXD4DQHV1NbKzs1FcXKwdhYhsJNXlMwA89thj6NmzJ9cCRDGkaj3y/vvvG73uIWtj+WzAYPkcHyeVc+Q8Tprfixcvhoigrq5OOwopaWhoQG5uLp588kntKGQRI0eOxMiRI1NyLNPLZwDYuHEjRAS33HKLdhQisgmN8hkA+vfvj/vuuy/lxyUyXSrXI6lcZ5GzsHw2YLB8jo+TyjlyHifN7759++L3v/+9dgxStGDBAmRmZuL48ePaUcgC3nzzTYgI9uzZk5LjWaF8BoAVK1ZARPCnP/1JOwoR2YBW+VxZWQmR5N5IlsiKUrkeiRzr3XffTfqxyFlYPhswWD7Hx0nlHDmPU+b3unXrICL4z3/+ox2FlJw6dQpdunTBE088oR2FLKC2thZdunRJ6VXyVimfAeDRRx+FiGDFihXaUYjI4rTKZwC48847cckll6gcm8hUqV6PTJkyBf369UvJscg5WD4bMFg+x8fO5Zzf72/XnPF6vSnN5fV6jctkV3ae39F+8Ytf4Oqrr9aOQYrmzp2LTp064dSpU9pRyALuuOMO9O/fP6XHtFL5DAATJkyAiGDjxo3aUYjIwjTL55MnT6J79+4oKytTOT6RiVK9Hjl48CDS0tKwZMmSlByPnIHlswGD5XN87FzO+f3+ZoutYDAIEYHf72/2WElJScqzRbLEKplDoRDcbnfKM9mRned3xObNmyEi+Oyzz7SjkJLjx4+jU6dOPLmkdon8KnZlZWVKj2u18hkAiouLkZ2djerqau0oRGRRmuUzAKxZswYigp07d6plIDKJxnpk9uzZ6Ny5M+/NQwnD8tmAwfI5PnYu56JLZiB2+QwA5eXlqYzVpK3yGWidnTrGzvM7Yvz48SgqKtKOQYpmz56NLl268Kpnapef/exnKvvDW7F8PnbsGPr164eCggLU1NRoxyEiC9Iun4HTa8Xi4mLVDESm0FiP1NfXIy8vDw8++GDKjkn2xvLZgMHyOT5OKOci2iqfI49HRnQhHL1FxsyZM+Hz+eD1elFVVQWPx9P09VVVVa2O5/f74XK5ICLweDytvuZM5XN0tuhjut1uuN1urFq1Kubj4XAYAFBWVga32w0Rgdvtjvmaz/T9dmH3+f2f//wHIoK1a9dqRyElx48fR2ZmJhYsWKAdhSzgscceQ15enspNKa1YPgPA3r17kZubi6KiIjQ0NGjHISKLMaF8Pnz4MFwuF15++WXVHEQm0FqPvPbaaxAR7N27N6XHJXti+WzAYPkcH7uXc9HaKp+j/8zj8bT6M4/Hg1deeQXBYBAulwsejwc+nw/BYLBpX+mW22T4fD74fD6Ew2GEQiF4PB64XK5m5W6s8jkcDrfaFsTtdsPj8TRtI+LxeLB8+fKYj4dCIZSWljb9b+B0ES0i8Pl8Z33eyPfYhd3n92233YaCggLtGKToj3/8I7p06YLGxkbtKGS4yOfhBx98oHJ8q5bPwE9blYwbN047ChFZjAnlMwAsW7YMOTk5OHz4sHYUIlWa65EBAwZgwoQJKT8u2Q/LZwMGy+f42L2ci3am8hn46QaF0QVspDiO8Hq9rQrqyPdFtu+IXEkcLRAIQESa7cna1hxuWUh7vd6Ye0DHejwUCkFEEAgEmj1eUlICEWl29XVbz2sndp7fBw8ehIjglVde0Y5CSo4ePYq0tDQ8++yz2lHIAoYMGYIbb7xR7fhWLp8BYNWqVRARzJgxQzsKEVmIKeUzcHof+9/85jfaMYhUaa5HKioqIJL6+26Q/bB8NmCwfI6Pncu5ls5WPofDYbhcrmZXCPv9/mZ7Qnu93lblcFVVVbPnjZTRsUb0c8cqmkOhULOvaeuYbT0eq0AHfiq/o197W89rJ3ae3/fffz+6deumHYMUPfjgg+jevbt2DLKAefPmoXPnzqpbK1m9fAaAp556CiKC1157TTsKEVmESeXzzp07ISJ45513tKMQqdFej1x99dUoLCxUOTbZB8tnAwbL5/jYuZxr6WzlM9C8vA2Hw62uDG6rsG1ZPren1I1VPgOtb4DYkfK55f7SsV47y2frOnbsGNLT0/H0009rRyElhw8fRlpaGv7yl79oRyHD7dq1CyKCt956SzWH9sleokyZMgUigo8//lg7ChFZgEnlMwA8+eST6N69O06ePKkdhUiF9nqkurraiHUZWRvLZwMGy+f42LWci6U95XP01c/l5eUoLS1t9uexCttwONyqfBaRmFeYRW+H0Vb53FJHyueW225EXnv0th8sn63rySefRFZWFk6cOKEdhZRMmzaNVz1Tu/z85z/HqFGjtGOon+wl0ogRI5CZmYlvv/1WOwoRGc608hkA+vfvj7vvvls7BpEKE9Yjd999N3r06MF7tlCHsXw2YLB8jo9dy7lY2lM+A2h2E8GW21fEKmzLy8sh8tNWF5FtOFpunxEIBOIqnyPFdzzlc+TYLR+PbLsR/XpYPltTQ0MDcnNzzzqPyb727dsHEcGyZcu0o5DhXnjhBbhcLnz//ffaUYw42UuUuro6XHTRRejevTsOHDigHYeIDGZi+Ry5iSr3nSUnMmE9Eg6HkZGRgblz56plIGtj+WzAYPkcHzuWc23x+XwQEZSUlJzx6yJXP8f6Oq/XC5GfriAOhUJwu92trpCO3ODP7XbD7/fD5/M1K3ojZXDLmxdGnrOkpATl5eVNW3+INN9Ko63Ho19ndEaPx9Ms45m+307sOL+feeYZiAgOHjyoHYWUTJw4Eb169dKOQYb7/vvv4XK58OKLL2pHAWDGyV4iHThwAN27d8dFF12Euro67ThEZCgTy2cAmD59Ovr3768dgyjlTFmPPP3008jIyMCRI0dUc5A1sXw2YLB8jo8dy7lYYs2VYDDY5teXlJS02roCOF0+u93uphLa5XLFvAI1HA6jtLQULpcLIqevgo5swxH53jMNl8vVtJ1HrMxney1+v7/p2G63u9l2G+35fruw2/xubGxEly5dMHXqVO0opGTTpk0Q4c2C6OxGjRqFyy+/XDtGE1NO9hLp22+/RWZmJkaMGKEdhYgMZWr5fPLkSfTs2RNz5szRjkKUUqasRxobG9GjRw/ccccdqjnImlg+GzBYPsfHbuVcosS6IhlwxlYVdmK3+f3UU09BRHD48GHtKKRk6NChuOyyy7RjkOHeeOMNiAj27dunHaWJKSd7ifbxxx9DRHDLLbdoRyEiA5laPgPA+vXrISLYuXOndhSilDFpPfL2228bk4WsheWzAYPlc3zsVs4lQnl5easrhSNYPluLneb3qVOn0KlTJ9x7773aUUhJZLuerVu3akchgx05cgSdOnXCggULtKM0Y9LJXqK99tprEBE8+eST2lGIyDAml8/A6a28iouLtWMQpYxp65HCwkKMHDlSOwZZDMtnAwbL5/jYqZw7F2VlZfB6vSgtLYXH42naIiNaZC/otv6czGOn+T1nzhykpaXxqmcH69GjB6+upLO6+uqrMWTIEO0YrZh2spdoDz/8MEQEK1as0I5CRAYxvXw+fPgwXC4XXnnlFe0oRClh2nokcgPQDz/8UDsKWQjLZwMGy+f42KmcOxdlZWUQEXi9XoRCoVZ/HgwGW801u+6TbCd2md/Hjx9HZmZmzP3FyRnmz58PEd5oks4scnX8jh07tKO0YtrJXjJMmDABIoKNGzdqRyEiQ5hePgPAiy++iJycHBw9elQ7ClHSmbge+c1vfoN+/fppxyALYflswGD5HB+7lHNEsdhlfv/xj39EZmYmTwoc6tixY8jOzsbDDz+sHYUMdujQIWRnZ2PhwoXaUWIy8WQvGYqLi5GdnY1///vf2lGIyABWKJ+B059dN998s3YMoqQzcT2yd+9eiAjKy8u1o5BFsHw2YLB8jo9dyjmiWOwwv48ePYq0tDQ8+uij2lFIybRp05Cbm4u6ujrtKGSwkSNHYvjw4dox2mTiyV4yHDt2DAUFBejZsydqamq04xCRMquUzzt37oSIYP369dpRiJLK1PXIgw8+iM6dO3O9T+3C8tmAwfI5PnYo54jaYof5/eCDDyIzMxPHjx/XjkIKdu3aBRHB888/rx2FDLZs2TJkZmbiu+++047SJlNP9pKhuroaubm5KCoqQkNDg3YcIlJklfIZAB599FH07NmTn1tka6auR+rq6tC5c2f+piO1C8tnAwbL5/jYoZwjaovV5/fhw4eRlpaGJ554QjsKKbn22mvRq1cv7RhksO+++w6ZmZl46aWXtKOckakne8kSuYHQuHHjtKMQkSIrlc8A0Lt3b8yYMUM7BlHSmLweee655yAi2Lt3r3YUMhzLZwMGy+f4WL2cIzoTq8/vadOmoVOnTjh16pR2FFJQUVEBEcHatWu1o5DBhg8fjtGjR2vHOCuTT/aSZdWqVRARTJ06VTsKESmxWvkcWXts375dOwpRUpi+HikoKMBNN92kHYMMx/LZgMHyOT5WL+eIzsTK83vfvn0QETz99NPaUUiJx+PBiBEjtGOQwebNm4fs7Gz8+OOP2lHOyvSTvWRZuHAhRMTYG0ESUXJZrXwGgNtuuw3Dhg3TjkGUFKavR9auXQsRQWVlpXYUMhjLZwMGy+f4WLmcSySv1wuv15v044RCIZSVlcHtdsPv9yf9eE5n5fk9ceJE9OjRg/vuOdTcuXMhIti5c6d2FDLUjh07ICIIBALaUdrF9JO9ZJo6dSpEBKtWrdKOQkQpZsXyuba2Fl26dMGzzz6rHYUo4aywHikuLkZhYaF2DDIYy2cDBsvn+FilnPN6va1+1i3L4pZfE0+ZnMryORAIQETaXT77/f52zX1qzSrzu6V//vOfEBG8/fbb2lFIwZ49eyAieOyxx7SjkMEGDRqE8ePHa8doNyuc7CXTuHHjIMIrmYicxorlMwC8+eabSE9Px4EDB7SjECWUFdYjW7ZssdQFBpR6LJ8NGCyf42Olci4UCjX9nKuqqs74NcFgMMXp2i8YDMZVPgNAOByGy+WKWTKHw2GUlJQY/Zq1WGl+R/N4PLj00ku1Y5CSkSNHonfv3toxyGAzZ85Et27dcOzYMe0o7WaFk71kamhoQFFREXJzc1FdXa0dh4hSxKrlM3B6PWKFewoQxcMq65Hf/va3KCgo0I5BhmL5bMBg+Rwfq5Vzkaubz+Rsf66tI+UzcObXHgwGWT7HYLX5DQBLliyBiODbb7/VjkIKIr8ZUVFRoR2FDPX1119DRLB+/XrtKHGxysleMtXU1KCgoAAFBQWoqanRjkNEKWDl8jnym1jcMojsxCrrkYMHDyItLQ3z5s3TjkIGYvlswGD5HB+rlXPxlM/hcLhpf+VgMIhAIAC32w0RQWlpadPXBwIB+Hy+ZttuVFVVoaSkpGle+Xw+hMPhZscJhULNvqakpCTmFdnRX+dyuZpeQ8vyuaqqqunPXC5Xs4ztfe2hUAilpaVwuVwIh8Pwer1wuVxYvnx5zMcjhXUwGITH42k6dsvX29bzml54W21+19bWIisrC1OnTtWOQgpOnjyJLl264JZbbtGOQoZqbGxE3759cccdd2hHiZtVTvaSrbq6Grm5uSgqKuKe/kQOYOXyGQCefvppdO/eHSdPntSOQpQQVlqPzJo1C9nZ2a16CCKWzwYMls/xsVo5F0/5HAqFmvZL9vl88Pv9CAaDTUVwVVUVwuEwgsEg3G53U/lcVVUFl8uFsrIyAD9diejz+ZqOEQqFmn1NKBSCx+OBy+VqVkCHw2G43e6mMjfydS3L56qqqqaSHADKyspafU1brz26pI4uzf1+PwKBADweD+bOnRvz8UAggEAg0KqIdrlc8Hg8Tf+ha+t5Td+Hymrz+4477kBOTg5qa2u1o5CCu+++Gy6XC0ePHtWOQoYqLS1FQUEB6uvrtaPEzUone8lWWVkJEcG4ceO0oxBRklm9fAaASy65hBdGkG1YaT1SX1+PvLw83H333dpRyDAsnw0YLJ/jY7VyLt5tNyJbXESXpJHHoq/ajb7hYElJSbOiGQBcLhdKSkqa/r/P54PH42n2NVVVVRCRVl/ndrubfV2sGw6WlJSgvLy82ddFyuyWrz3WiBYp3EOhULsed7vdra6yjpTfkXL9TN9vMivN72+//RYigqVLl2pHIQWRrRRafg4QRaxZswYigm+++UY7SodY6WQvFVatWgURYaFDZHN2KJ8jaxTeMJXswGrrkZdeegkiwvtFUDMsnw0YLJ/jY6VyDuh4+RxdNMfaczm6fG75Z20do2VBDaDpquaIyBYW0WId/0xzOlL2xnrtkZsNRouUxC3FejySpWXhFQ6HISLNtiJp63lNZqX5femll7b6Bw1yjksuuQTDhg3TjkGGOnDgALKysrBw4ULtKB1mtZO9VJg/fz5EBM8++6x2FCJKEjuUzwAwbdo09O/fXzsG0Tmz4npkwIABGDt2rHYMMgjLZwMGy+f4WKmcA8wqn1uWvrHyxXqutsrns+2f3NZrb1kcd6R8jr7COToTy+fUePPNNyEi+Oc//6kdhRQsWrQIIoLt27drRyFD/fznP8eoUaO0Y5wTK57spcLUqVMhwht6EdmVXcrnkydPonv37pg7d652FKJzYsX1yPr16yHCG5LTT1g+GzBYPsfHKuVcRKSAPdOm+9HbXHS0fI5VLEeXvCIS8yrVyI34or+u5XO1VT633PoCQLPtQtpTvAMdK59jHbtldpbPyVFfX4+uXbvi5ptv1o5CCg4cOID09HTMmDFDOwoZas6cOejatStqamq0o5wTK57spcq4ceMgIti8ebN2FCJKMLuUzwCwdu1aiAj27NmjHYWow6y6Hhk5cqRtPkvo3LF8NmCwfI6PFcq5aKWlpRCRNm90V15e3qww7Uj5HCl5o78nHA43K2gjN99rebWyx+Npts2G2+2Gy+VqVpbHOn5JSUmrmxUCaPZcZyuf/X4/wuFwXOUzcHprkJYZI9tuRBfuLJ+T4+GHH0ZGRgYOHTqkHYUUjB49Gj179kRDQ4N2FDLQV199BRHB3//+d+0o58yqJ3up0NDQgEGDBqFr167YtWuXdhwiSiA7lc8AMH78eIwcOVI7BlGHWXU9Esn98ssva0chA7B8NmCwfI6PFcq5aKFQqKksjS5GQ6EQ/H5/qwI3cuO86KI3csO/SJkcDofhdrvhdrsRDoebymGXy4XS0lL4/X54PJ5mz1tVVQWXywWPx9O0J3NZWRlcLlezG/JFjhX9dZEC3efzNT1n5GaFkcf9fj/cbndTuR153SKtr/qOFM6RojpSjLfcSqOtx8vLy5uOGw6HEQ6HY95Qsa3vN5np83v37t0QEf4Ko0O9++67EBGsX79eOwoZqLa2Fj179sT999+vHSUhrHqylyo//PADevXqhV69eln+Knci+ondyufDhw/D5XLh9ddf145C1CFWXo+UlpYiLy8P9fX12lFIGctnAwbL5/iYXs7FEgqF4PP54Ha7m37ubrcbPp+vWfEbuVI3Mrxeb8zHWs4h4HRpHHn+lsVzRFVVVbPvLykpaXb8iOjn8nq9KCsrg9vtht/vb/b1wWCw6YaFbre76erulpnbGsFgsNXriZTubT0eK2OkdI8uuc/2/aYyfX6PGjUK+fn52jFIwbFjx+B2u3H99ddrRyFDjR071laFhZVP9lJl165dyM3NRWFhIX8bgsgm7FY+A8Dzzz+PnJwcHD16VDsKUdysvB45cuQIMjIy8Oijj2pHIWUsnw0YLJ/jY3o5R3QuTJ7fH3zwAUQE7733nnYUUnDNNdcgNzeX261QTMuWLUNaWhqqq6u1oySMlU/2UmnTpk0QEd7Vnsgm7Fg+A8CwYcPw29/+VjsGUdysvh7585//jLS0NBw8eFA7Cili+WzAYPkcH5PLOaJzZer8rqurQ35+PsaPH68dhRS88cYb/IcHalN1dTXS0tLw6quvakdJKKuf7KXSmjVrIBL7ZsBEZC12LZ+3b98OEUFFRYV2FKK4WH090tjYiB49emDy5MnaUUgRy2cDBsvn+JhazhElgqnz+7bbbkO3bt1w7Ngx7SiUYvv370dmZiamTJmiHYUMNWDAAFtux2L1k71UmzdvHkQEixcv1o5CROfAruUzcPqm2b1799aOQRQXO6xH3nzzTYgItmzZoh2FlLB8NmCwfI6PqeUcUSKYOL/fe+89iPAmc0512WWXIT8/H6dOndKOQga688470bNnT5w4cUI7SsLZ4WQv1SI3KF6zZo12FCLqIDuXzw0NDejduzf++Mc/akchaje7rEcKCwtRXFysHYOUsHw2YLB8jo+J5RxRopg2v3/88Ufk5ubyqleHeuqppyAi2LRpk3YUMtDq1ashYt+rWOxyspdqY8eO5ecGkYXZuXwGgIqKCogItm/frh2FqF3ssh6prKyEiGD16tXaUUgBy2cDBsvn+JhWzhElkmnzu6SkBG63m1e9OtC2bdsgIpg1a5Z2FDLQjh07kJGRgb/rioLnAAAgAElEQVT85S/aUZLGLid7qdbQ0IDCwkLk5uZi165d2nGIKE52L58BYPLkyRg2bJh2DKJ2sdN65LrrrkNBQYF2DFLA8tmAwfI5PqaVc0SJZNL8fuWVVyDCG7M4UWNjI/r374/CwkLtKGSgkydPom/fvrjhhhu0oySVnU72Uq2mpga9evVCr169UFNTox2HiOLghPL56NGjyMnJwQsvvKAdheis7LQeqa6uhojgmWee0Y5CKcby2YDB8jk+JpVzRIlmyvyO3GRu+vTpqjlIx/Tp05GWlobdu3drRyEDXX311ejbty/q6+u1oySVnU72NOzatQu5ubkoLCxEQ0ODdhwiaicnlM8AsHz5crhcLhw+fFg7CtEZ2W09cu+99yI7OxvhcFg7CqUQy2cDBsvn+JhSzhElgynz+7LLLkPfvn3R2NiomoNSb+PGjRARLF26VDsKGWjJkiXIyMjAjh07tKMknd1O9jRs2rQJIoKxY8dqRyGidnJK+QwAI0eOtP1v8ZD12W09Eg6HkZ2dzYucHIblswGD5XN8TCnnTBcIBFBSUgKv16sdheJgwvyeP38+RARff/21WgbScezYMbjdbpSUlGhHIQNt2bIFIs65UYzdTva0rFmzBiKC0tJS7ShE1A5OKp/37NkDEcE777yjHYWoTXZcjyxatAgigurqau0olCIsnw0YLJ/jY0I5lwx+v7/V3PD7/c2+JhgMNvvzMxXLwWAQbrc7YeVzrHyxBp0b7fnNm8w52zXXXIPc3Fz8+OOP2lHIMOFwGD169MC0adO0o6SMHU/2tCxYsAAiggULFmhHIaKzcFL5DABPPvkkunfvjpMnT2pHIYrJruuRCy64ANddd512DEoRls8GDJbP8dEu55IpulwuLy+P+TWhUAhutxs+n++s+yR5vd6EXvkcDofhcrlilszhcBglJSUIBoMJO54Tac/v/v37Y9CgQSrHJl1vvPEGRATvvfeedhQy0BVXXOG4G1Da9WRPS2lpKUQEa9as0Y5CRGfgtPIZOL3+veeee7RjEMVk1/XIqlWrIMKb2zsFy2cDBsvn+GiXc8nm8/nOWD6Hw2F4PJ52PVeiy+fIc8Yqn4HT5TnL53OjOb8ffvhhiIgj9nKl5nbu3In09HT8/ve/145CBpozZw46deqEgwcPakdJKbue7GkaO3YsRASVlZXaUYioDU4snysrKyEi2Lx5s3YUolbsvB4pLi523OeNU7F8NmCwfI6P3cvnUCgEEYHb7Y75536/H2VlZQiHw/D5fE1XIrvd7laFdaR8jhTGItJUDkdvoxFdGAcCAbjd7jM+Z1vlc/RrKC0thcvlQjgchtfrhcvlwvLly2M+Hjl+MBiEx+OBiMDlcrW6urut57VT4a01v9evXw8RwVNPPZXS45K+48ePo0+fPrjkkkvQ0NCgHYcM849//AMigk8++UQ7SsrZ+WRPS0NDAwoLC5Gbm8t9HokM5cTyGTj92xkDBw7UjkHUip3XI5H7iSxfvlw7CiUZy2cDBsvn+Ni9fAbOfPWzx+NpKp7dbjdCoVDTlhci0qysjb7yuaysrFXR3PKx8vJyeDyepueM5Ij+nrbK5+gbCVVVVTXl8fv9CAQC8Hg8mDt3bszHA4EAAoFAqyLa5XI1vd4zPW8gEDiXv26jaMzv//znP3C5XLjyyitTdkwyx6hRo9C5c2fs379fOwoZZs+ePcjNzcXs2bO1o6iw88meppqaGvTq1QsFBQWoqanRjkNELTi1fK6trUXXrl2xePFi7ShEzdh9PTJp0iTk5eWhvr5eOwolEctnAwbL5/g4oXxu6+rn8vLyppsQlpSUoKSkpOnPAoFAzKI4Uj5H9pOO/vOWj7lcLoRCoaY/D4fDEJFmx4m+irrliBa5sjr6+c70uNvtblZgAz+V42VlZWf9frtI9fyuq6tD7969ceGFF6Kuri4lxyRzRLZa+fzzz7WjkGFOnjyJCy+8EKNHj9aOosbuJ3uadu3ahdzcXBQVFfE3LogM49TyGQDeeustpKen8x/kySh2X48cPHgQaWlpmDNnjnYUSiKWzwYMls/xcUL5DMS++jn6KuCI6K0ozqV8jr7ZYcsRXYLHuvI5cuV1tEhJ3FKsxyPHbnmld6T8jt63uq3ntYtUz+8rr7wS2dnZ2LNnT0qOR+ZYu3YtRATPPPOMdhQy0OjRo3HhhRfi5MmT2lHU2P1kT9umTZsgIhg3bpx2FCKK4uTyGTi9Nr7++uu1YxA1ccJ6ZNasWUhLS3Pc/UWchOWzAYPlc3ycUj63vPq5vLwcPp+v6c/D4XBT6VxWVnbOVz5H/vfZtLXtRsviuCPlc/QVzhEsn5PngQcegIhgw4YNST8WmWX79u1IT0/HjTfeqB2FDDRr1iz+oxSccbKnbc2aNRARTJ06VTsKEf1/Ti+fd+/eDRHBhx9+qB2FCIAz1iP19fXIy8vDlClTtKNQkrB8NmCwfI6PU8pnoPnVz5G9mCO8Xm+zK6FjlcsdKZ9j7Z8c/Vh7bjgIdKx8brntBnC6fI6+qprlc2KsXLkSIoKFCxcm9ThknnA4jPz8fFxyySXaUchAkc8G/qOUM072TPDMM89ARLBgwQLtKEQEls8A8PjjjyM/P5/bApERnLIeeemllxzxOp2K5bMBg+VzfJxUPkeufna5XM2uegZOl7KR/Z+B9pfP0UVyy6ulW97gL5Ih+jhnK5/9fj/C4XBc5XPk2C6Xq9mxI9tuRF9VzfL53FVVVUFEMHHixKQdg8x1+eWX8waDFNM333wDEcGSJUu0oxjBKSd7JigtLYWIYNWqVdpRiByP5fNpffr0wYMPPqgdg8hR65EBAwZg5MiR2jEoCVg+GzBYPsfHSeUz8NPVzy1vsBddFIdCoaavKysrQ1lZGcLhMNxuN9xud9PXiAg8Hg+CwSD8fn/TyV5paSmqqqqabvDncrlQWlqK0tLSpu8HThfRkb2lW+49HSmcIyV5SUlJU55obT1eXl4OEYHP50M4HEY4HIbP54PH42nX99tFsuf3oUOH0K1bNwwZMiQpz09mu//++yHCGwxSaz/++CPcbjcmT56sHcUYTjrZM8HYsWMhIqisrNSOQuRoLJ9P27BhA0QE27Zt045CDuek9UhFRQVEBO+++652FEowls8GDJbP8XFa+RwKhZrteRxRXl7edLVwWVlZUzHs9XqbrhiOHsFgsFm5XF5ejmAwCLfb3VRWA0BZWRncbjdETu+1XFVVBeCnK47PNoLBYNPV0ZERuXK6rccjAoFA07EjBXh0yX2277eDZM/vIUOGoFu3bjh06FBSnp/MFflNh+eff147Chno0ksvxaWXXqodwyhOOtkzQUNDAwoLC5Gbm4vq6mrtOESOxfL5J//93/+NoqIi7RjkcE5bj4wZMwb9+vXTjkEJxvLZgMHyOT5OK5/JWZI5vydOnAgRafoHBXKOrVu3QkR4g0GKafLkycjPz8ePP/6oHcUoTjvZM0FNTQ169eqFgoIC1NTUaMchciSWzz+pqalBTk4Oli5dqh2FHMxp65Hq6mqIcBs4u2H5bMBg+Rwfls9kZ8ma3wsXLoSIYOXKlQl9XjLf/v37kZeXh6FDh2pHIQM9++yzSE9P539TY3DayZ4pdu3aha5du6KoqIg3+yJSwPK5uVdeeQVZWVk4fPiwdhRyKCeuR6ZOnYrOnTujrq5OOwolCMtnAwbL5/iwfCY7S8b8fuuttyAieOCBBxL2nGQNR44cQZ8+fdCnTx8cOXJEOw4Z5qOPPoII99VrixNP9kyxZcsWpKenY9y4cdpRiByH5XNrw4cPx0033aQdgxzKieuRcDiMjIwM3vTTRlg+GzBYPseH5TPZWaLn99/+9jeICCZNmpSQ5yPrOHHiBAYMGIC8vDzs379fOw4ZZuvWrUhLS8NTTz2lHcVYTjzZM8m6desgIpg6dap2FCJHYfnc2s6dOyEi2LBhg3YUciCnrkeefvppiAj27t2rHYUSgOWzAYPlc3xYPpOdJXJ+v/vuuxAR/OY3v0lAMrKa4cOHIycnx3ELVTq77777Dl26dMHtt9+uHcVoTj3ZM8myZcsgIliwYIF2FCLHYPkc28yZM9GnTx/tGORATl2PNDY2okePHpgwYYJ2FEoAls8GDJbP8WH5THaWqPnN4tnZxo0bh7S0NN5cklo5evQo+vbti6uuuko7ivGcerJnmgceeAAivGcBUaqwfG5bfn4+Zs6cqR2DHMbJ65FAIAARQWVlpXYUOkcsnw0YLJ/jw/KZ7CwR8zuyjyuLZ2e6+eabISIIBoPaUcgwjY2NGDp0KIYOHYrGxkbtOMZz8smeaSZOnAgRweeff64dhcj2WD637cMPP4SIYOfOndpRyEGcvh4pLCxEYWGhdgw6RyyfDRgsn+PD8pns7FznN4tnZ3v44YchIli1apV2FDLQVVddhQsuuABHjx7VjmIJTj/ZM80VV1yB7Oxs7NixQzsKka2xfD6zG2+8EcOHD9eOQQ7i9PVIZWUlRARvvfWWdhQ6ByyfDRgsn+PD8pns7Fzm96effsri2cGeffZZiAjKy8u1o5CBbr/9duTk5CAUCmlHsQynn+yZpq6uDh6PB+effz5++OEH7ThEtsXy+cwOHz6MrKwsvPrqq9pRyCG4Hjn9jz49evTgb+5ZGMtnAwbL5/iwfCY76+j8/vTTT5GWlsbi2aHefvttiAjmzJmjHYUMNH/+fKSlpeGrr77SjmIpPNkzz/fff4/zzjsPAwcOxKlTp7TjENkSy+eze+GFF5CTk4OamhrtKOQAXI8Ae/fuhYhg7ty52lGog1g+GzBYPseH5TPZWUfm9+eff460tDRce+21SUxGpgoGgxAR3HXXXdpRyEArV66EiOCjjz7SjmI5PNkz07Zt25CZmYlf/epX2lGIbInlc/sUFRXh1ltv1Y5BDsD1yGkPPfQQMjIycOTIEe0o1AEsnw0YLJ/jEynnODjsPNpbPgeDQXTr1g0TJkxI8juPTPTxxx8jLS0NN998s3YUMtCGDRsgIli6dKl2FEviyZ65PvnkE4gIix+iJGD53D7btm2DiGDDhg3aUcjmuB45ra6uDp07d8Ydd9yhHYU6gOWzAYPlc3zq6+tRUVHBwWHrUV9ff9b3wuOPPw4RQWlpaQreeWSaNWvWQERwww03aEchA23fvh1ZWVn4wx/+oB3FsniyZ7bXX38dIoLHH39cOwqRrbB8br8HHngAffr00Y5BNsf1yE+WLl3KvwuLYvlswGD5TETxOHXqFMaNGwcRXtHoVG+99RZEBJMmTdKOQgb67rvvcN5552HixInaUSyNJ3vmmzNnDkQEr7/+unYUIttg+dx+DQ0NyM/P5z+CUVJxPdJcv379MHLkSO0YFCeWzwYMls9E1F779u1D//790a1bN2zatEk7DimI/Iv/1KlTtaOQgY4ePYq+ffvil7/8pXYUy+PJnjXceuutEBF88skn2lGIbIHlc3zeeecdiAh2796tHYVsiuuR5tatWwcRwYcffqgdheLA8tmAwfKZiNrj008/RU5ODgYPHoxDhw5pxyEFc+fOhYjgkUce0Y5CBjp16hSGDh2KoUOH4tSpU9pxLI8ne9bxq1/9CpmZmdi2bZt2FCLLY/kcvzFjxuDKK6/UjkE2xfVIayNHjkS/fv20Y1AcWD4bMFg+E9HZzJ8/HyKCG2+8UTsKKbnvvvsgIli8eLF2FDJQY2MjLr/8clxwwQU4evSodhxb4MmedZw6dQoDBw7Eeeedh++//147DpGlsXyO3/79+5Geno633npLOwrZENcjrUX+TsrLy7WjUDuxfDZgsHwmojO54YYbICJYtGiRdhRS8rvf/Q4i3OObYmtsbMQvf/lL9OzZE3v37tWOYxs82bOWH374Aeeffz48Hg/q6uq04xBZFsvnjlm0aBG6du2K2tpa7ShkM1yPxPb73/8enTt35n/zLYLlswGD5TMRxXLgwAEMHjwYOTk5+Oyzz7TjkILGxkaMHTsWIsKraahNLJ6Tgyd71rNjxw5kZ2fjiiuu0I5CZFksnztu4MCBKC0t1Y5BNsP1SGxHjhxBRkYGHn74Ye0o1A4snw0YLJ+JqKUPPvgAubm5GDBgAPbt26cdhxQcOXIEQ4cOhcvl4o20qE1XXXUVunfvzuI5CXiyZ03/+Mc/IMJtqog6iuVzx23evBkigi+++EI7CtkI1yNt+/Of/wwR4TrYAlg+GzBYPhNRRGNjI+666y6ICO644w40NjZqRyIF27dvR48ePZCfn48dO3ZoxyFDRYrnXbt2aUexJZ7sWVcgEICI8Gooog5g+Xxu7r77bvTv3187BtkI1yNta2xsRI8ePXDTTTdpR6GzYPlswGD5TETA6YVF//790alTJ6xdu1Y7DilZt24dMjIyMHToUN44jto0ZswY9OjRA3v27NGOYls82bO2yI16ly1bph2FyFJYPp+bEydOoHv37nj66ae1o5BNcD1yZm+++SZEBJWVldpR6AxYPhswWD4T0ZIlS5CWlobLL78c+/fv145DShYuXAgRwfjx43nVO8XU0NCAUaNG4YILLsB3332nHcfWeLJnfaWlpRARrFu3TjsKkWWwfD53//u//4v09HSu6SkhuB45u8LCQhQWFmrHoDNg+WzAYPlM5Fw1NTW4+uqrISJ4/PHHteOQoilTpkBEMHPmTO0oZKi6ujpcdtll6N27Nw4ePKgdx/Z4smcPY8eORXp6OrZs2aIdhcgSWD4nxpVXXokxY8ZoxyAb4Hrk7CorKyEiCAQC2lGoDSyfDRgsn4mcacOGDTjvvPOQn5+PTZs2acchJYcPH8bw4cMhIli5cqV2HDJUbW0tBg0ahIsvvhhHjhzRjuMIPNmzh4aGBhQWFqJr1668gS9RO7B8Tozdu3dDRPC3v/1NOwpZHNcj7XPDDTegoKBAOwa1geWzAYPlM5Hz+P1+iAh8Ph+OHz+uHYeUfPHFF+jWrRvOP/98fPXVV9pxyFBHjhzBxRdfjEGDBqG2tlY7jmPwZM8+ampq0KtXL/zsZz/DsWPHtOMQGY3lc+KUlZWhe/fuOHHihHYUsjCuR9pn7969EBHMmzdPOwrFwPLZgMHymcg5QqEQBg8ejMzMTLz66qvacUhR5GZYI0aMQDgc1o5Dhtq3bx969eqFYcOGoa6uTjuOo/Bkz1527dqF3NxcXHbZZdpRiIzG8jmx+vfvj+nTp2vHIAvjeqT9HnjgAWRnZ/PcykAsnw0YLJ+JnGHBggXIyMjA4MGDEQqFtOOQkhMnTuDaa6+FiGDWrFnacchg//d//4du3bphxIgRqK+v147jODzZs59NmzZBRHD99ddrRyEyFsvnxPriiy8gIti2bZt2FLIorkfar66uDp07d8bdd9+tHYVaYPlswGD5TGRv27Ztw5AhQyAieOKJJ7TjkKJ///vf6N27Nzp16oRPPvlEOw4ZbOPGjcjKysLEiRO1ozgWT/bsac2aNRARlJaWakchMhLL58SbPHkyioqKtGOQRXE9Ep/nnnsOIoLq6mrtKBSF5bMBg+UzkX099NBDEBFcdtll/A+gw61YsQLp6ekYOHAgvvvuO+04ZLB33nkHIoKpU6dqR3E0nuzZ1+LFiyEiWLx4sXYUIuOwfE68mpoaZGVl4YUXXtCOQhbE9Uj8+vXrh7Fjx2rHoCgsnw0YLJ+J7Oezzz5Dnz590KlTJ5SXl2vHIUUnT57ErbfeChHB7bffrh2HDLd06VKICObPn68dxfF4smdvpaWlEBGsWbNGOwqRUVg+J8cLL7yArKws1NTUaEchi+F6JH7vvvsuRAQVFRXaUej/Y/lswGD5TGQfx48fx5QpUyAiuPrqq3Ho0CHtSKSoqqoKvXr1QnZ2NlavXq0dhww3Y8YMiAhWrlypHYXAkz0nGDt2LEQEmzZt0o5CZAyWz8kzcOBA3HLLLdoxyGK4HumY4uJifpYZhOWzAYPlM5E9/PWvf8V5550Ht9uNVatWacchZX/6058gIhg+fDi+//577ThkuBtuuAEulwsbNmzQjkL/H0/27K+hoQGFhYXIzc3Frl27tOMQGYHlc/Js3rwZIsL/1lNcuB7pmC1btkBE8PLLL2tHIbB8NmKwfCaytgMHDqCkpAQigjvuuAMnTpzQjkSKdu/ejUsvvRQigrlz52rHIcMdO3YMXq8X559/Pv71r39px6EoPNlzhpqaGvzsZz9Dr169+OvwRGD5nGx33303+vTpox2DLITrkY677bbbkJeXh/r6eu0ojsfy2YDB8pnImhobG/HEE08gMzMT/fr146/tEl599VW4XC706dMHW7du1Y5Dhtu9ezf69OmDQYMG4YcfftCOQy3wZM859u3bh65du6KwsBANDQ3acYhUsXxOrtraWnTt2hVPPPGEdhSyCK5HOu7gwYNIS0vDo48+qh3F8Vg+GzBYPhNZz1tvvYX8/HxkZ2fzxmCE2tpaXHPNNRARlJaW8l/X6ay+/PJL5ObmYvTo0ZwvhuLJnrNs2bIF6enpGDt2rHYUIlUsn5PvzTffhIhg9+7d2lHIArgeOTezZ89GWloaDh48qB3F0Vg+GzBYPhNZx5dffolhw4ZBRHDnnXfyV3QJH3zwAfLy8tClSxd89NFH2nHIAlavXg2R09v0kLl4suc869ata/pHRCKnYvmcGsOHD8eVV16pHYMsgOuRc1NfX4+8vDxMnjxZO4qjsXw2YLB8JjLfgQMHcNNNN0FEMGrUKP7Hn3DkyBFMmDABIoKJEyfyHyKoXZ588kmICBYsWKAdhc6CJ3vOtGzZMogIFi1apB2FSAXL59TYuXMnRAQrV67UjkKG43rk3C1fvhwigi1btmhHcSyWzwYMls9E5jp16hRmzpyJtLQ0XHjhhXjvvfe0I5EBli9fjtzcXOTl5eGDDz7QjkMW0NjYiIkTJyIjIwPr1q3TjkPtwJM955oxYwZEBGvWrNGOQpRyLJ9T55FHHkH37t15s3I6I65HEmPAgAEoLi7WjuFYLJ8NGCyficz06quvonv37sjNzcXixYu145ABDhw4gCuvvBIigilTpuD48ePakcgCjhw5gqFDhyI/Px/bt2/XjkPtxJM9Z7v++ushIqisrNSOQpRSLJ9Tp6GhAfn5+bj33nu1o5DBuB5JjIqKCogIVq9erR3FkVg+GzBYPhOZZePGjRg8eDBEBNOmTUM4HNaORAZYsmQJXC4XevbsiQ0bNmjHIYvYunUrevTogUsvvRRHjx7VjkNx4MkeFRcXIzc3F9XV1dpRiFKG5XNqvfPOOxARbNu2TTsKGYrrkcS59tprUVBQoB3DkVg+GzBYPhOZYfPmzRg9ejREBGPGjOHJJgEAqqurUVRU1PSPEadOndKORBbxzjvvIC0tDZMmTdKOQh3Akz06duwY+vXrh4KCAu7rT47B8jn1xowZg6KiIu0YZCiuRxKnuroaIoJnnnlGO4rjsHw2YLB8JtK1efNmXHXVVRARXH755fj888+1I5EBGhsbMXPmTIgI+vXrh82bN2tHIgt5/PHHISJ4+umntaNQB/FkjwBg79696Nq1K4qKitDQ0KAdhyjpWD6n3v79+yEiWLp0qXYUMhDXI4l1zz33IDs7m7/dnGIsnw0YLJ+JdGzevBljxoyBiOCKK67gVgrUZPXq1bjggguQnp6OJ598UjsOWUhDQwPGjRsHl8vFGwtaHE/2KGLz5s1IT0/HuHHjtKMQJR3LZx1z585FVlYWf8uCWuF6JLHC4TCys7Mxffp07SiOwvLZgMHymSi1Nm/ejLFjx0Lk9JXOf//737UjkSFCoRB++ctfQkQwfvx47N+/XzsSWci+ffswYMAA9OrVCzt37tSOQ+eIJ3sU7f3334eIYOrUqdpRiJKK5bOePn36cKsuaoXrkcRbtGgRRITbbKYQy2cDBstnotTYunUrrr76aogIhg8fjo8//lg7EhkieouNgoICrF+/XjsSWcynn36KnJwc/PKXv0Rtba12HEoAnuxRS88++yxEBM8995x2FKKkYfmsZ8OGDRAR/jYmNcP1SHIUFBRg/Pjx2jEcg+WzAYPlM1Fybd26FePGjYOIoLi4GMFgUDsSGSR6i43HH39cOw5Z0Pz58yEi8Pv92lEogXiyR7FMnToVIoL3339fOwpRUrB81jVp0iT06dNHOwYZhOuR5Fi1ahVEBBUVFdpRHIHlswGD5TNRcqxbtw6/+tWvICLwer346KOPtCORQaK32Ljmmmu4xQZ1yA033ID09HSsXr1aOwolGE/2qC3jxo1Deno6b0RLtsTyWVdNTQ2ysrJ4zxFqwvVI8hQXF/PzLkVYPhswWD4TJdayZctw0UUXQUQwbtw4/uoaNXPs2DHcd999EOEWG9RxBw4cwODBg9GzZ0+eDNgUT/aoLQ0NDSgqKkLXrl2xd+9e7ThECcXyWd/zzz8PEcHu3bu1o5ABuB5Jni1btkBE8Prrr2tHsT2WzwYMls9E5+7HH3/Eo48+iq5duyI9PR133nkndu3apR2LDLNw4ULk5uaiU6dOmDdvnnYcsqjPPvsMXbp0wS9+8QscPXpUOw4lCU/26ExqampQUFCAfv364dixY9pxiBKG5bMZBg4ciCuvvFI7BhmA65HkmjRpEvLy8lBfX68dxdZYPhswWD4Tddy//vUv3HbbbRARdO/eHU888QRPAqmVQCCAPn36QEQwbdo0zhHqsHnz5kFEcN9992lHoSTjyR6dTXV1NXJzc1FcXKwdhShhWD6bYfPmzRARrFy5UjsKKeN6JLkOHjyItLQ0zJkzRzuKrbF8NmCwfCaKX/R+zgMHDsRrr72mHYkM9OWXX6KoqAgiguuuuw6hUEg7ElnUiRMnMGbMGIgIAoGAdhxKAZ7sUXtUVlZCRDBhwgTtKEQJwfLZHHfddRe6d++OEydOaEchRVyPJN+sWbOQlpaGgwcPakexLZbPBgyWz0Tt9+KLLzbt51Og+RQAACAASURBVDx69GgEg0HtSGSgvXv3YsKECRARDBkyBF9++aV2JLKwbdu2oXfv3ujZsyf/m+0gPNmj9lqxYgVEBDNnztSOQnTOWD6bo7a2Fl27dsW9996rHYUUcT2SfPX19cjLy8OUKVO0o9gWy2cDBk9kic7sX//6F6ZPn47OnTtDRPC73/0OO3fu1I5FBvr+++9RWloKEUGvXr2wYsUK7UhkcS+99BLS0tK4v7MD8WSP4jF37lyICH8TiyyP5bNZ3njjDYgItm3bph2FlHA9khovvfQS/56TiOWzAYPlM1FrJ0+exEsvvYSf//znEBFcfPHFWLRoEcLhsHY0MtChQ4cwbdo0iAhvJkgJ0dDQgFtuuQUi3N/ZqXiyR/GaMmUKRAQff/yxdhSiDmP5bJ7hw4ejqKhIOwYp4XokdQYMGICRI0dqx7Alls8GDJbPRD+prKzE7373O2RmZiIzMxNTpkzBF198oR2LDFVTU4P7778faWlpyMrKwqxZs1BbW6sdiyyuurq6aXsf7u/sXDzZo4749a9/jczMTPz73//WjkLUISyfzbNz506ICMrLy7WjkAKuR1KnoqICIoJ3331XO4rtsHw2YLB8JqcLh8N45plncPHFF0NEUFRUhBdffBEnT57UjkaGCofDeOihh5CRkQGXy4VHHnmEV8VTQqxevRpZWVnIz8/HN998ox2HFPFkjzri1KlTGDp0KHr27InDhw9rxyGKG8tnMz300EPIyspCTU2NdhRKMa5HUmvMmDHo16+fdgzbYflswGD5TE718ccfw+fzQUSQk5ODP/zhD9zPjM6otrYWs2bNQlZWFjIzM/HQQw+xdKaEaGxsbNovnPs7E8CTPeq4o0ePom/fvhg0aBAaGhq04xDFheWzmRoaGpCfn4/JkydrR6EU43oktaqrqyEiWLJkiXYUW2H5bMBg+UxOUllZifvuuw/nn38+RAQjRozAm2++qR2LDFdXV4c5c+agU6dOyMjIwIwZM3jlByXMyZMn4fV6ISKYOXOmdhwyBE/26Fx89913OO+88zBu3DjtKERxYflsrrVr10JEsGHDBu0olEJcj6Te1KlT0blzZ9TV1WlHsQ2WzwaMluVzZJ8ZDg4rjBEjRpz1g+arr77Cgw8+iAsuuAAigsLCQsybNw8HDhw44/fNnj1b/fVxWHu0Z352FOcnh/bg/OZI1Zg9e3bS5tqIESPUXx+Hc0ZFRUVS5jHP38wd/Pyyz+D71+zBn4/1RjI/H1ti+WzAaKt8Xrx4MSoqKjg4jB233nprm+XH119/Db/fj4KCAogIBg0ahLlz52Lv3r3t/oCaPXs2Bg8erP46OcwY77zzTlxff6b5mQicn/Ya77//vnqGeAbnN0eqxuDBg5Ne3tx6663qr5PD3mPx4sUQSX45wvM3swY/v+wx+P41e/DnY82R7M/Hllg+GzDaKp8rkvTmJUqU2bNnNys/tm7dikceeQR9+vSBiODiiy/G448/jlAolJDnJ4pHsucP5ydp4vymVBkxYkTSy5tUnvyQMyX7/Irnb2bi55c98P1rNv58rCnVn18snw0YLJ/JqmbPno1hw4Zh1qxZ6NevH0QEF154IR577DFs3749Ic/P8oM6iuUc2RnnN6UKyxuyA5YjzsTPL3vg+9ds/PlYE8tnls98c5FlzJ49G//1X/+FPn364JFHHsE333yT8Odn+UEdxXKO7Izzm1KF5Q3ZAcsRZ+Lnlz3w/Ws2/nysieUzy2e+ucgyZs+ejcsuuyypz8/ygzqK5RzZGec3pQrLG7IDliPOxM8ve+D712z8+VgTy2eWz3xzkWWw/CCTcX6SnXF+U6qwvCE7YDniTPz8sge+f83Gn481sXxm+cw3F1kGyw8yGecn2RnnN6UKyxuyA5YjzsTPL3vg+9ds/PlYE8tnls98c5FlsPwgk3F+kp1xflOqsLwhO2A54kz8/LIHvn/Nxp+PNbF8ZvnMNxdZBssPMhnnJ9kZ5zelCssbsgOWI87Ezy974PvXbPz5WBPLZ5bPfHORZbD8IJNxfpKdcX5TqrC8ITtgOeJM/PyyB75/zcafjzWxfGb5zDcXWQbLDzIZ5yfZGec3pQrLG7IDliPOxM8ve+D712z8+VgTy2eWz3xzkWWw/CCTcX6SnXF+U6qwvCE7YDniTPz8sge+f83Gn481sXxm+cw3F1kGyw8yGecn2RnnN6UKyxuyA5YjzsTPL3vg+9ds/PlYE8tnls98c5FlsPwgk3F+kp1xflOqsLwhO2A54kz8/LIHvn/Nxp+PNbF8ZvnMNxdZBssPMhnnJ9kZ5zelCssbsgOWI87Ezy974PvXbPz5WBPLZ5bPfHORZbD8IJNxfpKdcX5TqrC8ITtgOeJM/PyyB75/zcafjzWxfGb5bMSbKxwOo7y8HB6PB36/Xy1He0Syer1eeL1e7ThnVVVVBZ/PB5fLpR3lnNm9/AgEAvD5fBARtQxnEwwGISIIBoPaUYxj5fkZCoXg9/vhdrtT8rO10jyyUtZksvL81hAIBODxeCAi6NatG37961+n7P1ldSxvEqsjn2Hxfg8/J1uzczlitXOhVOLnlz3Y+f1rB/z5WBPLZ5bPcb25/H5/zOc829ecTSgUQllZGUTEEuVzKBSCiDQtuCKL7pbDhNdSVVWFkpKSpp9De+aICbljMa388Hq9Cf27C4VCTWVFMpSXl5/z9yTrBDPW32XLYfoJjmnzM573eqR8TsbPFkjNPGrrNbrdbvh8PoTD4Q49b0ezRr9mzu//197d66iOZW0AJpmMGyCbEOkLJpiA8GR1B0Pa0ZBNSDZSZ5VOSNhpBX0DRCcn6byF1FeA+hLWF7QWx7i2+asf9nY9j/RKfWigbLxt7BdjPvb5t9vt8UPWfD2fnp7i5eXlfSfySi8vLzGbzY77C//4xz/ib3/724etX11jGGu1lTfXvKafMdbO/f3ZbBZPT0/F9/mWy+eWx3Nt5Ujptbt3eZWOhd5Ly8cpEXVtv4aOT3O5f+S61PpyrG39HVqWXYfDIZ6fn4/HkvnesFqtXu0DDz3fe20jPlpty6frluWQun1N7sPudrtYrVbH+7S+zCKUz3fm4RPwprz1zOfD4XBcmZ6fn8/e55Y3lcPhEJNJ3W9EXZPJ6zfp1Wp13GDcW3R8hCyV+v8uvdbb7bbaHfkay498I5hOp7Hf7988DXmg9d72+/3Ny/Wex7xFvpalv7nf72M2m33atNyjxvG52WyKr+nhcIjlcnmyDfio8uAzx1F/fg+Hw3F7N5/PP227XJpn4/tjnj/fd9fr9XEbnDv+0+k0lsvlO0/pZaWzAT/zzNDWx1pN5U1ExNPTU3G5vby8xGQyOTk4/GilbfrhcIiXl5fj/sNnbus+Q6vjucZyJN8PF4vFu4yRoeXyVq0ep0TUt/2KiOO3Kkvvh7PZLObz+Ye8N7W8HGtcfw+Hw7Gg7L/v7Ha747Lsfhi62+1isVjEdDqN3W736jnzfaO0/NfrdbW9TI3LJ+K+5bDf74/7q7ld3m63gyektbrMIpTPd+bhE/CmvMdlN645Q26xWNz8Rjb0BlWj0g5X7iDXNg/98vnSdNY2/anW8uM9d74/onzOD4NumcZ7HvMezr2WtY7LVOP4PHfQHhEnHyB+RDn22eNoaH5zvRr6wPQ9nZtn4/t9nz/f24aWa5aDn11AP7p8jmh7rNVW3pTOJs6Dxfl8/o5TdlmeqDG0bLNkqrnUuUeL47nGcuS9j1M+aqy1epwSUd/2K2K4BF6v1x/6/tjycqxx/Y0odzCHwyGm0+nxG1cl8/m8WHxe6nRqXUY1Lp97l0O/p+k+X+nD1VaXWYTy+c48fALelEeUz3ldsPV6ffzkJ3dYuitnvkFtNpvj12dLX1E4HA6xWq2O9+l/utS99EeugN2vKuRt105X/+/lp45vKZ8vzUP3ft2vEy8Wi+Ibx2w2i8nkrzNw+5+G3lo+p+7rk8skv9ZZuv3a+Tr3+HNqLD8iXu9851fAcxzlweBsNnu17J6fn4/Lbj6fH/+7b71en7ym+TzX/K3u136609q9JmmO6xz3pcfk5XH61y3tzsNsNns1rm55PUrrVV/3+fIT5tlsFr/++mvx9pynW6az9PhLahyfl8rn0n1vWbYRbx9Ht4yP7nrQTe6cDc1v92yvrkvzd8+0Dq1vEcb3ez5/fuX70u8Z5PIY+ppx6n69P12z3e2+lv/5z39ePX//8lzXrl/9r1fm2Syl5+7e3p3PVsdajeVNXx5Alr7xdOu4ufZ1TeeWbR6s5ljob8OuGf+l9/rufvl8Pj8prOwblNVYjpT2/9/7WKi7LLv7BP3xl48rjcdWj1Mi6tx+9cvnXEbnLsc3tBz770PdZdRfli0vxxrX34hyB5PL6dwJFvlh/ND+8blOJ79Nltv4/MbZf//73+LtOR37/b54KYlLz3vNiSI1Lp97l0Mug9KZ6aV1p9VlFqF8vjMPn4A35bPL5/w6YA7g5XIZ2+22eMZSrozr9Tq22+3gV0tyx/dwOJy8OXbfRHe73as3vO5tt0zX09NTzOfz2O/3J3/vLeXzNfOQZ9Dl/fJMm+6nYPkVzFwWOf2lMv7SdOYBRP7t7uvz/Pwcq9Uq/vnPfxZvz9fi0nwNPe815Vht5Ufqj4Xtdnv8ys1yuYyXl5eTeU75tfBcdnnd8+6yivjrzaw7BvKgN3fmr/lb/TPxsrjpfzjTXdf6j9ntdq/W/dVqdVw3uvPQPTC9dhpLr2XEj0snlJ5vvV4fr6v1yy+/FG/f7/c3T2f/8deocXwOlbGlne9+OXbNa/Ye4+ja8ZEHGbkTVNrJG5rfvG93HF0zf/dOa+nM1wjj+z2fP+fx0oFkLr8ck7vd7niw2i+PukXhtdvd0mt5zZnP1y6z/pgZOpt7tVq9KgFaHWs1ljddebBVOmHg3nFzzeuaSsu2NH3L5fLVNuya8T/0mO602Te4PJ5rLEf6+//vfSyUxy35uO12G9Pp9HifvEzKZPKjaHl+fn71uwytHqdE1Ln96pbPeVmwS8XVueXYf1/tPq67rWh5Oda4/kaUO5jcppfKy648xuyua0OdzsvLy/G27u/C5LZ6sVjEv//97+LtOc6m0+lJqdk/63foea/pUWpcPvcuh1xvuh3VOa0uswjl8515+AS8KY+67EbpTar/hlR6g8pP4PONLMvW/qfxs9ns1RlQpecr/c1z05V/r7uTOfS1x1s+4b1mHvKTpa6np6dX9+n+u3Tt7KHyuZTS6zV08NO//dZlc+tXvWorP1JpLCwWi1dfx+0WElna9c866F/fKc+y6cqdqXxzuPS3Sv/OD2K6b5D9SwVcKlByHvoH4PmhUfe5r5nGiOEfKCm9vqWvIpVuv3U6771+ZI3j89y6PnTfW5bte4yjvM+l8VHaZvTHRj5v97myTOgeEN0yJu6Z1nPls/H9Ps/fP5Pr0v1KZ5l039f3+/1xfF273R16Ld9z25nffOo/f38Mlsq6VsdajeVNOned53vHzS2va8Tl8rk/5vvbsEvjv/+YLF+7zv2IrH2Dv9RYjgwdp7zXsVAWyV35YUh3vyEvWZM/sjU0na0dp0TUuf3qbhOm0+nF981rlmNpndhsNlf/QFrty7HG9Tei3MEM7df35f26j+2fyd5N9365LIe2/f3bl8vlq217HjN01/mhx19S4/J5y3LoXs8719GhErrVZRahfL4zD5+AN+WR5XPpjaZfLvTv0z+zd2gHMN8Ur/mblwrv7nQ9PT0V/15/2iOuL5+vnYehAqOk+zWI/jRce+Zznu3Qn8/S/JRuf+uyuaS28iOVxkJp2eUHKRE/CrH+mTPd+0Scf4PJnalLf2voPim/ltafj0sFSukANuLHwXZ3+V4zjRHl17J/UHxufkq3v3U6r1Xj+CydOZlntAzd99Zlm+4dR0P36Y+P7lk3qbsedJ83vyGS60r/a2O3zN8903qufDa+3+f531I+51km3dd9vV4fx8i92930ntvO0k5+nuGVY3LovbvVsVZjeRNxWpqV3Dtubt3elpZt6fmGyudL47//mCx1+vv1XfYNXquxHDlXPr/HsVAuu1K627A8thu6fEmrxykRdW6/cqzncpxMzv9Q6jXLsfTetFgsTtanlpdjjetvxMeVz/1t+3q9LhaZ/fsN3d7fP0/9k6yGHn9JjcvnLcshbbfb4/o3nU6LBW+ryyxC+XxnHj4Bb0pr5XPpwL90jcehjfFby+dbSoRbyudr5uHand08+3m1Wr36Gnz3ea+Zzv5Gbuh+pdvfumwuqa38SKWxcOmAqr9MSvfJ+10aA/eWYXk209PT0/HN7p7yuX9WVml8veUAM+L1uLznAPPe6bxWjeOzVD5HlK8hdu+yfes4GrpPf3z0P4js//vc/PbdOn+3Tust7xs5L/3nM77Pyw/wrl3W/QPtLHDzK+Tdszru3e6e+3/3rl8RcSz+8j7b7fbkurvL5fJVgdbyWKuxvMkP7Yau8xxx/7i5dTxcGvdZwOSYLx0onhv/pcfkJS7yQ8ChabVv8EON5ci95fO172mLxfVfv+5fj/+a6Yyo+zglos7tV/fD2sPhcFzH+pc7Sdcux24JvN1uB7cjLS7HGtffiPOX3bhUBmYXdM1lN/b7/ZuLzNK3Gvrb9zGVz29ZDn25nzeZvP52TqvLLEL5fGcePgFvynuWz6Xr3aX+p5+ljf9kcrl8zjMQul/zKa2wpZ3Iob95a/lceoPrT3vEbeXzNfMw9Le7G5c8GDg337eUz6X5vGVn4C3L5pLayo9UGgvXls/9g55S+Vx6TSPiuP7dU4YNnbFwT/nc3w7kfbrXCnzrAWbfPQeY907ntWocn9eWsd373rJs32McDd2nND7yR58mk7/OmBqavmsLyWvGxGeUz33G92XdHxw8twOfy6a/rc3Hr1ar2Gw2J2P43u1u92++17Yz4vSbMlk4521DX1tveazVWN5kWXtuv/fecXPreDi3bPs/ONh9nu6B4rnxP/SYfP68/FvpDEf7Bj/UWI68pXy+5lhosXh9GZWIOF7zPK3XP66dXdqGt3qcElHn9qtbPqfcps3n81evx7XLsbsPmNd/7Wp5Oda4/kac/8HBc/OZy6K/v3DNCYXdx99SZJbGUH9bMqby+d7lkB8K9Q1d5rXVZRahfL4zD5+AN+U9yudz17yLiOMFy7tKK2N/hSrdZ7lcnny1Jg+4+vdbrVavvoLTn8bS9ZAvTVf/661D0x5x+U02L41x7TyUdhZymlJph7j/mFvL5+4PQQzdr3T7rcvmK5fPedbm0A5Vymst9b8Gkz/Mc83fKt2ndOb1raVhTlv/Prl96B6YvtcBZq7PtxxgvnU6r1Xj+Ly3fL72NXuPcTR0n9IHMZe2GdfO7y1j4jPLZ+P7tucfeo9MueyG9lWyRBt6TW/d7qb+dc+703LrtjPi9ACk+2NKk0n5Q5iItsdabeVNvl+f+5r6er2+e9zc8roOHYym3GctXZ+xvx87NP77j8l09dc7+wav1ViO3Fs+X3sslMcB/Q8zVqvVsVzZbDYnP2hVupRNq8cpEfVtvyKG3ytz29Y/iema5ZgWi7/Ofi5dBqPl5Vjj+htRLh7zUkrnPozPArG/f3GpyMwfsbu1yMzrF/dv735r69zjL6lx+dy7HPLDuJL8ZmlXq8ssQvl8Zx4+AW/Ke5TPET++LtX9tOZwOMRms3l1jZrSDl7uQHd3OPLf3V9A7r8hdr/62D2rYzqdvjoAyx8eeHl5ic1mc1xZF4vF4A5yf7pyx6j793LHdD6fn6x4/a86du12u+O8XTsP3V8/XS6Xx690dl/bPHjI5+3+Une+2fZ/POXcdObXPPb7/fH16V+Tbej2a+dr6PGX1Fh+5Lx030i6P3rRnb9cZ/K2/He+4eSPFeUGPe+Xy282m8V6vT6e/XnL38pxkr/+3N+x3Gw2x19zf35+jv1+/+oxET92+HKa84Ck/8u4/Q99rpnG7nrVl9Oz2WxOzuzqbxtKt986naXHX6PG8ZkHFqUzW/ruWbbvMY6uHR+5w5YlwNPTU6zX6+J1JK+Z32vm795pLc2z8f0xz98906T7g5L5raBzPzR07sD4mu1u6bUcen+7Z/3qz2f/Q/2h67C2PtZqKm8uXec5L0fR39+6ddxcOx5yG1cqTLO0fXp6Ojv20rnx331M7heeO5PavsFrNZYj3csV5ev7nsdC3ddqsVgcj1tyjOU+Qlcek3QvAdHqcUpEXduvlOO89H6Y/6/7PnppOXYNfUMjou3lWOP6G/HjPab/mnbfq7qvQb439PuUiDi5BEvpQ+zNZnPcBuS2o1+EDt3enZ7cN8tep1u8Dj3+klqXzz3LofvhULdLKH3o1/Iyi1A+35mHT8Cb8l7lc+5w507iZPJXAZfX/Uz5ptRN6baIv1bM3KjmoC5dW6+7Qk4mr0vg7t/O8jY30nlt5F9++eXq6drtdscVPc8yyoPa3W5XfFwp3R3na+eh/7f7n0J3C8v8RHo+n8dsNjt57C3Jcr70Wgzdfu18XXr8ObWVH6XXNt9ALo2rLJfztcpfts1Srf8hxGq1OvkgIneirv1b+YaS46L75rVY/HWJnPwbOcb6j+nPW+6EZsmTY7T0FeFL09jdjgwlD1BLzzf0d7rumc5b1DY+S6/h0Nkf/WWbB6GXXrP3GEfXjuE8aM3pubTenZvf7nyfm797p7U/z9dsh43v+59/u90eC/+cv/6+yJBuCdN163Y3ojxespi8Z/3qz2N/POcHif35aX2s1VTeXPPeNJn8OAi8Z9ykW1/XbmazWSyXy+JzntsmlsZ//zH/+te/TsZVf1/UvkFZbeVI6bXLEuHScoi4fCyU8gOBXDY5HrrPW7ott43XrG+1HqdE1LX9Gjo+PfeelctnaDmWlM70bH051rb+Di3LrlI3kx+EDl3a5lIu7cOUbk/9/d9+r3Pp8e/5+t3qLc9/y3KI+HHZjSyOu6/XpTHd0jKLUD7fmYdPwJvyXuUzfLaayw8wPj9W6eueET/OJuBjGd98lprKG7hXzeUIH+erbb92u93Zbxi1yvpbN8unTcpn5bOVi2YoP6iZ8flx8lsBJXn2Cx/L+OazfLXyhnFSjnxNX2371T/zfSysv3WzfNqkfFY+W7lohvKDmhmfH6d73cC8ZM1ut4uXl5eTr7XzcYxvPstXK28YJ+XI1/QVtl95LfvVanXXdV9bYP2tm+XTJuWz8tnKRTOUH9TM+PxYz8/PJ9dCm8/ng9dP4/0Z33yWr1DeMH7Kka/pK2y/uj96N9Z9MOtv3SyfNimflc9WLpqh/KBmxidjZnzzWb5CecP4KUe+JtuvcbD+1s3yaZPyWfls5aIZyg9qZnwyZsY3n0V5wxgoR74m269xsP7WzfJpk/JZ+WzlohnKD2pmfDJmxjefRXnDGChHvibbr3Gw/tbN8mmT8ln5bOWiGcoPamZ8MmbGN59FecMYKEe+JtuvcbD+1s3yaZPyWfls5aIZyg9qZnwyZsY3n0V5wxgoR74m269xsP7WzfJpk/JZ+WzlohnKD2pmfDJmxjefRXnDGChHvibbr3Gw/tbN8mmT8ln5bOWiGcoPamZ8MmbGN59FecMYKEe+JtuvcbD+1s3yaZPyWfls5aIZyg9qZnwyZsY3n0V5wxgoR74m269xsP7WzfJpk/JZ+WzlohnKD2pmfDJmxjefRXnDGChHvibbr3Gw/tbN8mmT8ln5bOWiGcoPamZ8MmbGN59FecMYKEe+JtuvcbD+1s3yaZPyWfls5aIZyg9qZnwyZsY3n0V5wxgoR74m269xsP7WzfJpk/JZ+WzlohnKD2pmfDJmxjefRXnDGChHvibbr3Gw/tbN8mmT8ln5bOWiGcoPamZ8MmbGN59FecMYKEe+JtuvcbD+1s3yaZPyWfls5aIZyg9qZnwyZsY3n0V5wxgoR74m269xsP7WzfJpk/JZ+XxcuURayEeXH4+eP2k7xqeMOca3fFY+urx59PzJ18lHlyNSX2y/xhPrb92xfNqL8vnmPHwC3pR++fznn3/G9+/fRZrIb7/99mEbqD/++OPh8ydtx/iUMcf4ls/KH3/88WFj7bfffnv4/MnXyZ9//vkh49jxW72x/RpPrL91x/L5Hj/99FP8/e9/f/h0XJuP3D72KZ8rSL98BgAAAADa8PPPP8f//d//PXoyqqR8riDKZwAAAABok/J5mPK5giifAQAAAKBNyudhyucKonwGAAAAgDYpn4cpnyuI8hkAAAAA2qR8HqZ8riDKZwAAAABok/J5mPK5giifAQAAAKBNyudhyucKonwGAAAAgDYpn4cpnyuI8hkAAAAA2qR8HqZ8riDKZwAAAABok/J5mPK5giifAQAAAKBNyudhyucKonwGAAAAgDYpn4cpnyuI8hkAAAAA2qR8HqZ8riDKZwAAAABok/J5mPK5giifAQAAAKBNyudhyucKonwGAAAAgDYpn4cpnyuI8hkAAAAA2qR8HqZ8riDKZwAAAABok/J5mPK5giifAQAAAKBNyudhyucKonwGAAAAgDYpn4cpnyuI8hkAAAAA2qR8HqZ8riDKZwAAAABok/J5mPK5giifAQAAAKBNyudhyucKonwGAAAAgDYpn4cpnyuI8hkAAAAA2qR8HqZ8riDKZwAAAABok/J5mPK5giifAQAAAKBNyudhyucKonwGAAAAgDYpn4cpnyuI8hkAAAAA2qR8HqZ8riDKZwAAAABok/J5mPK5giifAQAAAKBNyudhyucKonwGAAAAgDYpn4cpnyuI8hkAAAAA2qR8HqZ8riDKZwAAAABok/J5mPK5giifAQAAAKBNyudhyucKonwGAAAAgDYpn4cpnyuI8hkAAAAA2qR8HqZ8riDKZwAAAABok/J5mPK5giifAQAAAKBNyudhyucKonwGAAAAgDYpn4cpnyuI8hkAAAAA2qR8HqZ8riDKZwAAAABok/J5qszZdgAAClZJREFUmPK5giifAQAAAKBNyudhyucKonwGAAAAgDYpn4cpnyuI8hkAAAAA2qR8HqZ8riDKZwAAAABok/J5mPK5giifAQAAAGjRt2/fHt6tST35/v37yfhQPlcQ5TMAAAAALfr27Vv89NNP8f37d/nC+d///qd8rjXKZwAAAABa9O3bt/j5558fPRk82Pfv35XPtUb5DAAAAECLlM9EKJ+rjvIZAAAAgBYpn4lQPlcd5TMAAAAALVI+E6F8rjrKZwAAAABapHwmQvlcdZTPAAAAALRI+UyE8rnqKJ8BAAAAaJHymQjlc9VRPgMAAADQIuUzEcrnqqN8BgAAAKBFymcilM9VR/kMAAAAQIuUz0Qon6uO8hkAAACAFimfiVA+Vx3lMwAAAAAtUj4ToXyuOspnAAAAAFqkfCZC+Vx1lM8AAAAAtEj5TITyueoonwEAAABokfKZCOVz1VE+AwAAANCiR5TP2+02JpNJbLfbu5/j5eUllstlTCaTd5yyr0v5XHGUzwAAAAC06Jbyud+JLRaL4u3dQjiL5sx6vX6X8nm/38d8Pq+mfF4sFhc7xHy9aqR8rjjKZwAAAABadEv5fDgc4unpKSaTSaxWq5Pb8yzk7u3d/z+bzWKz2bzXZEfEj8K3Flmql0rm/X4fs9nsAVN1HeVzxVE+AwAAANCiWy+7kQXrcrk8uf1wOMR0Oo2np6dXjzkcDjGfz986qa/UVj5HxGD5HBGxXq8/eWqup3yuOMpnAAAAAFp0zzWf83IXh8Ph5PY8K3q/35/cvtlsjmc97/f7eH5+jtlsFtvtNrbbbSyXy1gsFidnUM9ms9jtdifPk4+bTCYxn8+P/93Xvd9sNjspfUuXAVmv1ye3ZXncvX273cZms4npdHr8+/0CPuJ8+dydhpzn3W4Xs9ksZrNZ/Prrr8Xb83U+N1/nnre/nEqUzxVH+QwAAABAi+4pnzebTUwmk3h+fj7elpfWyEK3K4vliIjdbncsdbN8ns1mxzL35eUlXl5eYjKZnJxF/fz8HNPp9Hid6Ofn52M317VarWI+nx8L8LxftyguXR4j/2a/UF6tVrFer2O328V0Oj153lLJXCqfD4fDqwI853m9Xsfz83PM5/P45Zdfirfv9/ur52vo8ZconyuO8hkAAACAFt1TPuclNrrXMN5sNseyczqdHm/f7XavCt3+Dw4uFotXl+VYLBbHEne/38dkMnl1zej+Dw7m/V5eXk7ul2dkd8+kXi6XJ9M5NB1ZgGex21W6hvVQf9gvpBeLRfEa0KXbb5mvoee9RPlccZTPAAAAALTonvI5Io6Xx8hCNM9uzrOis5hdLpevLp9RKp9L5WwWy3mWb/8M3v41n/OM6v798qzm0uU3ugVyzlNO13a7PT4mz+xeLBbH/19SKpr3+/2rAr40z0O33zJfQ897ifK54iifAQAAAGjRveXzbreLyeSvS2Ps9/vjGcKHw+FYwA790OCt5XOWr31D5fNQ2d2/HEiWyXmf7XZ7ci3n5XJ5Uvjm5TOm0+nxusp9pfI54vVZ0veUz9fMl/JZ+QwAAAAAVbi3fI74cdmLvFZzyjOI87rDffeWz/3ydah87l+eIv9ef1q6Z1Rn4Zy37Xa7k2tOdx0Oh3h6ejq5BnQaKp/77imfr5kv5bPyGQAAAACq8JbyOS+x0b/GcJaik8nk+EODpf9/bfmcf6f0Q4bd8jnPxu4/V16eol8Ud8/SzjOT87bZbHZS9uaZ0V2labpUPq9Wq8F5Hrr9lvlSPiufAQAAAKAKbymfIyKm0+mxUO2azWavrnOc8uzi5+fn47WUp9PpSVGdZ1XnbfnvPMt3t9vFbDY7lth5vzzrOu+33+9jPp8XpzHv3//hwaenp2KhPp/PT64H3S3QI36UwaVLjeSlSTabzXGeJ5PTs7mHbr92vs49/hLlc8VRPgMAAADQoreWz6vV6tUZxRF/XSqi9MN8eQmJoXTPmu7edjgcjgXsdDqN9Xodi8Uinp6eXl2OIq/LPJn8dQZz6dIfqfujgunl5eXVY7bb7fFM63ze7nWcu/9vKFmwl+YvIgZvv3a+Lj3+HOVzxVE+AwAAANCit5bPjIPyueIonwEAAABokfKZCOVz1VE+AwAAANAi5TMRyueqo3wGAAAAoEXKZyKUz1VH+QwAAABAi5TPRCifq47yGQAAAIAWKZ+JUD5XHeUzAAAAAC1SPhOhfK46ymcAAAAAWqR8JkL5XHWUzwAAAAC0SPlMhPK56iifAQAAAGiR8pkI5XPVUT4DAAAA0CLlMxHK56qjfAYAAACgRcpnIpTPVUf5DAAAAECLlM9EKJ+rjvIZAAAAgBYpn4lQPlcd5TMAAAAALVI+E6F8rjrKZwAAAABapHwmQvlcdZTPAAAAALRI+UyE8rnqKJ8BAAAAaJHymQjlc9VRPgMAAADQom/fvj28W5N6onyuMMpnAAAAAFr022+/xffv30Xi+/fv8eeff56MD+VzBVE+AwAAAABjo3yuIMpnAAAAAGBslM8VRPkMAAAAAIyN8rmC/P77748eBwAAAAAA7+r3339/ePf65ctnEREREREREREREakyD58AERERERERERERERlfHj4BIiIiIiIiIiIiIjK+PHwCRERERERERERERGR8efgEiIiIiIiIiIiIiMj48vAJEBEREREREREREZHx5eETICIiIiIiIiIiIiLjy8MnQERERERERERERETGl4dPgIiIiIiIiIiIiIiMLw+fABEREREREREREREZXx4+ASIiIiIiIiIiIiIyvjx8AkRERERERERERERkfHn4BIiIiIiIiIiIiIjI+PLwCRARERERERERERGR8eXhEyAiIiIiIiIiIiIi48vDJ0BERERERERERERExpeHT4CIiIiIiIiIiIiIjC8PnwARERERERERERERGV8ePgEiIiIiIiIiIiIiMr48fAJEREREREREREREZHx5+ASIiIiIiIiIiIiIyPjy8AkQERERERERERERkfHl4RMgIiIiIiIiIiIiIuPLwydARERERERERERERMaXh0+AiIiIiIiIiIiIiIwvD58AERERERERERERERlfHj4BIiIiIiIiIiIiIjK+PHwCRERERERERERERGR8efgEiIiIiIiIiIiIiMj48vAJEBEREREREREREZHx5eETICIiIiIiIiIiIiLjy8MnQERERERERERERETGl4dPgIiIiIiIiIiIiIiMLw+fABEREREREREREREZXx4+ASIiIiIiIiIiIiIyvjx8AkRERERERERERERkfHn4BIiIiIiIiIiIiIjI+PLwCRARERERERERERGR8eXhEyAiIiIiIiIiIiIi48vDJ0BERERERERERERExpeHT4CIiIiIiIiIiIiIjC8PnwARERERERERERERGV8ePgEiIiIiIiIiIiIiMr48fAJEREREREREREREZHx5+ASIiIiIiIiIiIiIyPjy8AkQERERERERERERkfHl4RMgIiIiIiIiIiIiIuPLwydAREREREREREREREaW/wcXfqRJHjSb0wAAAABJRU5ErkJggg==)"
      ]
    },
    {
      "cell_type": "markdown",
      "metadata": {
        "id": "xgrKdYH35ZVj"
      },
      "source": [
        "##Classes and Objects"
      ]
    },
    {
      "cell_type": "markdown",
      "metadata": {
        "id": "A5lUrwdd6EN0"
      },
      "source": [
        "###What is an Object?\n",
        "\n",
        "In python almost everything we create and use is an object. Pretty much any time we declare a variable we are creating a new object of a certain class. Different objects have certain properties and they inherit those properties from the class they belong to. For example objects of type str have methods like .strip() and .split(), Integers can be added and lists can be indexed. These are all proprties specific to objects of certain classes.\n",
        "\n",
        "In this series I will showing you how we can create our own classes and objects.\n",
        "Help() Function\n",
        "\n",
        "To be able to have a look at some of the builtin functions in python we can use the help() function. The help function will list all of the methods and attributes of a class and give us descriptions on what everything does.\n",
        "\n",
        "help(int)\n",
        "\n",
        "Try running this and see what happens\n",
        "\n",
        "\n",
        "\n"
      ]
    },
    {
      "cell_type": "code",
      "metadata": {
        "id": "oLcPW97H6r37"
      },
      "source": [
        "help(int)"
      ],
      "execution_count": null,
      "outputs": []
    },
    {
      "cell_type": "markdown",
      "metadata": {
        "id": "t4-dHfTx6unc"
      },
      "source": [
        "Definitions\n",
        "\n",
        "**Instance**: Whenever we create a new object we are said to be creating an instance of a class. For example typing the command x = 1 translates to: creating a new instance of the int class with the value 1 and the name x.\n",
        "\n",
        "**Method**: You can think of a method as a function that is specific to certain objects and classes. Methods are created within a class and are only visible to instances of that class. An example of a method is .strip(). It can only be used on objects of class str as it is specific to the str class. All methods must be called on an instance of a class. We cannot simply type strip() as we need to include an instance followed by a period before it.\n",
        "\n",
        "**Attributes**: An attribute is anything that is specific to a certain object. For example the object has an attribute color. We can change that color and modify it and if we create a new turtle object it can have a different color."
      ]
    },
    {
      "cell_type": "markdown",
      "metadata": {
        "id": "ILI_r0AmAhTl"
      },
      "source": [
        "###Creating Classes\n",
        "\n",
        "When we create a class we are essentially creating our own data type. To do this we must first come up with a name for our class and populate it with some methods."
      ]
    },
    {
      "cell_type": "code",
      "metadata": {
        "id": "6TjE1QX4AwP6"
      },
      "source": [
        "class Dog():\n",
        "    def __init__(self):\n",
        "        pass\n",
        "\n",
        "    def speak(self):\n",
        "        pass"
      ],
      "execution_count": null,
      "outputs": []
    },
    {
      "cell_type": "markdown",
      "metadata": {
        "id": "3kNNIAGDA0c8"
      },
      "source": [
        "The name of this class is \"Dog\" and currently it has two methods: __init__ and speak.\n",
        "\n",
        "Typically when we create a class we create a method that is known as a constructor. A constructor is what will be called automatically when we create a new instance of that class. To create a constructor we must use the method name __init__(). We do not need to call this method by doing something like \"instance.__init__()\" because when we first create a Dog object it will be automatically called.\n",
        "\n",
        "To create a new instance of our Dog class we can do the following:"
      ]
    },
    {
      "cell_type": "code",
      "metadata": {
        "id": "G6aAWll_A5Im"
      },
      "source": [
        "class Dog():\n",
        "    def __init__(self):\n",
        "        print(\"Created a dog\")\n",
        "\n",
        "    def speak(self):\n",
        "        pass\n",
        "\n",
        "tim = Dog()  # This will print \"Created a dog\" because __init__ will automatically be called"
      ],
      "execution_count": null,
      "outputs": []
    },
    {
      "cell_type": "markdown",
      "metadata": {
        "id": "EDg-aF0AA7_n"
      },
      "source": [
        "###The Self Keyword\n",
        "\n",
        "You may have noticed that each of my methods above contain the keyword self as a parameter. For now all of the methods we make must do just this. When we call methods on an instance of the class the name of that instance is automatically passed to the method as the argument self. This allows us to access and change attributes that are specific to this instance.\n",
        "\n",
        "To create a new attribute we must use the self keyword in the following way."
      ]
    },
    {
      "cell_type": "code",
      "metadata": {
        "id": "0CBF01t1BBMg"
      },
      "source": [
        "class Dog():\n",
        "    def __init__(self, name):\n",
        "        self.name = name  # self.name is now an attribute of the Dog class and has a specific value for each instance\n",
        "\n",
        "    def speak(self):\n",
        "        pass\n",
        "\n",
        "tim = Dog(\"Tim\") "
      ],
      "execution_count": null,
      "outputs": []
    },
    {
      "cell_type": "markdown",
      "metadata": {
        "id": "OdEdsvnqBCzp"
      },
      "source": [
        "Since the __init__ methods now takes two arguments (self and name) we must pass a name when we create a new Dog object.\n",
        "\n",
        "Since this name is specific to each instance when we create multiple Dog objects they all may have different names."
      ]
    },
    {
      "cell_type": "code",
      "metadata": {
        "id": "7lDO1ximBErC"
      },
      "source": [
        "class Dog():\n",
        "    def __init__(self, name):\n",
        "        self.name = name  # self.name is now an attribute of the Dog class and has a specific value for each instance\n",
        "\n",
        "    def speak(self):\n",
        "        print(self.name)\n",
        "\n",
        "tim = Dog(\"Tim\") \n",
        "dog2 = Dog(\"Fred\")\n",
        "\n",
        "tim.speak()  # Prints \"Tim\"\n",
        "dog2.speak() # Prints \"Fred\""
      ],
      "execution_count": null,
      "outputs": []
    },
    {
      "cell_type": "markdown",
      "metadata": {
        "id": "2p0kstGyBG37"
      },
      "source": [
        "Now that we know how to create attributes it's time to talk about accessing and changing them. We can change attributes in two ways. It is best practice to change an attribute within the class like so."
      ]
    },
    {
      "cell_type": "code",
      "metadata": {
        "id": "KBnymXmQBfAd"
      },
      "source": [
        "class Dog():\n",
        "    def __init__(self, name, age):\n",
        "        self.name = name\n",
        "        self.age = age \n",
        "\n",
        "    def speak(self):\n",
        "        print(\"I am\", self.name, \"and I am\", self.age, \"years old\")\n",
        "\n",
        "    def change_age(self, age)\n",
        "        self.age = age  # This changes the age attribute\n",
        "\n",
        "tim = Dog(\"Tim\", 5)\n",
        "tim.change_age(7)\n",
        "tim.speak() # This will print \"I am Tim and I am 7 years old\" "
      ],
      "execution_count": null,
      "outputs": []
    },
    {
      "cell_type": "markdown",
      "metadata": {
        "id": "SOYzIt3Mkyst"
      },
      "source": [
        "## Regular expressions"
      ]
    },
    {
      "cell_type": "markdown",
      "metadata": {
        "id": "YceHrC7Qkysx"
      },
      "source": [
        "### Examples\n",
        "\n",
        "We have already seen that we can ask from a string `str`\n",
        "whether it begins with some substring as follows:\n",
        "`str.startswith('Apple')`.\n",
        "If we would like to know whether it starts with `\"Apple\"` or\n",
        "`\"apple\"`, we would have to call `startswith` method twice.\n",
        "Regular expressions offer a simpler solution:\n",
        "`re.match(r\"[Aa]pple\", str)`.\n",
        "The bracket notation is one example of the special syntax of\n",
        "*regular expressions*. In this case it says that any of the\n",
        "characters inside brackets will do: either `\"A\"` or `\"a\"`. The other\n",
        "letters in `\"pple\"` will act normally. The string `r\"[Aa]pple\"` is\n",
        "called a *pattern*.\n",
        "\n",
        "A more complicated example asks whether the string `str`\n",
        "starts with either `apple` or `banana` (no matter if the first letter\n",
        "is capital or not):\n",
        "`re.match(r\"[Aa]pple|[Bb]anana\", str)`.\n",
        "In this example we saw a new special character `|` that denotes\n",
        "an alternative. On either side of the bar character we have a\n",
        "*subpattern*.\n",
        "\n",
        "A legal variable name in Python starts with a letter or an\n",
        "underline character and the following characters can also be\n",
        "digits.\n",
        "So legal names are, for instance: `_hidden`, `L_value`, `A123_`.\n",
        "But the name `2abc` is not a valid variable name.\n",
        "Let’s see what would be the regular expression pattern to\n",
        "recognise valid variable names:\n",
        "`r\"[A-Za-z_][A-Za-z_0-9]*\\Z\"`.\n",
        "Here we have used a shorthand for character ranges: `A-Z`.\n",
        "This means all the characters from `A` to `Z`.\n",
        "\n",
        "The first character of the variable name is defined in the first\n",
        "brackets. The subsequent characters are defined in the second\n",
        "brackets.\n",
        "The special character `*` means that we allow any number\n",
        "(0,1,2, . . . ) of the previous subpattern. For example the\n",
        "pattern `r\"ba*\"` allows strings `\"b\"`, `\"ba\"`, `\"baa\"`, `\"baaa\"`, and\n",
        "so on.\n",
        "The special syntax `\\Z` denotes the end of the string.\n",
        "Without it we would also accept `abc-` as a valid name since\n",
        "the `match` function normally checks only that a string starts with a pattern.\n",
        "\n",
        "The special notations, like `\\Z`, also cause problems with string\n",
        "handling.\n",
        "Remember that normally in string literals we have some\n",
        "special notation: `\\n` stands for newline, `\\t` stands for tab, and\n",
        "so on.\n",
        "So, both string literals and regular expressions use similar\n",
        "looking notations, which can create serious confusion.\n",
        "This can be solved by using the so-called *raw strings*. We\n",
        "denote a raw string by having an `r` letter before the first\n",
        "quotation mark, for example `r\"ab*\\Z\"`.\n",
        "When using raw strings, the newline (`\\n`), tab (`\\t`), and other\n",
        "special string literal notations aren’t interpreted. One should\n",
        "always use raw strings when defining regular expression\n",
        "patterns!"
      ]
    },
    {
      "cell_type": "markdown",
      "metadata": {
        "id": "VM6B3YW4kys1"
      },
      "source": [
        "### Patterns\n",
        "\n",
        "A pattern represents a set of strings. This set can even be\n",
        "potentially infinite.\n",
        "They can be used to describe a set of strings that have some\n",
        "commonality; some regular structure.\n",
        "Regular expressions (RE) are a classical computer science topic.\n",
        "They are very common in programming tasks. Scripting\n",
        "languages, like Python, are very fluent in regular expressions.\n",
        "Very complex text processing can be achieved using regular\n",
        "expressions.\n",
        "\n",
        "In patterns, normal characters (letters, numbers) just represent\n",
        "themselves, unless preceded by a backslash, which may trigger\n",
        "some special meaning.\n",
        "Punctuation characters have special meaning, unless preceded\n",
        "by backslash (`\\`), which deprives their special meaning.\n",
        "Use `\\\\` to represent a backslash character without any special\n",
        "meaning.\n",
        "In the following slides we will go through some of the more\n",
        "common RE notations.\n",
        "\n",
        "```\n",
        ". Matches any character\n",
        "[...] Matches any character contained within the brackets\n",
        "[^...] Matches any character not appearing after the hat (ˆ)\n",
        "ˆ Matches the start of the string\n",
        "$ Matches the end of the string\n",
        "* Matches zero or more previous RE\n",
        "+ Matches one or more previous RE\n",
        "{m,n} Matches m to n occurences of previous RE\n",
        "? Matches zero or one occurences of previous RE\n",
        "```\n",
        "\n",
        "We have already seen that a `|` character denotes alternatives.\n",
        "For example, the pattern `r\"Get (on|off|ready)\"` matches\n",
        "the following strings: `\"Get on\"`, `\"Get off\"`, `\"Get ready\"`.\n",
        "We can use parentheses to create groupings inside a pattern:\n",
        "`r\"(ab)+\"` will match the strings `\"ab\"`, `\"abab\"`, `\"ababab\"`,\n",
        "and so on.\n",
        "These groups are also given a reference number starting from 1. \n",
        "We can refer to groups using backreferences: `\\number`.\n",
        "For example, we can find separated patterns that get\n",
        "repeated: `r\"([a-z]{3,}) \\1 \\1\"`.\n",
        "This will recognise, for example, the following strings: `\"aca\n",
        "aca aca\"`, `\"turn turn turn\"`. But not the strings `\"aca\n",
        "aba aca\"` or `\"ac ac ac\"`.\n",
        "\n",
        "\n",
        "In the following, note that a hat (ˆ) as the first character\n",
        "inside brackets will create a complement set of characters:\n",
        "\n",
        "```\n",
        "`\\d` same as `[0-9]`, matches a digit\n",
        "`\\D` same as `[ˆ0-9]`, matches anything but a digit\n",
        "`\\s` matches a whitespace character (space, newline, tab, ... )\n",
        "`\\S` matches a nonwhitespace character\n",
        "`\\w` same as `[a-zA-Z0-9_]`, matches one alphanumeric character\n",
        "`\\W` matches one non-alphanumeric character\n",
        "```\n",
        "\n",
        "Using the above notation we can now shorten our previous\n",
        "variable name example to `r’[a-zA-Z_]\\w*\\Z’`\n",
        "\n",
        "The patterns `\\A`, `\\b`, `\\B`, and `\\Z` will all match an empty\n",
        "string, but in specific places.\n",
        "The patterns `\\A` and `\\Z` will recognise the beginning and end\n",
        "of the string, respectively.\n",
        "Note that the patterns `ˆ` and `$` can in some cases match also\n",
        "after a newline and before a newline, correspondingly.\n",
        "So, `\\A` is distinct from `ˆ`, and `\\Z` is distinct from `$`.\n",
        "The pattern `\\b` matches at the start or end of a word. The\n",
        "pattern `\\B` does the reverse."
      ]
    },
    {
      "cell_type": "markdown",
      "metadata": {
        "id": "FM2j2WjQkys4"
      },
      "source": [
        "### Match and search functions\n",
        "\n",
        "We have so far only used the `re.match` function which tries\n",
        "to find a match at the beginning of a string\n",
        "The function `re.search` allows to match any substring of a\n",
        "string.\n",
        "Example: `re.search(r'\\bback\\b', s)` will match\n",
        "strings `\"back\"`, `\"a back, is a body part\"`, `\"get back\"`. But it\n",
        "will not match the strings `\"backspace\"` or `\"comeback\"`.\n",
        "\n",
        "The function `re.search` finds only the first occurence.\n",
        "We can use the `re.findall` function to find all occurences.\n",
        "Let’s say we want to find all present participle words in a\n",
        "string `s`. The present participle words have ending `'ing'`.\n",
        "The function call would look like this:\n",
        "`re.findall(r'\\w+ing\\b', s)`.\n",
        "Let’s try running this:"
      ]
    },
    {
      "cell_type": "code",
      "metadata": {
        "id": "9RrCl6Ejkys6",
        "outputId": "c0a7ceee-68d6-4c88-afb3-76e74cf8429a"
      },
      "source": [
        "import re\n",
        "s = \"Doing things, going home, staying awake, sleeping later\"\n",
        "re.findall(r'\\w+ing\\b', s)"
      ],
      "execution_count": null,
      "outputs": [
        {
          "output_type": "execute_result",
          "data": {
            "text/plain": [
              "['Doing', 'going', 'staying', 'sleeping']"
            ]
          },
          "metadata": {
            "tags": []
          },
          "execution_count": 1
        }
      ]
    },
    {
      "cell_type": "markdown",
      "metadata": {
        "id": "vVjN7obTkytF"
      },
      "source": [
        "Let’s say we want to pick up all the integers from a string.\n",
        "We can try that with the following function call:\n",
        "`re.findall(r'[+-]?\\d+', s)`.\n",
        "An example run:"
      ]
    },
    {
      "cell_type": "code",
      "metadata": {
        "id": "PIOhOajykytI",
        "outputId": "bb3cce22-59aa-4ebe-a665-6014d6e480e6"
      },
      "source": [
        "re.findall(r'[+-]?\\d+', \"23 + -24 = -1\")"
      ],
      "execution_count": null,
      "outputs": [
        {
          "output_type": "execute_result",
          "data": {
            "text/plain": [
              "['23', '-24', '-1']"
            ]
          },
          "metadata": {
            "tags": []
          },
          "execution_count": 2
        }
      ]
    },
    {
      "cell_type": "markdown",
      "metadata": {
        "id": "_jepYUB0kytU"
      },
      "source": [
        "Suppose we are given a string of if/then sentences, and we\n",
        "would like to extract the conditions from these sentences.\n",
        "Let’s try the following function call:\n",
        "`re.findall(r'[Ii]f (.*), then', s)`.\n",
        "An example run:"
      ]
    },
    {
      "cell_type": "code",
      "metadata": {
        "id": "H8QEQu0KkytW",
        "outputId": "4b4291f8-61df-4460-f84b-b5bd20fbe79b"
      },
      "source": [
        "s = (\"If I’m not in a hurry, then I should stay. \" +\n",
        "    \"On the other hand, if I leave, then I can sleep.\")\n",
        "re.findall(r'[Ii]f (.*), then', s)"
      ],
      "execution_count": null,
      "outputs": [
        {
          "output_type": "execute_result",
          "data": {
            "text/plain": [
              "['I’m not in a hurry, then I should stay. On the other hand, if I leave']"
            ]
          },
          "metadata": {
            "tags": []
          },
          "execution_count": 3
        }
      ]
    },
    {
      "cell_type": "markdown",
      "metadata": {
        "id": "sz6Pwg6bkyte"
      },
      "source": [
        "But I wanted a result: `[\"I'm not in a hurry\", 'I leave']`. That\n",
        "is, the condition from both sentences. How can this be fixed?\n",
        "\n",
        "The problem is that the pattern `.*` tries to match as many\n",
        "characters as possible.\n",
        "This is called *greedy matching*.\n",
        "One way of solving this problem is to notice that the two\n",
        "sentences are separated by a full-stop (.).\n",
        "So, instead of matching all the characters, we need to match\n",
        "everything but the dot character.\n",
        "This can be achieved by using the complement character\n",
        "class: `[^.]`. The hat character (`ˆ`) in the beginning of a\n",
        "character class means the complement character class\n",
        "\n",
        "After the modification the function call looks like this:\n",
        "`re.findall(r'[Ii]f ([^.]*), then', s)`.\n",
        "\n",
        "\n"
      ]
    },
    {
      "cell_type": "markdown",
      "metadata": {
        "id": "GOcrvB2vkytg"
      },
      "source": [
        "### Functions in the `re` module\n",
        "\n",
        "Below is a list of the most common functions in the `re` module\n",
        "\n",
        "* `re.match(pattern, str)`\n",
        "* `re.search(pattern, str)`\n",
        "* `re.findall(pattern, str)`\n",
        "* `re.finditer(pattern, str)`\n",
        "* `re.sub(pattern, replacement, str, count=0)`\n",
        "\n",
        "Functions `match` and `search` return a *match object*.\n",
        "A match object describes the found occurence.\n",
        "The function `findall` returns a list of all the occurences of\n",
        "the pattern. The elements in the list are strings.\n",
        "The function `finditer` works like `findall` function except\n",
        "that instead of returning a list, it returns an iterator whose\n",
        "items are match objects.\n",
        "The function `sub` replaces all the occurences of the pattern in\n",
        "`str` with the string replacement and returns the new string.\n",
        "\n",
        "An example: The following program will replace all \"she\"\n",
        "words with \"he\"\n",
        "\n",
        "```\n",
        "import re\n",
        "str = \"She goes where she wants to, she's a sheriff.\"\n",
        "newstr = re.sub(r'\\b[Ss]he\\b', 'he', str)\n",
        "print newstr\n",
        "```\n",
        "\n",
        "This will print `he goes where he wants to, he's a sheriff.`\n",
        "\n"
      ]
    },
    {
      "cell_type": "markdown",
      "metadata": {
        "id": "EA6GQ_GnpmLG"
      },
      "source": [
        "## Summary\n",
        "\n",
        "* We have learned that Python's code blocks are denoted by consistent indenting, with spaces or tabs, unlike in many other languages\n",
        "* Python's `for` loops goes through all the elements of a container without the need of worrying about the positions (indices) of the elements in the container\n",
        "* More generally, an iterable is an object whose elements can be gone through one by one using a `for` loop. Such as `range(1,7)`\n",
        "* Python has dynamic typing: the type of a name is known only when we run the program. The type might not be fixed, that is, if a name is created, for example, in a loop, then its type might change at each iteration.\n",
        "* Visibility of a name: a name that refers to a variable can disappear in the middle of a code block, if a `del` statement is issued!\n",
        "* Python is good at string handling, but remember that if you want to concatenate large number of strings, use the `join` method. Concatenating by the `+` operator multiple times is very inefficient\n",
        "* Several useful tools exist to process sequences: `zip`, `enumerate`, and `range`. Note that these tools don't return lists, but iterables, for efficiency reasons: Most often we don't want to store the result from these tools to a container (such as a list), we may only want to iterate through the result!\n",
        "* We have learned how regular expressions can be used to specify regular sets of strings\n",
        "\n",
        "    * We know how to find out if a string matches a regular expression\n",
        "    * We know how to extract pieces of text that match a RE\n",
        "    * We can replace matches to a RE with another string\n"
      ]
    },
    {
      "cell_type": "markdown",
      "metadata": {
        "id": "qOX6AbZApmLH"
      },
      "source": [
        "<!--NAVIGATION-->\n",
        "\n",
        "\n",
        "<a href=\"https://colab.research.google.com/github/smabb/p/blob/master/Lesson2_basics.ipynb\"><img align=\"left\" src=\"https://colab.research.google.com/assets/colab-badge.svg\" alt=\"Open in Colab\" title=\"Open and Execute in Google Colaboratory\"></a>\n"
      ]
    }
  ]
}