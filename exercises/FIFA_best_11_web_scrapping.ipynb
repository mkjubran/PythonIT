{
  "nbformat": 4,
  "nbformat_minor": 0,
  "metadata": {
    "colab": {
      "name": "Untitled",
      "provenance": [],
      "collapsed_sections": [],
      "authorship_tag": "ABX9TyMvjnfiyeca1VMHbb0GKoqa",
      "include_colab_link": true
    },
    "kernelspec": {
      "name": "python3",
      "display_name": "Python 3"
    }
  },
  "cells": [
    {
      "cell_type": "markdown",
      "metadata": {
        "id": "view-in-github",
        "colab_type": "text"
      },
      "source": [
        "<a href=\"https://colab.research.google.com/github/smabb/p/blob/master/exercises/FIFA_best_11_web_scrapping.ipynb\" target=\"_parent\"><img src=\"https://colab.research.google.com/assets/colab-badge.svg\" alt=\"Open In Colab\"/></a>"
      ]
    },
    {
      "cell_type": "markdown",
      "metadata": {
        "id": "j6ERp-Rsa0Km",
        "colab_type": "text"
      },
      "source": [
        "# <center> Assignment #2 \n",
        "## <center> Scrap and  Analyze the Fifa Dataset to predict the World’s Best Playing XI in 2018 \n"
      ]
    },
    {
      "cell_type": "markdown",
      "metadata": {
        "id": "KKMvnYCse9Ap",
        "colab_type": "text"
      },
      "source": [
        "#You are going to scrap for the list of teams and squad members which participated in WC2018 from 'https://www.espn.com/soccer/teams/_/league/FIFA.WORLD/fifa-world-cup.\n",
        "\n",
        "#You are goint to scrap for individual player stats from 'https://www.fifaindex.com/players/fifa18/?name=' to build your Dataset.\n",
        "\n",
        "#After the Dataset is ready, you are to determine the best XI.\n"
      ]
    },
    {
      "cell_type": "code",
      "metadata": {
        "id": "ap5qFSNrbxF0",
        "colab_type": "code",
        "colab": {}
      },
      "source": [
        "import requests\n",
        "import sys\n",
        "import re\n",
        "from bs4 import BeautifulSoup\n",
        "import pandas as pd\n",
        "import matplotlib.pyplot as plt\n",
        "import numpy as np"
      ],
      "execution_count": 0,
      "outputs": []
    },
    {
      "cell_type": "code",
      "metadata": {
        "id": "axj34TCHbbSD",
        "colab_type": "code",
        "colab": {}
      },
      "source": [
        "url_teams='https://www.espn.com/soccer/teams/_/league/FIFA.WORLD/fifa-world-cup'\n",
        "url_players='https://www.fifaindex.com/players/fifa18/?name='"
      ],
      "execution_count": 0,
      "outputs": []
    },
    {
      "cell_type": "markdown",
      "metadata": {
        "id": "NHN_MhzpJ7e8",
        "colab_type": "text"
      },
      "source": [
        "1) Write a function *get_teams* that returns a list of particapitaing teams + the squad URL.\n",
        "Use the 'url_teams' URL to get the teams and construct the URL.\n",
        "\n",
        "Sample output\n",
        "\n",
        "[('Argentina', 'https://www.espn.com/soccer/team/squad/_/id/202/league/FIFA.WORLD'), ('Australia', 'https://www.espn.com/soccer/team/squad/_/id/628/league/FIFA.WORLD'),..........."
      ]
    },
    {
      "cell_type": "code",
      "metadata": {
        "id": "gQlHwA3rbqa3",
        "colab_type": "code",
        "colab": {}
      },
      "source": [
        "def get_teams(url):\n",
        "#Code Here"
      ],
      "execution_count": 0,
      "outputs": []
    },
    {
      "cell_type": "markdown",
      "metadata": {
        "id": "y_bZMA8OKdAn",
        "colab_type": "text"
      },
      "source": [
        "2) Write a funciton *get_squads* that returns a Dictionary where the KEY=Team and VALUE=list of squad members.\n",
        "The function should use the output of *get_teams*. Call the function using:                  \n",
        "*squad_dict=get_squads(get_teams(url_teams))*\n",
        "\n",
        "Sample Output\n",
        "\n",
        "{'Argentina': ['Name', 'Nahuel Guzmán', 'Franco Armani', 'Wilfredo Caballero', 'Name', 'Gabriel Mercado', 'Nicolás Tagliafico', 'Cristian Ansaldi', 'Federico Fazio', 'Marcos Rojo', 'Nicolás Otamendi', 'Cristian Pavón', 'Lucas Biglia', 'Éver Banega', 'Marcos Acuña', 'Ángel Di María', 'Maximiliano Meza', 'Javier Mascherano', 'Enzo Pérez', 'Eduardo Salvio', 'Giovani Lo Celso', 'Gonzalo Higuaín', 'Lionel Messi', 'Sergio Agüero', 'Paulo Dybala']}"
      ]
    },
    {
      "cell_type": "code",
      "metadata": {
        "id": "6L1W0Nl7dv9S",
        "colab_type": "code",
        "colab": {}
      },
      "source": [
        "def get_squads(lst):\n",
        "#Code Here"
      ],
      "execution_count": 0,
      "outputs": []
    },
    {
      "cell_type": "markdown",
      "metadata": {
        "id": "KzHueEuEL6XB",
        "colab_type": "text"
      },
      "source": [
        "3) Write function *get_player_links* which \n",
        "\n",
        "1) Takes a list as an input \n",
        "\n",
        "2) Iterates through the list to generate the player_stats link from *url_players*. You should check if the player has a link, if not then assign the value \"No link\".\n",
        "\n",
        "3)return a list of of paired lists containing player_name , player_link\n",
        "\n",
        "Sample Output:\n",
        "\n",
        "[('Name', 'https://www.fifaindex.com/player/204383/barry-mcnamee/fifa18/'), ('David Ospina', 'https://www.fifaindex.com/player/176550/david-ospina/fifa18/'), ('Samir Diab', 'No link'),............................................."
      ]
    },
    {
      "cell_type": "code",
      "metadata": {
        "id": "Dz0Xic9KiYIg",
        "colab_type": "code",
        "colab": {}
      },
      "source": [
        "def get_player_links(lst):\n",
        "#Code Here"
      ],
      "execution_count": 0,
      "outputs": []
    },
    {
      "cell_type": "markdown",
      "metadata": {
        "id": "oEUfM6q1RanW",
        "colab_type": "text"
      },
      "source": [
        "4) Write a for loop that updates the squad Dictionary (squad_dict) values from part 2  to contain a list of (player_name,player_link).\n",
        "\n",
        "Sample Output:\n",
        "\n",
        "{'Argentina': [('Name', 'https://www.fifaindex.com/player/204383/barry-mcnamee/fifa18/'), ('Nahuel Guzmán', 'https://www.fifaindex.com/player/176919/nahuel-guzm%C3%A1n/fifa18/'), ('Franco Armani', 'https://www.fifaindex.com/player/214584/franco-armani/fifa18/'),\n",
        "\n",
        "'Australia': [('Name', 'https://www.fifaindex.com/player/204383/barry-mcnamee/fifa18/'), ('Mathew Ryan', 'https://www.fifaindex.com/player/199005/mathew-ryan/fifa18/'), ('Brad Jones', 'https://www.fifaindex.com/player/165735/brad-jones/fifa18/'),.........................................."
      ]
    },
    {
      "cell_type": "code",
      "metadata": {
        "id": "ipp9T3th89UC",
        "colab_type": "code",
        "colab": {}
      },
      "source": [
        "#Code Here\n"
      ],
      "execution_count": 0,
      "outputs": []
    },
    {
      "cell_type": "markdown",
      "metadata": {
        "id": "PjTGBm26iGtg",
        "colab_type": "text"
      },
      "source": [
        "5)Write function *player_stats* which crawls through the links generated form *get_player_links* and gets the values of the fields defined in the columns list below. \n",
        "\n",
        "The function should return a dictionary where KEY=player_name and Values= list of columns attributes.\n",
        "\n",
        "Sample Output:\n",
        "\n"
      ]
    },
    {
      "cell_type": "code",
      "metadata": {
        "id": "0q9VpLvQGcC1",
        "colab_type": "code",
        "colab": {}
      },
      "source": [
        "columns=['Country','Height','Weight','Preferred Foot','Birth Date','Age','Preferred Positions','Value','Value','Value','Wage','Wage','Wage','Joined Club','Ball Control','Dribbling','Marking','Slide Tackle','Stand Tackle','Aggression','Reactions','Att. Position','Interceptions','Vision','Composure','Crossing','Short Pass','Long Pass','Acceleration','Stamina','Strength','Balance','Sprint Speed','Agility','Jumping','Heading','Shot Power','Finishing','Long Shots','Curve','FK Acc.','Penalties','Volleys','GK Positioning','GK Diving','GK Handling','GK Kicking','GK Reflexes']\n",
        "\n",
        "def player_stats(squad_dict):\n",
        "#Code Here\n",
        "      \n",
        "players_data=player_stats(squad_dict)\n",
        "\n",
        "      \n",
        "      \n",
        "      \n",
        "\n",
        "\n",
        "      "
      ],
      "execution_count": 0,
      "outputs": []
    },
    {
      "cell_type": "markdown",
      "metadata": {
        "id": "ah7TYOHnMFex",
        "colab_type": "text"
      },
      "source": [
        "## <center> Part 2 : Cleaning and adjusting the Dataset"
      ]
    },
    {
      "cell_type": "markdown",
      "metadata": {
        "id": "hUp571Lukhgj",
        "colab_type": "text"
      },
      "source": [
        "6)Read the data into a Datframe where the index is the player name and columns = columns from part 5.\n",
        "\n"
      ]
    },
    {
      "cell_type": "code",
      "metadata": {
        "id": "GkgUydDYWRm7",
        "colab_type": "code",
        "colab": {}
      },
      "source": [
        "#Code Here"
      ],
      "execution_count": 0,
      "outputs": []
    },
    {
      "cell_type": "markdown",
      "metadata": {
        "id": "z59Kr-K9QkcG",
        "colab_type": "text"
      },
      "source": [
        "1) Clear all rows with missing values\n",
        "\n",
        "2)  Columns Height and Weight have the values in cm,inches and Kg,lbs respectively. Clean the values that you only have values in cm and Kg\n",
        "\n",
        "3) Some values in column *Preferred Positions* have the values * together. Eg: CAMRM. Seperate the values by / so it will be CAM/RM. The list of viable values are   ['GK','SW','RWB','RB','CB','LB','LWB','CDM','RM','CM','LM','CAM','CF','RW','ST','LW']\n",
        "\n",
        "4) Check the data type in Columns *Ball Control to GK Reflexes*. Set the data type to integer.\n",
        "\n",
        "5) Drop columns  *Value, Wage, Joined Club*"
      ]
    },
    {
      "cell_type": "code",
      "metadata": {
        "colab_type": "code",
        "id": "az2ebzaMMv50",
        "colab": {}
      },
      "source": [
        "#Code Here\n"
      ],
      "execution_count": 0,
      "outputs": []
    },
    {
      "cell_type": "markdown",
      "metadata": {
        "id": "vNAqLByHnFIx",
        "colab_type": "text"
      },
      "source": [
        "## <center> Part 2 : Analyzing the Dataset"
      ]
    },
    {
      "cell_type": "markdown",
      "metadata": {
        "id": "NHS7ClbBnXtz",
        "colab_type": "text"
      },
      "source": [
        "Finding the Best Goalkeeper\n",
        "\n",
        "In order to get the best goalkeeper, I’ll be analyzing the data for the below mentioned parameters:\n",
        "\n",
        "    1)Shot Stopper: A goalkeeper who is strong in stopping shots taken by opponents.\n",
        "    2)Sweeper: A goalkeeper who is strong in playing with his feet and making passes.\n",
        "\n",
        "1) Define 4 variable a=0.5 , b = 1, c =2 , d =3 . These variables will be used as weight to scale up or down the values in the Dataframe based on its importance to determine the Goalkeeper.\n",
        "\n",
        "2)Add a new column named 'Gk Shot Stopper'. The values of this column will be determinde by :\n",
        "\n",
        "b\\*Reactions + b\\*Composure + a\\*Sprint Speed + a\\*Strength + c\\*Jumping + b\\*GK Positioning + c\\*GK Diving + d\\*GK Reflexes + b\\*GK Handling)/(2\\*a + 4\\*b + 2\\*c + 1\\*d)\n",
        "\n",
        "3) Add a new column named 'GK Sweeper'. The values of this column will be determinde by :\n",
        "\n",
        "b\\*Reactions + b\\*Composure + b\\*Sprint Speed + a\\*Short Pass + a\\*Long Pass + b\\*Jumping + b\\*GK Positioning + b\\*GK Diving + d\\*GK Reflexes + b\\*GK Handling + d\\*GK Kicking + c\\*Vision)/(2\\*a + 4\\*b + 3\\*c + 2\\*d)"
      ]
    },
    {
      "cell_type": "code",
      "metadata": {
        "id": "OhOhf_s6n_vw",
        "colab_type": "code",
        "colab": {}
      },
      "source": [
        "#Code Here"
      ],
      "execution_count": 0,
      "outputs": []
    },
    {
      "cell_type": "markdown",
      "metadata": {
        "id": "lwxkpx1ts4ef",
        "colab_type": "text"
      },
      "source": [
        "1)Sort column *Gk Shot Stopper* and plot a bar graph of the top 5 GoalKeepers. X-axis= Keeper name, Y-axis=Gk Shot Stopper value\n",
        "\n",
        "2)Sort column *GK Sweeper* and plot a bar graph of the top 5 GoalKeepers. X-axis= Keeper name, Y-axis=GK Sweeper value\n",
        "\n",
        "\n",
        "Note Down the results"
      ]
    },
    {
      "cell_type": "code",
      "metadata": {
        "id": "KT2N6DJOq_LD",
        "colab_type": "code",
        "colab": {}
      },
      "source": [
        "#Code Here\n"
      ],
      "execution_count": 0,
      "outputs": []
    },
    {
      "cell_type": "markdown",
      "metadata": {
        "id": "7_BdO-Jbt87L",
        "colab_type": "text"
      },
      "source": [
        "Finding The Best Defenders\n",
        "\n",
        "    1)Centre Backs: We need two center-backs (RB). One who plays on the Left(LB) and the other who plays on the right(RB).\n",
        "    2)Wing Backs: We again need two wing backs. One who plays on the Left(LWB) and the other who plays on the right(RWB).\n",
        "\n",
        "1)Add a new column named 'DF CentreBacks'. The values of this column will be determinde by :\n",
        "\n",
        "(d\\*Reactions + c\\*Interceptions + d\\*Slide Tackle + d\\*Stand Tackle + b\\*Vision + b\\*Composure + b\\*Crossing +a\\*Short Pass + b\\*Long Pass + c\\*Acceleration + b\\*Sprint Speed+ d\\*Stamina + d\\*Jumping + d\\*Heading + b\\*Long Shots + d\\*Marking + c\\*Aggression)/(6\\*b + 3\\*c + 7\\*d)\n",
        "\n",
        "2) Add a new column named 'DF WingBacks'. The values of this column will be determinde by :\n",
        "\n",
        "(b\\*Ball Control + a\\*Dribbling + a\\*Marking + d\\*Slide Tackle + d\\*Stand Tackle + a\\*Att. Position + c\\*Vision + c\\*Crossing + b\\*Short Pass + c\\*Long Pass + d\\*Acceleration +d\\*Sprint Speed + c\\*Stamina + a\\*Finishing)/(4\\*a + 2\\*b + 4\\*c + 4\\*d)"
      ]
    },
    {
      "cell_type": "code",
      "metadata": {
        "id": "EFWqBZIRuhl8",
        "colab_type": "code",
        "colab": {}
      },
      "source": [
        "#Code Here"
      ],
      "execution_count": 0,
      "outputs": []
    },
    {
      "cell_type": "markdown",
      "metadata": {
        "id": "OFPk6MHr-l0V",
        "colab_type": "text"
      },
      "source": [
        "1)Filter the dataset by Column *Preferred Positions* containing value 'RB'.Sort the by column *DF CentreBacks* and plot a bar graph of the top 5 RB. X-axis= Defender name, Y-axis=DF CentreBacks value\n",
        "\n",
        "2)Filter the dataset by Column *Preferred Positions* containing value 'LB'.Sort the by column *DF CentreBacks* and plot a bar graph of the top 5 LB. X-axis= Defender name, Y-axis=DF CentreBacks value\n",
        "\n",
        "3)Filter the dataset by Column *Preferred Positions* containing value 'RWB'.Sort the by column *DF WingBacks* and plot a bar graph of the top 5 RWB. X-axis= Defender name, Y-axis=DF WingBacks value\n",
        "\n",
        "4)Filter the dataset by Column *Preferred Positions* containing value 'LWB'.Sort the by column *DF WingBacks* and plot a bar graph of the top 5 LWB. X-axis= Defender name, Y-axis=DF WingBacks value\n",
        "\n",
        "\n",
        "Note Down the results"
      ]
    },
    {
      "cell_type": "code",
      "metadata": {
        "id": "TytNIYyYxFQ4",
        "colab_type": "code",
        "colab": {}
      },
      "source": [
        "#Code Here\n"
      ],
      "execution_count": 0,
      "outputs": []
    },
    {
      "cell_type": "markdown",
      "metadata": {
        "id": "RmKF4687_62Y",
        "colab_type": "text"
      },
      "source": [
        "Finding The Best Mid-Fielders\n",
        "\n",
        "    1)Playmaker (CAM) : A playmaker is someone who will move the ball to the attacking 3rd from defence or midfield.\n",
        "    2)Beast(CDM):A beast is a typical box-to-box player with loads of energy and who can boss the midfield.\n",
        "    3)Controller(CM):A controller is the person who is orchestrating your midfield engine by either sitting back or going forward based on dynamic needs.\n",
        "\n",
        "1)Add a new column named 'MF Playmaker'. The values of this column will be determinde by :\n",
        "\n",
        "(d\\*Ball Control  + d\\*Dribbling  + a\\*Marking  + d\\*Reactions  + d\\*Vision  + c\\*Att. Position  + c\\*Crossing  + d\\*Short Pass  + c\\*Long Pass  + c\\*Curve  + b\\*Long Shots  + c\\*FK Acc. )/(1\\*a + 1\\*b + 4\\*c + 4\\*d)\n",
        "\n",
        "2) Add a new column named 'MF Controller'. The values of this column will be determinde by :\n",
        "\n",
        "(d\\*Agility  + c\\*Balance  + b\\*Jumping  + c\\*Strength  + d\\*Stamina  + a\\*Sprint Speed  + c\\*Acceleration  + d\\*Short Pass  + c\\*Aggression  + d\\*Reactions  + b\\*Marking  + b\\*Stand Tackle  + b\\*Slide Tackle  + b\\*Interceptions )/(1\\*a + 5\\*b + 4\\*c + 4\\*d)\n",
        "\n",
        "3)Add a new column named 'MF Beast'. The values of this column will be determinde by :\n",
        "\n",
        "(d\\*Ball Control  + a\\*Dribbling  + a\\*Marking  + a\\*Reactions  + c\\*Vision  + c\\*Composure  + d\\*Short Pass  + d\\*Long Pass )/(2\\*c + 3\\*d + 4\\*a)"
      ]
    },
    {
      "cell_type": "code",
      "metadata": {
        "id": "ULUfvTaTBIJv",
        "colab_type": "code",
        "colab": {}
      },
      "source": [
        "#Code Here"
      ],
      "execution_count": 0,
      "outputs": []
    },
    {
      "cell_type": "markdown",
      "metadata": {
        "id": "OGgVFtG-BdB-",
        "colab_type": "text"
      },
      "source": [
        "1)Filter the dataset by Column *Preferred Positions* containing value 'CAM'.Sort the by column *MF Playmaker* and plot a bar graph of the top 5 CAM. X-axis= Player name, Y-axis=MF Playmaker value\n",
        "\n",
        "2)Filter the dataset by Column *Preferred Positions* containing value 'CDM'.Sort the by column *MF Beast* and plot a bar graph of the top 5 CDM. X-axis= Player name, Y-axis=MF Beast value\n",
        "\n",
        "3)Filter the dataset by Column *Preferred Positions* containing value 'LM'.Sort the by column *MF Controller* and plot a bar graph of the top 5 LM. X-axis= Player name, Y-axis=MF Controller value\n",
        "\n",
        "\n",
        "Note Down the results"
      ]
    },
    {
      "cell_type": "code",
      "metadata": {
        "id": "5-Cf1UzqCdhc",
        "colab_type": "code",
        "colab": {}
      },
      "source": [
        "#Code Here\n"
      ],
      "execution_count": 0,
      "outputs": []
    },
    {
      "cell_type": "markdown",
      "metadata": {
        "id": "5ViSewt8CwcJ",
        "colab_type": "text"
      },
      "source": [
        "Finding The Best Attackers\n",
        "\n",
        "    1)Attacking Left Wing(LW): He is a player, attacking from the left flank.\n",
        "\n",
        "    2)Attacking Right Wing(RW): He is a player, attacking from the right flank.\n",
        "\n",
        "    3)Striker(ST): He is a player attacking from the center.\n",
        "\n",
        "1)Add a new column named 'Attacking Left Wing'. The values of this column will be determinde by :\n",
        "\n",
        "(c\\*Ball Control + c\\*Dribbling + c\\*Sprint Speed + d\\*Acceleration + b\\*Vision + c\\*Crossing + b\\*Short Pass + b\\*Long Pass + b\\*Aggression + b\\*Agility + a\\*Curve + c\\*Long Shots + b\\*FK Acc. + d\\*Finishing)/(a + 6\\*b + 5\\*c + 2\\*d)\n",
        "\n",
        "2) Add a new column named 'Attacking Right Wing'. The values of this column will be determinde by :\n",
        "\n",
        "(c\\*Ball Control + c\\*Dribbling + c\\*Sprint Speed + d\\*Acceleration + b\\*Vision + c\\*Crossing + b\\*Short Pass + b\\*Long Pass + b\\*Aggression + b\\*Agility + a\\*Curve + c\\*Long Shots + b\\*FK Acc. + d\\*Finishing)/(a + 6\\*b + 5\\*c + 2\\*d)\n",
        "\n",
        "3)Add a new column named 'Striker'. The values of this column will be determinde by :\n",
        "\n",
        "(b\\*Ball Control + a\\*Vision + b\\*Aggression + b\\*Agility + a\\*Curve + a\\*Long Shots + d\\*Balance + d\\*Finishing + d\\*Heading + c\\*Jumping + c\\*Dribbling)/(3\\*a + 3\\*b + 2\\*c + 3\\*d)"
      ]
    },
    {
      "cell_type": "code",
      "metadata": {
        "id": "uQsYd0gzDlsQ",
        "colab_type": "code",
        "colab": {}
      },
      "source": [
        "#Code Here"
      ],
      "execution_count": 0,
      "outputs": []
    },
    {
      "cell_type": "markdown",
      "metadata": {
        "id": "j9CQ4HZcGmE0",
        "colab_type": "text"
      },
      "source": [
        "1)Filter the dataset by Column *Preferred Positions* containing value 'LW'.Sort the by column *'Attacking Left Wing* and plot a bar graph of the top 5 LW. X-axis= Player name, Y-axis='Attacking Left Wing value\n",
        "\n",
        "2)Filter the dataset by Column *Preferred Positions* containing value 'RW'.Sort the by column *Attacking Right Wing* and plot a bar graph of the top 5 RW. X-axis= Player name, Y-axis=Attacking Right Wing value\n",
        "\n",
        "3)Filter the dataset by Column *Preferred Positions* containing value 'ST'.Sort the by column *'Striker* and plot a bar graph of the top 5 ST. X-axis= Player name, Y-axis='Striker value\n",
        "\n",
        "\n",
        "Note Down the results"
      ]
    },
    {
      "cell_type": "code",
      "metadata": {
        "id": "VJ6VpZoEJhbt",
        "colab_type": "code",
        "colab": {}
      },
      "source": [
        "#Code Here"
      ],
      "execution_count": 0,
      "outputs": []
    }
  ]
}