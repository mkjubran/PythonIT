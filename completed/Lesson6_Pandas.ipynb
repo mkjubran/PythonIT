{
  "nbformat": 4,
  "nbformat_minor": 0,
  "metadata": {
    "colab": {
      "name": "Lesson6 Pandas.ipynb",
      "provenance": [],
      "toc_visible": true,
      "include_colab_link": true
    },
    "kernelspec": {
      "name": "python3",
      "display_name": "Python 3"
    }
  },
  "cells": [
    {
      "cell_type": "markdown",
      "metadata": {
        "id": "view-in-github",
        "colab_type": "text"
      },
      "source": [
        "<a href=\"https://colab.research.google.com/github/smabb/p/blob/master/completed/Lesson6_Pandas.ipynb\" target=\"_parent\"><img src=\"https://colab.research.google.com/assets/colab-badge.svg\" alt=\"Open In Colab\"/></a>"
      ]
    },
    {
      "cell_type": "markdown",
      "metadata": {
        "id": "6PP5OHO_HLPU"
      },
      "source": [
        "<!--NAVIGATION-->\n",
        "\n",
        "\n",
        "<a href=\"https://colab.research.google.com/github/smabb/p/blob/master/Lesson6 Pandas.ipynb\"><img align=\"left\" src=\"https://colab.research.google.com/assets/colab-badge.svg\" alt=\"Open in Colab\" title=\"Open and Execute in Google Colaboratory\"></a>\n",
        "\n",
        "|                                        -                                        |                                        -                                        |                                        -                                        |\n",
        "|---------------------------------------------------------------------------------|---------------------------------------------------------------------------------|---------------------------------------------------------------------------------|\n",
        "|          [Exercise 1 (read series)](<#Exercise-1-(read-series&#41;>)          | [Exercise 2 (operations on series)](<#Exercise-2-(operations-on-series&#41;>) |       [Exercise 3 (inverse series)](<#Exercise-3-(inverse-series&#41;>)    |\n",
        "|       [Exercise 4 (cities)](<#Exercise-4-(cities&#41;>)                    |          [Exercise 5 (powers of series)](<#Exercise-5-(powers-of-series&#41;>) |    [[Exercise 6 (municipalities)](<#Exercise-6-(municipalities-of-finland&#41;>)    |\n",
        "|       [Exercise 7 (swedish and foreigners)](<#Exercise-7-(swedish-and-foreigners&#41;>)    |    [Exercise 8 (growing municipalities)](<#Exercise-8-(growing-municipalities&#41;>)       |   [Exercise 9 (subsetting with loc)](<#Exercise-9-(subsetting-with-loc&#41;>)    |\n",
        "|       [Exercise 10 (subsetting by positions)](<#Exercise-`0-(subsetting-by-positions&#41;>)   |                [Exercise 11 (snow depth)](<#Exercise-11-(snow-depth&#41;>)                |\n",
        "|      [Exercise 12 (average temperature)](<#Exercise-10-(average-temperature&#41;>)      |               [Exercise 13 (below zero)](<#Exercise-13-(below-zero&#41;>)               |                 [Exercise 14 (cyclists)](<#Exercise-14-(cyclists&#41;>)                 |\n",
        "|      [Exercise 15 (missing value types)](<#Exercise-15-(missing-value-types&#41;>)      |   [Exercise 16 (special missing values)](<#Exercise-16-(special-missing-values&#41;>)   |                [Exercise 17 (last week)](<#Exercise-17-(last-week&#41;>)                |\n",
        "|               [Exercise 18 (split date)](<#Exercise-18-(split-date&#41;>)               | [Exercise 19 (split date continues)](<#Exercise-19-(split-date-continues&#41;>)                |\n",
        "|      [Exercise 20 (cycling weather)](<#Exercise-20-(cycling-weather&#41;>)     |  [Exercise 21 (cyclists per day)](<#Exercise-21-(cyclists-per-day&#41;>)     |  [Exercise 22 (best performer)](<#Exercise-22-(best-performer&#41;>)                |\n",
        "|      [Exercise 23 (bicycle timeseries)](<#Exercise-23-(bicycle-timeseries&#41;>)     |  [Exercise 24 (commute)](<#Exercise-24-(commute&#41;>)              |\n",
        "\n"
      ]
    },
    {
      "cell_type": "markdown",
      "metadata": {
        "id": "ltf9JhvRHLPa"
      },
      "source": [
        "# Pandas\n",
        "\n",
        "In the NumPy section we dealt with some arrays, whose columns had each a special meaning. For example, the column number 0 could contain values interpreted as years, and column 1 could contain a month, and so on. It is possible to handle the data this way, but in can be hard to remember, which column number corresponds to which variable. Especially, if you later remove some column from the array, then the numbering of the remaining columns changes. One solution to this is to give a descriptive name to each column. These column names stay fixed and attached to their corresponding columns, even if we remove some of the columns. In addition, the rows can be given names as well, these are called *indices* in Pandas.\n",
        "\n",
        "The [Pandas](http://pandas.pydata.org/) library is built on top of the NumPy library, and it provides a special kind of two dimensional data structure called `DataFrame`. The `DataFrame` allows to give names to the columns, so that one can access a column using its name in place of the index of the column.\n",
        "\n",
        "First we will quickly go through a few examples to see what is possible with Pandas. You may need to check some details from the Pandas [documentation](http://pandas.pydata.org/pandas-docs/stable/) in order to complete the exercises. We start by doing some standard imports:"
      ]
    },
    {
      "cell_type": "code",
      "metadata": {
        "id": "yf28kbnoHLPd"
      },
      "source": [
        "import pandas as pd    # This is the standard way of importing the Pandas library\n",
        "import numpy as np"
      ],
      "execution_count": null,
      "outputs": []
    },
    {
      "cell_type": "markdown",
      "metadata": {
        "id": "DgYK8elOHLPr"
      },
      "source": [
        "Let's import some weather data that is in text form in a csv (Commma Separated Values) file. The following call will fetch the data from the internet and convert it to a DataFrame:"
      ]
    },
    {
      "cell_type": "code",
      "metadata": {
        "id": "QZaRAtcBHLPw",
        "colab": {
          "base_uri": "https://localhost:8080/",
          "height": 206
        },
        "outputId": "642ffcf2-f217-4e8e-f394-393776e0d7a0"
      },
      "source": [
        "wh = pd.read_csv(\"https://raw.githubusercontent.com/smabb/p/master/data/temp.csv\")\n",
        "wh.head()   # The head method prints the first 5 rows"
      ],
      "execution_count": null,
      "outputs": [
        {
          "output_type": "execute_result",
          "data": {
            "text/html": [
              "<div>\n",
              "<style scoped>\n",
              "    .dataframe tbody tr th:only-of-type {\n",
              "        vertical-align: middle;\n",
              "    }\n",
              "\n",
              "    .dataframe tbody tr th {\n",
              "        vertical-align: top;\n",
              "    }\n",
              "\n",
              "    .dataframe thead th {\n",
              "        text-align: right;\n",
              "    }\n",
              "</style>\n",
              "<table border=\"1\" class=\"dataframe\">\n",
              "  <thead>\n",
              "    <tr style=\"text-align: right;\">\n",
              "      <th></th>\n",
              "      <th>Year</th>\n",
              "      <th>m</th>\n",
              "      <th>d</th>\n",
              "      <th>Time</th>\n",
              "      <th>Time zone</th>\n",
              "      <th>Precipitation amount (mm)</th>\n",
              "      <th>Snow depth (cm)</th>\n",
              "      <th>Air temperature (degC)</th>\n",
              "    </tr>\n",
              "  </thead>\n",
              "  <tbody>\n",
              "    <tr>\n",
              "      <th>0</th>\n",
              "      <td>2017</td>\n",
              "      <td>1</td>\n",
              "      <td>1</td>\n",
              "      <td>00:00</td>\n",
              "      <td>UTC</td>\n",
              "      <td>-1.0</td>\n",
              "      <td>-1.0</td>\n",
              "      <td>0.6</td>\n",
              "    </tr>\n",
              "    <tr>\n",
              "      <th>1</th>\n",
              "      <td>2017</td>\n",
              "      <td>1</td>\n",
              "      <td>2</td>\n",
              "      <td>00:00</td>\n",
              "      <td>UTC</td>\n",
              "      <td>4.4</td>\n",
              "      <td>-1.0</td>\n",
              "      <td>-3.9</td>\n",
              "    </tr>\n",
              "    <tr>\n",
              "      <th>2</th>\n",
              "      <td>2017</td>\n",
              "      <td>1</td>\n",
              "      <td>3</td>\n",
              "      <td>00:00</td>\n",
              "      <td>UTC</td>\n",
              "      <td>6.6</td>\n",
              "      <td>7.0</td>\n",
              "      <td>-6.5</td>\n",
              "    </tr>\n",
              "    <tr>\n",
              "      <th>3</th>\n",
              "      <td>2017</td>\n",
              "      <td>1</td>\n",
              "      <td>4</td>\n",
              "      <td>00:00</td>\n",
              "      <td>UTC</td>\n",
              "      <td>-1.0</td>\n",
              "      <td>13.0</td>\n",
              "      <td>-12.8</td>\n",
              "    </tr>\n",
              "    <tr>\n",
              "      <th>4</th>\n",
              "      <td>2017</td>\n",
              "      <td>1</td>\n",
              "      <td>5</td>\n",
              "      <td>00:00</td>\n",
              "      <td>UTC</td>\n",
              "      <td>-1.0</td>\n",
              "      <td>10.0</td>\n",
              "      <td>-17.8</td>\n",
              "    </tr>\n",
              "  </tbody>\n",
              "</table>\n",
              "</div>"
            ],
            "text/plain": [
              "   Year  m  ...  Snow depth (cm) Air temperature (degC)\n",
              "0  2017  1  ...             -1.0                    0.6\n",
              "1  2017  1  ...             -1.0                   -3.9\n",
              "2  2017  1  ...              7.0                   -6.5\n",
              "3  2017  1  ...             13.0                  -12.8\n",
              "4  2017  1  ...             10.0                  -17.8\n",
              "\n",
              "[5 rows x 8 columns]"
            ]
          },
          "metadata": {
            "tags": []
          },
          "execution_count": 2
        }
      ]
    },
    {
      "cell_type": "markdown",
      "metadata": {
        "id": "YxNt4GAoHLP7"
      },
      "source": [
        "We see that the DataFrame contains eight columns, three of which are actual measured variables. Now we can refer to a column by its name:"
      ]
    },
    {
      "cell_type": "code",
      "metadata": {
        "id": "FCfDXBG4HLP9",
        "colab": {
          "base_uri": "https://localhost:8080/",
          "height": 127
        },
        "outputId": "f07f2219-7f7e-4c4b-ea12-af3d094bf2d6"
      },
      "source": [
        "wh[\"Snow depth (cm)\"].head()     "
      ],
      "execution_count": null,
      "outputs": [
        {
          "output_type": "execute_result",
          "data": {
            "text/plain": [
              "0    -1.0\n",
              "1    -1.0\n",
              "2     7.0\n",
              "3    13.0\n",
              "4    10.0\n",
              "Name: Snow depth (cm), dtype: float64"
            ]
          },
          "metadata": {
            "tags": []
          },
          "execution_count": 3
        }
      ]
    },
    {
      "cell_type": "markdown",
      "metadata": {
        "id": "GAF2t-vCHLQE"
      },
      "source": [
        "There are several summary statistic methods that operate on a column or on all the columns. The next example computes the mean of the temperatures over all rows of the DataFrame:"
      ]
    },
    {
      "cell_type": "code",
      "metadata": {
        "id": "5QdxCZLNHLQG",
        "colab": {
          "base_uri": "https://localhost:8080/",
          "height": 35
        },
        "outputId": "d79363ff-e1b7-4a65-b020-609c3c875a9c"
      },
      "source": [
        "wh[\"Air temperature (degC)\"].mean()    # Mean temperature"
      ],
      "execution_count": null,
      "outputs": [
        {
          "output_type": "execute_result",
          "data": {
            "text/plain": [
              "6.527123287671233"
            ]
          },
          "metadata": {
            "tags": []
          },
          "execution_count": 4
        }
      ]
    },
    {
      "cell_type": "markdown",
      "metadata": {
        "id": "ICIumzUyHLQN"
      },
      "source": [
        "We can drop some columns from the DataFrame with the `drop` method:"
      ]
    },
    {
      "cell_type": "code",
      "metadata": {
        "id": "cz7ds36LHLQO",
        "colab": {
          "base_uri": "https://localhost:8080/",
          "height": 206
        },
        "outputId": "d055e819-65a3-4a79-a80f-94716c056871"
      },
      "source": [
        "wh.drop(\"Time zone\", axis=1).head()   # Return a copy with one column removed, the original DataFrame stays intact"
      ],
      "execution_count": null,
      "outputs": [
        {
          "output_type": "execute_result",
          "data": {
            "text/html": [
              "<div>\n",
              "<style scoped>\n",
              "    .dataframe tbody tr th:only-of-type {\n",
              "        vertical-align: middle;\n",
              "    }\n",
              "\n",
              "    .dataframe tbody tr th {\n",
              "        vertical-align: top;\n",
              "    }\n",
              "\n",
              "    .dataframe thead th {\n",
              "        text-align: right;\n",
              "    }\n",
              "</style>\n",
              "<table border=\"1\" class=\"dataframe\">\n",
              "  <thead>\n",
              "    <tr style=\"text-align: right;\">\n",
              "      <th></th>\n",
              "      <th>Year</th>\n",
              "      <th>m</th>\n",
              "      <th>d</th>\n",
              "      <th>Time</th>\n",
              "      <th>Precipitation amount (mm)</th>\n",
              "      <th>Snow depth (cm)</th>\n",
              "      <th>Air temperature (degC)</th>\n",
              "    </tr>\n",
              "  </thead>\n",
              "  <tbody>\n",
              "    <tr>\n",
              "      <th>0</th>\n",
              "      <td>2017</td>\n",
              "      <td>1</td>\n",
              "      <td>1</td>\n",
              "      <td>00:00</td>\n",
              "      <td>-1.0</td>\n",
              "      <td>-1.0</td>\n",
              "      <td>0.6</td>\n",
              "    </tr>\n",
              "    <tr>\n",
              "      <th>1</th>\n",
              "      <td>2017</td>\n",
              "      <td>1</td>\n",
              "      <td>2</td>\n",
              "      <td>00:00</td>\n",
              "      <td>4.4</td>\n",
              "      <td>-1.0</td>\n",
              "      <td>-3.9</td>\n",
              "    </tr>\n",
              "    <tr>\n",
              "      <th>2</th>\n",
              "      <td>2017</td>\n",
              "      <td>1</td>\n",
              "      <td>3</td>\n",
              "      <td>00:00</td>\n",
              "      <td>6.6</td>\n",
              "      <td>7.0</td>\n",
              "      <td>-6.5</td>\n",
              "    </tr>\n",
              "    <tr>\n",
              "      <th>3</th>\n",
              "      <td>2017</td>\n",
              "      <td>1</td>\n",
              "      <td>4</td>\n",
              "      <td>00:00</td>\n",
              "      <td>-1.0</td>\n",
              "      <td>13.0</td>\n",
              "      <td>-12.8</td>\n",
              "    </tr>\n",
              "    <tr>\n",
              "      <th>4</th>\n",
              "      <td>2017</td>\n",
              "      <td>1</td>\n",
              "      <td>5</td>\n",
              "      <td>00:00</td>\n",
              "      <td>-1.0</td>\n",
              "      <td>10.0</td>\n",
              "      <td>-17.8</td>\n",
              "    </tr>\n",
              "  </tbody>\n",
              "</table>\n",
              "</div>"
            ],
            "text/plain": [
              "   Year  m  ...  Snow depth (cm) Air temperature (degC)\n",
              "0  2017  1  ...             -1.0                    0.6\n",
              "1  2017  1  ...             -1.0                   -3.9\n",
              "2  2017  1  ...              7.0                   -6.5\n",
              "3  2017  1  ...             13.0                  -12.8\n",
              "4  2017  1  ...             10.0                  -17.8\n",
              "\n",
              "[5 rows x 7 columns]"
            ]
          },
          "metadata": {
            "tags": []
          },
          "execution_count": 4
        }
      ]
    },
    {
      "cell_type": "code",
      "metadata": {
        "id": "8C6h4D04HLQU",
        "colab": {
          "base_uri": "https://localhost:8080/",
          "height": 206
        },
        "outputId": "e306c5a9-5601-46b2-d6d7-3a476494ebcd"
      },
      "source": [
        "wh.head()     # Original DataFrame is unchanged"
      ],
      "execution_count": null,
      "outputs": [
        {
          "output_type": "execute_result",
          "data": {
            "text/html": [
              "<div>\n",
              "<style scoped>\n",
              "    .dataframe tbody tr th:only-of-type {\n",
              "        vertical-align: middle;\n",
              "    }\n",
              "\n",
              "    .dataframe tbody tr th {\n",
              "        vertical-align: top;\n",
              "    }\n",
              "\n",
              "    .dataframe thead th {\n",
              "        text-align: right;\n",
              "    }\n",
              "</style>\n",
              "<table border=\"1\" class=\"dataframe\">\n",
              "  <thead>\n",
              "    <tr style=\"text-align: right;\">\n",
              "      <th></th>\n",
              "      <th>Year</th>\n",
              "      <th>m</th>\n",
              "      <th>d</th>\n",
              "      <th>Time</th>\n",
              "      <th>Time zone</th>\n",
              "      <th>Precipitation amount (mm)</th>\n",
              "      <th>Snow depth (cm)</th>\n",
              "      <th>Air temperature (degC)</th>\n",
              "    </tr>\n",
              "  </thead>\n",
              "  <tbody>\n",
              "    <tr>\n",
              "      <th>0</th>\n",
              "      <td>2017</td>\n",
              "      <td>1</td>\n",
              "      <td>1</td>\n",
              "      <td>00:00</td>\n",
              "      <td>UTC</td>\n",
              "      <td>-1.0</td>\n",
              "      <td>-1.0</td>\n",
              "      <td>0.6</td>\n",
              "    </tr>\n",
              "    <tr>\n",
              "      <th>1</th>\n",
              "      <td>2017</td>\n",
              "      <td>1</td>\n",
              "      <td>2</td>\n",
              "      <td>00:00</td>\n",
              "      <td>UTC</td>\n",
              "      <td>4.4</td>\n",
              "      <td>-1.0</td>\n",
              "      <td>-3.9</td>\n",
              "    </tr>\n",
              "    <tr>\n",
              "      <th>2</th>\n",
              "      <td>2017</td>\n",
              "      <td>1</td>\n",
              "      <td>3</td>\n",
              "      <td>00:00</td>\n",
              "      <td>UTC</td>\n",
              "      <td>6.6</td>\n",
              "      <td>7.0</td>\n",
              "      <td>-6.5</td>\n",
              "    </tr>\n",
              "    <tr>\n",
              "      <th>3</th>\n",
              "      <td>2017</td>\n",
              "      <td>1</td>\n",
              "      <td>4</td>\n",
              "      <td>00:00</td>\n",
              "      <td>UTC</td>\n",
              "      <td>-1.0</td>\n",
              "      <td>13.0</td>\n",
              "      <td>-12.8</td>\n",
              "    </tr>\n",
              "    <tr>\n",
              "      <th>4</th>\n",
              "      <td>2017</td>\n",
              "      <td>1</td>\n",
              "      <td>5</td>\n",
              "      <td>00:00</td>\n",
              "      <td>UTC</td>\n",
              "      <td>-1.0</td>\n",
              "      <td>10.0</td>\n",
              "      <td>-17.8</td>\n",
              "    </tr>\n",
              "  </tbody>\n",
              "</table>\n",
              "</div>"
            ],
            "text/plain": [
              "   Year  m  ...  Snow depth (cm) Air temperature (degC)\n",
              "0  2017  1  ...             -1.0                    0.6\n",
              "1  2017  1  ...             -1.0                   -3.9\n",
              "2  2017  1  ...              7.0                   -6.5\n",
              "3  2017  1  ...             13.0                  -12.8\n",
              "4  2017  1  ...             10.0                  -17.8\n",
              "\n",
              "[5 rows x 8 columns]"
            ]
          },
          "metadata": {
            "tags": []
          },
          "execution_count": 5
        }
      ]
    },
    {
      "cell_type": "markdown",
      "metadata": {
        "id": "-DnhFAu2HLQb"
      },
      "source": [
        "In case you want to modify the original DataFrame, you can either assign the result to the original DataFrame, or use the `inplace` parameter of the `drop` method. Many of the modifying methods of the DataFrame have the `inplace` parameter.\n",
        "\n",
        "Addition of a new column works like adding a new key-value pair to a dictionary:"
      ]
    },
    {
      "cell_type": "code",
      "metadata": {
        "id": "Pnc1yie4HLQf",
        "colab": {
          "base_uri": "https://localhost:8080/",
          "height": 206
        },
        "outputId": "aecd7714-b793-4d37-a51d-f56978bfe2b4"
      },
      "source": [
        "wh[\"Rainy\"] = wh[\"Precipitation amount (mm)\"] > 5\n",
        "wh.head()"
      ],
      "execution_count": null,
      "outputs": [
        {
          "output_type": "execute_result",
          "data": {
            "text/html": [
              "<div>\n",
              "<style scoped>\n",
              "    .dataframe tbody tr th:only-of-type {\n",
              "        vertical-align: middle;\n",
              "    }\n",
              "\n",
              "    .dataframe tbody tr th {\n",
              "        vertical-align: top;\n",
              "    }\n",
              "\n",
              "    .dataframe thead th {\n",
              "        text-align: right;\n",
              "    }\n",
              "</style>\n",
              "<table border=\"1\" class=\"dataframe\">\n",
              "  <thead>\n",
              "    <tr style=\"text-align: right;\">\n",
              "      <th></th>\n",
              "      <th>Year</th>\n",
              "      <th>m</th>\n",
              "      <th>d</th>\n",
              "      <th>Time</th>\n",
              "      <th>Time zone</th>\n",
              "      <th>Precipitation amount (mm)</th>\n",
              "      <th>Snow depth (cm)</th>\n",
              "      <th>Air temperature (degC)</th>\n",
              "      <th>Rainy</th>\n",
              "    </tr>\n",
              "  </thead>\n",
              "  <tbody>\n",
              "    <tr>\n",
              "      <th>0</th>\n",
              "      <td>2017</td>\n",
              "      <td>1</td>\n",
              "      <td>1</td>\n",
              "      <td>00:00</td>\n",
              "      <td>UTC</td>\n",
              "      <td>-1.0</td>\n",
              "      <td>-1.0</td>\n",
              "      <td>0.6</td>\n",
              "      <td>False</td>\n",
              "    </tr>\n",
              "    <tr>\n",
              "      <th>1</th>\n",
              "      <td>2017</td>\n",
              "      <td>1</td>\n",
              "      <td>2</td>\n",
              "      <td>00:00</td>\n",
              "      <td>UTC</td>\n",
              "      <td>4.4</td>\n",
              "      <td>-1.0</td>\n",
              "      <td>-3.9</td>\n",
              "      <td>False</td>\n",
              "    </tr>\n",
              "    <tr>\n",
              "      <th>2</th>\n",
              "      <td>2017</td>\n",
              "      <td>1</td>\n",
              "      <td>3</td>\n",
              "      <td>00:00</td>\n",
              "      <td>UTC</td>\n",
              "      <td>6.6</td>\n",
              "      <td>7.0</td>\n",
              "      <td>-6.5</td>\n",
              "      <td>True</td>\n",
              "    </tr>\n",
              "    <tr>\n",
              "      <th>3</th>\n",
              "      <td>2017</td>\n",
              "      <td>1</td>\n",
              "      <td>4</td>\n",
              "      <td>00:00</td>\n",
              "      <td>UTC</td>\n",
              "      <td>-1.0</td>\n",
              "      <td>13.0</td>\n",
              "      <td>-12.8</td>\n",
              "      <td>False</td>\n",
              "    </tr>\n",
              "    <tr>\n",
              "      <th>4</th>\n",
              "      <td>2017</td>\n",
              "      <td>1</td>\n",
              "      <td>5</td>\n",
              "      <td>00:00</td>\n",
              "      <td>UTC</td>\n",
              "      <td>-1.0</td>\n",
              "      <td>10.0</td>\n",
              "      <td>-17.8</td>\n",
              "      <td>False</td>\n",
              "    </tr>\n",
              "  </tbody>\n",
              "</table>\n",
              "</div>"
            ],
            "text/plain": [
              "   Year  m  d  ... Snow depth (cm) Air temperature (degC)  Rainy\n",
              "0  2017  1  1  ...            -1.0                    0.6  False\n",
              "1  2017  1  2  ...            -1.0                   -3.9  False\n",
              "2  2017  1  3  ...             7.0                   -6.5   True\n",
              "3  2017  1  4  ...            13.0                  -12.8  False\n",
              "4  2017  1  5  ...            10.0                  -17.8  False\n",
              "\n",
              "[5 rows x 9 columns]"
            ]
          },
          "metadata": {
            "tags": []
          },
          "execution_count": 6
        }
      ]
    },
    {
      "cell_type": "markdown",
      "metadata": {
        "id": "iEpK2KDuHLQn"
      },
      "source": [
        "In the next sections we will systematically go through the DataFrame and its one-dimensional version: *Series*."
      ]
    },
    {
      "cell_type": "markdown",
      "metadata": {
        "id": "LIS0hP4MHLQq"
      },
      "source": [
        "## Creation and indexing of series\n",
        "\n",
        "One can turn any one-dimensional iterable into a Series, which is a one-dimensional data structure:"
      ]
    },
    {
      "cell_type": "code",
      "metadata": {
        "id": "N-qWhxcZHLQs",
        "colab": {
          "base_uri": "https://localhost:8080/",
          "height": 146
        },
        "outputId": "21cb2f1a-c888-4678-c3b3-771213de9adf"
      },
      "source": [
        "s=pd.Series([1, 4, 5, 2, 5, 2])\n",
        "s"
      ],
      "execution_count": null,
      "outputs": [
        {
          "output_type": "execute_result",
          "data": {
            "text/plain": [
              "0    1\n",
              "1    4\n",
              "2    5\n",
              "3    2\n",
              "4    5\n",
              "5    2\n",
              "dtype: int64"
            ]
          },
          "metadata": {
            "tags": []
          },
          "execution_count": 7
        }
      ]
    },
    {
      "cell_type": "markdown",
      "metadata": {
        "id": "gPlkHn7iHLQx"
      },
      "source": [
        "The data type of the elements in this Series is `int64`, integers representable in 64 bits. "
      ]
    },
    {
      "cell_type": "markdown",
      "metadata": {
        "id": "XQH336BgHLQ0"
      },
      "source": [
        "We can also attach a name to this series:"
      ]
    },
    {
      "cell_type": "code",
      "metadata": {
        "id": "23-Oyym-HLQ1",
        "colab": {
          "base_uri": "https://localhost:8080/",
          "height": 146
        },
        "outputId": "8c6a5aa6-4b76-4373-8423-8672bdbd1954"
      },
      "source": [
        "s.name = \"Grades\"\n",
        "s"
      ],
      "execution_count": null,
      "outputs": [
        {
          "output_type": "execute_result",
          "data": {
            "text/plain": [
              "0    1\n",
              "1    4\n",
              "2    5\n",
              "3    2\n",
              "4    5\n",
              "5    2\n",
              "Name: Grades, dtype: int64"
            ]
          },
          "metadata": {
            "tags": []
          },
          "execution_count": 8
        }
      ]
    },
    {
      "cell_type": "markdown",
      "metadata": {
        "id": "evk3yYuJHLQ6"
      },
      "source": [
        "The common attributes of the series are the `name`, `dtype`, and `size`:"
      ]
    },
    {
      "cell_type": "code",
      "metadata": {
        "id": "KXNOkHGUHLQ7",
        "colab": {
          "base_uri": "https://localhost:8080/",
          "height": 35
        },
        "outputId": "440119ea-722b-4a3f-90d3-c0a267641166"
      },
      "source": [
        "print(f\"Name: {s.name}, dtype: {s.dtype}, size: {s.size}\")"
      ],
      "execution_count": null,
      "outputs": [
        {
          "output_type": "stream",
          "text": [
            "Name: Grades, dtype: int64, size: 6\n"
          ],
          "name": "stdout"
        }
      ]
    },
    {
      "cell_type": "markdown",
      "metadata": {
        "id": "2dmUaRnYHLQ_"
      },
      "source": [
        "In addition to the values of the series, also the row indices were printed. All the accessing methods from NumPy arrays also work for the Series: indexing, slicing, masking and fancy indexing. "
      ]
    },
    {
      "cell_type": "code",
      "metadata": {
        "id": "2u3C091FHLRB",
        "colab": {
          "base_uri": "https://localhost:8080/",
          "height": 35
        },
        "outputId": "7d608d16-58de-4e0a-bdac-7817b8823b87"
      },
      "source": [
        "s[1]"
      ],
      "execution_count": null,
      "outputs": [
        {
          "output_type": "execute_result",
          "data": {
            "text/plain": [
              "4"
            ]
          },
          "metadata": {
            "tags": []
          },
          "execution_count": 10
        }
      ]
    },
    {
      "cell_type": "code",
      "metadata": {
        "id": "MtSmlBycHLRG",
        "colab": {
          "base_uri": "https://localhost:8080/",
          "height": 72
        },
        "outputId": "e91d383a-8251-47b1-8083-34d752ccfb5e"
      },
      "source": [
        "s2=s[[0,5]]                    # Fancy indexing\n",
        "print(s2)"
      ],
      "execution_count": null,
      "outputs": [
        {
          "output_type": "stream",
          "text": [
            "0    1\n",
            "5    2\n",
            "Name: Grades, dtype: int64\n"
          ],
          "name": "stdout"
        }
      ]
    },
    {
      "cell_type": "code",
      "metadata": {
        "id": "G7UjezGfHLRK",
        "colab": {
          "base_uri": "https://localhost:8080/",
          "height": 72
        },
        "outputId": "5e7a7046-309e-41b3-c947-526debae0bed"
      },
      "source": [
        "t=s[-2:]                    # Slicing\n",
        "t"
      ],
      "execution_count": null,
      "outputs": [
        {
          "output_type": "execute_result",
          "data": {
            "text/plain": [
              "4    5\n",
              "5    2\n",
              "Name: Grades, dtype: int64"
            ]
          },
          "metadata": {
            "tags": []
          },
          "execution_count": 12
        }
      ]
    },
    {
      "cell_type": "markdown",
      "metadata": {
        "id": "LzcWulVZHLRP"
      },
      "source": [
        "Note that the indices stick to the corresponding values, they are not renumbered!"
      ]
    },
    {
      "cell_type": "code",
      "metadata": {
        "id": "KCZDJN8dHLRR",
        "colab": {
          "base_uri": "https://localhost:8080/",
          "height": 35
        },
        "outputId": "6daeaac9-7f66-4060-a696-28717987140e"
      },
      "source": [
        "t[4]                        # t[0] would give an error"
      ],
      "execution_count": null,
      "outputs": [
        {
          "output_type": "execute_result",
          "data": {
            "text/plain": [
              "5"
            ]
          },
          "metadata": {
            "tags": []
          },
          "execution_count": 13
        }
      ]
    },
    {
      "cell_type": "markdown",
      "metadata": {
        "id": "LoOBBpP0HLRV"
      },
      "source": [
        "The values as a NumPy array are accessible via the `values` attribute:"
      ]
    },
    {
      "cell_type": "code",
      "metadata": {
        "id": "mF2RdOQnHLRX",
        "colab": {
          "base_uri": "https://localhost:8080/",
          "height": 35
        },
        "outputId": "c9055d44-03c7-4c78-954c-7021a2e7ef92"
      },
      "source": [
        "s2.values"
      ],
      "execution_count": null,
      "outputs": [
        {
          "output_type": "execute_result",
          "data": {
            "text/plain": [
              "array([1, 2])"
            ]
          },
          "metadata": {
            "tags": []
          },
          "execution_count": 14
        }
      ]
    },
    {
      "cell_type": "markdown",
      "metadata": {
        "id": "z0lYsvy4HLRa"
      },
      "source": [
        "And the indices are available through the `index` attribute:"
      ]
    },
    {
      "cell_type": "code",
      "metadata": {
        "id": "b4yp4WznHLRc",
        "colab": {
          "base_uri": "https://localhost:8080/",
          "height": 35
        },
        "outputId": "82e42875-053e-461a-e679-058da3c3b3ec"
      },
      "source": [
        "s2.index"
      ],
      "execution_count": null,
      "outputs": [
        {
          "output_type": "execute_result",
          "data": {
            "text/plain": [
              "Int64Index([0, 5], dtype='int64')"
            ]
          },
          "metadata": {
            "tags": []
          },
          "execution_count": 15
        }
      ]
    },
    {
      "cell_type": "markdown",
      "metadata": {
        "id": "8_jy59V_HLRh"
      },
      "source": [
        "The index is not simply a NumPy array, but a data structure that allows fast access to the elements. The indices need not be integers, as the next example shows:"
      ]
    },
    {
      "cell_type": "code",
      "metadata": {
        "id": "fQ9YJ4NoHLRi",
        "colab": {
          "base_uri": "https://localhost:8080/",
          "height": 146
        },
        "outputId": "b59d3919-2a5c-4dae-ed5d-e51d506a7617"
      },
      "source": [
        "s3=pd.Series([1, 4, 5, 2, 5, 2], index=list(\"abcdef\"))\n",
        "s3"
      ],
      "execution_count": null,
      "outputs": [
        {
          "output_type": "execute_result",
          "data": {
            "text/plain": [
              "a    1\n",
              "b    4\n",
              "c    5\n",
              "d    2\n",
              "e    5\n",
              "f    2\n",
              "dtype: int64"
            ]
          },
          "metadata": {
            "tags": []
          },
          "execution_count": 16
        }
      ]
    },
    {
      "cell_type": "code",
      "metadata": {
        "id": "f-dSmgpgHLRt",
        "colab": {
          "base_uri": "https://localhost:8080/",
          "height": 35
        },
        "outputId": "125429b9-9897-4f66-be26-9ec28e985425"
      },
      "source": [
        "s3.index"
      ],
      "execution_count": null,
      "outputs": [
        {
          "output_type": "execute_result",
          "data": {
            "text/plain": [
              "Index(['a', 'b', 'c', 'd', 'e', 'f'], dtype='object')"
            ]
          },
          "metadata": {
            "tags": []
          },
          "execution_count": 40
        }
      ]
    },
    {
      "cell_type": "code",
      "metadata": {
        "id": "WQRnr7hmHLRx",
        "colab": {
          "base_uri": "https://localhost:8080/",
          "height": 35
        },
        "outputId": "bfb12be9-d803-4210-c054-9f4dd96c91ac"
      },
      "source": [
        "s3[\"b\"]"
      ],
      "execution_count": null,
      "outputs": [
        {
          "output_type": "execute_result",
          "data": {
            "text/plain": [
              "4"
            ]
          },
          "metadata": {
            "tags": []
          },
          "execution_count": 41
        }
      ]
    },
    {
      "cell_type": "markdown",
      "metadata": {
        "id": "rVN9XmFYHLR0"
      },
      "source": [
        "<div class=\"alert alert-warning\">\n",
        "Note a special case here: if the indices are not integers, then the last index of the slice is included in the result. This is contrary to slicing with integers!\n",
        "</div>"
      ]
    },
    {
      "cell_type": "code",
      "metadata": {
        "id": "EQdPfamyHLR0",
        "colab": {
          "base_uri": "https://localhost:8080/",
          "height": 109
        },
        "outputId": "606afb85-e215-4961-db4a-d5a2335673b3"
      },
      "source": [
        "s3[\"b\":\"e\"]"
      ],
      "execution_count": null,
      "outputs": [
        {
          "output_type": "execute_result",
          "data": {
            "text/plain": [
              "b    4\n",
              "c    5\n",
              "d    2\n",
              "e    5\n",
              "dtype: int64"
            ]
          },
          "metadata": {
            "tags": []
          },
          "execution_count": 42
        }
      ]
    },
    {
      "cell_type": "markdown",
      "metadata": {
        "id": "c9KnEmtDHLR4"
      },
      "source": [
        "It is still possible to access the series using NumPy style *implicit integer indices*:"
      ]
    },
    {
      "cell_type": "code",
      "metadata": {
        "id": "w62YA53mHLR4",
        "colab": {
          "base_uri": "https://localhost:8080/",
          "height": 35
        },
        "outputId": "916f2dbe-398c-44ee-9240-4453eb5e331a"
      },
      "source": [
        "s3[1]"
      ],
      "execution_count": null,
      "outputs": [
        {
          "output_type": "execute_result",
          "data": {
            "text/plain": [
              "4"
            ]
          },
          "metadata": {
            "tags": []
          },
          "execution_count": 45
        }
      ]
    },
    {
      "cell_type": "markdown",
      "metadata": {
        "id": "oedsBt2QHLR8"
      },
      "source": [
        "This can be confusing though. Consider the following series:"
      ]
    },
    {
      "cell_type": "code",
      "metadata": {
        "id": "DrWu4MpRHLR9",
        "colab": {
          "base_uri": "https://localhost:8080/",
          "height": 90
        },
        "outputId": "071f0226-861c-4a65-ac9e-615775ecfc39"
      },
      "source": [
        "s4 = pd.Series([\"Jack\", \"Jones\", \"James\"], index=[1,2,3])\n",
        "s4"
      ],
      "execution_count": null,
      "outputs": [
        {
          "output_type": "execute_result",
          "data": {
            "text/plain": [
              "1     Jack\n",
              "2    Jones\n",
              "3    James\n",
              "dtype: object"
            ]
          },
          "metadata": {
            "tags": []
          },
          "execution_count": 17
        }
      ]
    },
    {
      "cell_type": "markdown",
      "metadata": {
        "id": "ox65aS6XHLSD"
      },
      "source": [
        "What do you think `s4[1]` will print? For this ambiguity Pandas offers attributes `loc` and `iloc`. The attributes `loc` always uses the explicit index, while the attribute `iloc` always uses the implicit integer index:"
      ]
    },
    {
      "cell_type": "code",
      "metadata": {
        "id": "ylKqkiW8HLSG",
        "colab": {
          "base_uri": "https://localhost:8080/",
          "height": 54
        },
        "outputId": "e7b77c4c-fb9f-4be2-a90d-bc313e86552e"
      },
      "source": [
        "print(s4.loc[1])\n",
        "print(s4.iloc[1])"
      ],
      "execution_count": null,
      "outputs": [
        {
          "output_type": "stream",
          "text": [
            "Jack\n",
            "Jones\n"
          ],
          "name": "stdout"
        }
      ]
    },
    {
      "cell_type": "markdown",
      "metadata": {
        "id": "Nz6uowYjHLSI"
      },
      "source": [
        "#### <div class=\"alert alert-info\">Exercise 1 (read series)</div>\n",
        "\n",
        "Write function `read_series` that reads input lines from the user and return a Series. Each line should contain first the index and then the corresponding value, separated by whitespace. The index and values are strings (in this case `dtype` is `object`). An empty line signals the end of Series. Malformed input should cause an exception. An input line is malformed, if it is non-empty and, when split at whitespace, does not result in two parts."
      ]
    },
    {
      "cell_type": "code",
      "metadata": {
        "id": "515wO1nuJusQ"
      },
      "source": [
        "def read_series():\n",
        "    values = []\n",
        "    indexes = []\n",
        "    while True:\n",
        "        data = input(\"input: \")\n",
        "        if len(data) == 0:\n",
        "            break\n",
        "        else: \n",
        "            splitted = data.split()\n",
        "            print(splitted)\n",
        "            if len(splitted) < 2:\n",
        "                print('you should enter a minimum of 2 values, index and values, seperated by space')\n",
        "                break\n",
        "            else:\n",
        "                indexes.append(splitted[0])\n",
        "                values.append(\"\".join(splitted[1:]))\n",
        "\n",
        "    return pd.Series(values, indexes)\n",
        "\n",
        "read_series()"
      ],
      "execution_count": null,
      "outputs": []
    },
    {
      "cell_type": "markdown",
      "metadata": {
        "id": "mblughKXHLSJ"
      },
      "source": [
        "#### <div class=\"alert alert-info\">Exercise 2 (operations on series)</div>\n",
        "\n",
        "Write function `create_series` that gets two lists of numbers as parameters. Both lists should have length 3.\n",
        "The function should first create two Series, `s1` and `s2`. The first series should have values from the first parameter list and have corresponding indices `a`, `b`, and  `c`. The second series should get its values from the second parameter list and have again the corresponding indices `a`, `b`, and  `c`. The function should return the pair of these Series.\n",
        "\n",
        "Then, write a function `modify_series` that gets two Series as parameters. It should add to the first Series `s1` a new value with index `d`. The new value should be the same as the value in Series `s2` with index `b`.\n",
        "Then delete the element from `s2` that has index `b`. Now the first Series should have four values, while the second list has only two values. Adding a new element to a Series can be achieved by assignment, like with dictionaries. Deletion of an element from a Series can be done with the `del` statement.\n",
        "\n",
        "Try adding together the Series returned by the `modify_series` function. The operations on Series use the indices to keep the element-wise operations *aligned*. If for some index the operation could not be performed, the resulting value will be `NaN` (Not A Number).\n",
        "\n",
        "<hr/>"
      ]
    },
    {
      "cell_type": "code",
      "metadata": {
        "id": "r5j5ch_AJvKz"
      },
      "source": [
        "def create_series(L1, L2):\n",
        "    indices = ['a','b','c']\n",
        "    s1 = pd.Series(L1, indices)\n",
        "    s2 = pd.Series(L2, indices)\n",
        "    return (s1, s2)\n",
        "    \n",
        "def modify_series(s1, s2):\n",
        "    s1['d'] = s2['b']\n",
        "    del s2['b']\n",
        "    return (s1, s2)\n",
        "\n",
        "L1 = [1,2,3]\n",
        "L2 = [4,5,6]\n",
        "s1, s2 = create_series(L1, L2)\n",
        "s1mod, s2mod = modify_series(s1,s2)\n",
        "print(s1mod + s2mod)\n"
      ],
      "execution_count": null,
      "outputs": []
    },
    {
      "cell_type": "markdown",
      "metadata": {
        "id": "_G6tcOfcHLSK"
      },
      "source": [
        "#### <div class=\"alert alert-info\">Exercise 3 (inverse series)</div>\n",
        "\n",
        "Write function `inverse_series` that get a Series as a parameter and returns a new series, whose indices and values have swapped roles. \n",
        "\n",
        "What happens if some value appears multiple times in the original Series? What happens if you use this value to index the resulting Series?\n",
        "<hr/>"
      ]
    },
    {
      "cell_type": "code",
      "metadata": {
        "id": "4DoEDc5LJz8F",
        "colab": {
          "base_uri": "https://localhost:8080/",
          "height": 164
        },
        "outputId": "da1d9aef-6a10-48d8-d91d-f1c6bdf46f65"
      },
      "source": [
        "def inverse_series(s):\n",
        "    return pd.Series(s.index.values, s.values)\n",
        "\n",
        "series = pd.Series(['a','b','c'])\n",
        "print(series)\n",
        "print(inverse_series(series))\n"
      ],
      "execution_count": null,
      "outputs": [
        {
          "output_type": "stream",
          "text": [
            "0    a\n",
            "1    b\n",
            "2    c\n",
            "dtype: object\n",
            "a    0\n",
            "b    1\n",
            "c    2\n",
            "dtype: int64\n"
          ],
          "name": "stdout"
        }
      ]
    },
    {
      "cell_type": "markdown",
      "metadata": {
        "id": "v9jL1XR2HLSL"
      },
      "source": [
        "One may notice that there are similarities between Python's dictionaries and Pandas' Series, both can be thought to access values using keys. The difference is that Series requires that the indices have all the same type, and similarly, all the values have the same type. This restriction allows creation of fast data structures.\n",
        "\n",
        "As a mark of the similaries between these two data structures, Pandas allows creation of a `Series` object from a dictionary:"
      ]
    },
    {
      "cell_type": "code",
      "metadata": {
        "id": "yM_8ggHlHLSL",
        "colab": {
          "base_uri": "https://localhost:8080/",
          "height": 127
        },
        "outputId": "122a653c-2bbd-4b03-c8bf-f601111cb5e0"
      },
      "source": [
        "d = { 2001 : \"Bush\", 2005: \"Bush\", 2009: \"Obama\", 2013: \"Obama\", 2017 : \"Trump\"}\n",
        "s4 = pd.Series(d, name=\"Presidents\")\n",
        "s4"
      ],
      "execution_count": null,
      "outputs": [
        {
          "output_type": "execute_result",
          "data": {
            "text/plain": [
              "2001     Bush\n",
              "2005     Bush\n",
              "2009    Obama\n",
              "2013    Obama\n",
              "2017    Trump\n",
              "Name: Presidents, dtype: object"
            ]
          },
          "metadata": {
            "tags": []
          },
          "execution_count": 18
        }
      ]
    },
    {
      "cell_type": "markdown",
      "metadata": {
        "id": "6neiHi8iHT2W"
      },
      "source": [
        "# Pandas (continues)"
      ]
    },
    {
      "cell_type": "code",
      "metadata": {
        "id": "bxt5hgFuHT2a"
      },
      "source": [
        "import pandas as pd\n",
        "import numpy as np"
      ],
      "execution_count": 2,
      "outputs": []
    },
    {
      "cell_type": "markdown",
      "metadata": {
        "id": "F2rxN9foHT2s"
      },
      "source": [
        "## Creation of dataframes\n",
        "\n",
        "The DataFrame is essentially a two dimensional object, and it can be created in three different ways:\n",
        "\n",
        "* out of a two dimensional NumPy array\n",
        "* out of given columns\n",
        "* out of given rows\n",
        "\n",
        "### Creating DataFrames from a NumPy array\n",
        "\n",
        "In the following example a DataFrame with 2 rows and 3 column is created. The row and column indices are given explicitly."
      ]
    },
    {
      "cell_type": "code",
      "metadata": {
        "id": "5pwxWwPXHT2x",
        "colab": {
          "base_uri": "https://localhost:8080/",
          "height": 112
        },
        "outputId": "eb6aa7e8-3f29-471d-f7e5-d934e6dde691"
      },
      "source": [
        "df=pd.DataFrame(np.random.randn(2,3), columns=[\"First\", \"Second\", \"Third\"], index=[\"a\", \"b\"])\n",
        "df"
      ],
      "execution_count": 3,
      "outputs": [
        {
          "output_type": "execute_result",
          "data": {
            "text/html": [
              "<div>\n",
              "<style scoped>\n",
              "    .dataframe tbody tr th:only-of-type {\n",
              "        vertical-align: middle;\n",
              "    }\n",
              "\n",
              "    .dataframe tbody tr th {\n",
              "        vertical-align: top;\n",
              "    }\n",
              "\n",
              "    .dataframe thead th {\n",
              "        text-align: right;\n",
              "    }\n",
              "</style>\n",
              "<table border=\"1\" class=\"dataframe\">\n",
              "  <thead>\n",
              "    <tr style=\"text-align: right;\">\n",
              "      <th></th>\n",
              "      <th>First</th>\n",
              "      <th>Second</th>\n",
              "      <th>Third</th>\n",
              "    </tr>\n",
              "  </thead>\n",
              "  <tbody>\n",
              "    <tr>\n",
              "      <th>a</th>\n",
              "      <td>2</td>\n",
              "      <td>-1</td>\n",
              "      <td>4</td>\n",
              "    </tr>\n",
              "    <tr>\n",
              "      <th>b</th>\n",
              "      <td>2</td>\n",
              "      <td>2</td>\n",
              "      <td>1</td>\n",
              "    </tr>\n",
              "  </tbody>\n",
              "</table>\n",
              "</div>"
            ],
            "text/plain": [
              "   First  Second  Third\n",
              "a      2      -1      4\n",
              "b      2       2      1"
            ]
          },
          "metadata": {
            "tags": []
          },
          "execution_count": 3
        }
      ]
    },
    {
      "cell_type": "markdown",
      "metadata": {
        "id": "NbYs7UtqHT3C"
      },
      "source": [
        "Note that now both the rows and columns can be accessed using the special `Index` object:"
      ]
    },
    {
      "cell_type": "code",
      "metadata": {
        "id": "g_O9BefTHT3E",
        "colab": {
          "base_uri": "https://localhost:8080/",
          "height": 35
        },
        "outputId": "1c27b840-7ab8-429b-badb-6a85145abd87"
      },
      "source": [
        "df.index                            # These are the \"row names\""
      ],
      "execution_count": null,
      "outputs": [
        {
          "output_type": "execute_result",
          "data": {
            "text/plain": [
              "Index(['a', 'b'], dtype='object')"
            ]
          },
          "metadata": {
            "tags": []
          },
          "execution_count": 51
        }
      ]
    },
    {
      "cell_type": "code",
      "metadata": {
        "id": "9ROLLXVnHT3M",
        "colab": {
          "base_uri": "https://localhost:8080/",
          "height": 35
        },
        "outputId": "f32f9fe1-18a8-4e2d-8f5a-90c3559ffe50"
      },
      "source": [
        "df.columns                          # These are the \"column names\""
      ],
      "execution_count": null,
      "outputs": [
        {
          "output_type": "execute_result",
          "data": {
            "text/plain": [
              "Index(['First', 'Second', 'Third'], dtype='object')"
            ]
          },
          "metadata": {
            "tags": []
          },
          "execution_count": 52
        }
      ]
    },
    {
      "cell_type": "markdown",
      "metadata": {
        "id": "Rey9MOjXHT3T"
      },
      "source": [
        "If either `columns` or `index` argument is left out, then an implicit integer index will be used:"
      ]
    },
    {
      "cell_type": "code",
      "metadata": {
        "id": "FHXvY8_dHT3V",
        "colab": {
          "base_uri": "https://localhost:8080/",
          "height": 112
        },
        "outputId": "c788e665-c198-495b-db17-40d5f32fea0f"
      },
      "source": [
        "df2=pd.DataFrame(np.random.randn(2,3), index=[\"a\", \"b\"])\n",
        "df2"
      ],
      "execution_count": null,
      "outputs": [
        {
          "output_type": "execute_result",
          "data": {
            "text/html": [
              "<div>\n",
              "<style scoped>\n",
              "    .dataframe tbody tr th:only-of-type {\n",
              "        vertical-align: middle;\n",
              "    }\n",
              "\n",
              "    .dataframe tbody tr th {\n",
              "        vertical-align: top;\n",
              "    }\n",
              "\n",
              "    .dataframe thead th {\n",
              "        text-align: right;\n",
              "    }\n",
              "</style>\n",
              "<table border=\"1\" class=\"dataframe\">\n",
              "  <thead>\n",
              "    <tr style=\"text-align: right;\">\n",
              "      <th></th>\n",
              "      <th>0</th>\n",
              "      <th>1</th>\n",
              "      <th>2</th>\n",
              "    </tr>\n",
              "  </thead>\n",
              "  <tbody>\n",
              "    <tr>\n",
              "      <th>a</th>\n",
              "      <td>0.749413</td>\n",
              "      <td>-0.501489</td>\n",
              "      <td>-2.067290</td>\n",
              "    </tr>\n",
              "    <tr>\n",
              "      <th>b</th>\n",
              "      <td>-0.507474</td>\n",
              "      <td>0.447012</td>\n",
              "      <td>-1.442829</td>\n",
              "    </tr>\n",
              "  </tbody>\n",
              "</table>\n",
              "</div>"
            ],
            "text/plain": [
              "          0         1         2\n",
              "a  0.749413 -0.501489 -2.067290\n",
              "b -0.507474  0.447012 -1.442829"
            ]
          },
          "metadata": {
            "tags": []
          },
          "execution_count": 55
        }
      ]
    },
    {
      "cell_type": "markdown",
      "metadata": {
        "id": "S6k5EJmWHT3a"
      },
      "source": [
        "Now the column index is an object similar to Python's builtin `range` type:"
      ]
    },
    {
      "cell_type": "code",
      "metadata": {
        "id": "vAXmf2LkHT3c",
        "colab": {
          "base_uri": "https://localhost:8080/",
          "height": 35
        },
        "outputId": "314cbd96-8422-499f-a5f7-f8a0481feed8"
      },
      "source": [
        "df2.columns"
      ],
      "execution_count": null,
      "outputs": [
        {
          "output_type": "execute_result",
          "data": {
            "text/plain": [
              "RangeIndex(start=0, stop=3, step=1)"
            ]
          },
          "metadata": {
            "tags": []
          },
          "execution_count": 56
        }
      ]
    },
    {
      "cell_type": "markdown",
      "metadata": {
        "id": "AV0pvJC9HT3j"
      },
      "source": [
        "### Creating DataFrames from columns\n",
        "\n",
        "A column can be specified as a list, an NumPy array, or a Pandas' Series. The names of the columns can be given either with the `columns` parameter, or if Series objects are used, then the `name` attribute of each Series is used as the column name."
      ]
    },
    {
      "cell_type": "code",
      "metadata": {
        "id": "wHzA_eBNHT3l",
        "colab": {
          "base_uri": "https://localhost:8080/",
          "height": 90
        },
        "outputId": "2c6b0b52-042f-4848-fc06-8ca16abdbd19"
      },
      "source": [
        "s1 = pd.Series([1,2,3])\n",
        "s1"
      ],
      "execution_count": null,
      "outputs": [
        {
          "output_type": "execute_result",
          "data": {
            "text/plain": [
              "0    1\n",
              "1    2\n",
              "2    3\n",
              "dtype: int64"
            ]
          },
          "metadata": {
            "tags": []
          },
          "execution_count": 22
        }
      ]
    },
    {
      "cell_type": "code",
      "metadata": {
        "id": "hfPw5czqHT3q",
        "colab": {
          "base_uri": "https://localhost:8080/",
          "height": 90
        },
        "outputId": "83d28856-e62c-4253-fd43-2df017cb407d"
      },
      "source": [
        "s2 = pd.Series([4,5,6], name=\"b\")\n",
        "s2"
      ],
      "execution_count": null,
      "outputs": [
        {
          "output_type": "execute_result",
          "data": {
            "text/plain": [
              "0    4\n",
              "1    5\n",
              "2    6\n",
              "Name: b, dtype: int64"
            ]
          },
          "metadata": {
            "tags": []
          },
          "execution_count": 23
        }
      ]
    },
    {
      "cell_type": "markdown",
      "metadata": {
        "id": "XLK8CtwVHT3y"
      },
      "source": [
        "Give the column name explicitly:"
      ]
    },
    {
      "cell_type": "code",
      "metadata": {
        "id": "4rSEcqKAHT31",
        "colab": {
          "base_uri": "https://localhost:8080/",
          "height": 143
        },
        "outputId": "05ca5f33-1e58-4112-b03e-14649df9c253"
      },
      "source": [
        "pd.DataFrame(s1, columns=[\"a\"])"
      ],
      "execution_count": null,
      "outputs": [
        {
          "output_type": "execute_result",
          "data": {
            "text/html": [
              "<div>\n",
              "<style scoped>\n",
              "    .dataframe tbody tr th:only-of-type {\n",
              "        vertical-align: middle;\n",
              "    }\n",
              "\n",
              "    .dataframe tbody tr th {\n",
              "        vertical-align: top;\n",
              "    }\n",
              "\n",
              "    .dataframe thead th {\n",
              "        text-align: right;\n",
              "    }\n",
              "</style>\n",
              "<table border=\"1\" class=\"dataframe\">\n",
              "  <thead>\n",
              "    <tr style=\"text-align: right;\">\n",
              "      <th></th>\n",
              "      <th>a</th>\n",
              "    </tr>\n",
              "  </thead>\n",
              "  <tbody>\n",
              "    <tr>\n",
              "      <th>0</th>\n",
              "      <td>1</td>\n",
              "    </tr>\n",
              "    <tr>\n",
              "      <th>1</th>\n",
              "      <td>2</td>\n",
              "    </tr>\n",
              "    <tr>\n",
              "      <th>2</th>\n",
              "      <td>3</td>\n",
              "    </tr>\n",
              "  </tbody>\n",
              "</table>\n",
              "</div>"
            ],
            "text/plain": [
              "   a\n",
              "0  1\n",
              "1  2\n",
              "2  3"
            ]
          },
          "metadata": {
            "tags": []
          },
          "execution_count": 63
        }
      ]
    },
    {
      "cell_type": "markdown",
      "metadata": {
        "id": "h_k9-u2jHT36"
      },
      "source": [
        "Use the `name` attribute of Series s2 as the column name:"
      ]
    },
    {
      "cell_type": "code",
      "metadata": {
        "id": "Ec8YCfgeHT38",
        "colab": {
          "base_uri": "https://localhost:8080/",
          "height": 143
        },
        "outputId": "9294540a-e7fe-4c4d-f3cf-6b9bee2ffbec"
      },
      "source": [
        "pd.DataFrame(s2)"
      ],
      "execution_count": null,
      "outputs": [
        {
          "output_type": "execute_result",
          "data": {
            "text/html": [
              "<div>\n",
              "<style scoped>\n",
              "    .dataframe tbody tr th:only-of-type {\n",
              "        vertical-align: middle;\n",
              "    }\n",
              "\n",
              "    .dataframe tbody tr th {\n",
              "        vertical-align: top;\n",
              "    }\n",
              "\n",
              "    .dataframe thead th {\n",
              "        text-align: right;\n",
              "    }\n",
              "</style>\n",
              "<table border=\"1\" class=\"dataframe\">\n",
              "  <thead>\n",
              "    <tr style=\"text-align: right;\">\n",
              "      <th></th>\n",
              "      <th>b</th>\n",
              "    </tr>\n",
              "  </thead>\n",
              "  <tbody>\n",
              "    <tr>\n",
              "      <th>0</th>\n",
              "      <td>4</td>\n",
              "    </tr>\n",
              "    <tr>\n",
              "      <th>1</th>\n",
              "      <td>5</td>\n",
              "    </tr>\n",
              "    <tr>\n",
              "      <th>2</th>\n",
              "      <td>6</td>\n",
              "    </tr>\n",
              "  </tbody>\n",
              "</table>\n",
              "</div>"
            ],
            "text/plain": [
              "   b\n",
              "0  4\n",
              "1  5\n",
              "2  6"
            ]
          },
          "metadata": {
            "tags": []
          },
          "execution_count": 64
        }
      ]
    },
    {
      "cell_type": "markdown",
      "metadata": {
        "id": "fE76K6zaHT3_"
      },
      "source": [
        "If using multiple columns, then they must be given as the dictionary, whose keys give the column names and values are the actual column content."
      ]
    },
    {
      "cell_type": "code",
      "metadata": {
        "id": "OuHS5CX5HT4B",
        "colab": {
          "base_uri": "https://localhost:8080/",
          "height": 143
        },
        "outputId": "0c9577b7-30a7-45f4-e780-9fb1fd4181fa"
      },
      "source": [
        "pd.DataFrame({\"a\": s1, \"b\": s2})"
      ],
      "execution_count": null,
      "outputs": [
        {
          "output_type": "execute_result",
          "data": {
            "text/html": [
              "<div>\n",
              "<style scoped>\n",
              "    .dataframe tbody tr th:only-of-type {\n",
              "        vertical-align: middle;\n",
              "    }\n",
              "\n",
              "    .dataframe tbody tr th {\n",
              "        vertical-align: top;\n",
              "    }\n",
              "\n",
              "    .dataframe thead th {\n",
              "        text-align: right;\n",
              "    }\n",
              "</style>\n",
              "<table border=\"1\" class=\"dataframe\">\n",
              "  <thead>\n",
              "    <tr style=\"text-align: right;\">\n",
              "      <th></th>\n",
              "      <th>a</th>\n",
              "      <th>b</th>\n",
              "    </tr>\n",
              "  </thead>\n",
              "  <tbody>\n",
              "    <tr>\n",
              "      <th>0</th>\n",
              "      <td>1</td>\n",
              "      <td>4</td>\n",
              "    </tr>\n",
              "    <tr>\n",
              "      <th>1</th>\n",
              "      <td>2</td>\n",
              "      <td>5</td>\n",
              "    </tr>\n",
              "    <tr>\n",
              "      <th>2</th>\n",
              "      <td>3</td>\n",
              "      <td>6</td>\n",
              "    </tr>\n",
              "  </tbody>\n",
              "</table>\n",
              "</div>"
            ],
            "text/plain": [
              "   a  b\n",
              "0  1  4\n",
              "1  2  5\n",
              "2  3  6"
            ]
          },
          "metadata": {
            "tags": []
          },
          "execution_count": 24
        }
      ]
    },
    {
      "cell_type": "markdown",
      "metadata": {
        "id": "SV6CCg2IHT4K"
      },
      "source": [
        "### Creating DataFrames from rows"
      ]
    },
    {
      "cell_type": "markdown",
      "metadata": {
        "id": "o_g66EpEHT4L"
      },
      "source": [
        "We can give a list of rows as a parameter to the DataFrame constructor. Each row is given as a dict, list, Series, or NumPy array. If we want to give names for the columns, then either the rows must be dictionaries, where the key is the column name and the values are the elements of the DataFrame on that row and column, or else the column names must be given explicitly. An example of this:"
      ]
    },
    {
      "cell_type": "code",
      "metadata": {
        "id": "YP-X3bqBHT4N",
        "colab": {
          "base_uri": "https://localhost:8080/",
          "height": 112
        },
        "outputId": "a3f1feff-b9aa-49fa-ffb0-691c7eacf4fb"
      },
      "source": [
        "df=pd.DataFrame([{\"Wage\" : 1000, \"Name\" : \"Jack\", \"Age\" : 21}, {\"Wage\" : 1500, \"Name\" : \"John\", \"Age\" : 29}])\n",
        "df"
      ],
      "execution_count": null,
      "outputs": [
        {
          "output_type": "execute_result",
          "data": {
            "text/html": [
              "<div>\n",
              "<style scoped>\n",
              "    .dataframe tbody tr th:only-of-type {\n",
              "        vertical-align: middle;\n",
              "    }\n",
              "\n",
              "    .dataframe tbody tr th {\n",
              "        vertical-align: top;\n",
              "    }\n",
              "\n",
              "    .dataframe thead th {\n",
              "        text-align: right;\n",
              "    }\n",
              "</style>\n",
              "<table border=\"1\" class=\"dataframe\">\n",
              "  <thead>\n",
              "    <tr style=\"text-align: right;\">\n",
              "      <th></th>\n",
              "      <th>Wage</th>\n",
              "      <th>Name</th>\n",
              "      <th>Age</th>\n",
              "    </tr>\n",
              "  </thead>\n",
              "  <tbody>\n",
              "    <tr>\n",
              "      <th>0</th>\n",
              "      <td>1000</td>\n",
              "      <td>Jack</td>\n",
              "      <td>21</td>\n",
              "    </tr>\n",
              "    <tr>\n",
              "      <th>1</th>\n",
              "      <td>1500</td>\n",
              "      <td>John</td>\n",
              "      <td>29</td>\n",
              "    </tr>\n",
              "  </tbody>\n",
              "</table>\n",
              "</div>"
            ],
            "text/plain": [
              "   Wage  Name  Age\n",
              "0  1000  Jack   21\n",
              "1  1500  John   29"
            ]
          },
          "metadata": {
            "tags": []
          },
          "execution_count": 25
        }
      ]
    },
    {
      "cell_type": "markdown",
      "metadata": {
        "id": "Y3Ju2COhHT4S"
      },
      "source": [
        "Or:"
      ]
    },
    {
      "cell_type": "code",
      "metadata": {
        "id": "DSI76Vb4HT4S",
        "colab": {
          "base_uri": "https://localhost:8080/",
          "height": 112
        },
        "outputId": "bc4ff4e5-a603-4484-99f3-f2a7a8603cf1"
      },
      "source": [
        "df = pd.DataFrame([[1000, \"Jack\", 21], [1500, \"John\", 29]], columns=[\"Wage\", \"Name\", \"Age\"])\n",
        "df"
      ],
      "execution_count": null,
      "outputs": [
        {
          "output_type": "execute_result",
          "data": {
            "text/html": [
              "<div>\n",
              "<style scoped>\n",
              "    .dataframe tbody tr th:only-of-type {\n",
              "        vertical-align: middle;\n",
              "    }\n",
              "\n",
              "    .dataframe tbody tr th {\n",
              "        vertical-align: top;\n",
              "    }\n",
              "\n",
              "    .dataframe thead th {\n",
              "        text-align: right;\n",
              "    }\n",
              "</style>\n",
              "<table border=\"1\" class=\"dataframe\">\n",
              "  <thead>\n",
              "    <tr style=\"text-align: right;\">\n",
              "      <th></th>\n",
              "      <th>Wage</th>\n",
              "      <th>Name</th>\n",
              "      <th>Age</th>\n",
              "    </tr>\n",
              "  </thead>\n",
              "  <tbody>\n",
              "    <tr>\n",
              "      <th>0</th>\n",
              "      <td>1000</td>\n",
              "      <td>Jack</td>\n",
              "      <td>21</td>\n",
              "    </tr>\n",
              "    <tr>\n",
              "      <th>1</th>\n",
              "      <td>1500</td>\n",
              "      <td>John</td>\n",
              "      <td>29</td>\n",
              "    </tr>\n",
              "  </tbody>\n",
              "</table>\n",
              "</div>"
            ],
            "text/plain": [
              "   Wage  Name  Age\n",
              "0  1000  Jack   21\n",
              "1  1500  John   29"
            ]
          },
          "metadata": {
            "tags": []
          },
          "execution_count": 26
        }
      ]
    },
    {
      "cell_type": "markdown",
      "metadata": {
        "id": "gLbBW_4CHT4b"
      },
      "source": [
        "#### <div class=\"alert alert-info\">Exercise 4 (cities)</div>\n",
        "\n",
        "Write function `cities` that returns the following DataFrame of top  cities by population:\n",
        "\n",
        "```\n",
        "                 Population Total area\n",
        "Helsinki         643272     715.48\n",
        "Espoo            279044     528.03\n",
        "Tampere          231853     689.59\n",
        "Vantaa           223027     240.35\n",
        "Oulu             201810     3817.52\n",
        "```\n",
        "\n",
        "<hr/>"
      ]
    },
    {
      "cell_type": "code",
      "metadata": {
        "id": "lJeY8yHXMijG",
        "colab": {
          "base_uri": "https://localhost:8080/",
          "height": 206
        },
        "outputId": "aa396623-1efb-4631-a791-bfdd83c1bb59"
      },
      "source": [
        "df1= pd.DataFrame([{'Population':643272,'Total area':715.48},{'Population':279044,'Total area':528.03},{'Population':231853 ,'Total area':689.59},{'Population':223027,'Total area':240.35},{'Population':201810,'Total area':3817.52}],index=['Helsinki','Espoo','Tampere','Vantaa','Oulu'])\n",
        "df1"
      ],
      "execution_count": null,
      "outputs": [
        {
          "output_type": "execute_result",
          "data": {
            "text/html": [
              "<div>\n",
              "<style scoped>\n",
              "    .dataframe tbody tr th:only-of-type {\n",
              "        vertical-align: middle;\n",
              "    }\n",
              "\n",
              "    .dataframe tbody tr th {\n",
              "        vertical-align: top;\n",
              "    }\n",
              "\n",
              "    .dataframe thead th {\n",
              "        text-align: right;\n",
              "    }\n",
              "</style>\n",
              "<table border=\"1\" class=\"dataframe\">\n",
              "  <thead>\n",
              "    <tr style=\"text-align: right;\">\n",
              "      <th></th>\n",
              "      <th>Population</th>\n",
              "      <th>Total area</th>\n",
              "    </tr>\n",
              "  </thead>\n",
              "  <tbody>\n",
              "    <tr>\n",
              "      <th>Helsinki</th>\n",
              "      <td>643272</td>\n",
              "      <td>715.48</td>\n",
              "    </tr>\n",
              "    <tr>\n",
              "      <th>Espoo</th>\n",
              "      <td>279044</td>\n",
              "      <td>528.03</td>\n",
              "    </tr>\n",
              "    <tr>\n",
              "      <th>Tampere</th>\n",
              "      <td>231853</td>\n",
              "      <td>689.59</td>\n",
              "    </tr>\n",
              "    <tr>\n",
              "      <th>Vantaa</th>\n",
              "      <td>223027</td>\n",
              "      <td>240.35</td>\n",
              "    </tr>\n",
              "    <tr>\n",
              "      <th>Oulu</th>\n",
              "      <td>201810</td>\n",
              "      <td>3817.52</td>\n",
              "    </tr>\n",
              "  </tbody>\n",
              "</table>\n",
              "</div>"
            ],
            "text/plain": [
              "          Population  Total area\n",
              "Helsinki      643272      715.48\n",
              "Espoo         279044      528.03\n",
              "Tampere       231853      689.59\n",
              "Vantaa        223027      240.35\n",
              "Oulu          201810     3817.52"
            ]
          },
          "metadata": {
            "tags": []
          },
          "execution_count": 19
        }
      ]
    },
    {
      "cell_type": "markdown",
      "metadata": {
        "id": "EeTVJT8LHT4c"
      },
      "source": [
        "#### <div class=\"alert alert-info\">Exercise 5 (powers of series)</div>\n",
        "\n",
        "Make function `powers_of_series` that takes a Series and a positive integer `k` as parameters and returns a DataFrame. The resulting DataFrame should have the same index as the input Series. The first column of the dataFrame should be the input Series, the second column should contain the Series raised to power of two. The third column should contain the Series raised to the power of three, and so on until (and including) power of `k`. The columns should have indices from 1 to k.\n",
        "\n",
        "The values should be numbers, but the index can have any type.\n",
        ". Example of usage:\n",
        "\n",
        "```\n",
        "s = pd.Series([1,2,3,4], index=list(\"abcd\"))\n",
        "print(powers_of_series(s, 3))\n",
        "```\n",
        "Should print:\n",
        "```\n",
        "   1   2   3\n",
        "a  1   1   1\n",
        "b  2   4   8\n",
        "c  3   9  27\n",
        "d  4  16  64\n",
        "```\n",
        "\n",
        "\n",
        "<hr/>"
      ]
    },
    {
      "cell_type": "code",
      "metadata": {
        "id": "9NWGgNdq68xS",
        "colab": {
          "base_uri": "https://localhost:8080/",
          "height": 109
        },
        "outputId": "c9f54275-4426-4df9-c792-ff44ba628910"
      },
      "source": [
        "def powers_of_series(x,y):\n",
        "  df1=pd.DataFrame(s,columns=[1])\n",
        "  for i in range(y):    \n",
        "    df1[i+1]=df1[1]**(i+1)\n",
        "  return df1\n",
        "\n",
        "\n",
        "s = pd.Series([1,2,3,4], index=list(\"abcd\"))\n",
        "print(powers_of_series(s, 3))"
      ],
      "execution_count": null,
      "outputs": [
        {
          "output_type": "stream",
          "text": [
            "   1   2   3\n",
            "a  1   1   1\n",
            "b  2   4   8\n",
            "c  3   9  27\n",
            "d  4  16  64\n"
          ],
          "name": "stdout"
        }
      ]
    },
    {
      "cell_type": "markdown",
      "metadata": {
        "id": "qL2289ZSHT4g"
      },
      "source": [
        "## Accessing columns and rows of a dataframe\n",
        "\n",
        "Even though DataFrames are basically just two dimensional arrays, the way to access their elements is different from NumPy arrays. There are a couple of complications, which we will go through in this section.\n",
        "\n",
        "Firstly, the bracket notation `[]` does not allow the use of an index pair to access a single element of the DataFrame. Instead only one dimension can be specified.\n",
        "\n",
        "Well, does this dimension specify the rows of the DataFrame, like NumPy arrays if only one index is given, or does it specify the columns of the DataFrame?\n",
        "\n",
        "It depends!\n",
        "\n",
        "If an integer is used, then it specifies a column of the DataFrame in the case the **explicit** indices for the column contain that integer. In any other case an error will result. For example, with the above DataFrame, the following indexing will not work, because the explicit column index consist of the column names \"Name\" and \"Wage\" which are not integers."
      ]
    },
    {
      "cell_type": "code",
      "metadata": {
        "id": "3gq69rH6HT4h",
        "colab": {
          "base_uri": "https://localhost:8080/",
          "height": 747
        },
        "outputId": "a9cd1647-e35b-424d-eb6e-956151eef40d"
      },
      "source": [
        "df[0]\n"
      ],
      "execution_count": null,
      "outputs": [
        {
          "output_type": "error",
          "ename": "KeyError",
          "evalue": "ignored",
          "traceback": [
            "\u001b[0;31m---------------------------------------------------------------------------\u001b[0m",
            "\u001b[0;31mKeyError\u001b[0m                                  Traceback (most recent call last)",
            "\u001b[0;32m/usr/local/lib/python3.6/dist-packages/pandas/core/indexes/base.py\u001b[0m in \u001b[0;36mget_loc\u001b[0;34m(self, key, method, tolerance)\u001b[0m\n\u001b[1;32m   2896\u001b[0m             \u001b[0;32mtry\u001b[0m\u001b[0;34m:\u001b[0m\u001b[0;34m\u001b[0m\u001b[0;34m\u001b[0m\u001b[0m\n\u001b[0;32m-> 2897\u001b[0;31m                 \u001b[0;32mreturn\u001b[0m \u001b[0mself\u001b[0m\u001b[0;34m.\u001b[0m\u001b[0m_engine\u001b[0m\u001b[0;34m.\u001b[0m\u001b[0mget_loc\u001b[0m\u001b[0;34m(\u001b[0m\u001b[0mkey\u001b[0m\u001b[0;34m)\u001b[0m\u001b[0;34m\u001b[0m\u001b[0;34m\u001b[0m\u001b[0m\n\u001b[0m\u001b[1;32m   2898\u001b[0m             \u001b[0;32mexcept\u001b[0m \u001b[0mKeyError\u001b[0m\u001b[0;34m:\u001b[0m\u001b[0;34m\u001b[0m\u001b[0;34m\u001b[0m\u001b[0m\n",
            "\u001b[0;32mpandas/_libs/index.pyx\u001b[0m in \u001b[0;36mpandas._libs.index.IndexEngine.get_loc\u001b[0;34m()\u001b[0m\n",
            "\u001b[0;32mpandas/_libs/index.pyx\u001b[0m in \u001b[0;36mpandas._libs.index.IndexEngine.get_loc\u001b[0;34m()\u001b[0m\n",
            "\u001b[0;32mpandas/_libs/hashtable_class_helper.pxi\u001b[0m in \u001b[0;36mpandas._libs.hashtable.PyObjectHashTable.get_item\u001b[0;34m()\u001b[0m\n",
            "\u001b[0;32mpandas/_libs/hashtable_class_helper.pxi\u001b[0m in \u001b[0;36mpandas._libs.hashtable.PyObjectHashTable.get_item\u001b[0;34m()\u001b[0m\n",
            "\u001b[0;31mKeyError\u001b[0m: 0",
            "\nDuring handling of the above exception, another exception occurred:\n",
            "\u001b[0;31mKeyError\u001b[0m                                  Traceback (most recent call last)",
            "\u001b[0;32m<ipython-input-77-ad11118bc8f3>\u001b[0m in \u001b[0;36m<module>\u001b[0;34m()\u001b[0m\n\u001b[0;32m----> 1\u001b[0;31m \u001b[0mdf\u001b[0m\u001b[0;34m[\u001b[0m\u001b[0;36m0\u001b[0m\u001b[0;34m]\u001b[0m\u001b[0;34m\u001b[0m\u001b[0;34m\u001b[0m\u001b[0m\n\u001b[0m",
            "\u001b[0;32m/usr/local/lib/python3.6/dist-packages/pandas/core/frame.py\u001b[0m in \u001b[0;36m__getitem__\u001b[0;34m(self, key)\u001b[0m\n\u001b[1;32m   2993\u001b[0m             \u001b[0;32mif\u001b[0m \u001b[0mself\u001b[0m\u001b[0;34m.\u001b[0m\u001b[0mcolumns\u001b[0m\u001b[0;34m.\u001b[0m\u001b[0mnlevels\u001b[0m \u001b[0;34m>\u001b[0m \u001b[0;36m1\u001b[0m\u001b[0;34m:\u001b[0m\u001b[0;34m\u001b[0m\u001b[0;34m\u001b[0m\u001b[0m\n\u001b[1;32m   2994\u001b[0m                 \u001b[0;32mreturn\u001b[0m \u001b[0mself\u001b[0m\u001b[0;34m.\u001b[0m\u001b[0m_getitem_multilevel\u001b[0m\u001b[0;34m(\u001b[0m\u001b[0mkey\u001b[0m\u001b[0;34m)\u001b[0m\u001b[0;34m\u001b[0m\u001b[0;34m\u001b[0m\u001b[0m\n\u001b[0;32m-> 2995\u001b[0;31m             \u001b[0mindexer\u001b[0m \u001b[0;34m=\u001b[0m \u001b[0mself\u001b[0m\u001b[0;34m.\u001b[0m\u001b[0mcolumns\u001b[0m\u001b[0;34m.\u001b[0m\u001b[0mget_loc\u001b[0m\u001b[0;34m(\u001b[0m\u001b[0mkey\u001b[0m\u001b[0;34m)\u001b[0m\u001b[0;34m\u001b[0m\u001b[0;34m\u001b[0m\u001b[0m\n\u001b[0m\u001b[1;32m   2996\u001b[0m             \u001b[0;32mif\u001b[0m \u001b[0mis_integer\u001b[0m\u001b[0;34m(\u001b[0m\u001b[0mindexer\u001b[0m\u001b[0;34m)\u001b[0m\u001b[0;34m:\u001b[0m\u001b[0;34m\u001b[0m\u001b[0;34m\u001b[0m\u001b[0m\n\u001b[1;32m   2997\u001b[0m                 \u001b[0mindexer\u001b[0m \u001b[0;34m=\u001b[0m \u001b[0;34m[\u001b[0m\u001b[0mindexer\u001b[0m\u001b[0;34m]\u001b[0m\u001b[0;34m\u001b[0m\u001b[0;34m\u001b[0m\u001b[0m\n",
            "\u001b[0;32m/usr/local/lib/python3.6/dist-packages/pandas/core/indexes/base.py\u001b[0m in \u001b[0;36mget_loc\u001b[0;34m(self, key, method, tolerance)\u001b[0m\n\u001b[1;32m   2897\u001b[0m                 \u001b[0;32mreturn\u001b[0m \u001b[0mself\u001b[0m\u001b[0;34m.\u001b[0m\u001b[0m_engine\u001b[0m\u001b[0;34m.\u001b[0m\u001b[0mget_loc\u001b[0m\u001b[0;34m(\u001b[0m\u001b[0mkey\u001b[0m\u001b[0;34m)\u001b[0m\u001b[0;34m\u001b[0m\u001b[0;34m\u001b[0m\u001b[0m\n\u001b[1;32m   2898\u001b[0m             \u001b[0;32mexcept\u001b[0m \u001b[0mKeyError\u001b[0m\u001b[0;34m:\u001b[0m\u001b[0;34m\u001b[0m\u001b[0;34m\u001b[0m\u001b[0m\n\u001b[0;32m-> 2899\u001b[0;31m                 \u001b[0;32mreturn\u001b[0m \u001b[0mself\u001b[0m\u001b[0;34m.\u001b[0m\u001b[0m_engine\u001b[0m\u001b[0;34m.\u001b[0m\u001b[0mget_loc\u001b[0m\u001b[0;34m(\u001b[0m\u001b[0mself\u001b[0m\u001b[0;34m.\u001b[0m\u001b[0m_maybe_cast_indexer\u001b[0m\u001b[0;34m(\u001b[0m\u001b[0mkey\u001b[0m\u001b[0;34m)\u001b[0m\u001b[0;34m)\u001b[0m\u001b[0;34m\u001b[0m\u001b[0;34m\u001b[0m\u001b[0m\n\u001b[0m\u001b[1;32m   2900\u001b[0m         \u001b[0mindexer\u001b[0m \u001b[0;34m=\u001b[0m \u001b[0mself\u001b[0m\u001b[0;34m.\u001b[0m\u001b[0mget_indexer\u001b[0m\u001b[0;34m(\u001b[0m\u001b[0;34m[\u001b[0m\u001b[0mkey\u001b[0m\u001b[0;34m]\u001b[0m\u001b[0;34m,\u001b[0m \u001b[0mmethod\u001b[0m\u001b[0;34m=\u001b[0m\u001b[0mmethod\u001b[0m\u001b[0;34m,\u001b[0m \u001b[0mtolerance\u001b[0m\u001b[0;34m=\u001b[0m\u001b[0mtolerance\u001b[0m\u001b[0;34m)\u001b[0m\u001b[0;34m\u001b[0m\u001b[0;34m\u001b[0m\u001b[0m\n\u001b[1;32m   2901\u001b[0m         \u001b[0;32mif\u001b[0m \u001b[0mindexer\u001b[0m\u001b[0;34m.\u001b[0m\u001b[0mndim\u001b[0m \u001b[0;34m>\u001b[0m \u001b[0;36m1\u001b[0m \u001b[0;32mor\u001b[0m \u001b[0mindexer\u001b[0m\u001b[0;34m.\u001b[0m\u001b[0msize\u001b[0m \u001b[0;34m>\u001b[0m \u001b[0;36m1\u001b[0m\u001b[0;34m:\u001b[0m\u001b[0;34m\u001b[0m\u001b[0;34m\u001b[0m\u001b[0m\n",
            "\u001b[0;32mpandas/_libs/index.pyx\u001b[0m in \u001b[0;36mpandas._libs.index.IndexEngine.get_loc\u001b[0;34m()\u001b[0m\n",
            "\u001b[0;32mpandas/_libs/index.pyx\u001b[0m in \u001b[0;36mpandas._libs.index.IndexEngine.get_loc\u001b[0;34m()\u001b[0m\n",
            "\u001b[0;32mpandas/_libs/hashtable_class_helper.pxi\u001b[0m in \u001b[0;36mpandas._libs.hashtable.PyObjectHashTable.get_item\u001b[0;34m()\u001b[0m\n",
            "\u001b[0;32mpandas/_libs/hashtable_class_helper.pxi\u001b[0m in \u001b[0;36mpandas._libs.hashtable.PyObjectHashTable.get_item\u001b[0;34m()\u001b[0m\n",
            "\u001b[0;31mKeyError\u001b[0m: 0"
          ]
        }
      ]
    },
    {
      "cell_type": "markdown",
      "metadata": {
        "id": "6zZuGe4_HT4l"
      },
      "source": [
        "The following will however work."
      ]
    },
    {
      "cell_type": "code",
      "metadata": {
        "id": "sMUrZnATHT4n",
        "colab": {
          "base_uri": "https://localhost:8080/",
          "height": 72
        },
        "outputId": "b7ad9867-edae-4e76-9248-c699145ad68e"
      },
      "source": [
        "df[\"Wage\"]"
      ],
      "execution_count": null,
      "outputs": [
        {
          "output_type": "execute_result",
          "data": {
            "text/plain": [
              "0    1000\n",
              "1    1500\n",
              "Name: Wage, dtype: int64"
            ]
          },
          "metadata": {
            "tags": []
          },
          "execution_count": 78
        }
      ]
    },
    {
      "cell_type": "markdown",
      "metadata": {
        "id": "zlBmicmcHT4s"
      },
      "source": [
        "As does the fancy indexing:"
      ]
    },
    {
      "cell_type": "code",
      "metadata": {
        "id": "ZcVZJH2sHT4t",
        "colab": {
          "base_uri": "https://localhost:8080/",
          "height": 112
        },
        "outputId": "f6823fd4-d5f8-4a45-a4dd-35fd93d5368a"
      },
      "source": [
        "df[[\"Wage\", \"Name\"]]"
      ],
      "execution_count": null,
      "outputs": [
        {
          "output_type": "execute_result",
          "data": {
            "text/html": [
              "<div>\n",
              "<style scoped>\n",
              "    .dataframe tbody tr th:only-of-type {\n",
              "        vertical-align: middle;\n",
              "    }\n",
              "\n",
              "    .dataframe tbody tr th {\n",
              "        vertical-align: top;\n",
              "    }\n",
              "\n",
              "    .dataframe thead th {\n",
              "        text-align: right;\n",
              "    }\n",
              "</style>\n",
              "<table border=\"1\" class=\"dataframe\">\n",
              "  <thead>\n",
              "    <tr style=\"text-align: right;\">\n",
              "      <th></th>\n",
              "      <th>Wage</th>\n",
              "      <th>Name</th>\n",
              "    </tr>\n",
              "  </thead>\n",
              "  <tbody>\n",
              "    <tr>\n",
              "      <th>0</th>\n",
              "      <td>1000</td>\n",
              "      <td>Jack</td>\n",
              "    </tr>\n",
              "    <tr>\n",
              "      <th>1</th>\n",
              "      <td>1500</td>\n",
              "      <td>John</td>\n",
              "    </tr>\n",
              "  </tbody>\n",
              "</table>\n",
              "</div>"
            ],
            "text/plain": [
              "   Wage  Name\n",
              "0  1000  Jack\n",
              "1  1500  John"
            ]
          },
          "metadata": {
            "tags": []
          },
          "execution_count": 79
        }
      ]
    },
    {
      "cell_type": "markdown",
      "metadata": {
        "id": "eWFqBQYtHT4x"
      },
      "source": [
        "If one indexes with a slice or a boolean mask, then the **rows** are referred to. Examples of these:"
      ]
    },
    {
      "cell_type": "code",
      "metadata": {
        "id": "g2oju8_XHT4y",
        "colab": {
          "base_uri": "https://localhost:8080/",
          "height": 81
        },
        "outputId": "813951b7-b21c-47de-c4e0-3a670962efae"
      },
      "source": [
        "df[0:1]                           # slice"
      ],
      "execution_count": null,
      "outputs": [
        {
          "output_type": "execute_result",
          "data": {
            "text/html": [
              "<div>\n",
              "<style scoped>\n",
              "    .dataframe tbody tr th:only-of-type {\n",
              "        vertical-align: middle;\n",
              "    }\n",
              "\n",
              "    .dataframe tbody tr th {\n",
              "        vertical-align: top;\n",
              "    }\n",
              "\n",
              "    .dataframe thead th {\n",
              "        text-align: right;\n",
              "    }\n",
              "</style>\n",
              "<table border=\"1\" class=\"dataframe\">\n",
              "  <thead>\n",
              "    <tr style=\"text-align: right;\">\n",
              "      <th></th>\n",
              "      <th>Wage</th>\n",
              "      <th>Name</th>\n",
              "      <th>Age</th>\n",
              "    </tr>\n",
              "  </thead>\n",
              "  <tbody>\n",
              "    <tr>\n",
              "      <th>0</th>\n",
              "      <td>1000</td>\n",
              "      <td>Jack</td>\n",
              "      <td>21</td>\n",
              "    </tr>\n",
              "  </tbody>\n",
              "</table>\n",
              "</div>"
            ],
            "text/plain": [
              "   Wage  Name  Age\n",
              "0  1000  Jack   21"
            ]
          },
          "metadata": {
            "tags": []
          },
          "execution_count": 95
        }
      ]
    },
    {
      "cell_type": "code",
      "metadata": {
        "id": "h4uyATteHT42",
        "colab": {
          "base_uri": "https://localhost:8080/",
          "height": 81
        },
        "outputId": "55d61873-4203-47f2-a3a3-9efa9b5ebfd4"
      },
      "source": [
        "df[df.Wage > 1200]               # boolean mask"
      ],
      "execution_count": null,
      "outputs": [
        {
          "output_type": "execute_result",
          "data": {
            "text/html": [
              "<div>\n",
              "<style scoped>\n",
              "    .dataframe tbody tr th:only-of-type {\n",
              "        vertical-align: middle;\n",
              "    }\n",
              "\n",
              "    .dataframe tbody tr th {\n",
              "        vertical-align: top;\n",
              "    }\n",
              "\n",
              "    .dataframe thead th {\n",
              "        text-align: right;\n",
              "    }\n",
              "</style>\n",
              "<table border=\"1\" class=\"dataframe\">\n",
              "  <thead>\n",
              "    <tr style=\"text-align: right;\">\n",
              "      <th></th>\n",
              "      <th>Wage</th>\n",
              "      <th>Name</th>\n",
              "      <th>Age</th>\n",
              "    </tr>\n",
              "  </thead>\n",
              "  <tbody>\n",
              "    <tr>\n",
              "      <th>1</th>\n",
              "      <td>1500</td>\n",
              "      <td>John</td>\n",
              "      <td>29</td>\n",
              "    </tr>\n",
              "  </tbody>\n",
              "</table>\n",
              "</div>"
            ],
            "text/plain": [
              "   Wage  Name  Age\n",
              "1  1500  John   29"
            ]
          },
          "metadata": {
            "tags": []
          },
          "execution_count": 96
        }
      ]
    },
    {
      "cell_type": "markdown",
      "metadata": {
        "id": "_yD7ZLtpHT45"
      },
      "source": [
        "If some of the above calls return a Series object, then you can chain the bracket calls to get a single value from the DataFrame:"
      ]
    },
    {
      "cell_type": "code",
      "metadata": {
        "id": "6gMlnfcbHT45",
        "colab": {
          "base_uri": "https://localhost:8080/",
          "height": 35
        },
        "outputId": "75f47f00-c459-46c8-f2b0-7e7ca2a2012a"
      },
      "source": [
        "df[\"Wage\"][1]                    # Note order of dimensions"
      ],
      "execution_count": null,
      "outputs": [
        {
          "output_type": "execute_result",
          "data": {
            "text/plain": [
              "1500"
            ]
          },
          "metadata": {
            "tags": []
          },
          "execution_count": 97
        }
      ]
    },
    {
      "cell_type": "markdown",
      "metadata": {
        "id": "6b03D1rZHT49"
      },
      "source": [
        "But there is a better way to achieve this, which we will see in the next section."
      ]
    },
    {
      "cell_type": "markdown",
      "metadata": {
        "id": "ghBHte7yHT49"
      },
      "source": [
        "#### <div class=\"alert alert-info\">Exercise 6 (municipalities )</div>\n",
        "\n",
        "Load the municipal information DataFrame(https://raw.githubusercontent.com/smabb/p/master/data/muni.csv), Use the function pd.read_csv. The rows of the DataFrame correspond to various geographical areas of Finland. The first row is about Finland as a whole, then rows from Akaa to Äänekoski are municipalities of Finland in alphabetical order. After that some larger regions are listed.\n",
        "\n",
        "Write function `municipalities` that returns a DataFrame containing only rows about municipalities.\n",
        "Give an appropriate argument for `pd.read_csv` so that it interprets the column about region name as the (row) index. This way you can index the DataFrame with the names of the regions.\n",
        "\n",
        "\n",
        "<hr/>"
      ]
    },
    {
      "cell_type": "code",
      "metadata": {
        "id": "0yTafWUdQwEK",
        "colab": {
          "base_uri": "https://localhost:8080/",
          "height": 631
        },
        "outputId": "a669fd39-50bb-4104-fe7e-e07241eb4101"
      },
      "source": [
        "def municipalities():\n",
        "    df = pd.read_csv(\"https://raw.githubusercontent.com/smabb/p/master/data/muni.csv\",  index_col=0)\n",
        "    return df[1:312]\n",
        "\n",
        "\n",
        "municipalities()"
      ],
      "execution_count": null,
      "outputs": [
        {
          "output_type": "execute_result",
          "data": {
            "text/html": [
              "<div>\n",
              "<style scoped>\n",
              "    .dataframe tbody tr th:only-of-type {\n",
              "        vertical-align: middle;\n",
              "    }\n",
              "\n",
              "    .dataframe tbody tr th {\n",
              "        vertical-align: top;\n",
              "    }\n",
              "\n",
              "    .dataframe thead th {\n",
              "        text-align: right;\n",
              "    }\n",
              "</style>\n",
              "<table border=\"1\" class=\"dataframe\">\n",
              "  <thead>\n",
              "    <tr style=\"text-align: right;\">\n",
              "      <th></th>\n",
              "      <th>Degree of urbanisation, %</th>\n",
              "      <th>Population</th>\n",
              "      <th>Population change from the previous year, %</th>\n",
              "      <th>Share of persons aged under 15 of the population, %</th>\n",
              "      <th>Share of persons aged 15 to 64 of the population, %</th>\n",
              "      <th>Share of persons aged over 64 of the population, %</th>\n",
              "      <th>Share of Swedish-speakers of the population, %</th>\n",
              "      <th>Share of foreign citizens of the population, %</th>\n",
              "      <th>Excess of births, persons</th>\n",
              "      <th>Intermunicipal migration gain/loss, persons</th>\n",
              "      <th>Number of families</th>\n",
              "      <th>Number of household-dwelling units</th>\n",
              "      <th>Share of household-dwelling units living in terraced houses and detached houses, %</th>\n",
              "      <th>Share of household-dwelling units living in rental dwellings, %</th>\n",
              "      <th>Share of persons aged 15 or over with at least upper secondary qualifications, %</th>\n",
              "      <th>Share of persons aged 15 or over with tertiary level qualifications, %</th>\n",
              "      <th>Employed labour force resident in the area</th>\n",
              "      <th>Employment rate, %</th>\n",
              "      <th>Share of persons working in their municipality of residence, %</th>\n",
              "      <th>Proportion of the unemployed among the labour force, %</th>\n",
              "      <th>Proportion of pensioners of the population, %</th>\n",
              "      <th>Economic dependency ratio</th>\n",
              "      <th>Number of workplaces in the area</th>\n",
              "      <th>Share of workplaces in primary production, %</th>\n",
              "      <th>Share of workplaces in secondary production, %</th>\n",
              "      <th>Share of workplaces in services, %</th>\n",
              "      <th>Workplace self-sufficiency</th>\n",
              "      <th>Annual contribution margin, EUR per capita</th>\n",
              "      <th>Loan stock, EUR per capita</th>\n",
              "      <th>Group loan stock, EUR per capita</th>\n",
              "      <th>Educational and cultural activities, total, operating net costs, EUR per capita</th>\n",
              "      <th>Social and health care activities, total, operating net costs, EUR per capita</th>\n",
              "    </tr>\n",
              "    <tr>\n",
              "      <th>Region 2019</th>\n",
              "      <th></th>\n",
              "      <th></th>\n",
              "      <th></th>\n",
              "      <th></th>\n",
              "      <th></th>\n",
              "      <th></th>\n",
              "      <th></th>\n",
              "      <th></th>\n",
              "      <th></th>\n",
              "      <th></th>\n",
              "      <th></th>\n",
              "      <th></th>\n",
              "      <th></th>\n",
              "      <th></th>\n",
              "      <th></th>\n",
              "      <th></th>\n",
              "      <th></th>\n",
              "      <th></th>\n",
              "      <th></th>\n",
              "      <th></th>\n",
              "      <th></th>\n",
              "      <th></th>\n",
              "      <th></th>\n",
              "      <th></th>\n",
              "      <th></th>\n",
              "      <th></th>\n",
              "      <th></th>\n",
              "      <th></th>\n",
              "      <th></th>\n",
              "      <th></th>\n",
              "      <th></th>\n",
              "      <th></th>\n",
              "    </tr>\n",
              "  </thead>\n",
              "  <tbody>\n",
              "    <tr>\n",
              "      <th>Akaa</th>\n",
              "      <td>87.5</td>\n",
              "      <td>16611</td>\n",
              "      <td>-0.9</td>\n",
              "      <td>17.7</td>\n",
              "      <td>59.4</td>\n",
              "      <td>22.9</td>\n",
              "      <td>0.2</td>\n",
              "      <td>1.7</td>\n",
              "      <td>-87</td>\n",
              "      <td>-96</td>\n",
              "      <td>4577</td>\n",
              "      <td>7805</td>\n",
              "      <td>72.6</td>\n",
              "      <td>21.3</td>\n",
              "      <td>70.6</td>\n",
              "      <td>25.1</td>\n",
              "      <td>6852</td>\n",
              "      <td>71.9</td>\n",
              "      <td>46.5</td>\n",
              "      <td>9.9</td>\n",
              "      <td>26.9</td>\n",
              "      <td>144.7</td>\n",
              "      <td>4652</td>\n",
              "      <td>3.4</td>\n",
              "      <td>36.8</td>\n",
              "      <td>58.3</td>\n",
              "      <td>67.9</td>\n",
              "      <td>134.1</td>\n",
              "      <td>3256.7</td>\n",
              "      <td>4282.6</td>\n",
              "      <td>1676.3</td>\n",
              "      <td>3309.1</td>\n",
              "    </tr>\n",
              "    <tr>\n",
              "      <th>Alajärvi</th>\n",
              "      <td>61.4</td>\n",
              "      <td>9700</td>\n",
              "      <td>-1.3</td>\n",
              "      <td>17.4</td>\n",
              "      <td>55.4</td>\n",
              "      <td>27.2</td>\n",
              "      <td>0.1</td>\n",
              "      <td>2.1</td>\n",
              "      <td>-49</td>\n",
              "      <td>-104</td>\n",
              "      <td>2646</td>\n",
              "      <td>4115</td>\n",
              "      <td>91.7</td>\n",
              "      <td>16.0</td>\n",
              "      <td>66.0</td>\n",
              "      <td>21.5</td>\n",
              "      <td>3508</td>\n",
              "      <td>67.7</td>\n",
              "      <td>76.3</td>\n",
              "      <td>11.8</td>\n",
              "      <td>32.5</td>\n",
              "      <td>180.2</td>\n",
              "      <td>3484</td>\n",
              "      <td>11.0</td>\n",
              "      <td>27.9</td>\n",
              "      <td>59.3</td>\n",
              "      <td>99.3</td>\n",
              "      <td>274.3</td>\n",
              "      <td>2435.7</td>\n",
              "      <td>4713.5</td>\n",
              "      <td>2271.6</td>\n",
              "      <td>3835.7</td>\n",
              "    </tr>\n",
              "    <tr>\n",
              "      <th>Alavieska</th>\n",
              "      <td>53.0</td>\n",
              "      <td>2573</td>\n",
              "      <td>-1.4</td>\n",
              "      <td>19.4</td>\n",
              "      <td>57.0</td>\n",
              "      <td>23.7</td>\n",
              "      <td>0.2</td>\n",
              "      <td>0.6</td>\n",
              "      <td>-4</td>\n",
              "      <td>-33</td>\n",
              "      <td>658</td>\n",
              "      <td>1109</td>\n",
              "      <td>97.7</td>\n",
              "      <td>19.8</td>\n",
              "      <td>68.0</td>\n",
              "      <td>17.3</td>\n",
              "      <td>1004</td>\n",
              "      <td>71.5</td>\n",
              "      <td>47.3</td>\n",
              "      <td>8.7</td>\n",
              "      <td>28.7</td>\n",
              "      <td>160.0</td>\n",
              "      <td>750</td>\n",
              "      <td>24.7</td>\n",
              "      <td>20.0</td>\n",
              "      <td>53.1</td>\n",
              "      <td>74.7</td>\n",
              "      <td>433.7</td>\n",
              "      <td>3422.9</td>\n",
              "      <td>3590.0</td>\n",
              "      <td>1986.0</td>\n",
              "      <td>3959.2</td>\n",
              "    </tr>\n",
              "    <tr>\n",
              "      <th>Alavus</th>\n",
              "      <td>60.0</td>\n",
              "      <td>11544</td>\n",
              "      <td>-1.4</td>\n",
              "      <td>17.0</td>\n",
              "      <td>56.1</td>\n",
              "      <td>26.9</td>\n",
              "      <td>0.1</td>\n",
              "      <td>1.1</td>\n",
              "      <td>-65</td>\n",
              "      <td>-104</td>\n",
              "      <td>3120</td>\n",
              "      <td>5274</td>\n",
              "      <td>87.2</td>\n",
              "      <td>21.4</td>\n",
              "      <td>66.5</td>\n",
              "      <td>19.4</td>\n",
              "      <td>4354</td>\n",
              "      <td>69.5</td>\n",
              "      <td>77.4</td>\n",
              "      <td>10.1</td>\n",
              "      <td>32.1</td>\n",
              "      <td>169.0</td>\n",
              "      <td>4314</td>\n",
              "      <td>9.1</td>\n",
              "      <td>22.9</td>\n",
              "      <td>66.7</td>\n",
              "      <td>99.1</td>\n",
              "      <td>251.2</td>\n",
              "      <td>3328.0</td>\n",
              "      <td>6158.4</td>\n",
              "      <td>1883.1</td>\n",
              "      <td>4001.3</td>\n",
              "    </tr>\n",
              "    <tr>\n",
              "      <th>Asikkala</th>\n",
              "      <td>64.7</td>\n",
              "      <td>8149</td>\n",
              "      <td>-1.2</td>\n",
              "      <td>14.2</td>\n",
              "      <td>53.6</td>\n",
              "      <td>32.2</td>\n",
              "      <td>0.2</td>\n",
              "      <td>1.7</td>\n",
              "      <td>-70</td>\n",
              "      <td>-35</td>\n",
              "      <td>2298</td>\n",
              "      <td>4032</td>\n",
              "      <td>77.1</td>\n",
              "      <td>18.5</td>\n",
              "      <td>69.0</td>\n",
              "      <td>26.5</td>\n",
              "      <td>2988</td>\n",
              "      <td>69.1</td>\n",
              "      <td>48.2</td>\n",
              "      <td>12.1</td>\n",
              "      <td>36.5</td>\n",
              "      <td>176.0</td>\n",
              "      <td>2254</td>\n",
              "      <td>9.4</td>\n",
              "      <td>29.4</td>\n",
              "      <td>58.7</td>\n",
              "      <td>75.4</td>\n",
              "      <td>362.6</td>\n",
              "      <td>1284.8</td>\n",
              "      <td>2835.7</td>\n",
              "      <td>1626.7</td>\n",
              "      <td>3560.4</td>\n",
              "    </tr>\n",
              "    <tr>\n",
              "      <th>...</th>\n",
              "      <td>...</td>\n",
              "      <td>...</td>\n",
              "      <td>...</td>\n",
              "      <td>...</td>\n",
              "      <td>...</td>\n",
              "      <td>...</td>\n",
              "      <td>...</td>\n",
              "      <td>...</td>\n",
              "      <td>...</td>\n",
              "      <td>...</td>\n",
              "      <td>...</td>\n",
              "      <td>...</td>\n",
              "      <td>...</td>\n",
              "      <td>...</td>\n",
              "      <td>...</td>\n",
              "      <td>...</td>\n",
              "      <td>...</td>\n",
              "      <td>...</td>\n",
              "      <td>...</td>\n",
              "      <td>...</td>\n",
              "      <td>...</td>\n",
              "      <td>...</td>\n",
              "      <td>...</td>\n",
              "      <td>...</td>\n",
              "      <td>...</td>\n",
              "      <td>...</td>\n",
              "      <td>...</td>\n",
              "      <td>...</td>\n",
              "      <td>...</td>\n",
              "      <td>...</td>\n",
              "      <td>...</td>\n",
              "      <td>...</td>\n",
              "    </tr>\n",
              "    <tr>\n",
              "      <th>Ylivieska</th>\n",
              "      <td>86.0</td>\n",
              "      <td>15212</td>\n",
              "      <td>-0.3</td>\n",
              "      <td>21.5</td>\n",
              "      <td>59.3</td>\n",
              "      <td>19.2</td>\n",
              "      <td>0.3</td>\n",
              "      <td>1.1</td>\n",
              "      <td>54</td>\n",
              "      <td>-97</td>\n",
              "      <td>3988</td>\n",
              "      <td>6929</td>\n",
              "      <td>73.1</td>\n",
              "      <td>27.7</td>\n",
              "      <td>74.3</td>\n",
              "      <td>26.7</td>\n",
              "      <td>6107</td>\n",
              "      <td>70.9</td>\n",
              "      <td>70.5</td>\n",
              "      <td>11.2</td>\n",
              "      <td>23.6</td>\n",
              "      <td>149.7</td>\n",
              "      <td>6483</td>\n",
              "      <td>2.5</td>\n",
              "      <td>21.4</td>\n",
              "      <td>75.1</td>\n",
              "      <td>106.2</td>\n",
              "      <td>62.9</td>\n",
              "      <td>5465.8</td>\n",
              "      <td>6149.7</td>\n",
              "      <td>2515.8</td>\n",
              "      <td>3372.3</td>\n",
              "    </tr>\n",
              "    <tr>\n",
              "      <th>Ylöjärvi</th>\n",
              "      <td>88.4</td>\n",
              "      <td>32983</td>\n",
              "      <td>0.3</td>\n",
              "      <td>21.6</td>\n",
              "      <td>60.8</td>\n",
              "      <td>17.6</td>\n",
              "      <td>0.3</td>\n",
              "      <td>1.2</td>\n",
              "      <td>101</td>\n",
              "      <td>18</td>\n",
              "      <td>9375</td>\n",
              "      <td>13790</td>\n",
              "      <td>81.6</td>\n",
              "      <td>15.7</td>\n",
              "      <td>75.9</td>\n",
              "      <td>31.1</td>\n",
              "      <td>14456</td>\n",
              "      <td>76.6</td>\n",
              "      <td>34.2</td>\n",
              "      <td>8.3</td>\n",
              "      <td>20.9</td>\n",
              "      <td>127.4</td>\n",
              "      <td>9316</td>\n",
              "      <td>2.5</td>\n",
              "      <td>28.0</td>\n",
              "      <td>67.6</td>\n",
              "      <td>64.4</td>\n",
              "      <td>373.3</td>\n",
              "      <td>2596.5</td>\n",
              "      <td>3226.7</td>\n",
              "      <td>2136.5</td>\n",
              "      <td>2712.2</td>\n",
              "    </tr>\n",
              "    <tr>\n",
              "      <th>Ypäjä</th>\n",
              "      <td>40.3</td>\n",
              "      <td>2357</td>\n",
              "      <td>-0.6</td>\n",
              "      <td>13.5</td>\n",
              "      <td>58.5</td>\n",
              "      <td>27.9</td>\n",
              "      <td>0.6</td>\n",
              "      <td>1.3</td>\n",
              "      <td>-14</td>\n",
              "      <td>5</td>\n",
              "      <td>648</td>\n",
              "      <td>1152</td>\n",
              "      <td>92.1</td>\n",
              "      <td>16.7</td>\n",
              "      <td>68.8</td>\n",
              "      <td>19.0</td>\n",
              "      <td>968</td>\n",
              "      <td>71.2</td>\n",
              "      <td>42.6</td>\n",
              "      <td>9.6</td>\n",
              "      <td>32.2</td>\n",
              "      <td>145.0</td>\n",
              "      <td>625</td>\n",
              "      <td>19.8</td>\n",
              "      <td>17.4</td>\n",
              "      <td>60.2</td>\n",
              "      <td>64.6</td>\n",
              "      <td>-151.9</td>\n",
              "      <td>941.5</td>\n",
              "      <td>1793.0</td>\n",
              "      <td>1654.6</td>\n",
              "      <td>3284.3</td>\n",
              "    </tr>\n",
              "    <tr>\n",
              "      <th>Ähtäri</th>\n",
              "      <td>62.1</td>\n",
              "      <td>5703</td>\n",
              "      <td>-3.4</td>\n",
              "      <td>14.0</td>\n",
              "      <td>54.9</td>\n",
              "      <td>31.1</td>\n",
              "      <td>0.1</td>\n",
              "      <td>0.9</td>\n",
              "      <td>-79</td>\n",
              "      <td>-130</td>\n",
              "      <td>1595</td>\n",
              "      <td>2805</td>\n",
              "      <td>87.7</td>\n",
              "      <td>20.3</td>\n",
              "      <td>69.4</td>\n",
              "      <td>22.3</td>\n",
              "      <td>2166</td>\n",
              "      <td>68.9</td>\n",
              "      <td>75.1</td>\n",
              "      <td>11.6</td>\n",
              "      <td>35.8</td>\n",
              "      <td>172.7</td>\n",
              "      <td>2122</td>\n",
              "      <td>10.0</td>\n",
              "      <td>24.1</td>\n",
              "      <td>64.5</td>\n",
              "      <td>98.0</td>\n",
              "      <td>437.1</td>\n",
              "      <td>3524.5</td>\n",
              "      <td>9126.6</td>\n",
              "      <td>1528.0</td>\n",
              "      <td>4419.8</td>\n",
              "    </tr>\n",
              "    <tr>\n",
              "      <th>Äänekoski</th>\n",
              "      <td>75.8</td>\n",
              "      <td>18851</td>\n",
              "      <td>-1.5</td>\n",
              "      <td>15.9</td>\n",
              "      <td>57.7</td>\n",
              "      <td>26.3</td>\n",
              "      <td>0.1</td>\n",
              "      <td>1.1</td>\n",
              "      <td>-113</td>\n",
              "      <td>-182</td>\n",
              "      <td>5132</td>\n",
              "      <td>9362</td>\n",
              "      <td>66.1</td>\n",
              "      <td>26.9</td>\n",
              "      <td>68.7</td>\n",
              "      <td>20.6</td>\n",
              "      <td>6839</td>\n",
              "      <td>65.2</td>\n",
              "      <td>73.3</td>\n",
              "      <td>16.5</td>\n",
              "      <td>31.4</td>\n",
              "      <td>179.9</td>\n",
              "      <td>7053</td>\n",
              "      <td>2.4</td>\n",
              "      <td>40.9</td>\n",
              "      <td>55.5</td>\n",
              "      <td>103.1</td>\n",
              "      <td>505.5</td>\n",
              "      <td>3425.4</td>\n",
              "      <td>7978.8</td>\n",
              "      <td>1988.2</td>\n",
              "      <td>3536.3</td>\n",
              "    </tr>\n",
              "  </tbody>\n",
              "</table>\n",
              "<p>311 rows × 32 columns</p>\n",
              "</div>"
            ],
            "text/plain": [
              "             Degree of urbanisation, %  ...  Social and health care activities, total, operating net costs, EUR per capita\n",
              "Region 2019                             ...                                                                               \n",
              "Akaa                              87.5  ...                                             3309.1                            \n",
              "Alajärvi                          61.4  ...                                             3835.7                            \n",
              "Alavieska                         53.0  ...                                             3959.2                            \n",
              "Alavus                            60.0  ...                                             4001.3                            \n",
              "Asikkala                          64.7  ...                                             3560.4                            \n",
              "...                                ...  ...                                                ...                            \n",
              "Ylivieska                         86.0  ...                                             3372.3                            \n",
              "Ylöjärvi                          88.4  ...                                             2712.2                            \n",
              "Ypäjä                             40.3  ...                                             3284.3                            \n",
              "Ähtäri                            62.1  ...                                             4419.8                            \n",
              "Äänekoski                         75.8  ...                                             3536.3                            \n",
              "\n",
              "[311 rows x 32 columns]"
            ]
          },
          "metadata": {
            "tags": []
          },
          "execution_count": 22
        }
      ]
    },
    {
      "cell_type": "markdown",
      "metadata": {
        "id": "POTZggBHHT4-"
      },
      "source": [
        "#### <div class=\"alert alert-info\">Exercise 7 (swedish and foreigners)</div>\n",
        "\n",
        "Write function `swedish_and_foreigners` that\n",
        "\n",
        "* Reads the municipalities data set\n",
        "* Takes the subset about municipalities (like in previous exercise)\n",
        "* Further take a subset of rows that have proportion of Swedish speaking people and proportion of foreigners both above 5 % level\n",
        "* From this data set take only columns about population, the proportions of Swedish speaking people and foreigners, that is three columns.\n",
        "\n",
        "The function should return this final DataFrame.\n",
        "\n",
        "Do you see some kind of correlation between the columns about Swedish speaking and foreign people? Do you see correlation between the columns about the population and the proportion of Swedish speaking people in this subset?\n",
        "\n",
        "<hr/>"
      ]
    },
    {
      "cell_type": "code",
      "metadata": {
        "id": "5Nj0GrMIQwcg"
      },
      "source": [
        "def swedish_and_foreigners():\n",
        "      df = pd.read_csv(\"https://raw.githubusercontent.com/smabb/p/master/data/muni.csv\",  index_col=0)\n",
        "      filtered= df[1:312]\n",
        "      df2=filtered[(filtered['Share of Swedish-speakers of the population, %']>5) & (filtered['Share of foreign citizens of the population, %'] >5 )] \n",
        "      return df2[['Population','Share of Swedish-speakers of the population, %','Share of foreign citizens of the population, %']]\n",
        "\n",
        "swedish_and_foreigners()"
      ],
      "execution_count": null,
      "outputs": []
    },
    {
      "cell_type": "markdown",
      "metadata": {
        "id": "ficuB--7HT5D"
      },
      "source": [
        "#### <div class=\"alert alert-info\">Exercise 8 (growing municipalities)</div>\n",
        "\n",
        "Write function `growing_municipalities` that gets subset of municipalities (a DataFrame) as a parameter and returns the proportion of municipalities with increasing population in that subset.\n",
        "\n",
        "\n",
        "Print the proportion as percentages using 1 decimal precision.\n",
        "\n",
        "Example output:\n",
        "\n",
        "```\n",
        "Proportion of growing municipalities: 12.4%\n",
        "```\n",
        "\n",
        "<hr/>"
      ]
    },
    {
      "cell_type": "code",
      "metadata": {
        "id": "fTspxOnnO4BG",
        "colab": {
          "base_uri": "https://localhost:8080/",
          "height": 54
        },
        "outputId": "66adb901-c569-4810-cc9a-26c5c3441639"
      },
      "source": [
        "def growing_municipalities(df):\n",
        "    all = df.shape[0]\n",
        "    col = df.columns\n",
        "    filtered = df[df['Population change from the previous year, %'] > 0]\n",
        "    part = (len(filtered) / all) \n",
        "    return(part)\n",
        "\n",
        "\n",
        "df = pd.read_csv(\"https://raw.githubusercontent.com/smabb/p/master/data/muni.csv\",  index_col=0)\n",
        "data = df[1:312]\n",
        "percentage = growing_municipalities(data)*100 \n",
        "print(percentage)\n",
        "print(f\"Proportion of growing municipalities: {percentage:.1f}%\")\n",
        "\n"
      ],
      "execution_count": null,
      "outputs": [
        {
          "output_type": "stream",
          "text": [
            "18.971061093247588\n",
            "Proportion of growing municipalities: 19.0%\n"
          ],
          "name": "stdout"
        }
      ]
    },
    {
      "cell_type": "code",
      "metadata": {
        "id": "ftUXtTbVQ-Vt"
      },
      "source": [
        ""
      ],
      "execution_count": null,
      "outputs": []
    },
    {
      "cell_type": "markdown",
      "metadata": {
        "id": "GQOWSGAbHT5F"
      },
      "source": [
        "## Alternative indexing and data selection\n",
        "\n",
        "If the explanation in the previous section sounded confusing or ambiguous, or if you didn't understand a thing, you don't have to worry.\n",
        "\n",
        "There is another way to index Pandas DataFrames, which\n",
        "\n",
        "* allows use of index pairs to access a single element\n",
        "* has the same order of dimensions as NumPy: first index specifies rows, second columns\n",
        "* is not ambiguous about implicit or explicit indices\n",
        "\n",
        "Pandas DataFrames have attributes `loc` and `iloc` that have the above qualities.\n",
        "You can use `loc` and `iloc` attributes and forget everything about the previous section. Or you can use these attributes\n",
        "and sometimes use the methods from the previous section as shortcuts if you understand them well.\n",
        "\n",
        "The difference between `loc` and `iloc` attributes is that the former uses explicit indices and the latter uses the implicit integer indices. Examples of use:"
      ]
    },
    {
      "cell_type": "code",
      "metadata": {
        "id": "hGoSD0NNHT5I"
      },
      "source": [
        "df.loc[1, \"Wage\"]"
      ],
      "execution_count": null,
      "outputs": []
    },
    {
      "cell_type": "code",
      "metadata": {
        "id": "G56OjgWrHT5M"
      },
      "source": [
        "df.iloc[-1,-1]             # Right lower corner of the DataFrame"
      ],
      "execution_count": null,
      "outputs": []
    },
    {
      "cell_type": "code",
      "metadata": {
        "id": "cTj8WbRpHT5Q"
      },
      "source": [
        "df.loc[1, [\"Name\", \"Wage\"]]"
      ],
      "execution_count": null,
      "outputs": []
    },
    {
      "cell_type": "markdown",
      "metadata": {
        "id": "xSciu6p1HT5T"
      },
      "source": [
        "With `iloc` everything works like with NumPy arrays: indexing, slicing, fancy indexing, masking and their combinations. With `loc` it is the same but now the names in the explicit indices are used for specifying rows and columns. Make sure your understand why the above examples work as they do!"
      ]
    },
    {
      "cell_type": "markdown",
      "metadata": {
        "id": "-w_lkna1HT5U"
      },
      "source": [
        "#### <div class=\"alert alert-info\">Exercise 9 (subsetting with loc)</div>\n",
        "\n",
        "Write function `subsetting_with_loc` that in one go takes the subset of municipalities from Akaa to Äänekoski and restricts it to columns: \"Population\", \"Share of Swedish-speakers of the population, %\", and \"Share of foreign citizens of the population, %\".\n",
        "The function should return this content as a DataFrame. Use the attribute `loc`.\n",
        "\n",
        "\n",
        "<hr/>"
      ]
    },
    {
      "cell_type": "code",
      "metadata": {
        "id": "AlvHr9eWLpkX"
      },
      "source": [
        "def subsetting_with_loc():\n",
        "    df = pd.read_csv(\"https://raw.githubusercontent.com/smabb/p/master/data/muni.csv\",  index_col=0)\n",
        "    return df.loc['Akaa':'Äänekoski',['Population','Share of Swedish-speakers of the population, %','Share of foreign citizens of the population, %']]\n",
        "\n",
        "subsetting_with_loc()"
      ],
      "execution_count": null,
      "outputs": []
    },
    {
      "cell_type": "markdown",
      "metadata": {
        "id": "hBXeYWbNHT5V"
      },
      "source": [
        "#### <div class=\"alert alert-info\">Exercise 10 (subsetting by positions)</div>\n",
        "\n",
        "Write function `subsetting_by_positions` that return the 1st 10 elements by index positons from the previous excercise.\n",
        "\n",
        "<hr/>"
      ]
    },
    {
      "cell_type": "code",
      "metadata": {
        "id": "cPoOEiznSXaL",
        "colab": {
          "base_uri": "https://localhost:8080/",
          "height": 394
        },
        "outputId": "c85ef022-be17-433f-b604-58c0df64aebe"
      },
      "source": [
        "def subsetting_by_positions(df):\n",
        "    return df.iloc[:10]\n",
        "\n",
        "subsetting_by_positions(subsetting_with_loc())"
      ],
      "execution_count": null,
      "outputs": [
        {
          "output_type": "execute_result",
          "data": {
            "text/html": [
              "<div>\n",
              "<style scoped>\n",
              "    .dataframe tbody tr th:only-of-type {\n",
              "        vertical-align: middle;\n",
              "    }\n",
              "\n",
              "    .dataframe tbody tr th {\n",
              "        vertical-align: top;\n",
              "    }\n",
              "\n",
              "    .dataframe thead th {\n",
              "        text-align: right;\n",
              "    }\n",
              "</style>\n",
              "<table border=\"1\" class=\"dataframe\">\n",
              "  <thead>\n",
              "    <tr style=\"text-align: right;\">\n",
              "      <th></th>\n",
              "      <th>Population</th>\n",
              "      <th>Share of Swedish-speakers of the population, %</th>\n",
              "      <th>Share of foreign citizens of the population, %</th>\n",
              "    </tr>\n",
              "    <tr>\n",
              "      <th>Region 2019</th>\n",
              "      <th></th>\n",
              "      <th></th>\n",
              "      <th></th>\n",
              "    </tr>\n",
              "  </thead>\n",
              "  <tbody>\n",
              "    <tr>\n",
              "      <th>Akaa</th>\n",
              "      <td>16611</td>\n",
              "      <td>0.2</td>\n",
              "      <td>1.7</td>\n",
              "    </tr>\n",
              "    <tr>\n",
              "      <th>Alajärvi</th>\n",
              "      <td>9700</td>\n",
              "      <td>0.1</td>\n",
              "      <td>2.1</td>\n",
              "    </tr>\n",
              "    <tr>\n",
              "      <th>Alavieska</th>\n",
              "      <td>2573</td>\n",
              "      <td>0.2</td>\n",
              "      <td>0.6</td>\n",
              "    </tr>\n",
              "    <tr>\n",
              "      <th>Alavus</th>\n",
              "      <td>11544</td>\n",
              "      <td>0.1</td>\n",
              "      <td>1.1</td>\n",
              "    </tr>\n",
              "    <tr>\n",
              "      <th>Asikkala</th>\n",
              "      <td>8149</td>\n",
              "      <td>0.2</td>\n",
              "      <td>1.7</td>\n",
              "    </tr>\n",
              "    <tr>\n",
              "      <th>Askola</th>\n",
              "      <td>4958</td>\n",
              "      <td>3.4</td>\n",
              "      <td>1.7</td>\n",
              "    </tr>\n",
              "    <tr>\n",
              "      <th>Aura</th>\n",
              "      <td>3984</td>\n",
              "      <td>0.7</td>\n",
              "      <td>2.4</td>\n",
              "    </tr>\n",
              "    <tr>\n",
              "      <th>Brändö</th>\n",
              "      <td>449</td>\n",
              "      <td>73.3</td>\n",
              "      <td>8.5</td>\n",
              "    </tr>\n",
              "    <tr>\n",
              "      <th>Eckerö</th>\n",
              "      <td>961</td>\n",
              "      <td>88.7</td>\n",
              "      <td>12.9</td>\n",
              "    </tr>\n",
              "    <tr>\n",
              "      <th>Enonkoski</th>\n",
              "      <td>1405</td>\n",
              "      <td>0.1</td>\n",
              "      <td>1.8</td>\n",
              "    </tr>\n",
              "  </tbody>\n",
              "</table>\n",
              "</div>"
            ],
            "text/plain": [
              "             Population  ...  Share of foreign citizens of the population, %\n",
              "Region 2019              ...                                                \n",
              "Akaa              16611  ...                                             1.7\n",
              "Alajärvi           9700  ...                                             2.1\n",
              "Alavieska          2573  ...                                             0.6\n",
              "Alavus            11544  ...                                             1.1\n",
              "Asikkala           8149  ...                                             1.7\n",
              "Askola             4958  ...                                             1.7\n",
              "Aura               3984  ...                                             2.4\n",
              "Brändö              449  ...                                             8.5\n",
              "Eckerö              961  ...                                            12.9\n",
              "Enonkoski          1405  ...                                             1.8\n",
              "\n",
              "[10 rows x 3 columns]"
            ]
          },
          "metadata": {
            "tags": []
          },
          "execution_count": 54
        }
      ]
    },
    {
      "cell_type": "markdown",
      "metadata": {
        "id": "ce9Otb9OHT5W"
      },
      "source": [
        "## Summary statistics\n",
        "\n",
        "The summary statistic methods work in a similar way as their counter parts in NumPy. By default, the aggregation is done over columns."
      ]
    },
    {
      "cell_type": "code",
      "metadata": {
        "id": "0jvx0OF9HT5X"
      },
      "source": [
        "wh = pd.read_csv(\"https://raw.githubusercontent.com/smabb/p/master/data/temp.csv\")"
      ],
      "execution_count": null,
      "outputs": []
    },
    {
      "cell_type": "code",
      "metadata": {
        "id": "TOFMUYlFHT5a"
      },
      "source": [
        "wh2 = wh.drop([\"Year\", \"m\", \"d\"], axis=1)  # taking averages over these is not very interesting\n",
        "wh2.mean()"
      ],
      "execution_count": null,
      "outputs": []
    },
    {
      "cell_type": "markdown",
      "metadata": {
        "id": "stG8bu4wHT5d"
      },
      "source": [
        "The `describe` method of the `DataFrame` object gives different summary statistics for each (numeric) column. The result is a DataFrame. This method gives a good overview of the data, and is typically used in the exploratory data analysis phase."
      ]
    },
    {
      "cell_type": "code",
      "metadata": {
        "id": "bUDa7za6HT5d"
      },
      "source": [
        "wh.describe()"
      ],
      "execution_count": null,
      "outputs": []
    },
    {
      "cell_type": "markdown",
      "metadata": {
        "id": "zu5WshBYHT5h"
      },
      "source": [
        "#### <div class=\"alert alert-info\">Exercise 11 (snow depth)</div>\n",
        "\n",
        "Write function `snow_depth` that reads in the weather Dataset https://raw.githubusercontent.com/smabb/p/master/data/temp.csv\"  and returns the maximum amount of snow in the year 2017.\n",
        "\n",
        "Print the result in the following form\n",
        "```\n",
        "Max snow depth: xx.x\n",
        "```\n",
        "\n",
        "<hr/>"
      ]
    },
    {
      "cell_type": "code",
      "metadata": {
        "id": "IlPHdXeoSzLV",
        "colab": {
          "base_uri": "https://localhost:8080/",
          "height": 35
        },
        "outputId": "fdec46d7-d890-48a8-d6d8-ac2f19caf81a"
      },
      "source": [
        "def snow_depth():\n",
        "    df = pd.read_csv(\"https://raw.githubusercontent.com/smabb/p/master/data/temp.csv\")\n",
        "    return df.describe()['Snow depth (cm)']['max']\n",
        "\n",
        "max_snow_depth = snow_depth()\n",
        "print(f\"Max snow depth: {max_snow_depth}\")\n"
      ],
      "execution_count": null,
      "outputs": [
        {
          "output_type": "stream",
          "text": [
            "Max snow depth: 15.0\n"
          ],
          "name": "stdout"
        }
      ]
    },
    {
      "cell_type": "markdown",
      "metadata": {
        "id": "bSjXKVBQHT5j"
      },
      "source": [
        "#### <div class=\"alert alert-info\">Exercise 12 (average temperature)</div>\n",
        "\n",
        "Write function `average_temperature` that returns the average temperature in July.\n",
        "\n",
        "Print the result in following form:\n",
        "```\n",
        "Average temperature in July: xx.x\n",
        "```\n",
        "<hr/>"
      ]
    },
    {
      "cell_type": "code",
      "metadata": {
        "id": "u2D9RCT45wUr",
        "colab": {
          "base_uri": "https://localhost:8080/",
          "height": 35
        },
        "outputId": "76e52392-e81e-4556-81e1-eeb0b27b8a86"
      },
      "source": [
        "def average_temperature():\n",
        "    df = pd.read_csv(\"https://raw.githubusercontent.com/smabb/p/master/data/temp.csv\")\n",
        "    df_july = df[df.m == 7]\n",
        "    #print(df_july.describe())\n",
        "    return df_july.describe().iloc[1,-1]\n",
        "\n",
        "\n",
        "print(f\"Average temperature in July: {average_temperature()}\")\n"
      ],
      "execution_count": null,
      "outputs": [
        {
          "output_type": "stream",
          "text": [
            "Average temperature in July: 16.035483870967745\n"
          ],
          "name": "stdout"
        }
      ]
    },
    {
      "cell_type": "markdown",
      "metadata": {
        "id": "IKKHdGeYHT5m"
      },
      "source": [
        "#### <div class=\"alert alert-info\">Exercise 13 (below zero)</div>\n",
        "\n",
        "Write function `below_zero` that returns the number of days when the temperature was below zero.\n",
        "\n",
        "Print the result inin the following form:\n",
        "\n",
        "```\n",
        "Number of days below zero: xx\n",
        "```\n",
        "<hr/>"
      ]
    },
    {
      "cell_type": "code",
      "metadata": {
        "id": "ev_p5LMh5wxd",
        "colab": {
          "base_uri": "https://localhost:8080/",
          "height": 35
        },
        "outputId": "322e3caf-b39d-4a8e-9b27-2ebd38127e83"
      },
      "source": [
        "def below_zero():\n",
        "    df = pd.read_csv(\"https://raw.githubusercontent.com/smabb/p/master/data/temp.csv\")\n",
        "    df_below_zero = df[df['Air temperature (degC)'] < 0]\n",
        "    return len(df_below_zero.index)\n",
        "\n",
        "\n",
        "print(f\"Number of days below zero: {below_zero()}\")"
      ],
      "execution_count": null,
      "outputs": [
        {
          "output_type": "stream",
          "text": [
            "Number of days below zero: 49\n"
          ],
          "name": "stdout"
        }
      ]
    },
    {
      "cell_type": "markdown",
      "metadata": {
        "id": "NKLPnx6cHT50"
      },
      "source": [
        "## Missing data\n",
        "\n",
        "You may have noticed something strange in the output of the `describe` method. First, the minimum value in both precipitation and snow depth fields is -1. The special value -1 means that on that day there was absolutely no snow or rain, whereas the value 0 might indicate that the value was close to zero. Secondly, the snow depth column has count 358, whereas the other columns have count 365, one measurement/value for each day of the year. How is this possible? Every field in a DataFrame should have the same number of rows. Let's use the `unique` method of the Series object to find out, which different values are used in this column:"
      ]
    },
    {
      "cell_type": "code",
      "metadata": {
        "id": "NflnOdg6HT51"
      },
      "source": [
        "wh[\"Snow depth (cm)\"].unique()"
      ],
      "execution_count": null,
      "outputs": []
    },
    {
      "cell_type": "markdown",
      "metadata": {
        "id": "7-By6rHCHT52"
      },
      "source": [
        "The `float` type allows a special value `nan` (Not A Number), in addition to normal floating point numbers. This value can represent the result from an illegal operation. For example, the operation 0/0 can either cause an exception to occur or just silently produce a `nan`. In Pandas `nan` can be used to represent a missing value. In the weather DataFrame the `nan` value tells us that the measurement from that day is not available, possibly due to a broken measuring instrument or some other problem.\n",
        "\n",
        "Note that only float types allow the `nan` value (in Python, NumPy or Pandas). So, if we try to create an integer series with missing values, its dtype gets promoted to `float`:"
      ]
    },
    {
      "cell_type": "code",
      "metadata": {
        "id": "GSUTugvPHT53"
      },
      "source": [
        "pd.Series([1,3,2])"
      ],
      "execution_count": null,
      "outputs": []
    },
    {
      "cell_type": "code",
      "metadata": {
        "id": "Jf-GHd0kHT55"
      },
      "source": [
        "pd.Series([1,3,2, np.nan])"
      ],
      "execution_count": null,
      "outputs": []
    },
    {
      "cell_type": "markdown",
      "metadata": {
        "id": "ao5V4FrHHT58"
      },
      "source": [
        "For non-numeric types the special value `None` is used to denote a missing value, and the dtype is promoted to `object`."
      ]
    },
    {
      "cell_type": "code",
      "metadata": {
        "id": "-flsOh-jHT58"
      },
      "source": [
        "pd.Series([\"jack\", \"joe\", None])"
      ],
      "execution_count": null,
      "outputs": []
    },
    {
      "cell_type": "markdown",
      "metadata": {
        "id": "HCh7K2FXHT6A"
      },
      "source": [
        "Pandas excludes the missing values from the summary statistics, like we saw in the previous section. Pandas also provides some functions to handle missing values.\n",
        "\n",
        "The missing values can be located with the `isnull` method:"
      ]
    },
    {
      "cell_type": "code",
      "metadata": {
        "id": "VyC23g77HT6B",
        "colab": {
          "base_uri": "https://localhost:8080/"
        },
        "outputId": "2ac7f86b-ead8-4d33-ce5f-d3f15a194b6a"
      },
      "source": [
        "wh.isnull()  \n",
        "wh.isnull().any()    # returns a boolean mask DataFrame"
      ],
      "execution_count": 23,
      "outputs": [
        {
          "output_type": "execute_result",
          "data": {
            "text/plain": [
              "Year                         False\n",
              "m                            False\n",
              "d                            False\n",
              "Time                         False\n",
              "Time zone                    False\n",
              "Precipitation amount (mm)    False\n",
              "Snow depth (cm)               True\n",
              "Air temperature (degC)       False\n",
              "dtype: bool"
            ]
          },
          "metadata": {
            "tags": []
          },
          "execution_count": 23
        }
      ]
    },
    {
      "cell_type": "markdown",
      "metadata": {
        "id": "zhLd_dPBHT6E"
      },
      "source": [
        "This is not very useful as we cannot directly use the mask to index the DataFrame. We can, however, combine it with the `any` method to find out all the rows that contain at least one missing value:"
      ]
    },
    {
      "cell_type": "code",
      "metadata": {
        "id": "fzfeUQIjHT6G",
        "colab": {
          "base_uri": "https://localhost:8080/",
          "height": 269
        },
        "outputId": "581e1f6b-d65f-42db-c4a9-4a55c923bcb2"
      },
      "source": [
        "wh[wh.isnull().any(axis=1)]\n",
        "wh[wh['Snow depth (cm)'].isnull()]"
      ],
      "execution_count": 28,
      "outputs": [
        {
          "output_type": "execute_result",
          "data": {
            "text/html": [
              "<div>\n",
              "<style scoped>\n",
              "    .dataframe tbody tr th:only-of-type {\n",
              "        vertical-align: middle;\n",
              "    }\n",
              "\n",
              "    .dataframe tbody tr th {\n",
              "        vertical-align: top;\n",
              "    }\n",
              "\n",
              "    .dataframe thead th {\n",
              "        text-align: right;\n",
              "    }\n",
              "</style>\n",
              "<table border=\"1\" class=\"dataframe\">\n",
              "  <thead>\n",
              "    <tr style=\"text-align: right;\">\n",
              "      <th></th>\n",
              "      <th>Year</th>\n",
              "      <th>m</th>\n",
              "      <th>d</th>\n",
              "      <th>Time</th>\n",
              "      <th>Time zone</th>\n",
              "      <th>Precipitation amount (mm)</th>\n",
              "      <th>Snow depth (cm)</th>\n",
              "      <th>Air temperature (degC)</th>\n",
              "    </tr>\n",
              "  </thead>\n",
              "  <tbody>\n",
              "    <tr>\n",
              "      <th>74</th>\n",
              "      <td>2017</td>\n",
              "      <td>3</td>\n",
              "      <td>16</td>\n",
              "      <td>00:00</td>\n",
              "      <td>UTC</td>\n",
              "      <td>1.8</td>\n",
              "      <td>NaN</td>\n",
              "      <td>3.4</td>\n",
              "    </tr>\n",
              "    <tr>\n",
              "      <th>163</th>\n",
              "      <td>2017</td>\n",
              "      <td>6</td>\n",
              "      <td>13</td>\n",
              "      <td>00:00</td>\n",
              "      <td>UTC</td>\n",
              "      <td>0.6</td>\n",
              "      <td>NaN</td>\n",
              "      <td>12.6</td>\n",
              "    </tr>\n",
              "    <tr>\n",
              "      <th>308</th>\n",
              "      <td>2017</td>\n",
              "      <td>11</td>\n",
              "      <td>5</td>\n",
              "      <td>00:00</td>\n",
              "      <td>UTC</td>\n",
              "      <td>0.2</td>\n",
              "      <td>NaN</td>\n",
              "      <td>8.4</td>\n",
              "    </tr>\n",
              "    <tr>\n",
              "      <th>309</th>\n",
              "      <td>2017</td>\n",
              "      <td>11</td>\n",
              "      <td>6</td>\n",
              "      <td>00:00</td>\n",
              "      <td>UTC</td>\n",
              "      <td>2.0</td>\n",
              "      <td>NaN</td>\n",
              "      <td>7.5</td>\n",
              "    </tr>\n",
              "    <tr>\n",
              "      <th>313</th>\n",
              "      <td>2017</td>\n",
              "      <td>11</td>\n",
              "      <td>10</td>\n",
              "      <td>00:00</td>\n",
              "      <td>UTC</td>\n",
              "      <td>3.6</td>\n",
              "      <td>NaN</td>\n",
              "      <td>7.2</td>\n",
              "    </tr>\n",
              "    <tr>\n",
              "      <th>321</th>\n",
              "      <td>2017</td>\n",
              "      <td>11</td>\n",
              "      <td>18</td>\n",
              "      <td>00:00</td>\n",
              "      <td>UTC</td>\n",
              "      <td>11.3</td>\n",
              "      <td>NaN</td>\n",
              "      <td>5.9</td>\n",
              "    </tr>\n",
              "    <tr>\n",
              "      <th>328</th>\n",
              "      <td>2017</td>\n",
              "      <td>11</td>\n",
              "      <td>25</td>\n",
              "      <td>00:00</td>\n",
              "      <td>UTC</td>\n",
              "      <td>8.5</td>\n",
              "      <td>NaN</td>\n",
              "      <td>4.2</td>\n",
              "    </tr>\n",
              "  </tbody>\n",
              "</table>\n",
              "</div>"
            ],
            "text/plain": [
              "     Year   m  ...  Snow depth (cm) Air temperature (degC)\n",
              "74   2017   3  ...              NaN                    3.4\n",
              "163  2017   6  ...              NaN                   12.6\n",
              "308  2017  11  ...              NaN                    8.4\n",
              "309  2017  11  ...              NaN                    7.5\n",
              "313  2017  11  ...              NaN                    7.2\n",
              "321  2017  11  ...              NaN                    5.9\n",
              "328  2017  11  ...              NaN                    4.2\n",
              "\n",
              "[7 rows x 8 columns]"
            ]
          },
          "metadata": {
            "tags": []
          },
          "execution_count": 28
        }
      ]
    },
    {
      "cell_type": "markdown",
      "metadata": {
        "id": "HsgMcC62HT6K"
      },
      "source": [
        "The `notnull` method works conversively to the `isnull` method."
      ]
    },
    {
      "cell_type": "markdown",
      "metadata": {
        "id": "uPus9l0jHT6K"
      },
      "source": [
        "The `dropna` method of a DataFrame drops columns or rows that contain missing values from the DataFrame, depending on the `axis` parameter."
      ]
    },
    {
      "cell_type": "code",
      "metadata": {
        "id": "3lGdmoJL7LnB"
      },
      "source": [
        "wh = pd.read_csv(\"https://raw.githubusercontent.com/smabb/p/master/data/temp.csv\")"
      ],
      "execution_count": 13,
      "outputs": []
    },
    {
      "cell_type": "code",
      "metadata": {
        "id": "UwCHkkwD66Bb"
      },
      "source": [
        "wh.shape"
      ],
      "execution_count": null,
      "outputs": []
    },
    {
      "cell_type": "code",
      "metadata": {
        "id": "PUcYKNCSHT6M"
      },
      "source": [
        "wh.dropna().shape   # Default axis is 0"
      ],
      "execution_count": null,
      "outputs": []
    },
    {
      "cell_type": "code",
      "metadata": {
        "id": "7tcPpdhXHT6R"
      },
      "source": [
        "wh.dropna(axis=1).shape # Drops the columns containing missing values"
      ],
      "execution_count": null,
      "outputs": []
    },
    {
      "cell_type": "markdown",
      "metadata": {
        "id": "S12ngYQhHT6T"
      },
      "source": [
        "The `how` and `thresh` parameters of the `dropna` method allow one to specify how many values need to be missing in order for the row/column to be dropped.\n",
        "\n",
        "The `fillna` method allows to fill the missing values with some constant or interpolated values. The `method` parameter can be:\n",
        "\n",
        "* `None`: use the given positional parameter as the constant to fill missing values with\n",
        "* `ffill`: use the previous value to fill the current value\n",
        "* `bfill`: use the next value to fill the current value\n",
        "\n",
        "For example, for the weather data we could use forward fill"
      ]
    },
    {
      "cell_type": "code",
      "metadata": {
        "id": "AroImDeRHT6U",
        "colab": {
          "base_uri": "https://localhost:8080/",
          "height": 216
        },
        "outputId": "aa203d28-3eb3-4c22-f069-e73fa1252267"
      },
      "source": [
        "\n",
        "print(wh[73:75])\n",
        "wh = wh.fillna(1)\n",
        "print(wh[74:75])\n",
        "wh[wh.isnull().any(axis=1)]\n",
        "#wh.shape"
      ],
      "execution_count": 15,
      "outputs": [
        {
          "output_type": "stream",
          "text": [
            "    Year  m  ...  Snow depth (cm) Air temperature (degC)\n",
            "73  2017  3  ...              2.0                    3.8\n",
            "74  2017  3  ...              NaN                    3.4\n",
            "\n",
            "[2 rows x 8 columns]\n",
            "    Year  m  ...  Snow depth (cm) Air temperature (degC)\n",
            "74  2017  3  ...              1.0                    3.4\n",
            "\n",
            "[1 rows x 8 columns]\n"
          ],
          "name": "stdout"
        },
        {
          "output_type": "execute_result",
          "data": {
            "text/html": [
              "<div>\n",
              "<style scoped>\n",
              "    .dataframe tbody tr th:only-of-type {\n",
              "        vertical-align: middle;\n",
              "    }\n",
              "\n",
              "    .dataframe tbody tr th {\n",
              "        vertical-align: top;\n",
              "    }\n",
              "\n",
              "    .dataframe thead th {\n",
              "        text-align: right;\n",
              "    }\n",
              "</style>\n",
              "<table border=\"1\" class=\"dataframe\">\n",
              "  <thead>\n",
              "    <tr style=\"text-align: right;\">\n",
              "      <th></th>\n",
              "      <th>Year</th>\n",
              "      <th>m</th>\n",
              "      <th>d</th>\n",
              "      <th>Time</th>\n",
              "      <th>Time zone</th>\n",
              "      <th>Precipitation amount (mm)</th>\n",
              "      <th>Snow depth (cm)</th>\n",
              "      <th>Air temperature (degC)</th>\n",
              "    </tr>\n",
              "  </thead>\n",
              "  <tbody>\n",
              "  </tbody>\n",
              "</table>\n",
              "</div>"
            ],
            "text/plain": [
              "Empty DataFrame\n",
              "Columns: [Year, m, d, Time, Time zone, Precipitation amount (mm), Snow depth (cm), Air temperature (degC)]\n",
              "Index: []"
            ]
          },
          "metadata": {
            "tags": []
          },
          "execution_count": 15
        }
      ]
    },
    {
      "cell_type": "markdown",
      "metadata": {
        "id": "7Fzg7R7AHT6X"
      },
      "source": [
        "#### <div class=\"alert alert-info\">Exercise 14 (cyclists)</div>\n",
        "\n",
        "Write function `cyclists` that does the following.\n",
        "\n",
        "Load the Helsinki bicycle data set https://raw.githubusercontent.com/smabb/p/master/data/Helsinki_bicycle.csv . The dataset contains the number of cyclists passing by measuring points per hour. The data is gathered over about four years, and there are 20 measuring points around Helsinki. The dataset contains some empty rows at the end. Get rid of these. Also, get rid of columns that contain only missing values. Return the cleaned dataset. \n",
        "\n",
        "<hr/>"
      ]
    },
    {
      "cell_type": "code",
      "metadata": {
        "id": "Z0k8LQzbXIA0",
        "colab": {
          "base_uri": "https://localhost:8080/",
          "height": 965
        },
        "outputId": "e1432c6f-e088-4c1f-c904-e90904a9e6ec"
      },
      "source": [
        "def cyclists():\n",
        "    df = pd.read_csv('https://raw.githubusercontent.com/smabb/p/master/data/Helsinki_bicycle.csv', sep=\";\")\n",
        "    df_droprow = df.dropna()\n",
        "    df_dropcol = df_droprow.dropna(axis = 1)\n",
        "    return df_dropcol\n",
        "\n",
        "\n",
        "cyclists()"
      ],
      "execution_count": null,
      "outputs": [
        {
          "output_type": "execute_result",
          "data": {
            "text/html": [
              "<div>\n",
              "<style scoped>\n",
              "    .dataframe tbody tr th:only-of-type {\n",
              "        vertical-align: middle;\n",
              "    }\n",
              "\n",
              "    .dataframe tbody tr th {\n",
              "        vertical-align: top;\n",
              "    }\n",
              "\n",
              "    .dataframe thead th {\n",
              "        text-align: right;\n",
              "    }\n",
              "</style>\n",
              "<table border=\"1\" class=\"dataframe\">\n",
              "  <thead>\n",
              "    <tr style=\"text-align: right;\">\n",
              "      <th></th>\n",
              "      <th>Date</th>\n",
              "      <th>point_1</th>\n",
              "      <th>point_2</th>\n",
              "      <th>point_3</th>\n",
              "      <th>point_4</th>\n",
              "      <th>point_5</th>\n",
              "      <th>point_6</th>\n",
              "      <th>point_7</th>\n",
              "      <th>point_8</th>\n",
              "      <th>point_9</th>\n",
              "      <th>point_10</th>\n",
              "      <th>point_11</th>\n",
              "      <th>point_12</th>\n",
              "      <th>point_13</th>\n",
              "      <th>point_14</th>\n",
              "      <th>point_15</th>\n",
              "      <th>point_16</th>\n",
              "      <th>point_17</th>\n",
              "      <th>point_18</th>\n",
              "      <th>point_19</th>\n",
              "      <th>point_20</th>\n",
              "    </tr>\n",
              "  </thead>\n",
              "  <tbody>\n",
              "    <tr>\n",
              "      <th>33815</th>\n",
              "      <td>to 9 marras 2017 23:00</td>\n",
              "      <td>5.0</td>\n",
              "      <td>7.0</td>\n",
              "      <td>2.0</td>\n",
              "      <td>7.0</td>\n",
              "      <td>5.0</td>\n",
              "      <td>0.0</td>\n",
              "      <td>6.0</td>\n",
              "      <td>0.0</td>\n",
              "      <td>5.0</td>\n",
              "      <td>12.0</td>\n",
              "      <td>4.0</td>\n",
              "      <td>0.0</td>\n",
              "      <td>1.0</td>\n",
              "      <td>18.0</td>\n",
              "      <td>12.0</td>\n",
              "      <td>5.0</td>\n",
              "      <td>10.0</td>\n",
              "      <td>3.0</td>\n",
              "      <td>1.0</td>\n",
              "      <td>8</td>\n",
              "    </tr>\n",
              "    <tr>\n",
              "      <th>33816</th>\n",
              "      <td>pe 10 marras 2017 00:00</td>\n",
              "      <td>2.0</td>\n",
              "      <td>6.0</td>\n",
              "      <td>2.0</td>\n",
              "      <td>3.0</td>\n",
              "      <td>4.0</td>\n",
              "      <td>0.0</td>\n",
              "      <td>2.0</td>\n",
              "      <td>3.0</td>\n",
              "      <td>0.0</td>\n",
              "      <td>6.0</td>\n",
              "      <td>4.0</td>\n",
              "      <td>0.0</td>\n",
              "      <td>2.0</td>\n",
              "      <td>2.0</td>\n",
              "      <td>5.0</td>\n",
              "      <td>2.0</td>\n",
              "      <td>0.0</td>\n",
              "      <td>4.0</td>\n",
              "      <td>0.0</td>\n",
              "      <td>3</td>\n",
              "    </tr>\n",
              "    <tr>\n",
              "      <th>33817</th>\n",
              "      <td>pe 10 marras 2017 01:00</td>\n",
              "      <td>2.0</td>\n",
              "      <td>1.0</td>\n",
              "      <td>3.0</td>\n",
              "      <td>2.0</td>\n",
              "      <td>6.0</td>\n",
              "      <td>0.0</td>\n",
              "      <td>3.0</td>\n",
              "      <td>0.0</td>\n",
              "      <td>0.0</td>\n",
              "      <td>2.0</td>\n",
              "      <td>2.0</td>\n",
              "      <td>0.0</td>\n",
              "      <td>1.0</td>\n",
              "      <td>2.0</td>\n",
              "      <td>3.0</td>\n",
              "      <td>5.0</td>\n",
              "      <td>2.0</td>\n",
              "      <td>1.0</td>\n",
              "      <td>0.0</td>\n",
              "      <td>3</td>\n",
              "    </tr>\n",
              "    <tr>\n",
              "      <th>33818</th>\n",
              "      <td>pe 10 marras 2017 02:00</td>\n",
              "      <td>2.0</td>\n",
              "      <td>1.0</td>\n",
              "      <td>1.0</td>\n",
              "      <td>2.0</td>\n",
              "      <td>2.0</td>\n",
              "      <td>0.0</td>\n",
              "      <td>0.0</td>\n",
              "      <td>0.0</td>\n",
              "      <td>0.0</td>\n",
              "      <td>6.0</td>\n",
              "      <td>0.0</td>\n",
              "      <td>0.0</td>\n",
              "      <td>1.0</td>\n",
              "      <td>2.0</td>\n",
              "      <td>2.0</td>\n",
              "      <td>2.0</td>\n",
              "      <td>1.0</td>\n",
              "      <td>1.0</td>\n",
              "      <td>0.0</td>\n",
              "      <td>2</td>\n",
              "    </tr>\n",
              "    <tr>\n",
              "      <th>33819</th>\n",
              "      <td>pe 10 marras 2017 03:00</td>\n",
              "      <td>0.0</td>\n",
              "      <td>0.0</td>\n",
              "      <td>0.0</td>\n",
              "      <td>0.0</td>\n",
              "      <td>1.0</td>\n",
              "      <td>0.0</td>\n",
              "      <td>1.0</td>\n",
              "      <td>0.0</td>\n",
              "      <td>0.0</td>\n",
              "      <td>0.0</td>\n",
              "      <td>0.0</td>\n",
              "      <td>0.0</td>\n",
              "      <td>0.0</td>\n",
              "      <td>4.0</td>\n",
              "      <td>0.0</td>\n",
              "      <td>1.0</td>\n",
              "      <td>1.0</td>\n",
              "      <td>1.0</td>\n",
              "      <td>2.0</td>\n",
              "      <td>2</td>\n",
              "    </tr>\n",
              "    <tr>\n",
              "      <th>...</th>\n",
              "      <td>...</td>\n",
              "      <td>...</td>\n",
              "      <td>...</td>\n",
              "      <td>...</td>\n",
              "      <td>...</td>\n",
              "      <td>...</td>\n",
              "      <td>...</td>\n",
              "      <td>...</td>\n",
              "      <td>...</td>\n",
              "      <td>...</td>\n",
              "      <td>...</td>\n",
              "      <td>...</td>\n",
              "      <td>...</td>\n",
              "      <td>...</td>\n",
              "      <td>...</td>\n",
              "      <td>...</td>\n",
              "      <td>...</td>\n",
              "      <td>...</td>\n",
              "      <td>...</td>\n",
              "      <td>...</td>\n",
              "      <td>...</td>\n",
              "    </tr>\n",
              "    <tr>\n",
              "      <th>42459</th>\n",
              "      <td>ma 5 marras 2018 03:00</td>\n",
              "      <td>0.0</td>\n",
              "      <td>0.0</td>\n",
              "      <td>1.0</td>\n",
              "      <td>1.0</td>\n",
              "      <td>3.0</td>\n",
              "      <td>0.0</td>\n",
              "      <td>0.0</td>\n",
              "      <td>0.0</td>\n",
              "      <td>2.0</td>\n",
              "      <td>1.0</td>\n",
              "      <td>0.0</td>\n",
              "      <td>0.0</td>\n",
              "      <td>0.0</td>\n",
              "      <td>2.0</td>\n",
              "      <td>1.0</td>\n",
              "      <td>1.0</td>\n",
              "      <td>0.0</td>\n",
              "      <td>2.0</td>\n",
              "      <td>1.0</td>\n",
              "      <td>0</td>\n",
              "    </tr>\n",
              "    <tr>\n",
              "      <th>42460</th>\n",
              "      <td>ma 5 marras 2018 04:00</td>\n",
              "      <td>0.0</td>\n",
              "      <td>0.0</td>\n",
              "      <td>5.0</td>\n",
              "      <td>1.0</td>\n",
              "      <td>2.0</td>\n",
              "      <td>1.0</td>\n",
              "      <td>5.0</td>\n",
              "      <td>0.0</td>\n",
              "      <td>1.0</td>\n",
              "      <td>2.0</td>\n",
              "      <td>2.0</td>\n",
              "      <td>1.0</td>\n",
              "      <td>0.0</td>\n",
              "      <td>1.0</td>\n",
              "      <td>1.0</td>\n",
              "      <td>0.0</td>\n",
              "      <td>2.0</td>\n",
              "      <td>4.0</td>\n",
              "      <td>1.0</td>\n",
              "      <td>8</td>\n",
              "    </tr>\n",
              "    <tr>\n",
              "      <th>42461</th>\n",
              "      <td>ma 5 marras 2018 05:00</td>\n",
              "      <td>5.0</td>\n",
              "      <td>1.0</td>\n",
              "      <td>20.0</td>\n",
              "      <td>8.0</td>\n",
              "      <td>8.0</td>\n",
              "      <td>5.0</td>\n",
              "      <td>7.0</td>\n",
              "      <td>4.0</td>\n",
              "      <td>11.0</td>\n",
              "      <td>12.0</td>\n",
              "      <td>6.0</td>\n",
              "      <td>8.0</td>\n",
              "      <td>2.0</td>\n",
              "      <td>8.0</td>\n",
              "      <td>10.0</td>\n",
              "      <td>6.0</td>\n",
              "      <td>3.0</td>\n",
              "      <td>21.0</td>\n",
              "      <td>8.0</td>\n",
              "      <td>17</td>\n",
              "    </tr>\n",
              "    <tr>\n",
              "      <th>42462</th>\n",
              "      <td>ma 5 marras 2018 06:00</td>\n",
              "      <td>41.0</td>\n",
              "      <td>13.0</td>\n",
              "      <td>93.0</td>\n",
              "      <td>30.0</td>\n",
              "      <td>47.0</td>\n",
              "      <td>25.0</td>\n",
              "      <td>75.0</td>\n",
              "      <td>29.0</td>\n",
              "      <td>79.0</td>\n",
              "      <td>84.0</td>\n",
              "      <td>48.0</td>\n",
              "      <td>43.0</td>\n",
              "      <td>29.0</td>\n",
              "      <td>63.0</td>\n",
              "      <td>34.0</td>\n",
              "      <td>14.0</td>\n",
              "      <td>26.0</td>\n",
              "      <td>112.0</td>\n",
              "      <td>32.0</td>\n",
              "      <td>87</td>\n",
              "    </tr>\n",
              "    <tr>\n",
              "      <th>42463</th>\n",
              "      <td>ma 5 marras 2018 07:00</td>\n",
              "      <td>175.0</td>\n",
              "      <td>43.0</td>\n",
              "      <td>226.0</td>\n",
              "      <td>108.0</td>\n",
              "      <td>111.0</td>\n",
              "      <td>50.0</td>\n",
              "      <td>141.0</td>\n",
              "      <td>152.0</td>\n",
              "      <td>155.0</td>\n",
              "      <td>313.0</td>\n",
              "      <td>193.0</td>\n",
              "      <td>168.0</td>\n",
              "      <td>72.0</td>\n",
              "      <td>156.0</td>\n",
              "      <td>85.0</td>\n",
              "      <td>26.0</td>\n",
              "      <td>16.0</td>\n",
              "      <td>252.0</td>\n",
              "      <td>84.0</td>\n",
              "      <td>208</td>\n",
              "    </tr>\n",
              "  </tbody>\n",
              "</table>\n",
              "<p>8648 rows × 21 columns</p>\n",
              "</div>"
            ],
            "text/plain": [
              "                          Date  point_1  point_2  ...  point_18  point_19  point_20\n",
              "33815   to 9 marras 2017 23:00      5.0      7.0  ...       3.0       1.0         8\n",
              "33816  pe 10 marras 2017 00:00      2.0      6.0  ...       4.0       0.0         3\n",
              "33817  pe 10 marras 2017 01:00      2.0      1.0  ...       1.0       0.0         3\n",
              "33818  pe 10 marras 2017 02:00      2.0      1.0  ...       1.0       0.0         2\n",
              "33819  pe 10 marras 2017 03:00      0.0      0.0  ...       1.0       2.0         2\n",
              "...                        ...      ...      ...  ...       ...       ...       ...\n",
              "42459   ma 5 marras 2018 03:00      0.0      0.0  ...       2.0       1.0         0\n",
              "42460   ma 5 marras 2018 04:00      0.0      0.0  ...       4.0       1.0         8\n",
              "42461   ma 5 marras 2018 05:00      5.0      1.0  ...      21.0       8.0        17\n",
              "42462   ma 5 marras 2018 06:00     41.0     13.0  ...     112.0      32.0        87\n",
              "42463   ma 5 marras 2018 07:00    175.0     43.0  ...     252.0      84.0       208\n",
              "\n",
              "[8648 rows x 21 columns]"
            ]
          },
          "metadata": {
            "tags": []
          },
          "execution_count": 85
        }
      ]
    },
    {
      "cell_type": "markdown",
      "metadata": {
        "id": "uFDQb79iHT6Y"
      },
      "source": [
        "#### <div class=\"alert alert-info\">Exercise 15 (missing value types)</div>\n",
        "\n",
        "Make function `missing_value_types` that returns the following DataFrame. Use the `State` column as the (row) index. The value types for the two other columns should be `float` and `object`, respectively. Replace the dashes with the appropriate missing value symbols.\n",
        "\n",
        "State | Year of independence | President\n",
        "------|----------------------|----------\n",
        "United Kingdom | - | -\n",
        "Finland | 1917 | Niinistö\n",
        "USA | 1776 | Trump\n",
        "Sweden | 1523 | -\n",
        "Germany | - | Steinmeier\n",
        "Russia | 1992 | Putin\n",
        "\n",
        "<hr/>"
      ]
    },
    {
      "cell_type": "code",
      "metadata": {
        "id": "9I0mQZM6XgH7",
        "colab": {
          "base_uri": "https://localhost:8080/",
          "height": 269
        },
        "outputId": "56b45d95-0ddd-49e0-ad87-fc1d36c0832b"
      },
      "source": [
        "def missing_value_types():\n",
        "    countries = ['United Kingdom', 'Finland', 'USA', 'Sweden', 'Germany', 'Russia']\n",
        "    year_of_inpedence = [None, 1917, 1776,1523,None,1992]\n",
        "    presidents = [None, 'Niinistö', 'Trump', None, 'Steinmeier', 'Putin']\n",
        "    \n",
        "    df = pd.DataFrame({'State':countries, 'Year of independence':year_of_inpedence, 'President':presidents}).set_index('State')\n",
        "    return df\n",
        "\n",
        "missing_value_types()"
      ],
      "execution_count": null,
      "outputs": [
        {
          "output_type": "execute_result",
          "data": {
            "text/html": [
              "<div>\n",
              "<style scoped>\n",
              "    .dataframe tbody tr th:only-of-type {\n",
              "        vertical-align: middle;\n",
              "    }\n",
              "\n",
              "    .dataframe tbody tr th {\n",
              "        vertical-align: top;\n",
              "    }\n",
              "\n",
              "    .dataframe thead th {\n",
              "        text-align: right;\n",
              "    }\n",
              "</style>\n",
              "<table border=\"1\" class=\"dataframe\">\n",
              "  <thead>\n",
              "    <tr style=\"text-align: right;\">\n",
              "      <th></th>\n",
              "      <th>Year of independence</th>\n",
              "      <th>President</th>\n",
              "    </tr>\n",
              "    <tr>\n",
              "      <th>State</th>\n",
              "      <th></th>\n",
              "      <th></th>\n",
              "    </tr>\n",
              "  </thead>\n",
              "  <tbody>\n",
              "    <tr>\n",
              "      <th>United Kingdom</th>\n",
              "      <td>NaN</td>\n",
              "      <td>None</td>\n",
              "    </tr>\n",
              "    <tr>\n",
              "      <th>Finland</th>\n",
              "      <td>1917.0</td>\n",
              "      <td>Niinistö</td>\n",
              "    </tr>\n",
              "    <tr>\n",
              "      <th>USA</th>\n",
              "      <td>1776.0</td>\n",
              "      <td>Trump</td>\n",
              "    </tr>\n",
              "    <tr>\n",
              "      <th>Sweden</th>\n",
              "      <td>1523.0</td>\n",
              "      <td>None</td>\n",
              "    </tr>\n",
              "    <tr>\n",
              "      <th>Germany</th>\n",
              "      <td>NaN</td>\n",
              "      <td>Steinmeier</td>\n",
              "    </tr>\n",
              "    <tr>\n",
              "      <th>Russia</th>\n",
              "      <td>1992.0</td>\n",
              "      <td>Putin</td>\n",
              "    </tr>\n",
              "  </tbody>\n",
              "</table>\n",
              "</div>"
            ],
            "text/plain": [
              "                Year of independence   President\n",
              "State                                           \n",
              "United Kingdom                   NaN        None\n",
              "Finland                       1917.0    Niinistö\n",
              "USA                           1776.0       Trump\n",
              "Sweden                        1523.0        None\n",
              "Germany                          NaN  Steinmeier\n",
              "Russia                        1992.0       Putin"
            ]
          },
          "metadata": {
            "tags": []
          },
          "execution_count": 86
        }
      ]
    },
    {
      "cell_type": "markdown",
      "metadata": {
        "id": "QlTxtiLdHT6Y"
      },
      "source": [
        "#### <div class=\"alert alert-info\">Exercise 16 (special missing values)</div>\n",
        "\n",
        "Write function `special_missing_values` that does the following.\n",
        "\n",
        "Read the data set of the top hundred singles from the beginning of the year 1964 from(https://query.data.world/s/v2sc7li3mrhsivknqsjjt5w667aog5). Return the rows whose singles' position dropped compared to last week's position .\n",
        "\n",
        "\n",
        "\n",
        "<hr/>"
      ]
    },
    {
      "cell_type": "code",
      "metadata": {
        "id": "fOO2IFeZYsU7"
      },
      "source": [
        ""
      ],
      "execution_count": null,
      "outputs": []
    },
    {
      "cell_type": "markdown",
      "metadata": {
        "id": "xhn6n--AHT6a"
      },
      "source": [
        "#### <div class=\"alert alert-info\">Exercise 17 (last week)</div>\n",
        "\n",
        "\n",
        "\n",
        "Write function `last_week` that reads the top100 data set mentioned in the above exercise. The function should then try to reconstruct the top100 list of the previous week based on that week's list. Try to do this as well as possible. You can fill the values that are impossible to reconstruct by missing value symbols. Your solution should work for a top100 list of any week. So don't rely on specific features of this top100 list. \n",
        "\n",
        "Hint. First create the last week's top100 list of those songs that are also on this week's list. Then add those entries that were not on this week's list. Finally sort by position.\n",
        "\n",
        "Hint 2. The `where` method of Series and DataFrame can be useful. It can also be nested.  Read about the where method (https://pandas.pydata.org/pandas-docs/stable/reference/api/pandas.DataFrame.where.html?highlight=where#pandas.DataFrame.where)\n",
        "\n",
        "Hint 3. Like in NumPy, you can use with Pandas the bitwise operators `&`, `|`, and `~`.\n",
        "Remember that he bitwise operators have higher precedence than the comparison operations, so you may\n",
        "have to use parentheses around comparisons, if you combined result of comparisons with bitwise operators.\n",
        "\n",
        "\n",
        "\n",
        "<hr/>"
      ]
    },
    {
      "cell_type": "code",
      "metadata": {
        "id": "_dNQFOHqX38b"
      },
      "source": [
        ""
      ],
      "execution_count": null,
      "outputs": []
    },
    {
      "cell_type": "markdown",
      "metadata": {
        "id": "TOX3-hzSHT6a"
      },
      "source": [
        "## Converting columns from one type to another\n",
        "\n",
        "There are several ways of converting a column to another type. For converting single columns (a Series) one can use the `pd.to_numeric` function or the `map` method. For converting several columns in one go one can use the `astype` method. We will give a few examples of use of these methods/functions. For more details, look from the Pandas documentation."
      ]
    },
    {
      "cell_type": "code",
      "metadata": {
        "id": "Wc7bXYS8HT6b"
      },
      "source": [
        "pd.Series([\"1\",\"2\"]).map(int)                           # str -> int"
      ],
      "execution_count": null,
      "outputs": []
    },
    {
      "cell_type": "code",
      "metadata": {
        "id": "JVpRzO9rHT6e"
      },
      "source": [
        "pd.Series([1,2]).map(str)                               # int -> str"
      ],
      "execution_count": null,
      "outputs": []
    },
    {
      "cell_type": "code",
      "metadata": {
        "id": "dVo3s9crHT6f"
      },
      "source": [
        "pd.to_numeric(pd.Series([1,1.0]), downcast=\"integer\")   # object -> int"
      ],
      "execution_count": null,
      "outputs": []
    },
    {
      "cell_type": "code",
      "metadata": {
        "id": "u1DHmL_8HT6i"
      },
      "source": [
        "pd.to_numeric(pd.Series([1,\"a\"]), errors=\"coerce\")      # conversion error produces Nan"
      ],
      "execution_count": null,
      "outputs": []
    },
    {
      "cell_type": "code",
      "metadata": {
        "id": "Kk18bqD5HT6j"
      },
      "source": [
        "pd.Series([1,2]).astype(str)                            # works for a single series"
      ],
      "execution_count": null,
      "outputs": []
    },
    {
      "cell_type": "code",
      "metadata": {
        "id": "1oiNCJmeHT6m"
      },
      "source": [
        "df = pd.DataFrame({\"a\": [1,2,3], \"b\" : [4,5,6], \"c\" : [7,8,9]})\n",
        "print(df.dtypes)\n",
        "print(df)"
      ],
      "execution_count": null,
      "outputs": []
    },
    {
      "cell_type": "code",
      "metadata": {
        "id": "WQy7_Ab0HT6q"
      },
      "source": [
        "df.astype(float)                       # Convert all columns"
      ],
      "execution_count": null,
      "outputs": []
    },
    {
      "cell_type": "code",
      "metadata": {
        "id": "WTPRL9XqHT6w"
      },
      "source": [
        "df2 = df.astype({\"b\" : float, \"c\" : str})    # different types for columns\n",
        "print(df2.dtypes)\n",
        "print(df2)"
      ],
      "execution_count": null,
      "outputs": []
    },
    {
      "cell_type": "markdown",
      "metadata": {
        "id": "m-Sk6xoWHT6y"
      },
      "source": [
        "## String processing\n",
        "\n",
        "If the elements in a column are strings, then the vectorized versions of Python's string processing methods are available. These are accessed through the `str` attribute of a Series or a DataFrame. For example, to capitalize all the strings of a Series, we can use the `str.capitalize` method:"
      ]
    },
    {
      "cell_type": "code",
      "metadata": {
        "id": "KHEKK24WHT6z"
      },
      "source": [
        "names = pd.Series([\"donald\", \"theresa\", \"angela\", \"vladimir\"])\n",
        "names.str.capitalize()"
      ],
      "execution_count": null,
      "outputs": []
    },
    {
      "cell_type": "markdown",
      "metadata": {
        "id": "SN8RP9TEHT61"
      },
      "source": [
        "One can find all the available methods by pressing the ctrl+space keys after the text `names.str.` in a Python prompt. Try it in below cell!"
      ]
    },
    {
      "cell_type": "code",
      "metadata": {
        "id": "PRkN6zA7HT62"
      },
      "source": [
        "names.str.  "
      ],
      "execution_count": null,
      "outputs": []
    },
    {
      "cell_type": "markdown",
      "metadata": {
        "id": "DJcehdh2HT64"
      },
      "source": [
        "We can split a column or Series into several columns using the `split` method. For example:"
      ]
    },
    {
      "cell_type": "code",
      "metadata": {
        "id": "XLTnh5wyHT64"
      },
      "source": [
        "full_names = pd.Series([\"Donald Trump\", \"Theresa May\", \"Angela Merkel\", \"Vladimir Putin\"])\n",
        "full_names.str.split()"
      ],
      "execution_count": null,
      "outputs": []
    },
    {
      "cell_type": "markdown",
      "metadata": {
        "id": "bsZ9FVOVHT66"
      },
      "source": [
        "This is not exactly what we wanted: now each element is a list. We need to use the `expand` parameter to split into columns:"
      ]
    },
    {
      "cell_type": "code",
      "metadata": {
        "id": "zyfP8mGUHT66"
      },
      "source": [
        "full_names.str.split(expand=True)"
      ],
      "execution_count": null,
      "outputs": []
    },
    {
      "cell_type": "markdown",
      "metadata": {
        "id": "0B29k_bgHT6-"
      },
      "source": [
        "#### <div class=\"alert alert-info\">Exercise 18 (split date)</div>\n",
        "\n",
        "Read again the bicycle data set \n",
        "and clean it as in the earlier exercise. Then split the `Date` column into a DataFrame with five columns with column names `Weekday`, `Day`, `Month`, `Year`, and `Hour`. Note that you also need to to do some conversions. To get Hours, drop the colon and minutes. Convert field `Weekday` according the following rule:\n",
        "```\n",
        "ma -> Mon\n",
        "ti -> Tue\n",
        "ke -> Wed\n",
        "to -> Thu\n",
        "pe -> Fri\n",
        "la -> Sat\n",
        "su -> Sun\n",
        "```\n",
        "Convert the `Month` column according to the following mapping\n",
        "```\n",
        "tammi 1\n",
        "helmi 2\n",
        "maalis 3\n",
        "huhti 4\n",
        "touko 5\n",
        "kesä 6\n",
        "heinä 7\n",
        "elo 8\n",
        "syys 9\n",
        "loka 10\n",
        "marras 11\n",
        "joulu 12\n",
        "```\n",
        "\n",
        "Create function `split_date` that does the above and returns a DataFrame with five columns. You may want to use the `map` method of Series objects.\n",
        "\n",
        "So the first element in the `Date` column of the original data set should be converted from\n",
        "`ke 1 tammi 2014 00:00`\n",
        "to\n",
        "`Wed 1 1 2014 0` . \n",
        "<hr/>"
      ]
    },
    {
      "cell_type": "code",
      "metadata": {
        "id": "Lz4No2vsZ_bP",
        "colab": {
          "base_uri": "https://localhost:8080/",
          "height": 424
        },
        "outputId": "4eba5b56-aa86-4ef6-d428-f19989875a97"
      },
      "source": [
        "def split_date():\n",
        "    df = pd.read_csv('https://raw.githubusercontent.com/smabb/p/master/data/Helsinki_bicycle.csv', sep=\";\")\n",
        "    df = df.dropna()\n",
        "    df = df.dropna(axis = 1)\n",
        "    df = df.iloc[:,0]\n",
        "    df = df.str.split(expand=True)\n",
        "    df.columns = ['Weekday', 'Day', 'Month', 'Year', 'Hour']\n",
        "    df['Hour'] = df['Hour'].str[0:2]\n",
        "\n",
        "    weekdays = {\n",
        "        \"ma\":\"Mon\",\n",
        "        \"ti\":\"Tue\",\n",
        "        \"ke\":\"Wed\",\n",
        "        \"to\":\"Thu\",\n",
        "        \"pe\":\"Fri\",\n",
        "        \"la\":\"Sat\",\n",
        "        \"su\":\"Sun\"\n",
        "    }\n",
        "    \n",
        "    months = {\n",
        "        \"tammi\" :1,\n",
        "        \"helmi\" :2,\n",
        "        \"maalis\" :3,\n",
        "        \"huhti\" :4,\n",
        "        \"touko\" :5,\n",
        "        \"kesä\":6,\n",
        "        \"heinä\" :7,\n",
        "        \"elo\" :8,\n",
        "        \"syys\" :9,\n",
        "        \"loka\" :10,\n",
        "        \"marras\" :11,\n",
        "        \"joulu\" :12,\n",
        "    }\n",
        "\n",
        "    df = df.replace(weekdays, value = None)\n",
        "    df = df.replace(months, value = None)\n",
        "    df.iloc[:,1:] = df.iloc[:,1:].astype(int)\n",
        "    return(df)\n",
        "\n",
        "split_date()"
      ],
      "execution_count": null,
      "outputs": [
        {
          "output_type": "execute_result",
          "data": {
            "text/html": [
              "<div>\n",
              "<style scoped>\n",
              "    .dataframe tbody tr th:only-of-type {\n",
              "        vertical-align: middle;\n",
              "    }\n",
              "\n",
              "    .dataframe tbody tr th {\n",
              "        vertical-align: top;\n",
              "    }\n",
              "\n",
              "    .dataframe thead th {\n",
              "        text-align: right;\n",
              "    }\n",
              "</style>\n",
              "<table border=\"1\" class=\"dataframe\">\n",
              "  <thead>\n",
              "    <tr style=\"text-align: right;\">\n",
              "      <th></th>\n",
              "      <th>Weekday</th>\n",
              "      <th>Day</th>\n",
              "      <th>Month</th>\n",
              "      <th>Year</th>\n",
              "      <th>Hour</th>\n",
              "    </tr>\n",
              "  </thead>\n",
              "  <tbody>\n",
              "    <tr>\n",
              "      <th>33815</th>\n",
              "      <td>Thu</td>\n",
              "      <td>9</td>\n",
              "      <td>11</td>\n",
              "      <td>2017</td>\n",
              "      <td>23</td>\n",
              "    </tr>\n",
              "    <tr>\n",
              "      <th>33816</th>\n",
              "      <td>Fri</td>\n",
              "      <td>10</td>\n",
              "      <td>11</td>\n",
              "      <td>2017</td>\n",
              "      <td>0</td>\n",
              "    </tr>\n",
              "    <tr>\n",
              "      <th>33817</th>\n",
              "      <td>Fri</td>\n",
              "      <td>10</td>\n",
              "      <td>11</td>\n",
              "      <td>2017</td>\n",
              "      <td>1</td>\n",
              "    </tr>\n",
              "    <tr>\n",
              "      <th>33818</th>\n",
              "      <td>Fri</td>\n",
              "      <td>10</td>\n",
              "      <td>11</td>\n",
              "      <td>2017</td>\n",
              "      <td>2</td>\n",
              "    </tr>\n",
              "    <tr>\n",
              "      <th>33819</th>\n",
              "      <td>Fri</td>\n",
              "      <td>10</td>\n",
              "      <td>11</td>\n",
              "      <td>2017</td>\n",
              "      <td>3</td>\n",
              "    </tr>\n",
              "    <tr>\n",
              "      <th>...</th>\n",
              "      <td>...</td>\n",
              "      <td>...</td>\n",
              "      <td>...</td>\n",
              "      <td>...</td>\n",
              "      <td>...</td>\n",
              "    </tr>\n",
              "    <tr>\n",
              "      <th>42459</th>\n",
              "      <td>Mon</td>\n",
              "      <td>5</td>\n",
              "      <td>11</td>\n",
              "      <td>2018</td>\n",
              "      <td>3</td>\n",
              "    </tr>\n",
              "    <tr>\n",
              "      <th>42460</th>\n",
              "      <td>Mon</td>\n",
              "      <td>5</td>\n",
              "      <td>11</td>\n",
              "      <td>2018</td>\n",
              "      <td>4</td>\n",
              "    </tr>\n",
              "    <tr>\n",
              "      <th>42461</th>\n",
              "      <td>Mon</td>\n",
              "      <td>5</td>\n",
              "      <td>11</td>\n",
              "      <td>2018</td>\n",
              "      <td>5</td>\n",
              "    </tr>\n",
              "    <tr>\n",
              "      <th>42462</th>\n",
              "      <td>Mon</td>\n",
              "      <td>5</td>\n",
              "      <td>11</td>\n",
              "      <td>2018</td>\n",
              "      <td>6</td>\n",
              "    </tr>\n",
              "    <tr>\n",
              "      <th>42463</th>\n",
              "      <td>Mon</td>\n",
              "      <td>5</td>\n",
              "      <td>11</td>\n",
              "      <td>2018</td>\n",
              "      <td>7</td>\n",
              "    </tr>\n",
              "  </tbody>\n",
              "</table>\n",
              "<p>8648 rows × 5 columns</p>\n",
              "</div>"
            ],
            "text/plain": [
              "      Weekday  Day  Month  Year  Hour\n",
              "33815     Thu    9     11  2017    23\n",
              "33816     Fri   10     11  2017     0\n",
              "33817     Fri   10     11  2017     1\n",
              "33818     Fri   10     11  2017     2\n",
              "33819     Fri   10     11  2017     3\n",
              "...       ...  ...    ...   ...   ...\n",
              "42459     Mon    5     11  2018     3\n",
              "42460     Mon    5     11  2018     4\n",
              "42461     Mon    5     11  2018     5\n",
              "42462     Mon    5     11  2018     6\n",
              "42463     Mon    5     11  2018     7\n",
              "\n",
              "[8648 rows x 5 columns]"
            ]
          },
          "metadata": {
            "tags": []
          },
          "execution_count": 88
        }
      ]
    },
    {
      "cell_type": "markdown",
      "metadata": {
        "id": "6fgijQ7LHT6_"
      },
      "source": [
        "## Additional information\n",
        "\n",
        "We covered subsetting of DataFrames with the indexers `[]`, `.loc[]`, and `.iloc[]` quite concisely.\n",
        "For a more verbose explanation, look at the [tutorials at Dunder Data](https://medium.com/dunder-data/pandas-tutorials/home). Especially, the problems with chained indexing operators (like `df[\"a\"][1]`) are explained well there (tutorial 4), which we did not cover at all. As a rule of thumb: one should avoid chained indexing combined with assignment! See [Pandas documentation](http://pandas.pydata.org/pandas-docs/stable/user_guide/indexing.html#why-does-assignment-fail-when-using-chained-indexing)."
      ]
    },
    {
      "cell_type": "markdown",
      "metadata": {
        "id": "HRWZUValHeQg"
      },
      "source": [
        "# Pandas (continues)"
      ]
    },
    {
      "cell_type": "code",
      "metadata": {
        "id": "lWO7K45eHeQk"
      },
      "source": [
        "import pandas as pd\n",
        "import numpy as np"
      ],
      "execution_count": null,
      "outputs": []
    },
    {
      "cell_type": "markdown",
      "metadata": {
        "id": "loV2GYoiHeQ1"
      },
      "source": [
        "## Catenating datasets\n",
        "\n",
        "We already saw in the NumPy section how we can catenate arrays along an axis: `axis=0` catenates vertically and `axis=1` catenates horizontally, and so on. With the DataFrames of Pandas it works similarly except that the row indices and the column names require extra attention. Also note a slight difference in the name: `np.concatenate` but `pd.concat`.\n",
        "\n",
        "Let's start by considering catenation along the axis 0, that is, vertical catenation. "
      ]
    },
    {
      "cell_type": "code",
      "metadata": {
        "id": "CHckZ3bFHeQ6",
        "colab": {
          "base_uri": "https://localhost:8080/",
          "height": 112
        },
        "outputId": "b5dc36a0-cc37-4cfc-e99d-96b23783beb5"
      },
      "source": [
        "a=pd.DataFrame([['A0','B0'],['A1','B1']],columns=['A','B'])\n",
        "b=pd.DataFrame([['A2','B2'],['A3','B3']],columns=['A','B'],index=[2,3])\n",
        "c=pd.DataFrame([['C0','D0'],['C1','D1']],columns=['C','D'])\n",
        "d=pd.DataFrame([['B2','C2'],['B3','C3']],columns=['B','C'],index=[2,3])\n",
        "a"
      ],
      "execution_count": 17,
      "outputs": [
        {
          "output_type": "execute_result",
          "data": {
            "text/html": [
              "<div>\n",
              "<style scoped>\n",
              "    .dataframe tbody tr th:only-of-type {\n",
              "        vertical-align: middle;\n",
              "    }\n",
              "\n",
              "    .dataframe tbody tr th {\n",
              "        vertical-align: top;\n",
              "    }\n",
              "\n",
              "    .dataframe thead th {\n",
              "        text-align: right;\n",
              "    }\n",
              "</style>\n",
              "<table border=\"1\" class=\"dataframe\">\n",
              "  <thead>\n",
              "    <tr style=\"text-align: right;\">\n",
              "      <th></th>\n",
              "      <th>A</th>\n",
              "      <th>B</th>\n",
              "    </tr>\n",
              "  </thead>\n",
              "  <tbody>\n",
              "    <tr>\n",
              "      <th>0</th>\n",
              "      <td>A0</td>\n",
              "      <td>B0</td>\n",
              "    </tr>\n",
              "    <tr>\n",
              "      <th>1</th>\n",
              "      <td>A1</td>\n",
              "      <td>B1</td>\n",
              "    </tr>\n",
              "  </tbody>\n",
              "</table>\n",
              "</div>"
            ],
            "text/plain": [
              "    A   B\n",
              "0  A0  B0\n",
              "1  A1  B1"
            ]
          },
          "metadata": {
            "tags": []
          },
          "execution_count": 17
        }
      ]
    },
    {
      "cell_type": "code",
      "metadata": {
        "id": "qm0K8sXRs_SY"
      },
      "source": [
        "b"
      ],
      "execution_count": null,
      "outputs": []
    },
    {
      "cell_type": "code",
      "metadata": {
        "id": "NUSeuPf6s_bX"
      },
      "source": [
        "c"
      ],
      "execution_count": null,
      "outputs": []
    },
    {
      "cell_type": "code",
      "metadata": {
        "id": "CQDMW_BEs_iu"
      },
      "source": [
        "d"
      ],
      "execution_count": null,
      "outputs": []
    },
    {
      "cell_type": "markdown",
      "metadata": {
        "id": "MHKaxXFIHeRt"
      },
      "source": [
        "In the following simple case, the `concat` function works exactly as we expect it would:"
      ]
    },
    {
      "cell_type": "code",
      "metadata": {
        "id": "7_3THIRTHeRw"
      },
      "source": [
        "pd.concat([a,b])   # The default axis is 0"
      ],
      "execution_count": null,
      "outputs": []
    },
    {
      "cell_type": "markdown",
      "metadata": {
        "id": "INgjqFvSHeR8"
      },
      "source": [
        "The next, however, will create duplicate indices:"
      ]
    },
    {
      "cell_type": "code",
      "metadata": {
        "id": "s8lEPCHPHeSA"
      },
      "source": [
        "r=pd.concat([a,a])\n",
        "r"
      ],
      "execution_count": null,
      "outputs": []
    },
    {
      "cell_type": "code",
      "metadata": {
        "id": "iEu4_qDNHeSI"
      },
      "source": [
        "r.loc[0,\"A\"]"
      ],
      "execution_count": null,
      "outputs": []
    },
    {
      "cell_type": "markdown",
      "metadata": {
        "id": "rm0lTGSvHeSO"
      },
      "source": [
        "This is not usually what we want! There are three solutions to this. Firstly, deny creation of duplicated indices by giving the `verify_integrity` parameter to the `concat` function:"
      ]
    },
    {
      "cell_type": "code",
      "metadata": {
        "id": "nxzqcmIHHeSQ"
      },
      "source": [
        "pd.concat([a,a], verify_integrity=True)\n"
      ],
      "execution_count": null,
      "outputs": []
    },
    {
      "cell_type": "markdown",
      "metadata": {
        "id": "a4QiZ5E_HeSY"
      },
      "source": [
        "Secondly, we can ask for automatic renumbering of rows:"
      ]
    },
    {
      "cell_type": "code",
      "metadata": {
        "id": "lyIaoXxLHeSc"
      },
      "source": [
        "pd.concat([a,a], ignore_index=True)"
      ],
      "execution_count": null,
      "outputs": []
    },
    {
      "cell_type": "markdown",
      "metadata": {
        "id": "7nVuh2JaHeSk"
      },
      "source": [
        "Thirdly, we can ask for *hierarchical indexing*. The indices can contain multiple levels, but on this course we don't consider hierarchical indices in detail. Hierarchical indices can make a two dimensional array to work like higher dimensional array."
      ]
    },
    {
      "cell_type": "code",
      "metadata": {
        "id": "5Ds-5xPxHeSm"
      },
      "source": [
        "r2=pd.concat([a,a], keys=['first', 'second'])\n",
        "r2"
      ],
      "execution_count": null,
      "outputs": []
    },
    {
      "cell_type": "code",
      "metadata": {
        "id": "FCb4zSbpHeSq"
      },
      "source": [
        "r2[\"A\"][\"first\"][0]"
      ],
      "execution_count": null,
      "outputs": []
    },
    {
      "cell_type": "markdown",
      "metadata": {
        "id": "RRGhiaNEHeSu"
      },
      "source": [
        "Everything works similarly, when we want to catenate horizontally:"
      ]
    },
    {
      "cell_type": "code",
      "metadata": {
        "id": "tvq_jbBAHeSv"
      },
      "source": [
        "pd.concat([a,c], axis=1)"
      ],
      "execution_count": null,
      "outputs": []
    },
    {
      "cell_type": "markdown",
      "metadata": {
        "id": "akqmcTcmHeS1"
      },
      "source": [
        "We have so far assumed that when concatenating vertically the columns of both DataFrames are the same, and when joining horizontally the indices are the same. This is, however, not required:"
      ]
    },
    {
      "cell_type": "code",
      "metadata": {
        "id": "3UNt1EwZHeS2",
        "colab": {
          "base_uri": "https://localhost:8080/",
          "height": 175
        },
        "outputId": "45a26386-a517-4643-8ec5-23a056908553"
      },
      "source": [
        "pd.concat([a,d], sort=False)    # sort option is used to silence a deprecation message"
      ],
      "execution_count": 18,
      "outputs": [
        {
          "output_type": "execute_result",
          "data": {
            "text/html": [
              "<div>\n",
              "<style scoped>\n",
              "    .dataframe tbody tr th:only-of-type {\n",
              "        vertical-align: middle;\n",
              "    }\n",
              "\n",
              "    .dataframe tbody tr th {\n",
              "        vertical-align: top;\n",
              "    }\n",
              "\n",
              "    .dataframe thead th {\n",
              "        text-align: right;\n",
              "    }\n",
              "</style>\n",
              "<table border=\"1\" class=\"dataframe\">\n",
              "  <thead>\n",
              "    <tr style=\"text-align: right;\">\n",
              "      <th></th>\n",
              "      <th>A</th>\n",
              "      <th>B</th>\n",
              "      <th>C</th>\n",
              "    </tr>\n",
              "  </thead>\n",
              "  <tbody>\n",
              "    <tr>\n",
              "      <th>0</th>\n",
              "      <td>A0</td>\n",
              "      <td>B0</td>\n",
              "      <td>NaN</td>\n",
              "    </tr>\n",
              "    <tr>\n",
              "      <th>1</th>\n",
              "      <td>A1</td>\n",
              "      <td>B1</td>\n",
              "      <td>NaN</td>\n",
              "    </tr>\n",
              "    <tr>\n",
              "      <th>2</th>\n",
              "      <td>NaN</td>\n",
              "      <td>B2</td>\n",
              "      <td>C2</td>\n",
              "    </tr>\n",
              "    <tr>\n",
              "      <th>3</th>\n",
              "      <td>NaN</td>\n",
              "      <td>B3</td>\n",
              "      <td>C3</td>\n",
              "    </tr>\n",
              "  </tbody>\n",
              "</table>\n",
              "</div>"
            ],
            "text/plain": [
              "     A   B    C\n",
              "0   A0  B0  NaN\n",
              "1   A1  B1  NaN\n",
              "2  NaN  B2   C2\n",
              "3  NaN  B3   C3"
            ]
          },
          "metadata": {
            "tags": []
          },
          "execution_count": 18
        }
      ]
    },
    {
      "cell_type": "markdown",
      "metadata": {
        "id": "Kv0fXCeZHeS7"
      },
      "source": [
        "It expanded the non-existing cases with `NaN`s. This method is called an *outer join*, which forms the union of columns in the two DataFrames. The alternative is *inner join*, which forms the intersection of columns:"
      ]
    },
    {
      "cell_type": "code",
      "metadata": {
        "id": "tMJWncDYHeS7",
        "colab": {
          "base_uri": "https://localhost:8080/",
          "height": 175
        },
        "outputId": "45a02073-7398-4c8f-ff2b-1ec9f29c6f5b"
      },
      "source": [
        "pd.concat([a,d], join=\"inner\")"
      ],
      "execution_count": 19,
      "outputs": [
        {
          "output_type": "execute_result",
          "data": {
            "text/html": [
              "<div>\n",
              "<style scoped>\n",
              "    .dataframe tbody tr th:only-of-type {\n",
              "        vertical-align: middle;\n",
              "    }\n",
              "\n",
              "    .dataframe tbody tr th {\n",
              "        vertical-align: top;\n",
              "    }\n",
              "\n",
              "    .dataframe thead th {\n",
              "        text-align: right;\n",
              "    }\n",
              "</style>\n",
              "<table border=\"1\" class=\"dataframe\">\n",
              "  <thead>\n",
              "    <tr style=\"text-align: right;\">\n",
              "      <th></th>\n",
              "      <th>B</th>\n",
              "    </tr>\n",
              "  </thead>\n",
              "  <tbody>\n",
              "    <tr>\n",
              "      <th>0</th>\n",
              "      <td>B0</td>\n",
              "    </tr>\n",
              "    <tr>\n",
              "      <th>1</th>\n",
              "      <td>B1</td>\n",
              "    </tr>\n",
              "    <tr>\n",
              "      <th>2</th>\n",
              "      <td>B2</td>\n",
              "    </tr>\n",
              "    <tr>\n",
              "      <th>3</th>\n",
              "      <td>B3</td>\n",
              "    </tr>\n",
              "  </tbody>\n",
              "</table>\n",
              "</div>"
            ],
            "text/plain": [
              "    B\n",
              "0  B0\n",
              "1  B1\n",
              "2  B2\n",
              "3  B3"
            ]
          },
          "metadata": {
            "tags": []
          },
          "execution_count": 19
        }
      ]
    },
    {
      "cell_type": "markdown",
      "metadata": {
        "id": "hqByq7gTHeTA"
      },
      "source": [
        "#### <div class=\"alert alert-info\">Exercise 19 (split date continues)</div>\n",
        "\n",
        "Write function `split_date_continues` that does\n",
        "\n",
        "* read the bicycle data set\n",
        "* clean the data set of columns/rows that contain only missing values\n",
        "* drops the `Date` column and replaces it with its splitted components as before\n",
        "\n",
        "Use the `concat` function to do this. The function should return a DataFrame with 25 columns (first five related to the date and then the rest 20 conserning the measument location.\n",
        "\n",
        "<hr/>"
      ]
    },
    {
      "cell_type": "code",
      "metadata": {
        "id": "dmspGECstlqK",
        "colab": {
          "base_uri": "https://localhost:8080/",
          "height": 164
        },
        "outputId": "80733bac-6231-4ca8-cae8-b5c9942ad24e"
      },
      "source": [
        "\n",
        "\n",
        "\n",
        "def split_date_continues():\n",
        "    # reading data from csv\n",
        "    df = pd.read_csv('https://raw.githubusercontent.com/smabb/p/master/data/Helsinki_bicycle.csv', sep=\";\")\n",
        "\n",
        "    # dropping unecessary rows and columns\n",
        "    df = df.dropna()\n",
        "    df = df.dropna(axis = 1)\n",
        "\n",
        "    # extracting first column to separate var\n",
        "    col = df.iloc[:,0] \n",
        "    df = df.drop(df.columns[0], axis=1) \n",
        "\n",
        "    # splitting data, translating\n",
        "    col = col.str.split(expand = True)\n",
        "    col.columns = [\"Weekday\", \"Day\", \"Month\", \"Year\", \"Hour\"]\n",
        "    col['Hour'] = col['Hour'].str[0:2]\n",
        "    \n",
        "    weekdays = {\n",
        "        \"ma\":\"Mon\",\n",
        "        \"ti\":\"Tue\",\n",
        "        \"ke\":\"Wed\",\n",
        "        \"to\":\"Thu\",\n",
        "        \"pe\":\"Fri\",\n",
        "        \"la\":\"Sat\",\n",
        "        \"su\":\"Sun\"\n",
        "    }\n",
        "    \n",
        "    months = {\n",
        "        \"tammi\" :1,\n",
        "        \"helmi\" :2,\n",
        "        \"maalis\" :3,\n",
        "        \"huhti\" :4,\n",
        "        \"touko\" :5,\n",
        "        \"kesä\":6,\n",
        "        \"heinä\" :7,\n",
        "        \"elo\" :8,\n",
        "        \"syys\" :9,\n",
        "        \"loka\" :10,\n",
        "        \"marras\" :11,\n",
        "        \"joulu\" :12,\n",
        "    }\n",
        "\n",
        "    col[\"Weekday\"] = col[\"Weekday\"].map(weekdays)\n",
        "    col[\"Month\"] = col[\"Month\"].map(months)\n",
        "    col = col.astype({\"Weekday\": object, \"Day\": int, \"Month\": int, \"Year\": int, \"Hour\": int})\n",
        "\n",
        "    res = pd.concat([col, df], axis = 1)\n",
        "\n",
        "    return res\n",
        "\n",
        "\n",
        "df = split_date_continues()\n",
        "#print(\"Shape:\", df.shape)\n",
        "#print(\"Column names:\\n\", df.columns)\n",
        "print(df.head())\n"
      ],
      "execution_count": null,
      "outputs": [
        {
          "output_type": "stream",
          "text": [
            "      Weekday  Day  Month  Year  ...  point_17  point_18  point_19  point_20\n",
            "33815     Thu    9     11  2017  ...      10.0       3.0       1.0         8\n",
            "33816     Fri   10     11  2017  ...       0.0       4.0       0.0         3\n",
            "33817     Fri   10     11  2017  ...       2.0       1.0       0.0         3\n",
            "33818     Fri   10     11  2017  ...       1.0       1.0       0.0         2\n",
            "33819     Fri   10     11  2017  ...       1.0       1.0       2.0         2\n",
            "\n",
            "[5 rows x 25 columns]\n"
          ],
          "name": "stdout"
        }
      ]
    },
    {
      "cell_type": "markdown",
      "metadata": {
        "id": "3cGQJCsoHeTB"
      },
      "source": [
        "## Merging dataframes"
      ]
    },
    {
      "cell_type": "markdown",
      "metadata": {
        "id": "0IJ6W42HHeTD"
      },
      "source": [
        "Merging combines two DataFrames based on some common field."
      ]
    },
    {
      "cell_type": "markdown",
      "metadata": {
        "id": "0v38TAakHeTD"
      },
      "source": [
        "Let's recall the earlier DataFrame about wages and ages of persons:"
      ]
    },
    {
      "cell_type": "code",
      "metadata": {
        "id": "fPipjHd_HeTH"
      },
      "source": [
        "df = pd.DataFrame([[1000, \"Jack\", 21], [1500, \"John\", 29]], columns=[\"Wage\", \"Name\", \"Age\"])\n",
        "df"
      ],
      "execution_count": null,
      "outputs": []
    },
    {
      "cell_type": "markdown",
      "metadata": {
        "id": "hjv3AnfvHeTK"
      },
      "source": [
        "Now, create a new DataFrame with the occupations of persons:"
      ]
    },
    {
      "cell_type": "code",
      "metadata": {
        "id": "uJgkLSeCHeTL"
      },
      "source": [
        "df2 = pd.DataFrame({\"Name\" : [\"John\", \"Jack\"], \"Occupation\": [\"Plumber\", \"Carpenter\"]})\n",
        "df2"
      ],
      "execution_count": null,
      "outputs": []
    },
    {
      "cell_type": "markdown",
      "metadata": {
        "id": "C7F2AX_fHeTP"
      },
      "source": [
        "The following function call will merge the two DataFrames on their common field, and, importantly, will keep the indices *aligned*. What this means is that even though the names are listed in different order in the two frames, the merge will still give correct result."
      ]
    },
    {
      "cell_type": "code",
      "metadata": {
        "id": "EExjxclyHeTR"
      },
      "source": [
        "pd.merge(df, df2)"
      ],
      "execution_count": null,
      "outputs": []
    },
    {
      "cell_type": "markdown",
      "metadata": {
        "id": "qaarefbNHeTT"
      },
      "source": [
        "This was an example of a simple one-to-one merge, where the keys in the `Name` columns had 1-to-1 correspondence. Sometimes not all the keys appear in both DataFrames:"
      ]
    },
    {
      "cell_type": "code",
      "metadata": {
        "id": "B3dvLta2HeTU"
      },
      "source": [
        "df3 = pd.concat([df2, pd.DataFrame({ \"Name\" : [\"James\"], \"Occupation\":[\"Painter\"]})], ignore_index=True)\n",
        "df3"
      ],
      "execution_count": null,
      "outputs": []
    },
    {
      "cell_type": "code",
      "metadata": {
        "id": "T2i0TTetHeTY"
      },
      "source": [
        "pd.merge(df, df3)                # By default an inner join is computed"
      ],
      "execution_count": null,
      "outputs": []
    },
    {
      "cell_type": "code",
      "metadata": {
        "id": "FjnUk7wOHeTc"
      },
      "source": [
        "pd.merge(df, df3, how=\"outer\")   # Outer join"
      ],
      "execution_count": null,
      "outputs": []
    },
    {
      "cell_type": "markdown",
      "metadata": {
        "id": "zp7tVUwUHeTl"
      },
      "source": [
        "Also, many-to-one and many-to-many relationships can occur in merges:"
      ]
    },
    {
      "cell_type": "code",
      "metadata": {
        "id": "21fE5HzpHeTo"
      },
      "source": [
        "books = pd.DataFrame({\"Title\" : [\"War and Peace\", \"Good Omens\", \"Good Omens\"] , \n",
        "                      \"Author\" : [\"Tolstoi\", \"Terry Pratchett\", \"Neil Gaiman\"]})\n",
        "books"
      ],
      "execution_count": null,
      "outputs": []
    },
    {
      "cell_type": "code",
      "metadata": {
        "id": "DhZgBjCAHeTu"
      },
      "source": [
        "collections = pd.DataFrame([[\"Oodi\", \"War and Peace\"],\n",
        "                           [\"Oodi\", \"Good Omens\"],\n",
        "                           [\"Pasila\", \"Good Omens\"],\n",
        "                           [\"Kallio\", \"War and Peace\"]], columns=[\"Library\", \"Title\"])\n",
        "collections"
      ],
      "execution_count": null,
      "outputs": []
    },
    {
      "cell_type": "markdown",
      "metadata": {
        "id": "KNYHegUtHeT0"
      },
      "source": [
        "All combinations with matching keys (`Title`) are created:"
      ]
    },
    {
      "cell_type": "code",
      "metadata": {
        "id": "UWnphVhtHeT5"
      },
      "source": [
        "libraries_with_books_by = pd.merge(books, collections)\n",
        "libraries_with_books_by"
      ],
      "execution_count": null,
      "outputs": []
    },
    {
      "cell_type": "markdown",
      "metadata": {
        "id": "Ky9ZNCQWHeT_"
      },
      "source": [
        "#### <div class=\"alert alert-info\">Exercise 20 (cycling weather)</div>\n",
        "\n",
        "Merge the processed cycling data set (from the previous exercise) and weather data set along the columns year, month, and day. Note that the names of these columns might be different in the two tables: use the `left_on` and `right_on` parameters. Then drop useless columns 'm', 'd', 'Time', and 'Time zone'.\n",
        "\n",
        "Write function `cycling_weather` that reads the data sets and returns the resulting DataFrame.\n",
        "\n",
        "<hr/>"
      ]
    },
    {
      "cell_type": "code",
      "metadata": {
        "id": "WoPnyeRsuhsw",
        "colab": {
          "base_uri": "https://localhost:8080/",
          "height": 479
        },
        "outputId": "6383e6e4-d27c-42e6-87dc-773744e87251"
      },
      "source": [
        "def cycling_weather():\n",
        "    cycling_data = split_date_continues()  # Weekday, Day, Month, Year, Hour\n",
        "    df = pd.read_csv(\"https://raw.githubusercontent.com/smabb/p/master/data/temp.csv\")  # Year, m, d, Time\n",
        "    final_df = pd.merge(cycling_data, df, left_on=['Day', 'Month', 'Year'], right_on=['d', 'm', 'Year'])\n",
        "    final_df = final_df.drop(['m', 'd', 'Time', 'Time zone'], axis=1)\n",
        "    return final_df\n",
        "\n",
        "cycling_weather()"
      ],
      "execution_count": null,
      "outputs": [
        {
          "output_type": "execute_result",
          "data": {
            "text/html": [
              "<div>\n",
              "<style scoped>\n",
              "    .dataframe tbody tr th:only-of-type {\n",
              "        vertical-align: middle;\n",
              "    }\n",
              "\n",
              "    .dataframe tbody tr th {\n",
              "        vertical-align: top;\n",
              "    }\n",
              "\n",
              "    .dataframe thead th {\n",
              "        text-align: right;\n",
              "    }\n",
              "</style>\n",
              "<table border=\"1\" class=\"dataframe\">\n",
              "  <thead>\n",
              "    <tr style=\"text-align: right;\">\n",
              "      <th></th>\n",
              "      <th>Weekday</th>\n",
              "      <th>Day</th>\n",
              "      <th>Month</th>\n",
              "      <th>Year</th>\n",
              "      <th>Hour</th>\n",
              "      <th>point_1</th>\n",
              "      <th>point_2</th>\n",
              "      <th>point_3</th>\n",
              "      <th>point_4</th>\n",
              "      <th>point_5</th>\n",
              "      <th>point_6</th>\n",
              "      <th>point_7</th>\n",
              "      <th>point_8</th>\n",
              "      <th>point_9</th>\n",
              "      <th>point_10</th>\n",
              "      <th>point_11</th>\n",
              "      <th>point_12</th>\n",
              "      <th>point_13</th>\n",
              "      <th>point_14</th>\n",
              "      <th>point_15</th>\n",
              "      <th>point_16</th>\n",
              "      <th>point_17</th>\n",
              "      <th>point_18</th>\n",
              "      <th>point_19</th>\n",
              "      <th>point_20</th>\n",
              "      <th>Precipitation amount (mm)</th>\n",
              "      <th>Snow depth (cm)</th>\n",
              "      <th>Air temperature (degC)</th>\n",
              "    </tr>\n",
              "  </thead>\n",
              "  <tbody>\n",
              "    <tr>\n",
              "      <th>0</th>\n",
              "      <td>Thu</td>\n",
              "      <td>9</td>\n",
              "      <td>11</td>\n",
              "      <td>2017</td>\n",
              "      <td>23</td>\n",
              "      <td>5.0</td>\n",
              "      <td>7.0</td>\n",
              "      <td>2.0</td>\n",
              "      <td>7.0</td>\n",
              "      <td>5.0</td>\n",
              "      <td>0.0</td>\n",
              "      <td>6.0</td>\n",
              "      <td>0.0</td>\n",
              "      <td>5.0</td>\n",
              "      <td>12.0</td>\n",
              "      <td>4.0</td>\n",
              "      <td>0.0</td>\n",
              "      <td>1.0</td>\n",
              "      <td>18.0</td>\n",
              "      <td>12.0</td>\n",
              "      <td>5.0</td>\n",
              "      <td>10.0</td>\n",
              "      <td>3.0</td>\n",
              "      <td>1.0</td>\n",
              "      <td>8</td>\n",
              "      <td>9.3</td>\n",
              "      <td>-1.0</td>\n",
              "      <td>6.7</td>\n",
              "    </tr>\n",
              "    <tr>\n",
              "      <th>1</th>\n",
              "      <td>Fri</td>\n",
              "      <td>10</td>\n",
              "      <td>11</td>\n",
              "      <td>2017</td>\n",
              "      <td>0</td>\n",
              "      <td>2.0</td>\n",
              "      <td>6.0</td>\n",
              "      <td>2.0</td>\n",
              "      <td>3.0</td>\n",
              "      <td>4.0</td>\n",
              "      <td>0.0</td>\n",
              "      <td>2.0</td>\n",
              "      <td>3.0</td>\n",
              "      <td>0.0</td>\n",
              "      <td>6.0</td>\n",
              "      <td>4.0</td>\n",
              "      <td>0.0</td>\n",
              "      <td>2.0</td>\n",
              "      <td>2.0</td>\n",
              "      <td>5.0</td>\n",
              "      <td>2.0</td>\n",
              "      <td>0.0</td>\n",
              "      <td>4.0</td>\n",
              "      <td>0.0</td>\n",
              "      <td>3</td>\n",
              "      <td>3.6</td>\n",
              "      <td>NaN</td>\n",
              "      <td>7.2</td>\n",
              "    </tr>\n",
              "    <tr>\n",
              "      <th>2</th>\n",
              "      <td>Fri</td>\n",
              "      <td>10</td>\n",
              "      <td>11</td>\n",
              "      <td>2017</td>\n",
              "      <td>1</td>\n",
              "      <td>2.0</td>\n",
              "      <td>1.0</td>\n",
              "      <td>3.0</td>\n",
              "      <td>2.0</td>\n",
              "      <td>6.0</td>\n",
              "      <td>0.0</td>\n",
              "      <td>3.0</td>\n",
              "      <td>0.0</td>\n",
              "      <td>0.0</td>\n",
              "      <td>2.0</td>\n",
              "      <td>2.0</td>\n",
              "      <td>0.0</td>\n",
              "      <td>1.0</td>\n",
              "      <td>2.0</td>\n",
              "      <td>3.0</td>\n",
              "      <td>5.0</td>\n",
              "      <td>2.0</td>\n",
              "      <td>1.0</td>\n",
              "      <td>0.0</td>\n",
              "      <td>3</td>\n",
              "      <td>3.6</td>\n",
              "      <td>NaN</td>\n",
              "      <td>7.2</td>\n",
              "    </tr>\n",
              "    <tr>\n",
              "      <th>3</th>\n",
              "      <td>Fri</td>\n",
              "      <td>10</td>\n",
              "      <td>11</td>\n",
              "      <td>2017</td>\n",
              "      <td>2</td>\n",
              "      <td>2.0</td>\n",
              "      <td>1.0</td>\n",
              "      <td>1.0</td>\n",
              "      <td>2.0</td>\n",
              "      <td>2.0</td>\n",
              "      <td>0.0</td>\n",
              "      <td>0.0</td>\n",
              "      <td>0.0</td>\n",
              "      <td>0.0</td>\n",
              "      <td>6.0</td>\n",
              "      <td>0.0</td>\n",
              "      <td>0.0</td>\n",
              "      <td>1.0</td>\n",
              "      <td>2.0</td>\n",
              "      <td>2.0</td>\n",
              "      <td>2.0</td>\n",
              "      <td>1.0</td>\n",
              "      <td>1.0</td>\n",
              "      <td>0.0</td>\n",
              "      <td>2</td>\n",
              "      <td>3.6</td>\n",
              "      <td>NaN</td>\n",
              "      <td>7.2</td>\n",
              "    </tr>\n",
              "    <tr>\n",
              "      <th>4</th>\n",
              "      <td>Fri</td>\n",
              "      <td>10</td>\n",
              "      <td>11</td>\n",
              "      <td>2017</td>\n",
              "      <td>3</td>\n",
              "      <td>0.0</td>\n",
              "      <td>0.0</td>\n",
              "      <td>0.0</td>\n",
              "      <td>0.0</td>\n",
              "      <td>1.0</td>\n",
              "      <td>0.0</td>\n",
              "      <td>1.0</td>\n",
              "      <td>0.0</td>\n",
              "      <td>0.0</td>\n",
              "      <td>0.0</td>\n",
              "      <td>0.0</td>\n",
              "      <td>0.0</td>\n",
              "      <td>0.0</td>\n",
              "      <td>4.0</td>\n",
              "      <td>0.0</td>\n",
              "      <td>1.0</td>\n",
              "      <td>1.0</td>\n",
              "      <td>1.0</td>\n",
              "      <td>2.0</td>\n",
              "      <td>2</td>\n",
              "      <td>3.6</td>\n",
              "      <td>NaN</td>\n",
              "      <td>7.2</td>\n",
              "    </tr>\n",
              "    <tr>\n",
              "      <th>...</th>\n",
              "      <td>...</td>\n",
              "      <td>...</td>\n",
              "      <td>...</td>\n",
              "      <td>...</td>\n",
              "      <td>...</td>\n",
              "      <td>...</td>\n",
              "      <td>...</td>\n",
              "      <td>...</td>\n",
              "      <td>...</td>\n",
              "      <td>...</td>\n",
              "      <td>...</td>\n",
              "      <td>...</td>\n",
              "      <td>...</td>\n",
              "      <td>...</td>\n",
              "      <td>...</td>\n",
              "      <td>...</td>\n",
              "      <td>...</td>\n",
              "      <td>...</td>\n",
              "      <td>...</td>\n",
              "      <td>...</td>\n",
              "      <td>...</td>\n",
              "      <td>...</td>\n",
              "      <td>...</td>\n",
              "      <td>...</td>\n",
              "      <td>...</td>\n",
              "      <td>...</td>\n",
              "      <td>...</td>\n",
              "      <td>...</td>\n",
              "    </tr>\n",
              "    <tr>\n",
              "      <th>1244</th>\n",
              "      <td>Sun</td>\n",
              "      <td>31</td>\n",
              "      <td>12</td>\n",
              "      <td>2017</td>\n",
              "      <td>19</td>\n",
              "      <td>2.0</td>\n",
              "      <td>3.0</td>\n",
              "      <td>3.0</td>\n",
              "      <td>4.0</td>\n",
              "      <td>10.0</td>\n",
              "      <td>0.0</td>\n",
              "      <td>8.0</td>\n",
              "      <td>4.0</td>\n",
              "      <td>5.0</td>\n",
              "      <td>10.0</td>\n",
              "      <td>8.0</td>\n",
              "      <td>4.0</td>\n",
              "      <td>3.0</td>\n",
              "      <td>3.0</td>\n",
              "      <td>13.0</td>\n",
              "      <td>10.0</td>\n",
              "      <td>1.0</td>\n",
              "      <td>4.0</td>\n",
              "      <td>5.0</td>\n",
              "      <td>11</td>\n",
              "      <td>3.2</td>\n",
              "      <td>-1.0</td>\n",
              "      <td>1.6</td>\n",
              "    </tr>\n",
              "    <tr>\n",
              "      <th>1245</th>\n",
              "      <td>Sun</td>\n",
              "      <td>31</td>\n",
              "      <td>12</td>\n",
              "      <td>2017</td>\n",
              "      <td>20</td>\n",
              "      <td>2.0</td>\n",
              "      <td>5.0</td>\n",
              "      <td>3.0</td>\n",
              "      <td>3.0</td>\n",
              "      <td>10.0</td>\n",
              "      <td>0.0</td>\n",
              "      <td>6.0</td>\n",
              "      <td>4.0</td>\n",
              "      <td>0.0</td>\n",
              "      <td>6.0</td>\n",
              "      <td>5.0</td>\n",
              "      <td>6.0</td>\n",
              "      <td>4.0</td>\n",
              "      <td>8.0</td>\n",
              "      <td>9.0</td>\n",
              "      <td>7.0</td>\n",
              "      <td>3.0</td>\n",
              "      <td>4.0</td>\n",
              "      <td>1.0</td>\n",
              "      <td>5</td>\n",
              "      <td>3.2</td>\n",
              "      <td>-1.0</td>\n",
              "      <td>1.6</td>\n",
              "    </tr>\n",
              "    <tr>\n",
              "      <th>1246</th>\n",
              "      <td>Sun</td>\n",
              "      <td>31</td>\n",
              "      <td>12</td>\n",
              "      <td>2017</td>\n",
              "      <td>21</td>\n",
              "      <td>4.0</td>\n",
              "      <td>7.0</td>\n",
              "      <td>1.0</td>\n",
              "      <td>4.0</td>\n",
              "      <td>11.0</td>\n",
              "      <td>0.0</td>\n",
              "      <td>5.0</td>\n",
              "      <td>0.0</td>\n",
              "      <td>2.0</td>\n",
              "      <td>6.0</td>\n",
              "      <td>4.0</td>\n",
              "      <td>4.0</td>\n",
              "      <td>2.0</td>\n",
              "      <td>7.0</td>\n",
              "      <td>6.0</td>\n",
              "      <td>4.0</td>\n",
              "      <td>2.0</td>\n",
              "      <td>5.0</td>\n",
              "      <td>0.0</td>\n",
              "      <td>8</td>\n",
              "      <td>3.2</td>\n",
              "      <td>-1.0</td>\n",
              "      <td>1.6</td>\n",
              "    </tr>\n",
              "    <tr>\n",
              "      <th>1247</th>\n",
              "      <td>Sun</td>\n",
              "      <td>31</td>\n",
              "      <td>12</td>\n",
              "      <td>2017</td>\n",
              "      <td>22</td>\n",
              "      <td>1.0</td>\n",
              "      <td>7.0</td>\n",
              "      <td>1.0</td>\n",
              "      <td>4.0</td>\n",
              "      <td>15.0</td>\n",
              "      <td>0.0</td>\n",
              "      <td>3.0</td>\n",
              "      <td>0.0</td>\n",
              "      <td>4.0</td>\n",
              "      <td>4.0</td>\n",
              "      <td>7.0</td>\n",
              "      <td>4.0</td>\n",
              "      <td>3.0</td>\n",
              "      <td>17.0</td>\n",
              "      <td>4.0</td>\n",
              "      <td>8.0</td>\n",
              "      <td>2.0</td>\n",
              "      <td>2.0</td>\n",
              "      <td>3.0</td>\n",
              "      <td>8</td>\n",
              "      <td>3.2</td>\n",
              "      <td>-1.0</td>\n",
              "      <td>1.6</td>\n",
              "    </tr>\n",
              "    <tr>\n",
              "      <th>1248</th>\n",
              "      <td>Sun</td>\n",
              "      <td>31</td>\n",
              "      <td>12</td>\n",
              "      <td>2017</td>\n",
              "      <td>23</td>\n",
              "      <td>8.0</td>\n",
              "      <td>5.0</td>\n",
              "      <td>2.0</td>\n",
              "      <td>7.0</td>\n",
              "      <td>10.0</td>\n",
              "      <td>0.0</td>\n",
              "      <td>8.0</td>\n",
              "      <td>3.0</td>\n",
              "      <td>0.0</td>\n",
              "      <td>2.0</td>\n",
              "      <td>12.0</td>\n",
              "      <td>4.0</td>\n",
              "      <td>4.0</td>\n",
              "      <td>16.0</td>\n",
              "      <td>14.0</td>\n",
              "      <td>10.0</td>\n",
              "      <td>3.0</td>\n",
              "      <td>0.0</td>\n",
              "      <td>1.0</td>\n",
              "      <td>15</td>\n",
              "      <td>3.2</td>\n",
              "      <td>-1.0</td>\n",
              "      <td>1.6</td>\n",
              "    </tr>\n",
              "  </tbody>\n",
              "</table>\n",
              "<p>1249 rows × 28 columns</p>\n",
              "</div>"
            ],
            "text/plain": [
              "     Weekday  Day  ...  Snow depth (cm)  Air temperature (degC)\n",
              "0        Thu    9  ...             -1.0                     6.7\n",
              "1        Fri   10  ...              NaN                     7.2\n",
              "2        Fri   10  ...              NaN                     7.2\n",
              "3        Fri   10  ...              NaN                     7.2\n",
              "4        Fri   10  ...              NaN                     7.2\n",
              "...      ...  ...  ...              ...                     ...\n",
              "1244     Sun   31  ...             -1.0                     1.6\n",
              "1245     Sun   31  ...             -1.0                     1.6\n",
              "1246     Sun   31  ...             -1.0                     1.6\n",
              "1247     Sun   31  ...             -1.0                     1.6\n",
              "1248     Sun   31  ...             -1.0                     1.6\n",
              "\n",
              "[1249 rows x 28 columns]"
            ]
          },
          "metadata": {
            "tags": []
          },
          "execution_count": 93
        }
      ]
    },
    {
      "cell_type": "markdown",
      "metadata": {
        "id": "nuDP5Z9THeUC"
      },
      "source": [
        "## Aggregates and groupings\n",
        "\n",
        "Let us use again the weather dataset. First, we make the column names a bit more uniform and concise. For example the columns `Year`, `m`, and `d` are not uniformly named.\n",
        "\n",
        "We can easily change the column names with the `rename` method of the DataFrame. Note that we cannot directly change the index `wh.index` as it is immutable."
      ]
    },
    {
      "cell_type": "code",
      "metadata": {
        "id": "wC-Ncdh5HeUC"
      },
      "source": [
        "wh = pd.read_csv(\"https://raw.githubusercontent.com/smabb/p/master/data/temp.csv\")"
      ],
      "execution_count": null,
      "outputs": []
    },
    {
      "cell_type": "code",
      "metadata": {
        "id": "IcM2poefHeUF"
      },
      "source": [
        "wh3 = wh.rename(columns={\"m\": \"Month\", \"d\": \"Day\", \"Precipitation amount (mm)\" : \"Precipitation\", \n",
        "                         \"Snow depth (cm)\" : \"Snow\", \"Air temperature (degC)\" : \"Temperature\"})\n",
        "wh3.head()"
      ],
      "execution_count": null,
      "outputs": []
    },
    {
      "cell_type": "markdown",
      "metadata": {
        "id": "1TSKEbYmHeUM"
      },
      "source": [
        "Pandas has an operation that splits a DataFrame into groups, performs some operation on each of the groups, and then combines the result from each group into a resulting DataFrame. This split-apply-combine functionality is really flexible and powerful operation. In Pandas you start by calling the `groupby` method, which splits the DataFrame into groups. In the following example the rows that contain measurements from the same month belong to the same group:"
      ]
    },
    {
      "cell_type": "code",
      "metadata": {
        "id": "-q4G9vaMHeUN"
      },
      "source": [
        "groups = wh3.groupby(\"Month\")\n",
        "groups"
      ],
      "execution_count": null,
      "outputs": []
    },
    {
      "cell_type": "markdown",
      "metadata": {
        "id": "BmkAfJwlHeUT"
      },
      "source": [
        "Nothing happened yet, but the `groupby` object knows how the division into groups is done. This is called a lazy operation. We can query the number of groups in the `groupby` object:"
      ]
    },
    {
      "cell_type": "code",
      "metadata": {
        "id": "gyNRReiIHeUV"
      },
      "source": [
        "len(groups)"
      ],
      "execution_count": null,
      "outputs": []
    },
    {
      "cell_type": "markdown",
      "metadata": {
        "id": "6-9f3JoVHeUZ"
      },
      "source": [
        "We can iterate through all the groups:"
      ]
    },
    {
      "cell_type": "code",
      "metadata": {
        "id": "YskEZqi6HeUa"
      },
      "source": [
        "for key, group in groups:\n",
        "    print(key, len(group))"
      ],
      "execution_count": null,
      "outputs": []
    },
    {
      "cell_type": "code",
      "metadata": {
        "id": "bu-Eo9m4HeUd"
      },
      "source": [
        "groups.get_group(2)                 # Group with index two "
      ],
      "execution_count": null,
      "outputs": []
    },
    {
      "cell_type": "markdown",
      "metadata": {
        "id": "lXi1ZfyrHeUf"
      },
      "source": [
        "The `groupby` object functions a bit like a DataFrame, so some operations which are allowed for DataFrames are also allowed for the `groupby` object. For example, we can get a subset of columns:"
      ]
    },
    {
      "cell_type": "code",
      "metadata": {
        "id": "l9u3mXjAHeUf"
      },
      "source": [
        "groups[\"Temperature\"]"
      ],
      "execution_count": null,
      "outputs": []
    },
    {
      "cell_type": "markdown",
      "metadata": {
        "id": "3uUgR8E3HeUk"
      },
      "source": [
        "For each DataFrame corresponding to a group the Temperature column was chosen. Still nothing was shown, because we haven't applied any operation on the groups."
      ]
    },
    {
      "cell_type": "markdown",
      "metadata": {
        "id": "RRERi3QQHeUk"
      },
      "source": [
        "The common methods also include the aggregation methods. Let's try to apply the `mean` aggregation:"
      ]
    },
    {
      "cell_type": "code",
      "metadata": {
        "id": "lz8E5C7KHeUl"
      },
      "source": [
        "groups[\"Temperature\"].mean()"
      ],
      "execution_count": null,
      "outputs": []
    },
    {
      "cell_type": "code",
      "metadata": {
        "id": "whQrlQjayBB1"
      },
      "source": [
        "groups[\"Precipitation\"].sum() > 150"
      ],
      "execution_count": null,
      "outputs": []
    },
    {
      "cell_type": "markdown",
      "metadata": {
        "id": "IN4gBQ3Pxr0e"
      },
      "source": [
        "Now what happened was that after the mean aggregation was performed on each group, the results were automatically combined into a resulting DataFrame. Let's try some other aggregation:"
      ]
    },
    {
      "cell_type": "markdown",
      "metadata": {
        "id": "IIxilHT29hXt"
      },
      "source": [
        "### Other ways to operate on groups\n",
        "\n",
        "The aggregations are not the only possible operations on groups. The other possibilities are filtering, transformation, and application.\n",
        "\n",
        "In **filtering** some of the groups can be filtered out."
      ]
    },
    {
      "cell_type": "code",
      "metadata": {
        "id": "Tgvk5atuHeU8"
      },
      "source": [
        "def myfilter(df):                                     # The filter function must return a boolean value\n",
        "    return df[\"Precipitation\"].sum() >= 150\n",
        "\n",
        "wh3.groupby(\"Month\").filter(myfilter)                 # Filter out months with total precipitation less that 150 mm"
      ],
      "execution_count": null,
      "outputs": []
    },
    {
      "cell_type": "markdown",
      "metadata": {
        "id": "KWQVHM5DHeVF"
      },
      "source": [
        "#### <div class=\"alert alert-info\">Exercise 21 (cyclists per day)</div>\n",
        "\n",
        "\n",
        "\n",
        "Part 1.\n",
        "\n",
        "Read, clean and parse the bicycle data set as before. Group the rows by year, month, and day. Get the sum for each group.\n",
        "Make function `cyclists_per_day` that does the above. The function should return a DataFrame.\n",
        "Make sure that the columns Hour and Weekday are not included in the returned DataFrame.\n",
        "\n",
        "Part 2.\n",
        "\n",
        "Using the function `cyclists_per_day`, get the daily counts.  The index of the DataFrame now consists of tuples (Year, Month, Day). Then restrict this data to August of year 2017, and plot this data. Don't forget to call the `plt.show` function of matplotlib. The x-axis should have ticks from 1 to 31, and there should be a curve to each measuring station. Can you spot the weekends?\n",
        "\n",
        "<hr/>"
      ]
    },
    {
      "cell_type": "code",
      "metadata": {
        "id": "g9Zk7doY0QMM",
        "colab": {
          "base_uri": "https://localhost:8080/",
          "height": 398
        },
        "outputId": "e66fb0cd-f65e-43ab-d4e3-90fdcac950ba"
      },
      "source": [
        "def cyclists_per_day():\n",
        "    df = split_date_continues()\n",
        "    df = df.drop(['Hour', 'Weekday'], axis=1)\n",
        "    new_df = df.groupby(['Year', 'Month', 'Day']).sum()\n",
        "    return new_df\n",
        "\n",
        "df = cyclists_per_day()\n",
        "df_plot = df.loc[(2017,8),:]\n",
        "plt.plot(df_plot)\n",
        "plt.show()\n",
        "df\n"
      ],
      "execution_count": null,
      "outputs": [
        {
          "output_type": "error",
          "ename": "KeyError",
          "evalue": "ignored",
          "traceback": [
            "\u001b[0;31m---------------------------------------------------------------------------\u001b[0m",
            "\u001b[0;31mKeyError\u001b[0m                                  Traceback (most recent call last)",
            "\u001b[0;32m<ipython-input-102-3b2a9e9d5ec3>\u001b[0m in \u001b[0;36m<module>\u001b[0;34m()\u001b[0m\n\u001b[1;32m      6\u001b[0m \u001b[0;34m\u001b[0m\u001b[0m\n\u001b[1;32m      7\u001b[0m \u001b[0mdf\u001b[0m \u001b[0;34m=\u001b[0m \u001b[0mcyclists_per_day\u001b[0m\u001b[0;34m(\u001b[0m\u001b[0;34m)\u001b[0m\u001b[0;34m\u001b[0m\u001b[0;34m\u001b[0m\u001b[0m\n\u001b[0;32m----> 8\u001b[0;31m \u001b[0mdf_plot\u001b[0m \u001b[0;34m=\u001b[0m \u001b[0mdf\u001b[0m\u001b[0;34m.\u001b[0m\u001b[0mloc\u001b[0m\u001b[0;34m[\u001b[0m\u001b[0;34m(\u001b[0m\u001b[0;36m2017\u001b[0m\u001b[0;34m,\u001b[0m\u001b[0;36m8\u001b[0m\u001b[0;34m)\u001b[0m\u001b[0;34m,\u001b[0m\u001b[0;34m:\u001b[0m\u001b[0;34m]\u001b[0m\u001b[0;34m\u001b[0m\u001b[0;34m\u001b[0m\u001b[0m\n\u001b[0m\u001b[1;32m      9\u001b[0m \u001b[0mplt\u001b[0m\u001b[0;34m.\u001b[0m\u001b[0mplot\u001b[0m\u001b[0;34m(\u001b[0m\u001b[0mdf_plot\u001b[0m\u001b[0;34m)\u001b[0m\u001b[0;34m\u001b[0m\u001b[0;34m\u001b[0m\u001b[0m\n\u001b[1;32m     10\u001b[0m \u001b[0mplt\u001b[0m\u001b[0;34m.\u001b[0m\u001b[0mshow\u001b[0m\u001b[0;34m(\u001b[0m\u001b[0;34m)\u001b[0m\u001b[0;34m\u001b[0m\u001b[0;34m\u001b[0m\u001b[0m\n",
            "\u001b[0;32m/usr/local/lib/python3.6/dist-packages/pandas/core/indexing.py\u001b[0m in \u001b[0;36m__getitem__\u001b[0;34m(self, key)\u001b[0m\n\u001b[1;32m   1416\u001b[0m                 \u001b[0;32mexcept\u001b[0m \u001b[0;34m(\u001b[0m\u001b[0mKeyError\u001b[0m\u001b[0;34m,\u001b[0m \u001b[0mIndexError\u001b[0m\u001b[0;34m,\u001b[0m \u001b[0mAttributeError\u001b[0m\u001b[0;34m)\u001b[0m\u001b[0;34m:\u001b[0m\u001b[0;34m\u001b[0m\u001b[0;34m\u001b[0m\u001b[0m\n\u001b[1;32m   1417\u001b[0m                     \u001b[0;32mpass\u001b[0m\u001b[0;34m\u001b[0m\u001b[0;34m\u001b[0m\u001b[0m\n\u001b[0;32m-> 1418\u001b[0;31m             \u001b[0;32mreturn\u001b[0m \u001b[0mself\u001b[0m\u001b[0;34m.\u001b[0m\u001b[0m_getitem_tuple\u001b[0m\u001b[0;34m(\u001b[0m\u001b[0mkey\u001b[0m\u001b[0;34m)\u001b[0m\u001b[0;34m\u001b[0m\u001b[0;34m\u001b[0m\u001b[0m\n\u001b[0m\u001b[1;32m   1419\u001b[0m         \u001b[0;32melse\u001b[0m\u001b[0;34m:\u001b[0m\u001b[0;34m\u001b[0m\u001b[0;34m\u001b[0m\u001b[0m\n\u001b[1;32m   1420\u001b[0m             \u001b[0;31m# we by definition only have the 0th axis\u001b[0m\u001b[0;34m\u001b[0m\u001b[0;34m\u001b[0m\u001b[0;34m\u001b[0m\u001b[0m\n",
            "\u001b[0;32m/usr/local/lib/python3.6/dist-packages/pandas/core/indexing.py\u001b[0m in \u001b[0;36m_getitem_tuple\u001b[0;34m(self, tup)\u001b[0m\n\u001b[1;32m    803\u001b[0m     \u001b[0;32mdef\u001b[0m \u001b[0m_getitem_tuple\u001b[0m\u001b[0;34m(\u001b[0m\u001b[0mself\u001b[0m\u001b[0;34m,\u001b[0m \u001b[0mtup\u001b[0m\u001b[0;34m)\u001b[0m\u001b[0;34m:\u001b[0m\u001b[0;34m\u001b[0m\u001b[0;34m\u001b[0m\u001b[0m\n\u001b[1;32m    804\u001b[0m         \u001b[0;32mtry\u001b[0m\u001b[0;34m:\u001b[0m\u001b[0;34m\u001b[0m\u001b[0;34m\u001b[0m\u001b[0m\n\u001b[0;32m--> 805\u001b[0;31m             \u001b[0;32mreturn\u001b[0m \u001b[0mself\u001b[0m\u001b[0;34m.\u001b[0m\u001b[0m_getitem_lowerdim\u001b[0m\u001b[0;34m(\u001b[0m\u001b[0mtup\u001b[0m\u001b[0;34m)\u001b[0m\u001b[0;34m\u001b[0m\u001b[0;34m\u001b[0m\u001b[0m\n\u001b[0m\u001b[1;32m    806\u001b[0m         \u001b[0;32mexcept\u001b[0m \u001b[0mIndexingError\u001b[0m\u001b[0;34m:\u001b[0m\u001b[0;34m\u001b[0m\u001b[0;34m\u001b[0m\u001b[0m\n\u001b[1;32m    807\u001b[0m             \u001b[0;32mpass\u001b[0m\u001b[0;34m\u001b[0m\u001b[0;34m\u001b[0m\u001b[0m\n",
            "\u001b[0;32m/usr/local/lib/python3.6/dist-packages/pandas/core/indexing.py\u001b[0m in \u001b[0;36m_getitem_lowerdim\u001b[0;34m(self, tup)\u001b[0m\n\u001b[1;32m    908\u001b[0m         \u001b[0;31m# we may have a nested tuples indexer here\u001b[0m\u001b[0;34m\u001b[0m\u001b[0;34m\u001b[0m\u001b[0;34m\u001b[0m\u001b[0m\n\u001b[1;32m    909\u001b[0m         \u001b[0;32mif\u001b[0m \u001b[0mself\u001b[0m\u001b[0;34m.\u001b[0m\u001b[0m_is_nested_tuple_indexer\u001b[0m\u001b[0;34m(\u001b[0m\u001b[0mtup\u001b[0m\u001b[0;34m)\u001b[0m\u001b[0;34m:\u001b[0m\u001b[0;34m\u001b[0m\u001b[0;34m\u001b[0m\u001b[0m\n\u001b[0;32m--> 910\u001b[0;31m             \u001b[0;32mreturn\u001b[0m \u001b[0mself\u001b[0m\u001b[0;34m.\u001b[0m\u001b[0m_getitem_nested_tuple\u001b[0m\u001b[0;34m(\u001b[0m\u001b[0mtup\u001b[0m\u001b[0;34m)\u001b[0m\u001b[0;34m\u001b[0m\u001b[0;34m\u001b[0m\u001b[0m\n\u001b[0m\u001b[1;32m    911\u001b[0m \u001b[0;34m\u001b[0m\u001b[0m\n\u001b[1;32m    912\u001b[0m         \u001b[0;31m# we maybe be using a tuple to represent multiple dimensions here\u001b[0m\u001b[0;34m\u001b[0m\u001b[0;34m\u001b[0m\u001b[0;34m\u001b[0m\u001b[0m\n",
            "\u001b[0;32m/usr/local/lib/python3.6/dist-packages/pandas/core/indexing.py\u001b[0m in \u001b[0;36m_getitem_nested_tuple\u001b[0;34m(self, tup)\u001b[0m\n\u001b[1;32m    991\u001b[0m \u001b[0;34m\u001b[0m\u001b[0m\n\u001b[1;32m    992\u001b[0m             \u001b[0mcurrent_ndim\u001b[0m \u001b[0;34m=\u001b[0m \u001b[0mobj\u001b[0m\u001b[0;34m.\u001b[0m\u001b[0mndim\u001b[0m\u001b[0;34m\u001b[0m\u001b[0;34m\u001b[0m\u001b[0m\n\u001b[0;32m--> 993\u001b[0;31m             \u001b[0mobj\u001b[0m \u001b[0;34m=\u001b[0m \u001b[0mgetattr\u001b[0m\u001b[0;34m(\u001b[0m\u001b[0mobj\u001b[0m\u001b[0;34m,\u001b[0m \u001b[0mself\u001b[0m\u001b[0;34m.\u001b[0m\u001b[0mname\u001b[0m\u001b[0;34m)\u001b[0m\u001b[0;34m.\u001b[0m\u001b[0m_getitem_axis\u001b[0m\u001b[0;34m(\u001b[0m\u001b[0mkey\u001b[0m\u001b[0;34m,\u001b[0m \u001b[0maxis\u001b[0m\u001b[0;34m=\u001b[0m\u001b[0maxis\u001b[0m\u001b[0;34m)\u001b[0m\u001b[0;34m\u001b[0m\u001b[0;34m\u001b[0m\u001b[0m\n\u001b[0m\u001b[1;32m    994\u001b[0m             \u001b[0maxis\u001b[0m \u001b[0;34m+=\u001b[0m \u001b[0;36m1\u001b[0m\u001b[0;34m\u001b[0m\u001b[0;34m\u001b[0m\u001b[0m\n\u001b[1;32m    995\u001b[0m \u001b[0;34m\u001b[0m\u001b[0m\n",
            "\u001b[0;32m/usr/local/lib/python3.6/dist-packages/pandas/core/indexing.py\u001b[0m in \u001b[0;36m_getitem_axis\u001b[0;34m(self, key, axis)\u001b[0m\n\u001b[1;32m   1848\u001b[0m         \u001b[0;31m# fall thru to straight lookup\u001b[0m\u001b[0;34m\u001b[0m\u001b[0;34m\u001b[0m\u001b[0;34m\u001b[0m\u001b[0m\n\u001b[1;32m   1849\u001b[0m         \u001b[0mself\u001b[0m\u001b[0;34m.\u001b[0m\u001b[0m_validate_key\u001b[0m\u001b[0;34m(\u001b[0m\u001b[0mkey\u001b[0m\u001b[0;34m,\u001b[0m \u001b[0maxis\u001b[0m\u001b[0;34m)\u001b[0m\u001b[0;34m\u001b[0m\u001b[0;34m\u001b[0m\u001b[0m\n\u001b[0;32m-> 1850\u001b[0;31m         \u001b[0;32mreturn\u001b[0m \u001b[0mself\u001b[0m\u001b[0;34m.\u001b[0m\u001b[0m_get_label\u001b[0m\u001b[0;34m(\u001b[0m\u001b[0mkey\u001b[0m\u001b[0;34m,\u001b[0m \u001b[0maxis\u001b[0m\u001b[0;34m=\u001b[0m\u001b[0maxis\u001b[0m\u001b[0;34m)\u001b[0m\u001b[0;34m\u001b[0m\u001b[0;34m\u001b[0m\u001b[0m\n\u001b[0m\u001b[1;32m   1851\u001b[0m \u001b[0;34m\u001b[0m\u001b[0m\n\u001b[1;32m   1852\u001b[0m \u001b[0;34m\u001b[0m\u001b[0m\n",
            "\u001b[0;32m/usr/local/lib/python3.6/dist-packages/pandas/core/indexing.py\u001b[0m in \u001b[0;36m_get_label\u001b[0;34m(self, label, axis)\u001b[0m\n\u001b[1;32m    158\u001b[0m             \u001b[0;32mraise\u001b[0m \u001b[0mIndexingError\u001b[0m\u001b[0;34m(\u001b[0m\u001b[0;34m\"no slices here, handle elsewhere\"\u001b[0m\u001b[0;34m)\u001b[0m\u001b[0;34m\u001b[0m\u001b[0;34m\u001b[0m\u001b[0m\n\u001b[1;32m    159\u001b[0m \u001b[0;34m\u001b[0m\u001b[0m\n\u001b[0;32m--> 160\u001b[0;31m         \u001b[0;32mreturn\u001b[0m \u001b[0mself\u001b[0m\u001b[0;34m.\u001b[0m\u001b[0mobj\u001b[0m\u001b[0;34m.\u001b[0m\u001b[0m_xs\u001b[0m\u001b[0;34m(\u001b[0m\u001b[0mlabel\u001b[0m\u001b[0;34m,\u001b[0m \u001b[0maxis\u001b[0m\u001b[0;34m=\u001b[0m\u001b[0maxis\u001b[0m\u001b[0;34m)\u001b[0m\u001b[0;34m\u001b[0m\u001b[0;34m\u001b[0m\u001b[0m\n\u001b[0m\u001b[1;32m    161\u001b[0m \u001b[0;34m\u001b[0m\u001b[0m\n\u001b[1;32m    162\u001b[0m     \u001b[0;32mdef\u001b[0m \u001b[0m_get_loc\u001b[0m\u001b[0;34m(\u001b[0m\u001b[0mself\u001b[0m\u001b[0;34m,\u001b[0m \u001b[0mkey\u001b[0m\u001b[0;34m:\u001b[0m \u001b[0mint\u001b[0m\u001b[0;34m,\u001b[0m \u001b[0maxis\u001b[0m\u001b[0;34m:\u001b[0m \u001b[0mint\u001b[0m\u001b[0;34m)\u001b[0m\u001b[0;34m:\u001b[0m\u001b[0;34m\u001b[0m\u001b[0;34m\u001b[0m\u001b[0m\n",
            "\u001b[0;32m/usr/local/lib/python3.6/dist-packages/pandas/core/generic.py\u001b[0m in \u001b[0;36mxs\u001b[0;34m(self, key, axis, level, drop_level)\u001b[0m\n\u001b[1;32m   3733\u001b[0m         \u001b[0mindex\u001b[0m \u001b[0;34m=\u001b[0m \u001b[0mself\u001b[0m\u001b[0;34m.\u001b[0m\u001b[0mindex\u001b[0m\u001b[0;34m\u001b[0m\u001b[0;34m\u001b[0m\u001b[0m\n\u001b[1;32m   3734\u001b[0m         \u001b[0;32mif\u001b[0m \u001b[0misinstance\u001b[0m\u001b[0;34m(\u001b[0m\u001b[0mindex\u001b[0m\u001b[0;34m,\u001b[0m \u001b[0mMultiIndex\u001b[0m\u001b[0;34m)\u001b[0m\u001b[0;34m:\u001b[0m\u001b[0;34m\u001b[0m\u001b[0;34m\u001b[0m\u001b[0m\n\u001b[0;32m-> 3735\u001b[0;31m             \u001b[0mloc\u001b[0m\u001b[0;34m,\u001b[0m \u001b[0mnew_index\u001b[0m \u001b[0;34m=\u001b[0m \u001b[0mself\u001b[0m\u001b[0;34m.\u001b[0m\u001b[0mindex\u001b[0m\u001b[0;34m.\u001b[0m\u001b[0mget_loc_level\u001b[0m\u001b[0;34m(\u001b[0m\u001b[0mkey\u001b[0m\u001b[0;34m,\u001b[0m \u001b[0mdrop_level\u001b[0m\u001b[0;34m=\u001b[0m\u001b[0mdrop_level\u001b[0m\u001b[0;34m)\u001b[0m\u001b[0;34m\u001b[0m\u001b[0;34m\u001b[0m\u001b[0m\n\u001b[0m\u001b[1;32m   3736\u001b[0m         \u001b[0;32melse\u001b[0m\u001b[0;34m:\u001b[0m\u001b[0;34m\u001b[0m\u001b[0;34m\u001b[0m\u001b[0m\n\u001b[1;32m   3737\u001b[0m             \u001b[0mloc\u001b[0m \u001b[0;34m=\u001b[0m \u001b[0mself\u001b[0m\u001b[0;34m.\u001b[0m\u001b[0mindex\u001b[0m\u001b[0;34m.\u001b[0m\u001b[0mget_loc\u001b[0m\u001b[0;34m(\u001b[0m\u001b[0mkey\u001b[0m\u001b[0;34m)\u001b[0m\u001b[0;34m\u001b[0m\u001b[0;34m\u001b[0m\u001b[0m\n",
            "\u001b[0;32m/usr/local/lib/python3.6/dist-packages/pandas/core/indexes/multi.py\u001b[0m in \u001b[0;36mget_loc_level\u001b[0;34m(self, key, level, drop_level)\u001b[0m\n\u001b[1;32m   2826\u001b[0m                         \u001b[0;32mraise\u001b[0m \u001b[0mKeyError\u001b[0m\u001b[0;34m(\u001b[0m\u001b[0mkey\u001b[0m\u001b[0;34m)\u001b[0m \u001b[0;32mfrom\u001b[0m \u001b[0me\u001b[0m\u001b[0;34m\u001b[0m\u001b[0;34m\u001b[0m\u001b[0m\n\u001b[1;32m   2827\u001b[0m                 \u001b[0;32melse\u001b[0m\u001b[0;34m:\u001b[0m\u001b[0;34m\u001b[0m\u001b[0;34m\u001b[0m\u001b[0m\n\u001b[0;32m-> 2828\u001b[0;31m                     \u001b[0;32mreturn\u001b[0m \u001b[0mpartial_selection\u001b[0m\u001b[0;34m(\u001b[0m\u001b[0mkey\u001b[0m\u001b[0;34m)\u001b[0m\u001b[0;34m\u001b[0m\u001b[0;34m\u001b[0m\u001b[0m\n\u001b[0m\u001b[1;32m   2829\u001b[0m             \u001b[0;32melse\u001b[0m\u001b[0;34m:\u001b[0m\u001b[0;34m\u001b[0m\u001b[0;34m\u001b[0m\u001b[0m\n\u001b[1;32m   2830\u001b[0m                 \u001b[0mindexer\u001b[0m \u001b[0;34m=\u001b[0m \u001b[0;32mNone\u001b[0m\u001b[0;34m\u001b[0m\u001b[0;34m\u001b[0m\u001b[0m\n",
            "\u001b[0;32m/usr/local/lib/python3.6/dist-packages/pandas/core/indexes/multi.py\u001b[0m in \u001b[0;36mpartial_selection\u001b[0;34m(key, indexer)\u001b[0m\n\u001b[1;32m   2813\u001b[0m                 \u001b[0;32mdef\u001b[0m \u001b[0mpartial_selection\u001b[0m\u001b[0;34m(\u001b[0m\u001b[0mkey\u001b[0m\u001b[0;34m,\u001b[0m \u001b[0mindexer\u001b[0m\u001b[0;34m=\u001b[0m\u001b[0;32mNone\u001b[0m\u001b[0;34m)\u001b[0m\u001b[0;34m:\u001b[0m\u001b[0;34m\u001b[0m\u001b[0;34m\u001b[0m\u001b[0m\n\u001b[1;32m   2814\u001b[0m                     \u001b[0;32mif\u001b[0m \u001b[0mindexer\u001b[0m \u001b[0;32mis\u001b[0m \u001b[0;32mNone\u001b[0m\u001b[0;34m:\u001b[0m\u001b[0;34m\u001b[0m\u001b[0;34m\u001b[0m\u001b[0m\n\u001b[0;32m-> 2815\u001b[0;31m                         \u001b[0mindexer\u001b[0m \u001b[0;34m=\u001b[0m \u001b[0mself\u001b[0m\u001b[0;34m.\u001b[0m\u001b[0mget_loc\u001b[0m\u001b[0;34m(\u001b[0m\u001b[0mkey\u001b[0m\u001b[0;34m)\u001b[0m\u001b[0;34m\u001b[0m\u001b[0;34m\u001b[0m\u001b[0m\n\u001b[0m\u001b[1;32m   2816\u001b[0m                     ilevels = [\n\u001b[1;32m   2817\u001b[0m                         \u001b[0mi\u001b[0m \u001b[0;32mfor\u001b[0m \u001b[0mi\u001b[0m \u001b[0;32min\u001b[0m \u001b[0mrange\u001b[0m\u001b[0;34m(\u001b[0m\u001b[0mlen\u001b[0m\u001b[0;34m(\u001b[0m\u001b[0mkey\u001b[0m\u001b[0;34m)\u001b[0m\u001b[0;34m)\u001b[0m \u001b[0;32mif\u001b[0m \u001b[0mkey\u001b[0m\u001b[0;34m[\u001b[0m\u001b[0mi\u001b[0m\u001b[0;34m]\u001b[0m \u001b[0;34m!=\u001b[0m \u001b[0mslice\u001b[0m\u001b[0;34m(\u001b[0m\u001b[0;32mNone\u001b[0m\u001b[0;34m,\u001b[0m \u001b[0;32mNone\u001b[0m\u001b[0;34m)\u001b[0m\u001b[0;34m\u001b[0m\u001b[0;34m\u001b[0m\u001b[0m\n",
            "\u001b[0;32m/usr/local/lib/python3.6/dist-packages/pandas/core/indexes/multi.py\u001b[0m in \u001b[0;36mget_loc\u001b[0;34m(self, key, method)\u001b[0m\n\u001b[1;32m   2696\u001b[0m \u001b[0;34m\u001b[0m\u001b[0m\n\u001b[1;32m   2697\u001b[0m         \u001b[0;32mif\u001b[0m \u001b[0mstart\u001b[0m \u001b[0;34m==\u001b[0m \u001b[0mstop\u001b[0m\u001b[0;34m:\u001b[0m\u001b[0;34m\u001b[0m\u001b[0;34m\u001b[0m\u001b[0m\n\u001b[0;32m-> 2698\u001b[0;31m             \u001b[0;32mraise\u001b[0m \u001b[0mKeyError\u001b[0m\u001b[0;34m(\u001b[0m\u001b[0mkey\u001b[0m\u001b[0;34m)\u001b[0m\u001b[0;34m\u001b[0m\u001b[0;34m\u001b[0m\u001b[0m\n\u001b[0m\u001b[1;32m   2699\u001b[0m \u001b[0;34m\u001b[0m\u001b[0m\n\u001b[1;32m   2700\u001b[0m         \u001b[0;32mif\u001b[0m \u001b[0;32mnot\u001b[0m \u001b[0mfollow_key\u001b[0m\u001b[0;34m:\u001b[0m\u001b[0;34m\u001b[0m\u001b[0;34m\u001b[0m\u001b[0m\n",
            "\u001b[0;31mKeyError\u001b[0m: (2017, 8)"
          ]
        }
      ]
    },
    {
      "cell_type": "markdown",
      "metadata": {
        "id": "hMUvH1jaHeVF"
      },
      "source": [
        "#### <div class=\"alert alert-info\">Exercise 22 (best Performer)</div>\n",
        "\n",
        "We use again the top100 data set from the first week of 1964 i. Here we define \"goodness\" of the Performer  based on the sum of the weeks on chart of its singles. Return a DataFrame of the singles by the best Performer (a subset of rows of the original DataFrame). Do this with function `best_Performer`.\n",
        "\n",
        "<hr/>"
      ]
    },
    {
      "cell_type": "code",
      "metadata": {
        "id": "SZgt9-I_-CcS"
      },
      "source": [
        ""
      ],
      "execution_count": null,
      "outputs": []
    },
    {
      "cell_type": "markdown",
      "metadata": {
        "id": "dfUfefoqHeVN"
      },
      "source": [
        "## Time series\n",
        "\n",
        "If a measurement is made at certain points in time, the resulting values with their measurement times is called a time series. In Pandas a Series whose index consists of dates/times is a time series."
      ]
    },
    {
      "cell_type": "markdown",
      "metadata": {
        "id": "XT2fS1WdHeVO"
      },
      "source": [
        "Let's make a copy of the DataFrame that we can mess with:"
      ]
    },
    {
      "cell_type": "code",
      "metadata": {
        "id": "t6MXexAQHeVO"
      },
      "source": [
        "wh2 = wh3.copy()\n",
        "wh2.columns"
      ],
      "execution_count": null,
      "outputs": []
    },
    {
      "cell_type": "markdown",
      "metadata": {
        "id": "lPqERlOAHeVT"
      },
      "source": [
        "The column names `Year`, `Month`, and `Day` are now in appropriate form for the `to_datetime` function. It can convert these fields into a timestamp series, which we will add to the DataFrame."
      ]
    },
    {
      "cell_type": "code",
      "metadata": {
        "id": "9NSAYEl_HeVU"
      },
      "source": [
        "wh2[\"Date\"] = pd.to_datetime(wh2[[\"Year\", \"Month\", \"Day\"]])\n",
        "wh2.head()"
      ],
      "execution_count": null,
      "outputs": []
    },
    {
      "cell_type": "markdown",
      "metadata": {
        "id": "R7yrFn2VHeVf"
      },
      "source": [
        "We can now drop the useless fields:"
      ]
    },
    {
      "cell_type": "code",
      "metadata": {
        "id": "2aeA1_7zHeVh"
      },
      "source": [
        "wh2=wh2.drop(columns=[\"Year\", \"Month\", \"Day\"])\n",
        "wh2.head()"
      ],
      "execution_count": null,
      "outputs": []
    },
    {
      "cell_type": "markdown",
      "metadata": {
        "id": "FUgHRxdFHeVl"
      },
      "source": [
        "The following method call will set the Date field as the index of the DataFrame."
      ]
    },
    {
      "cell_type": "code",
      "metadata": {
        "id": "p4K9Mu4FHeVm"
      },
      "source": [
        "wh2 = wh2.set_index(\"Date\")\n",
        "wh2.head()"
      ],
      "execution_count": null,
      "outputs": []
    },
    {
      "cell_type": "markdown",
      "metadata": {
        "id": "MFFPda1yHeVp"
      },
      "source": [
        "We can now easily get a set of rows using date slices:"
      ]
    },
    {
      "cell_type": "code",
      "metadata": {
        "id": "UNbHZ08dHeVq"
      },
      "source": [
        "wh2[\"2017-01-15\":\"2017-02-03\"]"
      ],
      "execution_count": null,
      "outputs": []
    },
    {
      "cell_type": "markdown",
      "metadata": {
        "id": "bMouUg33HeVs"
      },
      "source": [
        "By using the `date_range` function even more complicated sets can be formed. The following gets all the Mondays of Jan:"
      ]
    },
    {
      "cell_type": "code",
      "metadata": {
        "id": "g_asnLFaHeVs"
      },
      "source": [
        "r=pd.date_range(\"2017-01-01\", \"2017-01-31\", freq=\"w-mon\")\n",
        "r"
      ],
      "execution_count": null,
      "outputs": []
    },
    {
      "cell_type": "code",
      "metadata": {
        "id": "UZZkpwf22hrq"
      },
      "source": [
        "More freq offsets https://pandas.pydata.org/pandas-docs/stable/user_guide/timeseries.html#offset-aliases"
      ],
      "execution_count": null,
      "outputs": []
    },
    {
      "cell_type": "code",
      "metadata": {
        "id": "6_ZnyjqiHeVu"
      },
      "source": [
        "wh2.index.difference(r)"
      ],
      "execution_count": null,
      "outputs": []
    },
    {
      "cell_type": "code",
      "metadata": {
        "id": "O97rm4j7HeVv"
      },
      "source": [
        "wh2.loc[r,:]"
      ],
      "execution_count": null,
      "outputs": []
    },
    {
      "cell_type": "markdown",
      "metadata": {
        "id": "52esFgPQHeVy"
      },
      "source": [
        "The following finds all the business days (Monday to Friday) of July:"
      ]
    },
    {
      "cell_type": "code",
      "metadata": {
        "id": "sEGo4w-NHeVy"
      },
      "source": [
        "pd.date_range(\"2017-07-01\", \"2017-07-31\", freq=\"b\")"
      ],
      "execution_count": null,
      "outputs": []
    },
    {
      "cell_type": "markdown",
      "metadata": {
        "id": "UdC1ANNAHeV1"
      },
      "source": [
        "We can get a general idea about the `Temperature` column by plotting it. Note how the index time series is shown nicely on the x-axis."
      ]
    },
    {
      "cell_type": "code",
      "metadata": {
        "id": "9hf7fUDIHeV2"
      },
      "source": [
        "wh2[\"Temperature\"].plot();"
      ],
      "execution_count": null,
      "outputs": []
    },
    {
      "cell_type": "markdown",
      "metadata": {
        "id": "_bxLR_E8HeV9"
      },
      "source": [
        "#### <div class=\"alert alert-info\">Exercise 23 (bicycle timeseries)</div>\n",
        "\n",
        "Write function `bicycle_timeseries` that\n",
        "\n",
        "* reads the data set\n",
        "* cleans it\n",
        "* turns its `Date` column into (row) DatetimeIndex (that is, to row names) of that DataFrame\n",
        "* returns the new DataFrame\n",
        "\n",
        "<hr/>"
      ]
    },
    {
      "cell_type": "code",
      "metadata": {
        "id": "PPqNCyLq4dds",
        "colab": {
          "base_uri": "https://localhost:8080/",
          "height": 293
        },
        "outputId": "10600934-d368-4297-e738-82c0d1da5f64"
      },
      "source": [
        "def bicycle_timeseries():\n",
        "    df = split_date_continues()\n",
        "    df[\"Date\"] = pd.to_datetime(df[[\"Day\", \"Month\", \"Year\", 'Hour']], dayfirst=True)\n",
        "    df = df.drop(['Day', 'Month', 'Year', 'Hour', 'Weekday'], axis=1)\n",
        "    df = df.set_index(\"Date\")\n",
        "    return df\n",
        "\n",
        "print(bicycle_timeseries())"
      ],
      "execution_count": null,
      "outputs": [
        {
          "output_type": "stream",
          "text": [
            "                     point_1  point_2  point_3  ...  point_18  point_19  point_20\n",
            "Date                                            ...                              \n",
            "2017-11-09 23:00:00      5.0      7.0      2.0  ...       3.0       1.0         8\n",
            "2017-11-10 00:00:00      2.0      6.0      2.0  ...       4.0       0.0         3\n",
            "2017-11-10 01:00:00      2.0      1.0      3.0  ...       1.0       0.0         3\n",
            "2017-11-10 02:00:00      2.0      1.0      1.0  ...       1.0       0.0         2\n",
            "2017-11-10 03:00:00      0.0      0.0      0.0  ...       1.0       2.0         2\n",
            "...                      ...      ...      ...  ...       ...       ...       ...\n",
            "2018-11-05 03:00:00      0.0      0.0      1.0  ...       2.0       1.0         0\n",
            "2018-11-05 04:00:00      0.0      0.0      5.0  ...       4.0       1.0         8\n",
            "2018-11-05 05:00:00      5.0      1.0     20.0  ...      21.0       8.0        17\n",
            "2018-11-05 06:00:00     41.0     13.0     93.0  ...     112.0      32.0        87\n",
            "2018-11-05 07:00:00    175.0     43.0    226.0  ...     252.0      84.0       208\n",
            "\n",
            "[8648 rows x 20 columns]\n"
          ],
          "name": "stdout"
        }
      ]
    },
    {
      "cell_type": "markdown",
      "metadata": {
        "id": "wpdrFiVnHeV-"
      },
      "source": [
        "#### <div class=\"alert alert-info\">Exercise 24 (commute)</div>\n",
        "\n",
        "In function `commute` do the following:\n",
        "\n",
        "Use the function `bicycle_timeseries` to get the bicycle data. Restrict to November 2017, group by the weekday, aggregate by summing. Set the `Weekday` column to numbers from one to seven. Then set the column `Weekday` as the (row) index. Return the resulting DataFrame from the function.\n",
        "\n",
        " plot the DataFrame. Xticklabels should be the weekdays. \n",
        "\n",
        "\n",
        "\n",
        "<hr/>"
      ]
    },
    {
      "cell_type": "code",
      "metadata": {
        "id": "ZmIPwcld-oTa",
        "colab": {
          "base_uri": "https://localhost:8080/",
          "height": 467
        },
        "outputId": "05dd1543-6b9a-4b28-fe84-50284bb12bb8"
      },
      "source": [
        "\n",
        "def commute():\n",
        "    df = bicycle_timeseries()\n",
        "    df = df[\"2017-11-01\":\"2017-11-30\"]\n",
        "    df['Weekday'] = df.index.weekday\n",
        "    df['Weekday'] = df['Weekday'] + 1\n",
        "    df = df.groupby('Weekday').sum()\n",
        "    print(df)\n",
        "    return df\n",
        "\n",
        "df = commute()\n",
        "plt.plot(df)\n",
        "plt.show()"
      ],
      "execution_count": null,
      "outputs": [
        {
          "output_type": "stream",
          "text": [
            "         point_1  point_2  point_3  ...  point_18  point_19  point_20\n",
            "Weekday                             ...                              \n",
            "1         3068.0   2644.0   2810.0  ...    3295.0    1070.0      6223\n",
            "2         2759.0   2671.0   2567.0  ...    3139.0     980.0      6007\n",
            "3         2623.0   2717.0   2537.0  ...    3019.0     980.0      5551\n",
            "4         2422.0   2478.0   2235.0  ...    2755.0     901.0      5232\n",
            "5         2225.0   2493.0   2145.0  ...    2557.0     834.0      4964\n",
            "6          696.0   1077.0    556.0  ...     745.0     272.0      1623\n",
            "7          606.0    760.0    447.0  ...     632.0     287.0      1404\n",
            "\n",
            "[7 rows x 20 columns]\n"
          ],
          "name": "stdout"
        },
        {
          "output_type": "display_data",
          "data": {
            "image/png": "[encoded data removed]",
            "text/plain": [
              "<Figure size 432x288 with 1 Axes>"
            ]
          },
          "metadata": {
            "tags": []
          }
        }
      ]
    },
    {
      "cell_type": "markdown",
      "metadata": {
        "id": "5ly5K57ZHT7A"
      },
      "source": [
        "## Summary \n",
        "* Operations maintain these indices even when adding or removing rows or columns\n",
        "* Indices also allow several operations to be combined meaningfully and easily\n",
        "* You can create DataFrames in several ways:\n",
        "     * By reading from a csv file\n",
        "     * Out out two dimensional NumPy array\n",
        "     * Out of rows\n",
        "     * Out of columns\n",
        "* You know how to access rows, columns and individual elements of DataFrames\n",
        "* You can use the `describe` method to get a quick overview of a DataFrame\n",
        "* You know how missing values are represented in Series and DataFrames, and you know how to manipulate them\n",
        "* There are similarities between Python's string methods and the vectorized forms of string operations in Series and DataFrames\n",
        "* We remember that with NumPy arrays we preferred vectorized operations instead of, for instance, `for` loops. Same goes with Pandas. It may first feel that things are easier to achieve with loops, but after a while vectorized operations will feel natural."
      ]
    },
    {
      "cell_type": "markdown",
      "metadata": {
        "id": "pSLyA8HsHeV-"
      },
      "source": [
        "## Additional information"
      ]
    },
    {
      "cell_type": "markdown",
      "metadata": {
        "id": "w5Swg-L9HeV_"
      },
      "source": [
        "[Pandas cheat sheet](https://github.com/pandas-dev/pandas/blob/master/doc/cheatsheet/Pandas_Cheat_Sheet.pdf) Summary of most important Pandas' functions and methods.\n",
        "\n",
        "\n",
        "\n",
        "Pandas handles only one dimensional data (Series) and two dimensional data (DataFrame). While you can use [hierarchical indices](http://pandas.pydata.org/pandas-docs/stable/user_guide/advanced.html#hierarchical-indexing-multiindex) to simulate higher dimensional arrays, you should use the [xarray](http://xarray.pydata.org/en/stable/index.html) library, if you need proper higher-dimensional arrays with labels. It is basically a cross between NumPy and Pandas.\n",
        "\n"
      ]
    }
  ]
}